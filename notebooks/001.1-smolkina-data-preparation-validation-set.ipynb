{
 "cells": [
  {
   "cell_type": "markdown",
   "metadata": {},
   "source": [
    "###### В данном Jupyter Notebook проводится подготовка валидационного сета"
   ]
  },
  {
   "cell_type": "markdown",
   "metadata": {},
   "source": [
    "Пайплайн:\n",
    "\n",
    "1. Скачивание данных HERG-central;\n",
    "2. Стандартизация единиц измерения активности к herg каналам, удаление дубликатов;\n",
    "3. Кластеризация соединений с помощью python-скрипта от PatWalter: https://github.com/PatWalters/kmeans Параметры: fp = morgan3, dim = 2048, clusters = 500;\n",
    "4. Анализ разбиения выборки на кластеры;\n",
    "5. Составление наиболее сбалансированного валидацинного датасета из соединений разных кластеров;\n",
    "6. Сохранение подготовленных данных в .csv файлы."
   ]
  },
  {
   "cell_type": "markdown",
   "metadata": {},
   "source": [
    "# Обработка данных с HERG-central"
   ]
  },
  {
   "cell_type": "code",
   "execution_count": 2,
   "metadata": {},
   "outputs": [],
   "source": [
    "import logging\n",
    "import matplotlib.pyplot as plt\n",
    "import numpy as np\n",
    "from numpy import mean, std, zeros\n",
    "from pandas import DataFrame\n",
    "import pandas as pd\n",
    "from pathlib import Path\n",
    "import sys\n",
    "from rdkit import Chem, DataStructs, RDConfig\n",
    "from rdkit.Chem import AllChem, Descriptors, Draw, PandasTools, MolStandardize, DataStructs, ChemicalFeatures\n",
    "from rdkit.Chem.MolStandardize import rdMolStandardize\n",
    "from rdkit.Chem.Draw import IPythonConsole\n",
    "IPythonConsole.ipython_useSVG=True\n",
    "from IPython.display import display, display_png\n",
    "import rdkit.rdBase as rkrb\n",
    "import rdkit.RDLogger as rkl\n",
    "from rdkit.Chem.Pharm2D.SigFactory import SigFactory\n",
    "from rdkit.Chem.Pharm2D import Generate\n",
    "from sklearn.preprocessing import FunctionTransformer\n",
    "from sklearn.linear_model import LogisticRegressionCV, LinearRegression, SGDClassifier\n",
    "from sklearn.ensemble import RandomForestClassifier, GradientBoostingClassifier, VotingClassifier\n",
    "from sklearn.model_selection import KFold, cross_val_predict, GridSearchCV\n",
    "import sklearn.metrics as metrics\n",
    "from sklearn.metrics import f1_score, accuracy_score, balanced_accuracy_score, roc_auc_score, recall_score, precision_score\n",
    "from sklearn.model_selection import train_test_split, cross_val_score, RepeatedStratifiedKFold\n",
    "from sklearn.preprocessing import StandardScaler, FunctionTransformer\n",
    "from sklearn.datasets import make_classification \n",
    "from tqdm import tqdm\n",
    "import xgboost\n",
    "from xgboost import XGBRFClassifier\n",
    "#import time"
   ]
  },
  {
   "cell_type": "code",
   "execution_count": 3,
   "metadata": {},
   "outputs": [],
   "source": [
    "#! pip install tqdm"
   ]
  },
  {
   "cell_type": "markdown",
   "metadata": {},
   "source": [
    "Загрузим датасет"
   ]
  },
  {
   "cell_type": "code",
   "execution_count": 4,
   "metadata": {},
   "outputs": [],
   "source": [
    "df = pd.read_csv('herg_central.txt', delimiter = \"\\t\")"
   ]
  },
  {
   "cell_type": "code",
   "execution_count": 5,
   "metadata": {},
   "outputs": [
    {
     "data": {
      "text/plain": [
       "SMILES                         0\n",
       "PubChem Substance ID           0\n",
       "hERG inhibition (%) at 1uM     0\n",
       "hERG inhibition (%) at 10uM    0\n",
       "dtype: int64"
      ]
     },
     "execution_count": 5,
     "metadata": {},
     "output_type": "execute_result"
    }
   ],
   "source": [
    "df.isna().sum()"
   ]
  },
  {
   "cell_type": "code",
   "execution_count": 6,
   "metadata": {},
   "outputs": [
    {
     "data": {
      "text/plain": [
       "306895"
      ]
     },
     "execution_count": 6,
     "metadata": {},
     "output_type": "execute_result"
    }
   ],
   "source": [
    "len(df)"
   ]
  },
  {
   "cell_type": "code",
   "execution_count": 7,
   "metadata": {
    "scrolled": true
   },
   "outputs": [
    {
     "data": {
      "text/html": [
       "<div>\n",
       "<style scoped>\n",
       "    .dataframe tbody tr th:only-of-type {\n",
       "        vertical-align: middle;\n",
       "    }\n",
       "\n",
       "    .dataframe tbody tr th {\n",
       "        vertical-align: top;\n",
       "    }\n",
       "\n",
       "    .dataframe thead th {\n",
       "        text-align: right;\n",
       "    }\n",
       "</style>\n",
       "<table border=\"1\" class=\"dataframe\">\n",
       "  <thead>\n",
       "    <tr style=\"text-align: right;\">\n",
       "      <th></th>\n",
       "      <th>SMILES</th>\n",
       "      <th>PubChem Substance ID</th>\n",
       "      <th>hERG inhibition (%) at 1uM</th>\n",
       "      <th>hERG inhibition (%) at 10uM</th>\n",
       "    </tr>\n",
       "  </thead>\n",
       "  <tbody>\n",
       "    <tr>\n",
       "      <th>0</th>\n",
       "      <td>C1=CC2=NC3=C(C=C(C(=NC(=O)C4=CC=CO4)N3CC5=CC=C...</td>\n",
       "      <td>22403712</td>\n",
       "      <td>-10.1124</td>\n",
       "      <td>-32.88202</td>\n",
       "    </tr>\n",
       "    <tr>\n",
       "      <th>1</th>\n",
       "      <td>C1C(CN(C1C(=O)OCC(=O)C2=CC=CC=C2Cl)S(=O)(=O)C3...</td>\n",
       "      <td>22411435</td>\n",
       "      <td>5.5191</td>\n",
       "      <td>4.12648</td>\n",
       "    </tr>\n",
       "    <tr>\n",
       "      <th>2</th>\n",
       "      <td>C1COCCN1C(=O)OC2=CC3=C(C=C2)C(=O)/C(=C/C4=CC=C...</td>\n",
       "      <td>17513249</td>\n",
       "      <td>9.5532</td>\n",
       "      <td>5.23978</td>\n",
       "    </tr>\n",
       "    <tr>\n",
       "      <th>3</th>\n",
       "      <td>CC1=NC2=CC=CC=C2C(=C1)C(=O)N/N=C/C3=CC(=CC=C3)...</td>\n",
       "      <td>17512209</td>\n",
       "      <td>-0.2112</td>\n",
       "      <td>-5.44332</td>\n",
       "    </tr>\n",
       "    <tr>\n",
       "      <th>4</th>\n",
       "      <td>COCCNC(=O)C1=C(N(C2=NC3=CC=CC=C3N=C12)CC4=CC=C...</td>\n",
       "      <td>14729741</td>\n",
       "      <td>12.6230</td>\n",
       "      <td>14.73378</td>\n",
       "    </tr>\n",
       "    <tr>\n",
       "      <th>...</th>\n",
       "      <td>...</td>\n",
       "      <td>...</td>\n",
       "      <td>...</td>\n",
       "      <td>...</td>\n",
       "    </tr>\n",
       "    <tr>\n",
       "      <th>306890</th>\n",
       "      <td>C1CCN(C1)S(=O)(=O)C2=CC=C(C=C2)C(=O)OCC(=O)NC3...</td>\n",
       "      <td>57262925</td>\n",
       "      <td>4.8576</td>\n",
       "      <td>1.38128</td>\n",
       "    </tr>\n",
       "    <tr>\n",
       "      <th>306891</th>\n",
       "      <td>C1CN(CCN1CC(=O)NC2=CC=C(C=C2)C(=O)N)S(=O)(=O)C...</td>\n",
       "      <td>57264745</td>\n",
       "      <td>4.4922</td>\n",
       "      <td>-3.78132</td>\n",
       "    </tr>\n",
       "    <tr>\n",
       "      <th>306892</th>\n",
       "      <td>CC1=CC(=C(C(=C1C)S(=O)(=O)N2CCN(CC2)C(=O)CNC(=...</td>\n",
       "      <td>57259638</td>\n",
       "      <td>-0.9701</td>\n",
       "      <td>-13.56112</td>\n",
       "    </tr>\n",
       "    <tr>\n",
       "      <th>306893</th>\n",
       "      <td>C1COCCN1C2=C(C=C(C=C2)C(F)(F)F)NC(=O)COC(=O)C3...</td>\n",
       "      <td>57261004</td>\n",
       "      <td>-7.1374</td>\n",
       "      <td>-25.02142</td>\n",
       "    </tr>\n",
       "    <tr>\n",
       "      <th>306894</th>\n",
       "      <td>CC1=CC(=NC2=NC(=NN12)SCC(=O)N3CCOCC3)C</td>\n",
       "      <td>57268033</td>\n",
       "      <td>9.8421</td>\n",
       "      <td>11.95758</td>\n",
       "    </tr>\n",
       "  </tbody>\n",
       "</table>\n",
       "<p>306895 rows × 4 columns</p>\n",
       "</div>"
      ],
      "text/plain": [
       "                                                   SMILES  \\\n",
       "0       C1=CC2=NC3=C(C=C(C(=NC(=O)C4=CC=CO4)N3CC5=CC=C...   \n",
       "1       C1C(CN(C1C(=O)OCC(=O)C2=CC=CC=C2Cl)S(=O)(=O)C3...   \n",
       "2       C1COCCN1C(=O)OC2=CC3=C(C=C2)C(=O)/C(=C/C4=CC=C...   \n",
       "3       CC1=NC2=CC=CC=C2C(=C1)C(=O)N/N=C/C3=CC(=CC=C3)...   \n",
       "4       COCCNC(=O)C1=C(N(C2=NC3=CC=CC=C3N=C12)CC4=CC=C...   \n",
       "...                                                   ...   \n",
       "306890  C1CCN(C1)S(=O)(=O)C2=CC=C(C=C2)C(=O)OCC(=O)NC3...   \n",
       "306891  C1CN(CCN1CC(=O)NC2=CC=C(C=C2)C(=O)N)S(=O)(=O)C...   \n",
       "306892  CC1=CC(=C(C(=C1C)S(=O)(=O)N2CCN(CC2)C(=O)CNC(=...   \n",
       "306893  C1COCCN1C2=C(C=C(C=C2)C(F)(F)F)NC(=O)COC(=O)C3...   \n",
       "306894             CC1=CC(=NC2=NC(=NN12)SCC(=O)N3CCOCC3)C   \n",
       "\n",
       "        PubChem Substance ID  hERG inhibition (%) at 1uM  \\\n",
       "0                   22403712                    -10.1124   \n",
       "1                   22411435                      5.5191   \n",
       "2                   17513249                      9.5532   \n",
       "3                   17512209                     -0.2112   \n",
       "4                   14729741                     12.6230   \n",
       "...                      ...                         ...   \n",
       "306890              57262925                      4.8576   \n",
       "306891              57264745                      4.4922   \n",
       "306892              57259638                     -0.9701   \n",
       "306893              57261004                     -7.1374   \n",
       "306894              57268033                      9.8421   \n",
       "\n",
       "        hERG inhibition (%) at 10uM  \n",
       "0                         -32.88202  \n",
       "1                           4.12648  \n",
       "2                           5.23978  \n",
       "3                          -5.44332  \n",
       "4                          14.73378  \n",
       "...                             ...  \n",
       "306890                      1.38128  \n",
       "306891                     -3.78132  \n",
       "306892                    -13.56112  \n",
       "306893                    -25.02142  \n",
       "306894                     11.95758  \n",
       "\n",
       "[306895 rows x 4 columns]"
      ]
     },
     "execution_count": 7,
     "metadata": {},
     "output_type": "execute_result"
    }
   ],
   "source": [
    "df = df.drop_duplicates(subset =\"PubChem Substance ID\")\n",
    "df"
   ]
  },
  {
   "cell_type": "markdown",
   "metadata": {},
   "source": [
    "Удалим агонисты"
   ]
  },
  {
   "cell_type": "code",
   "execution_count": 8,
   "metadata": {},
   "outputs": [],
   "source": [
    "df = df[df['hERG inhibition (%) at 10uM'] > 0]"
   ]
  },
  {
   "cell_type": "code",
   "execution_count": 9,
   "metadata": {},
   "outputs": [
    {
     "data": {
      "text/html": [
       "<div>\n",
       "<style scoped>\n",
       "    .dataframe tbody tr th:only-of-type {\n",
       "        vertical-align: middle;\n",
       "    }\n",
       "\n",
       "    .dataframe tbody tr th {\n",
       "        vertical-align: top;\n",
       "    }\n",
       "\n",
       "    .dataframe thead th {\n",
       "        text-align: right;\n",
       "    }\n",
       "</style>\n",
       "<table border=\"1\" class=\"dataframe\">\n",
       "  <thead>\n",
       "    <tr style=\"text-align: right;\">\n",
       "      <th></th>\n",
       "      <th>SMILES</th>\n",
       "      <th>PubChem Substance ID</th>\n",
       "      <th>hERG inhibition (%) at 1uM</th>\n",
       "      <th>hERG inhibition (%) at 10uM</th>\n",
       "    </tr>\n",
       "  </thead>\n",
       "  <tbody>\n",
       "    <tr>\n",
       "      <th>1</th>\n",
       "      <td>C1C(CN(C1C(=O)OCC(=O)C2=CC=CC=C2Cl)S(=O)(=O)C3...</td>\n",
       "      <td>22411435</td>\n",
       "      <td>5.5191</td>\n",
       "      <td>4.12648</td>\n",
       "    </tr>\n",
       "    <tr>\n",
       "      <th>2</th>\n",
       "      <td>C1COCCN1C(=O)OC2=CC3=C(C=C2)C(=O)/C(=C/C4=CC=C...</td>\n",
       "      <td>17513249</td>\n",
       "      <td>9.5532</td>\n",
       "      <td>5.23978</td>\n",
       "    </tr>\n",
       "    <tr>\n",
       "      <th>4</th>\n",
       "      <td>COCCNC(=O)C1=C(N(C2=NC3=CC=CC=C3N=C12)CC4=CC=C...</td>\n",
       "      <td>14729741</td>\n",
       "      <td>12.6230</td>\n",
       "      <td>14.73378</td>\n",
       "    </tr>\n",
       "    <tr>\n",
       "      <th>5</th>\n",
       "      <td>CC1CC(NC(=S)N1CC(=O)NCC2=CC=CC=C2Cl)(C)C</td>\n",
       "      <td>17511100</td>\n",
       "      <td>13.9004</td>\n",
       "      <td>13.68218</td>\n",
       "    </tr>\n",
       "    <tr>\n",
       "      <th>6</th>\n",
       "      <td>COC1=C(C=C(C=C1)C(=O)NC(=S)NC2=CC=C(C=C2)N3CCC...</td>\n",
       "      <td>17508525</td>\n",
       "      <td>11.3456</td>\n",
       "      <td>12.12248</td>\n",
       "    </tr>\n",
       "    <tr>\n",
       "      <th>...</th>\n",
       "      <td>...</td>\n",
       "      <td>...</td>\n",
       "      <td>...</td>\n",
       "      <td>...</td>\n",
       "    </tr>\n",
       "    <tr>\n",
       "      <th>306884</th>\n",
       "      <td>C1CCC(C1)NC(=O)CN2C(=O)C(NC2=O)(C3=CC=CC=C3)C4...</td>\n",
       "      <td>57260907</td>\n",
       "      <td>11.2146</td>\n",
       "      <td>4.94638</td>\n",
       "    </tr>\n",
       "    <tr>\n",
       "      <th>306885</th>\n",
       "      <td>CC1=CC(=C(C=C1)C)C(=O)CN2C(=O)C(=O)N(C2=O)C3CCCC3</td>\n",
       "      <td>57261825</td>\n",
       "      <td>6.1096</td>\n",
       "      <td>1.63218</td>\n",
       "    </tr>\n",
       "    <tr>\n",
       "      <th>306888</th>\n",
       "      <td>CC1=C(C=C(C=C1)OCC(=O)OCC(=O)NC2CC2)C</td>\n",
       "      <td>57262798</td>\n",
       "      <td>2.9471</td>\n",
       "      <td>4.09278</td>\n",
       "    </tr>\n",
       "    <tr>\n",
       "      <th>306890</th>\n",
       "      <td>C1CCN(C1)S(=O)(=O)C2=CC=C(C=C2)C(=O)OCC(=O)NC3...</td>\n",
       "      <td>57262925</td>\n",
       "      <td>4.8576</td>\n",
       "      <td>1.38128</td>\n",
       "    </tr>\n",
       "    <tr>\n",
       "      <th>306894</th>\n",
       "      <td>CC1=CC(=NC2=NC(=NN12)SCC(=O)N3CCOCC3)C</td>\n",
       "      <td>57268033</td>\n",
       "      <td>9.8421</td>\n",
       "      <td>11.95758</td>\n",
       "    </tr>\n",
       "  </tbody>\n",
       "</table>\n",
       "<p>166837 rows × 4 columns</p>\n",
       "</div>"
      ],
      "text/plain": [
       "                                                   SMILES  \\\n",
       "1       C1C(CN(C1C(=O)OCC(=O)C2=CC=CC=C2Cl)S(=O)(=O)C3...   \n",
       "2       C1COCCN1C(=O)OC2=CC3=C(C=C2)C(=O)/C(=C/C4=CC=C...   \n",
       "4       COCCNC(=O)C1=C(N(C2=NC3=CC=CC=C3N=C12)CC4=CC=C...   \n",
       "5                CC1CC(NC(=S)N1CC(=O)NCC2=CC=CC=C2Cl)(C)C   \n",
       "6       COC1=C(C=C(C=C1)C(=O)NC(=S)NC2=CC=C(C=C2)N3CCC...   \n",
       "...                                                   ...   \n",
       "306884  C1CCC(C1)NC(=O)CN2C(=O)C(NC2=O)(C3=CC=CC=C3)C4...   \n",
       "306885  CC1=CC(=C(C=C1)C)C(=O)CN2C(=O)C(=O)N(C2=O)C3CCCC3   \n",
       "306888              CC1=C(C=C(C=C1)OCC(=O)OCC(=O)NC2CC2)C   \n",
       "306890  C1CCN(C1)S(=O)(=O)C2=CC=C(C=C2)C(=O)OCC(=O)NC3...   \n",
       "306894             CC1=CC(=NC2=NC(=NN12)SCC(=O)N3CCOCC3)C   \n",
       "\n",
       "        PubChem Substance ID  hERG inhibition (%) at 1uM  \\\n",
       "1                   22411435                      5.5191   \n",
       "2                   17513249                      9.5532   \n",
       "4                   14729741                     12.6230   \n",
       "5                   17511100                     13.9004   \n",
       "6                   17508525                     11.3456   \n",
       "...                      ...                         ...   \n",
       "306884              57260907                     11.2146   \n",
       "306885              57261825                      6.1096   \n",
       "306888              57262798                      2.9471   \n",
       "306890              57262925                      4.8576   \n",
       "306894              57268033                      9.8421   \n",
       "\n",
       "        hERG inhibition (%) at 10uM  \n",
       "1                           4.12648  \n",
       "2                           5.23978  \n",
       "4                          14.73378  \n",
       "5                          13.68218  \n",
       "6                          12.12248  \n",
       "...                             ...  \n",
       "306884                      4.94638  \n",
       "306885                      1.63218  \n",
       "306888                      4.09278  \n",
       "306890                      1.38128  \n",
       "306894                     11.95758  \n",
       "\n",
       "[166837 rows x 4 columns]"
      ]
     },
     "execution_count": 9,
     "metadata": {},
     "output_type": "execute_result"
    }
   ],
   "source": [
    "df"
   ]
  },
  {
   "cell_type": "markdown",
   "metadata": {},
   "source": [
    "Удалим соли"
   ]
  },
  {
   "cell_type": "code",
   "execution_count": 10,
   "metadata": {},
   "outputs": [
    {
     "data": {
      "text/plain": [
       "162007"
      ]
     },
     "execution_count": 10,
     "metadata": {},
     "output_type": "execute_result"
    }
   ],
   "source": [
    "df = df.drop(df[df.SMILES.str.contains(r'[.]')].index)\n",
    "len(df)"
   ]
  },
  {
   "cell_type": "code",
   "execution_count": 11,
   "metadata": {},
   "outputs": [
    {
     "name": "stdout",
     "output_type": "stream",
     "text": [
      "Number of str-nan:0\n",
      "Index of nan:[]\n"
     ]
    }
   ],
   "source": [
    "k = 0\n",
    "l = 0\n",
    "index_nan = []\n",
    "for i in df[\"SMILES\"]:\n",
    "    k += 1\n",
    "    if i == \"\":\n",
    "        index_nan.append(df_all.index[k-1])\n",
    "        l += 1\n",
    "print(f\"Number of str-nan:{l}\")\n",
    "print(f\"Index of nan:{index_nan}\")"
   ]
  },
  {
   "cell_type": "markdown",
   "metadata": {},
   "source": [
    "Проставим класс активности на основе значения % ингибирования при концентрации 10 мкМ"
   ]
  },
  {
   "cell_type": "code",
   "execution_count": 12,
   "metadata": {},
   "outputs": [],
   "source": [
    "def count_class(df):\n",
    "    activity_class =[]\n",
    "    count = 0\n",
    "    for index, row in df.iterrows():\n",
    "        value = float(row[\"hERG inhibition (%) at 10uM\"])\n",
    "        if value > 50:\n",
    "             activity_class.append(1)\n",
    "        elif value == 50:\n",
    "             activity_class.append(1)\n",
    "        else:\n",
    "            activity_class.append(0)\n",
    "    df['class'] = activity_class\n",
    "    return df"
   ]
  },
  {
   "cell_type": "code",
   "execution_count": 13,
   "metadata": {},
   "outputs": [],
   "source": [
    "df = count_class(df)"
   ]
  },
  {
   "cell_type": "code",
   "execution_count": 14,
   "metadata": {},
   "outputs": [
    {
     "data": {
      "text/plain": [
       "225"
      ]
     },
     "execution_count": 14,
     "metadata": {},
     "output_type": "execute_result"
    }
   ],
   "source": [
    "df[\"class\"].sum()"
   ]
  },
  {
   "cell_type": "markdown",
   "metadata": {},
   "source": [
    "Всего лишь 225 акивных соединений. На 300 тысяч это очень мало, выборка несбалансированная. "
   ]
  },
  {
   "cell_type": "code",
   "execution_count": 15,
   "metadata": {},
   "outputs": [
    {
     "data": {
      "text/html": [
       "<div>\n",
       "<style scoped>\n",
       "    .dataframe tbody tr th:only-of-type {\n",
       "        vertical-align: middle;\n",
       "    }\n",
       "\n",
       "    .dataframe tbody tr th {\n",
       "        vertical-align: top;\n",
       "    }\n",
       "\n",
       "    .dataframe thead th {\n",
       "        text-align: right;\n",
       "    }\n",
       "</style>\n",
       "<table border=\"1\" class=\"dataframe\">\n",
       "  <thead>\n",
       "    <tr style=\"text-align: right;\">\n",
       "      <th></th>\n",
       "      <th>SMILES</th>\n",
       "      <th>PubChem Substance ID</th>\n",
       "      <th>hERG inhibition (%) at 1uM</th>\n",
       "      <th>hERG inhibition (%) at 10uM</th>\n",
       "      <th>class</th>\n",
       "    </tr>\n",
       "  </thead>\n",
       "  <tbody>\n",
       "    <tr>\n",
       "      <th>133218</th>\n",
       "      <td>CCOC(=O)N1CCC(CC1)NCCNC(=O)C2=CC=CC=C2Cl</td>\n",
       "      <td>842134</td>\n",
       "      <td>11.0704</td>\n",
       "      <td>8.65188</td>\n",
       "      <td>0</td>\n",
       "    </tr>\n",
       "    <tr>\n",
       "      <th>271424</th>\n",
       "      <td>CC1=CC2=C(C=C1)N=C(C(=C2)C#N)N3CCN(CC3)CC4=NN=...</td>\n",
       "      <td>842137</td>\n",
       "      <td>9.7533</td>\n",
       "      <td>3.52888</td>\n",
       "      <td>0</td>\n",
       "    </tr>\n",
       "    <tr>\n",
       "      <th>173811</th>\n",
       "      <td>CC1(C(=O)N(C(=O)N1)CC(COC2CCCCC2)O)C</td>\n",
       "      <td>842138</td>\n",
       "      <td>6.0320</td>\n",
       "      <td>8.64368</td>\n",
       "      <td>0</td>\n",
       "    </tr>\n",
       "    <tr>\n",
       "      <th>18963</th>\n",
       "      <td>C1CC1C2=CC=[N+](C=C2)[O-]</td>\n",
       "      <td>842139</td>\n",
       "      <td>8.6582</td>\n",
       "      <td>7.12878</td>\n",
       "      <td>0</td>\n",
       "    </tr>\n",
       "    <tr>\n",
       "      <th>70960</th>\n",
       "      <td>COC1=CC=C(C=C1)C(=O)NC2=NN=C(S2)C(F)(F)F</td>\n",
       "      <td>842140</td>\n",
       "      <td>58.0609</td>\n",
       "      <td>68.65378</td>\n",
       "      <td>1</td>\n",
       "    </tr>\n",
       "    <tr>\n",
       "      <th>...</th>\n",
       "      <td>...</td>\n",
       "      <td>...</td>\n",
       "      <td>...</td>\n",
       "      <td>...</td>\n",
       "      <td>...</td>\n",
       "    </tr>\n",
       "    <tr>\n",
       "      <th>306458</th>\n",
       "      <td>C[C@H]1[C@@H]([C@H]([C@H]([C@@H](O1)O[C@@H]2[C...</td>\n",
       "      <td>85149172</td>\n",
       "      <td>14.6462</td>\n",
       "      <td>23.14528</td>\n",
       "      <td>0</td>\n",
       "    </tr>\n",
       "    <tr>\n",
       "      <th>60971</th>\n",
       "      <td>C[C@H]1[C@@H]([C@H]([C@H]([C@@H](O1)O[C@H]2[C@...</td>\n",
       "      <td>85149177</td>\n",
       "      <td>10.6273</td>\n",
       "      <td>16.26908</td>\n",
       "      <td>0</td>\n",
       "    </tr>\n",
       "    <tr>\n",
       "      <th>183729</th>\n",
       "      <td>CC1(C=CC2=C(O1)C=CC3=C2OC[C@@H](C3)C4=C(C=C(C=...</td>\n",
       "      <td>85149178</td>\n",
       "      <td>11.5510</td>\n",
       "      <td>17.66578</td>\n",
       "      <td>0</td>\n",
       "    </tr>\n",
       "    <tr>\n",
       "      <th>60965</th>\n",
       "      <td>C1=CC(=CC=C1C2=C(C(=O)C3=C(C=C(C=C3O2)O)O)O[C@...</td>\n",
       "      <td>85149179</td>\n",
       "      <td>14.0645</td>\n",
       "      <td>15.93398</td>\n",
       "      <td>0</td>\n",
       "    </tr>\n",
       "    <tr>\n",
       "      <th>183767</th>\n",
       "      <td>C[C@H]1CC(=O)[C@H]2[C@@H]1[C@@H](OC=C2C(=O)OC)...</td>\n",
       "      <td>85149185</td>\n",
       "      <td>9.7399</td>\n",
       "      <td>23.29218</td>\n",
       "      <td>0</td>\n",
       "    </tr>\n",
       "  </tbody>\n",
       "</table>\n",
       "<p>162007 rows × 5 columns</p>\n",
       "</div>"
      ],
      "text/plain": [
       "                                                   SMILES  \\\n",
       "133218           CCOC(=O)N1CCC(CC1)NCCNC(=O)C2=CC=CC=C2Cl   \n",
       "271424  CC1=CC2=C(C=C1)N=C(C(=C2)C#N)N3CCN(CC3)CC4=NN=...   \n",
       "173811               CC1(C(=O)N(C(=O)N1)CC(COC2CCCCC2)O)C   \n",
       "18963                           C1CC1C2=CC=[N+](C=C2)[O-]   \n",
       "70960            COC1=CC=C(C=C1)C(=O)NC2=NN=C(S2)C(F)(F)F   \n",
       "...                                                   ...   \n",
       "306458  C[C@H]1[C@@H]([C@H]([C@H]([C@@H](O1)O[C@@H]2[C...   \n",
       "60971   C[C@H]1[C@@H]([C@H]([C@H]([C@@H](O1)O[C@H]2[C@...   \n",
       "183729  CC1(C=CC2=C(O1)C=CC3=C2OC[C@@H](C3)C4=C(C=C(C=...   \n",
       "60965   C1=CC(=CC=C1C2=C(C(=O)C3=C(C=C(C=C3O2)O)O)O[C@...   \n",
       "183767  C[C@H]1CC(=O)[C@H]2[C@@H]1[C@@H](OC=C2C(=O)OC)...   \n",
       "\n",
       "        PubChem Substance ID  hERG inhibition (%) at 1uM  \\\n",
       "133218                842134                     11.0704   \n",
       "271424                842137                      9.7533   \n",
       "173811                842138                      6.0320   \n",
       "18963                 842139                      8.6582   \n",
       "70960                 842140                     58.0609   \n",
       "...                      ...                         ...   \n",
       "306458              85149172                     14.6462   \n",
       "60971               85149177                     10.6273   \n",
       "183729              85149178                     11.5510   \n",
       "60965               85149179                     14.0645   \n",
       "183767              85149185                      9.7399   \n",
       "\n",
       "        hERG inhibition (%) at 10uM  class  \n",
       "133218                      8.65188      0  \n",
       "271424                      3.52888      0  \n",
       "173811                      8.64368      0  \n",
       "18963                       7.12878      0  \n",
       "70960                      68.65378      1  \n",
       "...                             ...    ...  \n",
       "306458                     23.14528      0  \n",
       "60971                      16.26908      0  \n",
       "183729                     17.66578      0  \n",
       "60965                      15.93398      0  \n",
       "183767                     23.29218      0  \n",
       "\n",
       "[162007 rows x 5 columns]"
      ]
     },
     "execution_count": 15,
     "metadata": {},
     "output_type": "execute_result"
    }
   ],
   "source": [
    "df = df.sort_values('PubChem Substance ID')\n",
    "df"
   ]
  },
  {
   "cell_type": "code",
   "execution_count": 16,
   "metadata": {},
   "outputs": [
    {
     "data": {
      "text/html": [
       "<div>\n",
       "<style scoped>\n",
       "    .dataframe tbody tr th:only-of-type {\n",
       "        vertical-align: middle;\n",
       "    }\n",
       "\n",
       "    .dataframe tbody tr th {\n",
       "        vertical-align: top;\n",
       "    }\n",
       "\n",
       "    .dataframe thead th {\n",
       "        text-align: right;\n",
       "    }\n",
       "</style>\n",
       "<table border=\"1\" class=\"dataframe\">\n",
       "  <thead>\n",
       "    <tr style=\"text-align: right;\">\n",
       "      <th></th>\n",
       "      <th>SMILES</th>\n",
       "      <th>PubChem Substance ID</th>\n",
       "      <th>hERG inhibition (%) at 1uM</th>\n",
       "      <th>hERG inhibition (%) at 10uM</th>\n",
       "      <th>class</th>\n",
       "    </tr>\n",
       "  </thead>\n",
       "  <tbody>\n",
       "    <tr>\n",
       "      <th>0</th>\n",
       "      <td>CCOC(=O)N1CCC(CC1)NCCNC(=O)C2=CC=CC=C2Cl</td>\n",
       "      <td>842134</td>\n",
       "      <td>11.0704</td>\n",
       "      <td>8.65188</td>\n",
       "      <td>0</td>\n",
       "    </tr>\n",
       "    <tr>\n",
       "      <th>1</th>\n",
       "      <td>CC1=CC2=C(C=C1)N=C(C(=C2)C#N)N3CCN(CC3)CC4=NN=...</td>\n",
       "      <td>842137</td>\n",
       "      <td>9.7533</td>\n",
       "      <td>3.52888</td>\n",
       "      <td>0</td>\n",
       "    </tr>\n",
       "    <tr>\n",
       "      <th>2</th>\n",
       "      <td>CC1(C(=O)N(C(=O)N1)CC(COC2CCCCC2)O)C</td>\n",
       "      <td>842138</td>\n",
       "      <td>6.0320</td>\n",
       "      <td>8.64368</td>\n",
       "      <td>0</td>\n",
       "    </tr>\n",
       "    <tr>\n",
       "      <th>3</th>\n",
       "      <td>C1CC1C2=CC=[N+](C=C2)[O-]</td>\n",
       "      <td>842139</td>\n",
       "      <td>8.6582</td>\n",
       "      <td>7.12878</td>\n",
       "      <td>0</td>\n",
       "    </tr>\n",
       "    <tr>\n",
       "      <th>4</th>\n",
       "      <td>COC1=CC=C(C=C1)C(=O)NC2=NN=C(S2)C(F)(F)F</td>\n",
       "      <td>842140</td>\n",
       "      <td>58.0609</td>\n",
       "      <td>68.65378</td>\n",
       "      <td>1</td>\n",
       "    </tr>\n",
       "    <tr>\n",
       "      <th>...</th>\n",
       "      <td>...</td>\n",
       "      <td>...</td>\n",
       "      <td>...</td>\n",
       "      <td>...</td>\n",
       "      <td>...</td>\n",
       "    </tr>\n",
       "    <tr>\n",
       "      <th>162002</th>\n",
       "      <td>C[C@H]1[C@@H]([C@H]([C@H]([C@@H](O1)O[C@@H]2[C...</td>\n",
       "      <td>85149172</td>\n",
       "      <td>14.6462</td>\n",
       "      <td>23.14528</td>\n",
       "      <td>0</td>\n",
       "    </tr>\n",
       "    <tr>\n",
       "      <th>162003</th>\n",
       "      <td>C[C@H]1[C@@H]([C@H]([C@H]([C@@H](O1)O[C@H]2[C@...</td>\n",
       "      <td>85149177</td>\n",
       "      <td>10.6273</td>\n",
       "      <td>16.26908</td>\n",
       "      <td>0</td>\n",
       "    </tr>\n",
       "    <tr>\n",
       "      <th>162004</th>\n",
       "      <td>CC1(C=CC2=C(O1)C=CC3=C2OC[C@@H](C3)C4=C(C=C(C=...</td>\n",
       "      <td>85149178</td>\n",
       "      <td>11.5510</td>\n",
       "      <td>17.66578</td>\n",
       "      <td>0</td>\n",
       "    </tr>\n",
       "    <tr>\n",
       "      <th>162005</th>\n",
       "      <td>C1=CC(=CC=C1C2=C(C(=O)C3=C(C=C(C=C3O2)O)O)O[C@...</td>\n",
       "      <td>85149179</td>\n",
       "      <td>14.0645</td>\n",
       "      <td>15.93398</td>\n",
       "      <td>0</td>\n",
       "    </tr>\n",
       "    <tr>\n",
       "      <th>162006</th>\n",
       "      <td>C[C@H]1CC(=O)[C@H]2[C@@H]1[C@@H](OC=C2C(=O)OC)...</td>\n",
       "      <td>85149185</td>\n",
       "      <td>9.7399</td>\n",
       "      <td>23.29218</td>\n",
       "      <td>0</td>\n",
       "    </tr>\n",
       "  </tbody>\n",
       "</table>\n",
       "<p>162007 rows × 5 columns</p>\n",
       "</div>"
      ],
      "text/plain": [
       "                                                   SMILES  \\\n",
       "0                CCOC(=O)N1CCC(CC1)NCCNC(=O)C2=CC=CC=C2Cl   \n",
       "1       CC1=CC2=C(C=C1)N=C(C(=C2)C#N)N3CCN(CC3)CC4=NN=...   \n",
       "2                    CC1(C(=O)N(C(=O)N1)CC(COC2CCCCC2)O)C   \n",
       "3                               C1CC1C2=CC=[N+](C=C2)[O-]   \n",
       "4                COC1=CC=C(C=C1)C(=O)NC2=NN=C(S2)C(F)(F)F   \n",
       "...                                                   ...   \n",
       "162002  C[C@H]1[C@@H]([C@H]([C@H]([C@@H](O1)O[C@@H]2[C...   \n",
       "162003  C[C@H]1[C@@H]([C@H]([C@H]([C@@H](O1)O[C@H]2[C@...   \n",
       "162004  CC1(C=CC2=C(O1)C=CC3=C2OC[C@@H](C3)C4=C(C=C(C=...   \n",
       "162005  C1=CC(=CC=C1C2=C(C(=O)C3=C(C=C(C=C3O2)O)O)O[C@...   \n",
       "162006  C[C@H]1CC(=O)[C@H]2[C@@H]1[C@@H](OC=C2C(=O)OC)...   \n",
       "\n",
       "        PubChem Substance ID  hERG inhibition (%) at 1uM  \\\n",
       "0                     842134                     11.0704   \n",
       "1                     842137                      9.7533   \n",
       "2                     842138                      6.0320   \n",
       "3                     842139                      8.6582   \n",
       "4                     842140                     58.0609   \n",
       "...                      ...                         ...   \n",
       "162002              85149172                     14.6462   \n",
       "162003              85149177                     10.6273   \n",
       "162004              85149178                     11.5510   \n",
       "162005              85149179                     14.0645   \n",
       "162006              85149185                      9.7399   \n",
       "\n",
       "        hERG inhibition (%) at 10uM  class  \n",
       "0                           8.65188      0  \n",
       "1                           3.52888      0  \n",
       "2                           8.64368      0  \n",
       "3                           7.12878      0  \n",
       "4                          68.65378      1  \n",
       "...                             ...    ...  \n",
       "162002                     23.14528      0  \n",
       "162003                     16.26908      0  \n",
       "162004                     17.66578      0  \n",
       "162005                     15.93398      0  \n",
       "162006                     23.29218      0  \n",
       "\n",
       "[162007 rows x 5 columns]"
      ]
     },
     "execution_count": 16,
     "metadata": {},
     "output_type": "execute_result"
    }
   ],
   "source": [
    "df.reset_index(drop=True, inplace=True)\n",
    "df"
   ]
  },
  {
   "cell_type": "markdown",
   "metadata": {},
   "source": [
    "Сохраним промежуточный результат."
   ]
  },
  {
   "cell_type": "code",
   "execution_count": 17,
   "metadata": {},
   "outputs": [],
   "source": [
    "df.to_csv(\"herg_central_class.csv\", encoding='utf-8', index=False)"
   ]
  },
  {
   "cell_type": "code",
   "execution_count": 18,
   "metadata": {},
   "outputs": [
    {
     "data": {
      "text/html": [
       "<div>\n",
       "<style scoped>\n",
       "    .dataframe tbody tr th:only-of-type {\n",
       "        vertical-align: middle;\n",
       "    }\n",
       "\n",
       "    .dataframe tbody tr th {\n",
       "        vertical-align: top;\n",
       "    }\n",
       "\n",
       "    .dataframe thead th {\n",
       "        text-align: right;\n",
       "    }\n",
       "</style>\n",
       "<table border=\"1\" class=\"dataframe\">\n",
       "  <thead>\n",
       "    <tr style=\"text-align: right;\">\n",
       "      <th></th>\n",
       "      <th>SMILES</th>\n",
       "      <th>PubChem Substance ID</th>\n",
       "      <th>hERG inhibition (%) at 1uM</th>\n",
       "      <th>hERG inhibition (%) at 10uM</th>\n",
       "      <th>class</th>\n",
       "    </tr>\n",
       "  </thead>\n",
       "  <tbody>\n",
       "    <tr>\n",
       "      <th>0</th>\n",
       "      <td>CCOC(=O)N1CCC(CC1)NCCNC(=O)C2=CC=CC=C2Cl</td>\n",
       "      <td>842134</td>\n",
       "      <td>11.0704</td>\n",
       "      <td>8.65188</td>\n",
       "      <td>0</td>\n",
       "    </tr>\n",
       "    <tr>\n",
       "      <th>1</th>\n",
       "      <td>CC1=CC2=C(C=C1)N=C(C(=C2)C#N)N3CCN(CC3)CC4=NN=...</td>\n",
       "      <td>842137</td>\n",
       "      <td>9.7533</td>\n",
       "      <td>3.52888</td>\n",
       "      <td>0</td>\n",
       "    </tr>\n",
       "    <tr>\n",
       "      <th>2</th>\n",
       "      <td>CC1(C(=O)N(C(=O)N1)CC(COC2CCCCC2)O)C</td>\n",
       "      <td>842138</td>\n",
       "      <td>6.0320</td>\n",
       "      <td>8.64368</td>\n",
       "      <td>0</td>\n",
       "    </tr>\n",
       "    <tr>\n",
       "      <th>3</th>\n",
       "      <td>C1CC1C2=CC=[N+](C=C2)[O-]</td>\n",
       "      <td>842139</td>\n",
       "      <td>8.6582</td>\n",
       "      <td>7.12878</td>\n",
       "      <td>0</td>\n",
       "    </tr>\n",
       "    <tr>\n",
       "      <th>4</th>\n",
       "      <td>COC1=CC=C(C=C1)C(=O)NC2=NN=C(S2)C(F)(F)F</td>\n",
       "      <td>842140</td>\n",
       "      <td>58.0609</td>\n",
       "      <td>68.65378</td>\n",
       "      <td>1</td>\n",
       "    </tr>\n",
       "    <tr>\n",
       "      <th>...</th>\n",
       "      <td>...</td>\n",
       "      <td>...</td>\n",
       "      <td>...</td>\n",
       "      <td>...</td>\n",
       "      <td>...</td>\n",
       "    </tr>\n",
       "    <tr>\n",
       "      <th>162002</th>\n",
       "      <td>C[C@H]1[C@@H]([C@H]([C@H]([C@@H](O1)O[C@@H]2[C...</td>\n",
       "      <td>85149172</td>\n",
       "      <td>14.6462</td>\n",
       "      <td>23.14528</td>\n",
       "      <td>0</td>\n",
       "    </tr>\n",
       "    <tr>\n",
       "      <th>162003</th>\n",
       "      <td>C[C@H]1[C@@H]([C@H]([C@H]([C@@H](O1)O[C@H]2[C@...</td>\n",
       "      <td>85149177</td>\n",
       "      <td>10.6273</td>\n",
       "      <td>16.26908</td>\n",
       "      <td>0</td>\n",
       "    </tr>\n",
       "    <tr>\n",
       "      <th>162004</th>\n",
       "      <td>CC1(C=CC2=C(O1)C=CC3=C2OC[C@@H](C3)C4=C(C=C(C=...</td>\n",
       "      <td>85149178</td>\n",
       "      <td>11.5510</td>\n",
       "      <td>17.66578</td>\n",
       "      <td>0</td>\n",
       "    </tr>\n",
       "    <tr>\n",
       "      <th>162005</th>\n",
       "      <td>C1=CC(=CC=C1C2=C(C(=O)C3=C(C=C(C=C3O2)O)O)O[C@...</td>\n",
       "      <td>85149179</td>\n",
       "      <td>14.0645</td>\n",
       "      <td>15.93398</td>\n",
       "      <td>0</td>\n",
       "    </tr>\n",
       "    <tr>\n",
       "      <th>162006</th>\n",
       "      <td>C[C@H]1CC(=O)[C@H]2[C@@H]1[C@@H](OC=C2C(=O)OC)...</td>\n",
       "      <td>85149185</td>\n",
       "      <td>9.7399</td>\n",
       "      <td>23.29218</td>\n",
       "      <td>0</td>\n",
       "    </tr>\n",
       "  </tbody>\n",
       "</table>\n",
       "<p>162007 rows × 5 columns</p>\n",
       "</div>"
      ],
      "text/plain": [
       "                                                   SMILES  \\\n",
       "0                CCOC(=O)N1CCC(CC1)NCCNC(=O)C2=CC=CC=C2Cl   \n",
       "1       CC1=CC2=C(C=C1)N=C(C(=C2)C#N)N3CCN(CC3)CC4=NN=...   \n",
       "2                    CC1(C(=O)N(C(=O)N1)CC(COC2CCCCC2)O)C   \n",
       "3                               C1CC1C2=CC=[N+](C=C2)[O-]   \n",
       "4                COC1=CC=C(C=C1)C(=O)NC2=NN=C(S2)C(F)(F)F   \n",
       "...                                                   ...   \n",
       "162002  C[C@H]1[C@@H]([C@H]([C@H]([C@@H](O1)O[C@@H]2[C...   \n",
       "162003  C[C@H]1[C@@H]([C@H]([C@H]([C@@H](O1)O[C@H]2[C@...   \n",
       "162004  CC1(C=CC2=C(O1)C=CC3=C2OC[C@@H](C3)C4=C(C=C(C=...   \n",
       "162005  C1=CC(=CC=C1C2=C(C(=O)C3=C(C=C(C=C3O2)O)O)O[C@...   \n",
       "162006  C[C@H]1CC(=O)[C@H]2[C@@H]1[C@@H](OC=C2C(=O)OC)...   \n",
       "\n",
       "        PubChem Substance ID  hERG inhibition (%) at 1uM  \\\n",
       "0                     842134                     11.0704   \n",
       "1                     842137                      9.7533   \n",
       "2                     842138                      6.0320   \n",
       "3                     842139                      8.6582   \n",
       "4                     842140                     58.0609   \n",
       "...                      ...                         ...   \n",
       "162002              85149172                     14.6462   \n",
       "162003              85149177                     10.6273   \n",
       "162004              85149178                     11.5510   \n",
       "162005              85149179                     14.0645   \n",
       "162006              85149185                      9.7399   \n",
       "\n",
       "        hERG inhibition (%) at 10uM  class  \n",
       "0                           8.65188      0  \n",
       "1                           3.52888      0  \n",
       "2                           8.64368      0  \n",
       "3                           7.12878      0  \n",
       "4                          68.65378      1  \n",
       "...                             ...    ...  \n",
       "162002                     23.14528      0  \n",
       "162003                     16.26908      0  \n",
       "162004                     17.66578      0  \n",
       "162005                     15.93398      0  \n",
       "162006                     23.29218      0  \n",
       "\n",
       "[162007 rows x 5 columns]"
      ]
     },
     "execution_count": 18,
     "metadata": {},
     "output_type": "execute_result"
    }
   ],
   "source": [
    "df = pd.read_table('herg_central_class.csv', sep = \",\", engine='python')\n",
    "df"
   ]
  },
  {
   "cell_type": "code",
   "execution_count": 19,
   "metadata": {},
   "outputs": [],
   "source": [
    "def standardize_smiles(df):\n",
    "    logs = 0\n",
    "    mols = []\n",
    "    for i in tqdm(df[\"SMILES\"]):    \n",
    "        mol = Chem.MolFromSmiles(i)\n",
    "        if mol is not None:\n",
    "            mols.append(mol)\n",
    "        else:\n",
    "            logs+=1\n",
    "            print(i)\n",
    "    print(f\"Errors: {logs}\")\n",
    "    df[\"ROMol\"] = mols\n",
    "    return df"
   ]
  },
  {
   "cell_type": "code",
   "execution_count": 20,
   "metadata": {},
   "outputs": [
    {
     "name": "stderr",
     "output_type": "stream",
     "text": [
      "100%|████████████████████████████████████████████████████████████████████████| 162007/162007 [00:44<00:00, 3626.15it/s]\n"
     ]
    },
    {
     "name": "stdout",
     "output_type": "stream",
     "text": [
      "Errors: 0\n"
     ]
    }
   ],
   "source": [
    "df_mol = standardize_smiles(df)"
   ]
  },
  {
   "cell_type": "code",
   "execution_count": 21,
   "metadata": {},
   "outputs": [
    {
     "data": {
      "text/plain": [
       "225"
      ]
     },
     "execution_count": 21,
     "metadata": {},
     "output_type": "execute_result"
    }
   ],
   "source": [
    "df_mol[\"class\"].sum()"
   ]
  },
  {
   "cell_type": "code",
   "execution_count": 22,
   "metadata": {},
   "outputs": [
    {
     "data": {
      "text/plain": [
       "SMILES                         0\n",
       "PubChem Substance ID           0\n",
       "hERG inhibition (%) at 1uM     0\n",
       "hERG inhibition (%) at 10uM    0\n",
       "class                          0\n",
       "ROMol                          0\n",
       "dtype: int64"
      ]
     },
     "execution_count": 22,
     "metadata": {},
     "output_type": "execute_result"
    }
   ],
   "source": [
    "df_mol.isna().sum()"
   ]
  },
  {
   "cell_type": "markdown",
   "metadata": {},
   "source": [
    "Давайте также посмотрим на распределение данных по % ингибирования  и по молекулярной массе"
   ]
  },
  {
   "cell_type": "code",
   "execution_count": 23,
   "metadata": {},
   "outputs": [],
   "source": [
    "def plot_pIC50(df1, name, value):\n",
    "    # функция для построения распределения по значению pIC50\n",
    "    c,me,std,mi,procent1, procent2, procent3, ma = df1[value].describe().round(4)\n",
    "    n, bins, patches = plt.hist(df1[value], 50, density=True, alpha=0.9)\n",
    "\n",
    "    plt.xlabel(value)\n",
    "    plt.ylabel('Probability')\n",
    "    plt.title(f'{name}')\n",
    "    plt.xlim(0, np.max(df1[value]))\n",
    "    plt.annotate(f'count={c}\\nmean={me}\\nstd={std}\\nmin={mi}\\n25%={procent1}\\n50%={procent2}\\n75%={procent3}\\nmax={ma}', xy=(0.5, 0.2))\n",
    "    # plt.ylim(0, 1)\n",
    "    plt.grid(True)\n",
    "    plt.show()"
   ]
  },
  {
   "cell_type": "code",
   "execution_count": 24,
   "metadata": {},
   "outputs": [
    {
     "data": {
      "image/png": "[encoded data removed]",
      "text/plain": [
       "<Figure size 432x288 with 1 Axes>"
      ]
     },
     "metadata": {
      "needs_background": "light"
     },
     "output_type": "display_data"
    }
   ],
   "source": [
    "plot_pIC50(df, name='df', value ='hERG inhibition (%) at 10uM')"
   ]
  },
  {
   "cell_type": "code",
   "execution_count": 25,
   "metadata": {},
   "outputs": [],
   "source": [
    "def calculate_pIC50(i):\n",
    "    p = -np.log10(i/1000000000)\n",
    "    return p"
   ]
  },
  {
   "cell_type": "code",
   "execution_count": 26,
   "metadata": {},
   "outputs": [],
   "source": [
    "df[\"p_activity\"] = df['hERG inhibition (%) at 10uM'].apply(calculate_pIC50)"
   ]
  },
  {
   "cell_type": "code",
   "execution_count": 27,
   "metadata": {},
   "outputs": [
    {
     "data": {
      "image/png": "[encoded data removed]",
      "text/plain": [
       "<Figure size 432x288 with 1 Axes>"
      ]
     },
     "metadata": {
      "needs_background": "light"
     },
     "output_type": "display_data"
    }
   ],
   "source": [
    "plot_pIC50(df, name='df', value ='p_activity')"
   ]
  },
  {
   "cell_type": "code",
   "execution_count": 28,
   "metadata": {},
   "outputs": [],
   "source": [
    "df[\"MW\"] = [Chem.Descriptors.MolWt(Chem.MolFromSmiles(m)) for m in df[\"SMILES\"]] "
   ]
  },
  {
   "cell_type": "code",
   "execution_count": 29,
   "metadata": {},
   "outputs": [
    {
     "data": {
      "image/png": "[encoded data removed]",
      "text/plain": [
       "<Figure size 432x288 with 1 Axes>"
      ]
     },
     "metadata": {
      "needs_background": "light"
     },
     "output_type": "display_data"
    }
   ],
   "source": [
    "plot_pIC50(df, name='df', value ='MW')"
   ]
  },
  {
   "cell_type": "code",
   "execution_count": 29,
   "metadata": {},
   "outputs": [],
   "source": [
    "def calc_morgan(mols):\n",
    "    \"\"\" генерация молекулярных отпечатков по методу Моргана с радиусом 3\n",
    "    \"\"\"\n",
    "    #t0 = time.time()\n",
    "    for_df = []\n",
    "    i=0\n",
    "    for m in tqdm(mols):\n",
    "        i+=1\n",
    "        #t1 = time.time()\n",
    "        #print(\"Processing compound {} ({}%)\".format(i, 100*i//len(mols)), end=\"\")\n",
    "        arr = zeros((1,), dtype=int)\n",
    "        DataStructs.ConvertToNumpyArray(AllChem.GetMorganFingerprintAsBitVect(m, 3, 4096), arr)\n",
    "        for_df.append(arr)\n",
    "        #t2 = time.time()\n",
    "        #print(\" {}s (total: {}s)\".format(t2-t1, t2-t0))\n",
    "    return DataFrame(for_df)"
   ]
  },
  {
   "cell_type": "code",
   "execution_count": 19,
   "metadata": {},
   "outputs": [
    {
     "name": "stderr",
     "output_type": "stream",
     "text": [
      "100%|████████████████████████████████████████████████████████████████████████| 294939/294939 [01:18<00:00, 3753.61it/s]\n"
     ]
    },
    {
     "ename": "MemoryError",
     "evalue": "",
     "output_type": "error",
     "traceback": [
      "\u001b[1;31m---------------------------------------------------------------------------\u001b[0m",
      "\u001b[1;31mMemoryError\u001b[0m                               Traceback (most recent call last)",
      "\u001b[1;32m~\\AppData\\Local\\Temp/ipykernel_16800/2563036958.py\u001b[0m in \u001b[0;36m<module>\u001b[1;34m\u001b[0m\n\u001b[1;32m----> 1\u001b[1;33m \u001b[0mdf\u001b[0m \u001b[1;33m=\u001b[0m \u001b[0mcalc_morgan\u001b[0m\u001b[1;33m(\u001b[0m\u001b[0mdf\u001b[0m\u001b[1;33m[\u001b[0m\u001b[1;34m\"ROMol\"\u001b[0m\u001b[1;33m]\u001b[0m\u001b[1;33m)\u001b[0m\u001b[1;33m\u001b[0m\u001b[1;33m\u001b[0m\u001b[0m\n\u001b[0m",
      "\u001b[1;32m~\\AppData\\Local\\Temp/ipykernel_16800/1057412138.py\u001b[0m in \u001b[0;36mcalc_morgan\u001b[1;34m(mols)\u001b[0m\n\u001b[0;32m     14\u001b[0m         \u001b[1;31m#t2 = time.time()\u001b[0m\u001b[1;33m\u001b[0m\u001b[1;33m\u001b[0m\u001b[1;33m\u001b[0m\u001b[0m\n\u001b[0;32m     15\u001b[0m         \u001b[1;31m#print(\" {}s (total: {}s)\".format(t2-t1, t2-t0))\u001b[0m\u001b[1;33m\u001b[0m\u001b[1;33m\u001b[0m\u001b[1;33m\u001b[0m\u001b[0m\n\u001b[1;32m---> 16\u001b[1;33m     \u001b[1;32mreturn\u001b[0m \u001b[0mDataFrame\u001b[0m\u001b[1;33m(\u001b[0m\u001b[0mfor_df\u001b[0m\u001b[1;33m)\u001b[0m\u001b[1;33m\u001b[0m\u001b[1;33m\u001b[0m\u001b[0m\n\u001b[0m",
      "\u001b[1;32mD:\\Anaconda\\envs\\my-rdkit-env\\lib\\site-packages\\pandas\\core\\frame.py\u001b[0m in \u001b[0;36m__init__\u001b[1;34m(self, data, index, columns, dtype, copy)\u001b[0m\n\u001b[0;32m    692\u001b[0m                         \u001b[1;31m# ndarray], Index, Series], Sequence[Any]]\"\u001b[0m\u001b[1;33m\u001b[0m\u001b[1;33m\u001b[0m\u001b[1;33m\u001b[0m\u001b[0m\n\u001b[0;32m    693\u001b[0m                         \u001b[0mcolumns\u001b[0m \u001b[1;33m=\u001b[0m \u001b[0mensure_index\u001b[0m\u001b[1;33m(\u001b[0m\u001b[0mcolumns\u001b[0m\u001b[1;33m)\u001b[0m  \u001b[1;31m# type: ignore[arg-type]\u001b[0m\u001b[1;33m\u001b[0m\u001b[1;33m\u001b[0m\u001b[0m\n\u001b[1;32m--> 694\u001b[1;33m                     arrays, columns, index = nested_data_to_arrays(\n\u001b[0m\u001b[0;32m    695\u001b[0m                         \u001b[1;31m# error: Argument 3 to \"nested_data_to_arrays\" has incompatible\u001b[0m\u001b[1;33m\u001b[0m\u001b[1;33m\u001b[0m\u001b[1;33m\u001b[0m\u001b[0m\n\u001b[0;32m    696\u001b[0m                         \u001b[1;31m# type \"Optional[Collection[Any]]\"; expected \"Optional[Index]\"\u001b[0m\u001b[1;33m\u001b[0m\u001b[1;33m\u001b[0m\u001b[1;33m\u001b[0m\u001b[0m\n",
      "\u001b[1;32mD:\\Anaconda\\envs\\my-rdkit-env\\lib\\site-packages\\pandas\\core\\internals\\construction.py\u001b[0m in \u001b[0;36mnested_data_to_arrays\u001b[1;34m(data, columns, index, dtype)\u001b[0m\n\u001b[0;32m    481\u001b[0m         \u001b[0mcolumns\u001b[0m \u001b[1;33m=\u001b[0m \u001b[0mensure_index\u001b[0m\u001b[1;33m(\u001b[0m\u001b[0mdata\u001b[0m\u001b[1;33m[\u001b[0m\u001b[1;36m0\u001b[0m\u001b[1;33m]\u001b[0m\u001b[1;33m.\u001b[0m\u001b[0m_fields\u001b[0m\u001b[1;33m)\u001b[0m\u001b[1;33m\u001b[0m\u001b[1;33m\u001b[0m\u001b[0m\n\u001b[0;32m    482\u001b[0m \u001b[1;33m\u001b[0m\u001b[0m\n\u001b[1;32m--> 483\u001b[1;33m     \u001b[0marrays\u001b[0m\u001b[1;33m,\u001b[0m \u001b[0mcolumns\u001b[0m \u001b[1;33m=\u001b[0m \u001b[0mto_arrays\u001b[0m\u001b[1;33m(\u001b[0m\u001b[0mdata\u001b[0m\u001b[1;33m,\u001b[0m \u001b[0mcolumns\u001b[0m\u001b[1;33m,\u001b[0m \u001b[0mdtype\u001b[0m\u001b[1;33m=\u001b[0m\u001b[0mdtype\u001b[0m\u001b[1;33m)\u001b[0m\u001b[1;33m\u001b[0m\u001b[1;33m\u001b[0m\u001b[0m\n\u001b[0m\u001b[0;32m    484\u001b[0m     \u001b[0mcolumns\u001b[0m \u001b[1;33m=\u001b[0m \u001b[0mensure_index\u001b[0m\u001b[1;33m(\u001b[0m\u001b[0mcolumns\u001b[0m\u001b[1;33m)\u001b[0m\u001b[1;33m\u001b[0m\u001b[1;33m\u001b[0m\u001b[0m\n\u001b[0;32m    485\u001b[0m \u001b[1;33m\u001b[0m\u001b[0m\n",
      "\u001b[1;32mD:\\Anaconda\\envs\\my-rdkit-env\\lib\\site-packages\\pandas\\core\\internals\\construction.py\u001b[0m in \u001b[0;36mto_arrays\u001b[1;34m(data, columns, dtype)\u001b[0m\n\u001b[0;32m    802\u001b[0m     \u001b[1;32melse\u001b[0m\u001b[1;33m:\u001b[0m\u001b[1;33m\u001b[0m\u001b[1;33m\u001b[0m\u001b[0m\n\u001b[0;32m    803\u001b[0m         \u001b[1;31m# last ditch effort\u001b[0m\u001b[1;33m\u001b[0m\u001b[1;33m\u001b[0m\u001b[1;33m\u001b[0m\u001b[0m\n\u001b[1;32m--> 804\u001b[1;33m         \u001b[0mdata\u001b[0m \u001b[1;33m=\u001b[0m \u001b[1;33m[\u001b[0m\u001b[0mtuple\u001b[0m\u001b[1;33m(\u001b[0m\u001b[0mx\u001b[0m\u001b[1;33m)\u001b[0m \u001b[1;32mfor\u001b[0m \u001b[0mx\u001b[0m \u001b[1;32min\u001b[0m \u001b[0mdata\u001b[0m\u001b[1;33m]\u001b[0m\u001b[1;33m\u001b[0m\u001b[1;33m\u001b[0m\u001b[0m\n\u001b[0m\u001b[0;32m    805\u001b[0m         \u001b[0marr\u001b[0m \u001b[1;33m=\u001b[0m \u001b[0m_list_to_arrays\u001b[0m\u001b[1;33m(\u001b[0m\u001b[0mdata\u001b[0m\u001b[1;33m)\u001b[0m\u001b[1;33m\u001b[0m\u001b[1;33m\u001b[0m\u001b[0m\n\u001b[0;32m    806\u001b[0m \u001b[1;33m\u001b[0m\u001b[0m\n",
      "\u001b[1;32mD:\\Anaconda\\envs\\my-rdkit-env\\lib\\site-packages\\pandas\\core\\internals\\construction.py\u001b[0m in \u001b[0;36m<listcomp>\u001b[1;34m(.0)\u001b[0m\n\u001b[0;32m    802\u001b[0m     \u001b[1;32melse\u001b[0m\u001b[1;33m:\u001b[0m\u001b[1;33m\u001b[0m\u001b[1;33m\u001b[0m\u001b[0m\n\u001b[0;32m    803\u001b[0m         \u001b[1;31m# last ditch effort\u001b[0m\u001b[1;33m\u001b[0m\u001b[1;33m\u001b[0m\u001b[1;33m\u001b[0m\u001b[0m\n\u001b[1;32m--> 804\u001b[1;33m         \u001b[0mdata\u001b[0m \u001b[1;33m=\u001b[0m \u001b[1;33m[\u001b[0m\u001b[0mtuple\u001b[0m\u001b[1;33m(\u001b[0m\u001b[0mx\u001b[0m\u001b[1;33m)\u001b[0m \u001b[1;32mfor\u001b[0m \u001b[0mx\u001b[0m \u001b[1;32min\u001b[0m \u001b[0mdata\u001b[0m\u001b[1;33m]\u001b[0m\u001b[1;33m\u001b[0m\u001b[1;33m\u001b[0m\u001b[0m\n\u001b[0m\u001b[0;32m    805\u001b[0m         \u001b[0marr\u001b[0m \u001b[1;33m=\u001b[0m \u001b[0m_list_to_arrays\u001b[0m\u001b[1;33m(\u001b[0m\u001b[0mdata\u001b[0m\u001b[1;33m)\u001b[0m\u001b[1;33m\u001b[0m\u001b[1;33m\u001b[0m\u001b[0m\n\u001b[0;32m    806\u001b[0m \u001b[1;33m\u001b[0m\u001b[0m\n",
      "\u001b[1;31mMemoryError\u001b[0m: "
     ]
    }
   ],
   "source": [
    "df = calc_morgan(df[\"ROMol\"])"
   ]
  },
  {
   "cell_type": "markdown",
   "metadata": {},
   "source": [
    "Воспольуемся реализацией кластеризации по методу KNN  от  PatWalters https://github.com/PatWalters/kmeans\n",
    "Параметры: fp = morgan3, dim = 2048, clusters = 500. "
   ]
  },
  {
   "cell_type": "code",
   "execution_count": 31,
   "metadata": {},
   "outputs": [],
   "source": [
    "#df1 = df[[\"SMILES\", \"class\"]]\n",
    "df1 = df\n",
    "del df1[\"ROMol\"]\n",
    "df1 = df1[[\"SMILES\", \"PubChem Substance ID\"]]\n",
    "df1.to_csv(\"herg_central_class.smi\", sep = \" \", encoding='utf-8', index=False)"
   ]
  },
  {
   "cell_type": "markdown",
   "metadata": {},
   "source": [
    "Теперь посмотрим, что получилось после кластеризации:"
   ]
  },
  {
   "cell_type": "code",
   "execution_count": 31,
   "metadata": {},
   "outputs": [],
   "source": [
    "df_clust = pd.read_csv(\"herg_central_clusters.csv\")"
   ]
  },
  {
   "cell_type": "code",
   "execution_count": 32,
   "metadata": {},
   "outputs": [],
   "source": [
    "PandasTools.AddMoleculeColumnToFrame(df_clust,'SMILES','Mol')"
   ]
  },
  {
   "cell_type": "code",
   "execution_count": 33,
   "metadata": {},
   "outputs": [
    {
     "data": {
      "text/plain": [
       "162007"
      ]
     },
     "execution_count": 33,
     "metadata": {},
     "output_type": "execute_result"
    }
   ],
   "source": [
    "len(df_clust)"
   ]
  },
  {
   "cell_type": "code",
   "execution_count": 34,
   "metadata": {},
   "outputs": [],
   "source": [
    "df_clust = df_clust.sort_values(\"Name\")\n",
    "df_clust.reset_index(drop=True, inplace=True)\n"
   ]
  },
  {
   "cell_type": "code",
   "execution_count": 36,
   "metadata": {},
   "outputs": [],
   "source": [
    "df_clust = pd.concat([df_clust,df[[\"PubChem Substance ID\", \"hERG inhibition (%) at 10uM\", \"class\"]]],axis=1)"
   ]
  },
  {
   "cell_type": "code",
   "execution_count": 37,
   "metadata": {
    "scrolled": true
   },
   "outputs": [
    {
     "data": {
      "text/html": [
       "<div>\n",
       "<style scoped>\n",
       "    .dataframe tbody tr th:only-of-type {\n",
       "        vertical-align: middle;\n",
       "    }\n",
       "\n",
       "    .dataframe tbody tr th {\n",
       "        vertical-align: top;\n",
       "    }\n",
       "\n",
       "    .dataframe thead th {\n",
       "        text-align: right;\n",
       "    }\n",
       "</style>\n",
       "<table border=\"1\" class=\"dataframe\">\n",
       "  <thead>\n",
       "    <tr style=\"text-align: right;\">\n",
       "      <th></th>\n",
       "      <th>SMILES</th>\n",
       "      <th>Name</th>\n",
       "      <th>Cluster</th>\n",
       "      <th>Center</th>\n",
       "      <th>Mol</th>\n",
       "      <th>PubChem Substance ID</th>\n",
       "      <th>hERG inhibition (%) at 10uM</th>\n",
       "      <th>class</th>\n",
       "    </tr>\n",
       "  </thead>\n",
       "  <tbody>\n",
       "    <tr>\n",
       "      <th>532</th>\n",
       "      <td>Cc1cc(C)n(CCOc2nonc2N)n1</td>\n",
       "      <td>843682</td>\n",
       "      <td>1</td>\n",
       "      <td>Yes</td>\n",
       "      <td><img data-content=\"rdkit/molecule\" src=\"data:image/png;base64,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\" alt=\"Mol\"/></td>\n",
       "      <td>843682</td>\n",
       "      <td>3.25098</td>\n",
       "      <td>0</td>\n",
       "    </tr>\n",
       "    <tr>\n",
       "      <th>858</th>\n",
       "      <td>CCOc1ccc2nc(NCCNC(=O)Nc3cccc(C)c3)c(C#N)cc2c1</td>\n",
       "      <td>844649</td>\n",
       "      <td>135</td>\n",
       "      <td>Yes</td>\n",
       "      <td><img data-content=\"rdkit/molecule\" src=\"data:image/png;base64,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\" alt=\"Mol\"/></td>\n",
       "      <td>844649</td>\n",
       "      <td>0.53658</td>\n",
       "      <td>0</td>\n",
       "    </tr>\n",
       "    <tr>\n",
       "      <th>1247</th>\n",
       "      <td>COCCN(CC(=O)NCc1ccccc1)C(=O)CCC(=O)Nc1nccs1</td>\n",
       "      <td>845840</td>\n",
       "      <td>139</td>\n",
       "      <td>Yes</td>\n",
       "      <td><img data-content=\"rdkit/molecule\" src=\"data:image/png;base64,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\" alt=\"Mol\"/></td>\n",
       "      <td>845840</td>\n",
       "      <td>6.81258</td>\n",
       "      <td>0</td>\n",
       "    </tr>\n",
       "    <tr>\n",
       "      <th>1754</th>\n",
       "      <td>Nc1nnc(CSCc2ccccc2)s1</td>\n",
       "      <td>847274</td>\n",
       "      <td>260</td>\n",
       "      <td>Yes</td>\n",
       "      <td><img data-content=\"rdkit/molecule\" src=\"data:image/png;base64,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\" alt=\"Mol\"/></td>\n",
       "      <td>847274</td>\n",
       "      <td>1.45598</td>\n",
       "      <td>0</td>\n",
       "    </tr>\n",
       "    <tr>\n",
       "      <th>1884</th>\n",
       "      <td>CC1CN(C(=O)c2cccc(C(=O)N3CC(C)OC(C)C3)c2)CC(C)O1</td>\n",
       "      <td>847640</td>\n",
       "      <td>415</td>\n",
       "      <td>Yes</td>\n",
       "      <td><img data-content=\"rdkit/molecule\" src=\"data:image/png;base64,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\" alt=\"Mol\"/></td>\n",
       "      <td>847640</td>\n",
       "      <td>19.10738</td>\n",
       "      <td>0</td>\n",
       "    </tr>\n",
       "    <tr>\n",
       "      <th>...</th>\n",
       "      <td>...</td>\n",
       "      <td>...</td>\n",
       "      <td>...</td>\n",
       "      <td>...</td>\n",
       "      <td>...</td>\n",
       "      <td>...</td>\n",
       "      <td>...</td>\n",
       "      <td>...</td>\n",
       "    </tr>\n",
       "    <tr>\n",
       "      <th>160765</th>\n",
       "      <td>COC(=O)C1=C(c2ccc(F)cc2OCc2ccccc2)C[C@@H]2CC[C...</td>\n",
       "      <td>81066021</td>\n",
       "      <td>301</td>\n",
       "      <td>Yes</td>\n",
       "      <td><img data-content=\"rdkit/molecule\" src=\"data:image/png;base64,iVBORw0KGgoAAAANSUhEUgAAAMgAAADICAIAAAAiOjnJAAAABmJLR0QA/wD/AP+gvaeTAAAgAElEQVR4nO2dd1xTV//Hv0mAMCIyxF1FqCgIUheoiKC4tVpFHFWKdfX5tZZaR5f6UPu0jlYr+mh91NqKddS2aEEUrZOiQFgOoIqCuEDLFkIIkOT7++Pg9ZaZdSHB8375R3Jz77kn8cO555zv4iEiUCi6ht/aHaC0TaiwKJxAhUXhBCosCidQYVE4gQqLwglUWBROoMKicAIVFoUTqLAonECFReEEKiwKJ1BhUTiBCovCCVRYFE6gwqJwAhUWhROosCicQIVF4QQqLAonUGFROIEKi8IJVFgUTqDConACFRaFE6iwKJxAhUXhBCosCidQYVE4gQqLwglGrd0BvaZYLj/09Cl5PdbGxtncvHX7Y0BQYTXFM7n8QVXV8u7dAcDWiP5WakB/rGYQ8njWRkYAYCYQtHZfDAk6x2qGDKn0m0ePvnn0SKZUtnZfDAk6YjWDu4XFenv71u6F4UFHLAonUGE1hUgg8LC0pNl/NYAKqynuSqWf37//wd27rd0Rw4MKqynSKioA4FW6faU+VFhNkV5RAQCuVFjqQ4XVKAjwl1QKAK4WFq3dF8ODCqtRHlVVPZPLOxgbdzQxae2+GB5UWI1CnoNudLjSCCqsRqmdYFFhaQQVVqNQYWkDFVbDVFVV5e/b1zcnh7rKaAaPlpVrELFYPHToUFdX17S0tNbui0FCR6yGEYvFAODp6dnaHTFUqLAahgpLS6iwGoYKS0voHKsBioqK7OzszM3NS0tLjahHskbQEasBxGIxIg4ePJiqSmOosBogMTERADw8PFq7IwYM/Yt8gUKhiI+P//XXX3/88UdjY2M6XGkDnWNBdXX1+fPnjx8/HhERUVhYSA7y+Xw+n79v374FCxa0au8MFnxZqaysjIyMDAwMbN++PfNr9OrVKzg4ODY2duPGjQDA4/FCQkJau6cGyUsnrIqKCqKndu3aMXpycXEJCQlJTk5mn7lz504+nw8Ay5YtUygUuu9Kejpu2oTffouPHiEiRkZiYWHtRz/+qPvbtSwvi7CKi4vDwsICAgIsWEZloqdbt26xz5TL5czrEydOmJqaAsD06dMrKyt12aGrV9HPD8VivHABhwzBhw9x3jzMyKj9dOBAVCp1ebsWp40Lq6CgICwsbMqUKSbPnfX4fL6Xl9emTZvu3r3LPjM9PT0kJMTZ2XnPnj3s45cuXSLPylGjRpWWluqsZ3PmYGpq7esjRzAkhArLYJgwYQJ5lgGAsbHxuHHj/ve//z19+pQ5QaFQxMbGLl++vGfPnswwNnPmzDrtpKWldevWDQDc3NweP36sm86NGIHFxbWv4+Jw0SKcNw/HjUN/f/T3RysrKiw9ZeHChQ4ODkKhcMyYMaGhoX///TfzkVwuj42NDQ4O7tq1K6MnOzu7wMDAyMjI6urq+q3l5OT06dOHzO4zMzN10L+5czElpfb14cP4xRd0xDIAqqurzczMeDzew4cPmYMymezcuXPBwcGdOnVi9NSzZ0+yDGx2el5UVDRs2DAAsLW1jY+P17aLcXHo54dJSXj5Mnp6Ym4uFZYBkJKSAgB9+vRhjmzevNnS0pLRk7Oz85o1a1KZWY5qSCSSiRMnAoCFhUV0dLS2vUxMxA0b8JtvaleFUVEvVoVhYdo23tq0TWF99913APDWW28xR/bs2dPYtoJa1NTULFy4EABMTEwOHz6seRflcmzXDvv2xYoKzRvRY9qmsIKCggBg165dzJHS0tLs7GydNK5UKkNCQsj26ebNmzVs5cYNBEBHR510SQ9pm8Lq27cvAGgzMjVLaGgoWXIGBwdrsn26dy8C4JtvctA1vaANCqu0tJTP55uamlZVVXF6o0OHDhkbGwPA/PnzG1xLNsXixQiAoaHcdK31aYNuM4mJiUqlcsCAASYcRzDPmzfv5MmTFhYW4eHht2/fVu9isRgAoO16qLZNYUFLeRWPHz9+9erVlZWVO3bsUOOyigq4dQuMjcHdnbOutTJtUFgt4K6uZOUjzc/PBwAnJyc1rk9KArkcXnsNzMx03jc9oQ0Ki+sRq6CgwMrKaurUqeStJjomz8E27aHa1oR1//79v//+287OrlevXhzdQiwWl5eXSyQSAJDJZGlpaQKBYODAgaq38HNubrKPT8mIERz1UB9oa8Ii4wen7ursISo1NbW6utrV1VUkEqnewqrjx4fExBSoo0WDo60JqwVm7uxQCw2eg3l5ebm5uVZWVr179+aoh/pAWxMW1zN3RExKSoLnwtIgnichIQEAPD09eTweN33UC9qUsGpqaq5du8bj8YYMGcLRLe7cuVNSUtK9e3fioaWBjl+S2LI2Jay0tDSpVOrk5GRtbc3RLdhKKigoyMnJadeunbOzs2YttGHalLBa4P+MvTggrwcPHixQuX6TUqlMTU0FAO7GVD2hTQmrBZ4y7MWBBrfLyMgoKytzcHDo2LEjRz3UE9qUsOqMWIi4bNmy+Ph4XbUvk8lu3rwpEAgGDRpU/3ZN8/Dhw+3btwcFBZmbm7f54QqgDQWs1tTUeHt7C4XCv/76ixzZv38/AJibm588eVInt4iLiwOA/v37I6JSqSQzuabDKzIzMzds2DB48GDmB58yZcqzZ8900h99pu0ICxE/++wzAOjYsSPxxJLL5e+88w4ACASCvXv3at/+tm3bAGDJkiWISNwZunfv3uCZ6enpmzZt8vLyYvRkZmY2ZcqUsLCwl0FV2MaE1aBP+qZNm0BHwfJz5swBgH379iFiWFgYAMyYMYN9AglOJG6GBCsrq4CAgLCwsPLyci3vbli0KWEhYk1NzaJFi+CfPum7du0i3p7vvfeeNsHyDg4OAHDz5k1EfO+99wBg8+bNJDjx448/fvXVVxk92drakmAyrp0N9RY9E1ZUFL79Ni5ahJcuadxGgz7pJ06cMDMzA+2C5ffu3bt06VISg0/m7/7+/qoHJ75U6JOwoqNxxgwsLcWCAhw9GhMStGmsvk/65cuXdRUsTyZbDA4ODqtXr46Pj1caeDCgDtEnYb35Jl6/Xvv63DlctkzL9ur7pKelpXXv3h0AXF1dNQ6WT509+5lAUAyQz+PteuON2NhYqqf66JOwxo+vDd1ExGvXdBLBcv78eRKnOmbMmLKyMtQ+WF4uR4AX/4YO1b6TbRJ92iDt2xeYMhA3b4I6BrjG8PPzu3DhQseOHc+fP+/n51dQUGBvbx8bG+vh4ZGTk+Pt7U1iplVBKpWePHmSJPhTAixv3x4Aqqurte9k26S1lc0iJwe9vPDAAdyzB728XsSba012djZxfnJ0dCTZiyQSyaRJk2xtbZnd1MYoLCz84YcfJk+eLBQKAUAAkM0asZKEwgwm4QKFhd4Ia+lS3LoVnz7FiAg8dQp1vevz5MmTAQMGAEDnzp2vXbuGiNXV1XVSrrFhEmuRWRo8T6wVFBQkAMgzM1PY2983Nx8IYG1tHRsbq9vetgH0Q1h5eQiAVlZINplmz8b/+z8sKNDtTcrLy8eNGwcAIpHojz/+aPCchw8fhoaGjhkzhkmZLBAIvLy8QkND8/LyEHHt2rUA8MknnyCiTCabOXMmAAiFwt9++023vTV09ENYx48jAI4bh4gokaCRERobo1Sq8/tUVVWR3XOhUHjs2DHm+L1790JDQ728vBivTlNT0ylTpuzZs4edWAsRx44dCwAnTpwgb3VuNWoz6IewPv4YAXDdOkTEy5cRAAcP5uhWSqVy5cqVRApr164NCQlxc3NjZpwikWjWrFk///wzWULWv5YYnnNzc9nH161bBwDDunWr+vprjrptcOiHsEaNQgAkPgibNyMAvvcepzf86quveDwe42iqokUvM/NvR0eXHj161P/o+927Za++igC4bBlykWLZ0NADYSkUaGmJAEiyg/r7I0ALZB4jNpmxY8eeOXNGRYvewYMIgLNnN3LyiRNoZoYAOH06ap1iWS6Xx8TEBAcHv/POO99++63B2bD1QFhpaQiAvXrVvu3eHQHw9u1mrlIocNcunDsXly3DrCwNbkt8OO/fv6/6Je++iwDY1OPu8mVs3x4B0NcXNbIaMflRu3TpQkZTsozw8PDIz8/XoMHWQg+E9f33CIBz5iDWWx42wdq1+OWXWFWFGRk4YIC6/4vZ2dkA0LFjR7WuGjQIATAmpsmT0tNr/zZcXVF1q1Fl5YWoqKCgIHYYiKOj40cffRQeHk424RwcHOqkENdnWl9Yf3/6qdLSErduRfzn8rBp3NyQyfT/+ef4889q3fTIkSMAMHXqVNUvqaxEExMUCFTYYsvJwT59EAAdHF4YqRpEKsXISAwMREvLlT4+RE8ODg4k3y5jgnz69CkJ4e/cubO6eVNbi6YKXMXExLi7u1tZWam7m68W46Oj0yWShKFDBwFk3r37irOz0NOz+agXpRKY2JgOHaC4uPY1IqgQCKpBJH5qKlRXg7s7NB9Mb28PcXHw+utgZgYdO8Ldu3DqFJiYwLRp0K0bAEBpKZw8CcePw9mzUFlJLppvbW27YcOMGTOIKZNNp06dYmJiZs6cefbs2ZEjR4aHh5MNOb2mMcXFxcWZmZnpMmV+Q1RUVBgZGRkbG0ulUkQcNWoUAKjkoj58+Isd1MWL8fJlRMSNG1WcOJPE2ufOnVO9q9u2IQAuWaLyBRIJSiSYlIS+vvjnn3jmDA4ZgllZOGECmpjUGoX4fBw+HLduxZycZttjNuFMTEx+VnOEbnkaFVZubm7//v0BoGvXrsRnkgtiYmIAYNCgQYioUCiIJwK7eESjREfj+PF49Ch+/jn6+6NSifn5aGWFADh6NDbpV85kgS8pKVG9q3PmIAB+/73qVyAi4vz5mJhY+/roUVy3DgcPRoEAvbwwNFSNSRgiIiqVylWrVgEAj8fbSiYP+kpTc6zi4uIRI0YAgLW19ZUrV7i4/ddffw0A7777LiKmpaUBQC9medgsDx/ir79iTMyLXPuqTZxJ8gVnZ2e1utqrFwJgWppaFyH6+LwYWRMTccECvH5dS2tVaGgosRB8/PHHOnQFy8rKkkqluqpz1szkXSaT+fv7A4C5uXlUVJRObsmGNB4WFoaI33//PQDMIctDtUhIQH9/lEgQWRNne/vG9ix27twJAAsWLFClbaUSybgWFYXr1qFEguxhrvkhb948ZJI3HztWa13QmrCwMGIdDwoKqqmp0aap7Oxsxpw1c+bMN954Q6oLY1rzq0K5XL506VLgxhxG/Dlv376NiEuWLAGAbdu2qdeEQoHOzgiAHh5IdnqKinD4cARAGxuMi6t/RWBgIADs3r1blealUuTxkEzGwsNx40YcMODFp+zXDRMXh2PH4s2bGB+Pnp6ozrZZ0/zxxx+k5OLrr79eoX4VguTk5M8++4y9ULC0tCRhAb6+vtrXOVN1u4EEUYl9fFB3FUfz8vIAwMrKigy/ZEp39epVtRvKzsbevWuX92SnRyLBiRMRQGlnF1dvhk5+zRSmRlKTSKXo4YHe3lhZqZGwEPHaNQwJwQ0bUEcVDBjEYrGdnR0AeHp6FqjweFUoFMnJySEhIeyMqTY2NiQARCaTpaenv/LKKwDg6ur6qOmNkuZQYx8r9ccfkc9HAAwO1ok57Pjx4wAwduxYqVRaZ3moNk+e4MCBCICdO9fWAayuVixYsH7IEGNj40OHDjEnlpSUkCzwqgTSyGRYWop+fvjDDxgSUissd3dcvrz2n7u7Jp3VIbdu3erRoweZMj548KDBc5jdfJJ6idChQ4cGA4ru379P4iLt7e1vN2v/aBw1N0hPnEBTU52Yw+RyeVRU1MSJE21sbP71r3/5+voyy0MNKS/HceMQAEUi/OMPbCQO7OzZswDg5eXVREuVlbXblu3b44ED6OeHSiX6+eGWLbUj1qNHtf9UGrE4Ji8v77XXXgOALl26XGeiUVh66ty5M6OnHj16BAcHnzt3jj0zy8vLy2HtdxQXF5MYbhsbG00eIIioyc77pUu15rBRozQwh1VWVkZERAQFBdnY2DDflswVXF1dtU2yIJPhrFkIgELh3chIcmz79u3sOLAvvvgCAFasWFH/6mfP8MgR9PdHc/MX0RLBwejnh4h44wZ27qzRo5B7SkpKRo4cSdbv58+fb6KIOnsV+eDBA8arMSgoiN1gRUXF5MmTAcDCwuLUqVMadEkjk05aGnbrhgDo5qbqTkx5ueLXX+fOmcMu8d2vX79169Zdu3YtOzubhBEzPumao1TiypXpI0eyd3p+++03Utp5/vz5kyZNAgC2l19hYeHRo39NnoxCYa2YeDz09MTNmzErCysrcf782jPXrMHdu/GNN17cjf26damsrJw+fToAsNPsuru7r1+/Pj09nX1mZmbmxo0b2XlKTE1N6wgLEeVyOVlOGRkZfa/29p3GtsJ799DJCQGaKdlYUoK//IKBgSgSIYB3//7wvLZbnRiE+j7p2rBxwway07Nu3TryN3rhwgWy+0rqoOTk5LC92u3tx5FtcC8v3LRJM2+J1kcul/fu3VskEtnb29cvoq5BnhL2XELdzBdaGKGLinD0aIyJwYoKXLMGZ87ERYtqFz75+bh3b33bReqePTmN2y5U8UlXHWanZ8GCBWQ+kZSUZGtrS4Z3b2/vOuWi9++v/KcTskFCnG3YBfS0z1OyY8cODeqc6cK7Yd48JE+WzEwcOBCjo1EgqNWTQICjR+OuXfhPX97GaMwnXTNOnjxpbm5OdnrIYpOdt8PU1HTq1KkHDhwoZop+Gzj3798HAFtbW2Yi9c033zDf187ObsmSJWfOnNEgr0R4eDiZS/j7+8tkMlUu0VpYCgX27//i7fvv46lTaGlZawt78kTd9tg+6d99952WvROLxR06dAAAv8GD79jYELnnGhuHb93a9vJUHTt2DAAmTZrEHElPT9dVnpKLFy+SucTo0aNV+em0FlZFBXp4vHi7bh2Gh2vvmKtDc9hff/3Vo0ePN42N/xEar3FlVD2G/EGuX7+efVCHxsSbN2+S1DqDBg36u7l5g9Yh9ubmUFMD5eW1b1NSwNUVTE21bPWDDz44cOCAsbHx5s2bFy5cKJfLNW5KqVT6+/tbWFgAwHmAI0ZGAKBNg3pLgzlRdVimwM3N7cqVK05OTikpKcOGDbt7925TZ+tAySdO4MSJuGcPLl2KK1fqoMHnREZGkknS1KlT1dqRVygUV69eXbFihb29PfmaY/4ZGr+zd+829iisqamxsLDg8XiFuktN0CBPnz4lcShNr9915Jr85AmePYvN5UHQAGaSpIo5rAnbha+v7xiA/B49pC4ux83NhdplMtJDSPp4JyenFrhXeXm5n5+fSCT6/fffGzun9X3em4VMkgDAxcXl4cOH9U9QxXZBzK7EYZzJZGRvb69JJiO9ZPfu3QAwn9nM5ZiIiAgA8PHxaewEAxAWIubl5bm7uwNA165db9y4QQ5WVlaqaLu4efMmj8djG56LioqGDx8OALa2tnENudYYHG+//TYA/Pe//+XuFgkJCcz84d///jcAfPTRR42dbBjCQsSSkhJvb28AsLa2DgkJmTlzJpl+ERq0XdTJyODo6Mj+lGQyAgALC4vTp0+37LfRPS4uLgCQyLhB6xqZTGZiYmJsbCyRSBBx/PjxANBEKhSDERYiSqXSadOmAQBJVQXPrUN1bBc3b96sk5FBKOwjEtnOmjW7ToNMimUjI6P9+/e34FfRMWVlZXw+XygUqrh7qQGkwIebmxsiKpVKYsNowmfLkISFiKWlpXw+XyAQbNmypc58i9gu2IW4GNvFhAk1ANjgTn6DrjUGx/nz5wFgKJd5K0NDQwFg8eLFiHjnzh0A6NKlSxPnG5iwLl68CAAerC3Zq1evLl++vGfPnoyeiO0iOjqaycjQsSMCNOUVXMe1hutvoXO++uor0nnubjF37lwAIL7pP/30EwBMnz69ifMNTFgbN24EgPfff585QtyGoPEc69nZCIDNBtOzXWsMLks7mSEwBRO4wNHREQDIymnZsmUAsGnTpibONzBhEZejn376iTkSHh6+atWquLi4xmwXR44gAKoSTM+41vj5+TWYH0tvIZaWLM7cfQoLC3k8noWFBdm7IdXLLl682MQlBiYssvN5584d1S9ZvhwB8KuvVDo5OTmZZKEZPHhws+YwPeHBgwfwT6cGnXPq1Clm10omkwmFQj6f37TpQp/ScTfH48ePc3NzbWxs2N4vzSIWAwComKVh0KBBCQkJvXv3Tk5OHjZsWFZWlkY9bVEYEyF31cvZVsjr169XVVW5uLiQ0b0xWk5Yjx8/VigU5DXxHFIXJpOH6r9gTQ1cvw48HrAccZuhV69ef/7554ABA+7duzdy5MiCggINutqS1C/0KpPJdHuL+gWLmy3/2XLCWrp0KfOfNGPGDA1a0KDk840bUFkJffuCWilzOnfu/Oeffzo7O3fo0CE3N1fdfrYwdX6WmpqaadOmLVq0SFceHIiYnJzM3ELvhFWfiooKtf621Mo9JJFAfj706QMnT8Lq1VBTo17fRCKRUChMS0t7+PChele2OFOnTm3fvv2lS5fI25SUlNjY2B9++GH27Nk6GbqysrKKioq6dOlCwtZV/fPmaLpXn4kTJwYEBAQGBgYGBr7yyiuffvqpQCDo379/E1n82cjlcpFIxOPxVAn5RcRDh7BTJywqQkScPx/Vme4jIpLZlaWlpcY16FqMY8eOkU24FStWkPl7fHw82Rn38fHRPlievWtVVFTE4/HMzc2bTRjRosK6d+9eRUVFRUVF3759mYoPIpGIHancGDdu3IB69r4mOHQIZ83CpUsRNRLWl19+CQBvvfWWepe1EoxP+rx588i2cEZGBgmW79evn5bB8uxdq9OnTwPAyJEjm72qRR+FZmZm5ubm5ubmeXl5Nc8fThKJZP78+YsXL658ntuuQTSYYI0cCWVlEBenSVd/+eUXAAgICNDk4hZnxowZp0+ftrS0PHz48MSJE8vKylxcXBISEtzc3DIyMkaMGJGZmalx4xrM3AFa8FG4YsWKoqIifB7kXh83N7cmHovEWrx9+/am7yKX42+/4ezZePAg7tyJjx/jyJE4d656IxYpJG5lZcWdTZcLGJ90ZhNOJ8HyT548+f3334lTw4QJE6BJpwaGVtggTUhIaEzlIpGIvavOxtXVFQDi4+Mba7asDENDa9OjAeAHH+DOnYiIW7di+/bqCWv9+vWgcgItveLevXtMimWyjax9sDyDKk4NDK0gLKVSuWfPnn79+jUmr0WLFtXxcC8vLxcIBCYmJg1OpfPyMCQEra1rJeXggKGhePw4/vILImJNDU6ejNeu4X/+01TMNhsiYgN10mL7pJNUTVoGyzOo4tTA0JomndjY2ICAAKbOFhtnZ+c0VlZGspYeMmRInRYSE0tnzUIjo1pJ+fri7783kGFJqazNcbR6dfO9unXrFgBYW1sbbgH68vJy8swSiURnz55F7YLlEVGhUFy5coX4RU6bNk2VS1rfVpidnf3hhx+y3YsJFhYWBw8eJOeQtG/LnleJVigUkZGRY8aMsbcfx+ejsTEGBGDjD0lExIsXa3N+fPttM/0h/wGLFi3SwXdrPaqqqoiji4mJydGjR8lBxjvo22Z/BURsKDhl2rRpKmY6bn1hEcrLyxt8PgYGBkokEsap4dmzZ1u3bmWCumxsbDZufKJa+D4ePYp8PvJ4+FyuDUN8fM+cOaOT79WKKJXK1atXk1Fqy5Yt5GB4eLizszOpvdgYMpns1KlTCxcuJPFRBHt7+xUrVojFYhXvri/CYiDPR4HgRQmBvn37Eo+DJUuWMBVBHB0dQ0NDyVJFdXbuRAA0NsazZxs+gWRuNujnYB1CQ0MZH0ayfdqYt5nqwSmqoHfCImRmZr7//vvsZFoMo0ePPnnypMZ+nitXIgC2a4cNlg4hwSdL1CgTYAAcPHiQbEe/9dZb9VVVUVFB9MT+tUkwQTKT71l99FRYhGfPnoWGhvbo0UMkEvH5/ICAANWH4sZQKvHNN0lir3v1cyoRl3ntkyjpG+fOnSO6mTJlCkmxXFxcHBYWFhAQwA52InrSJvUog14Li0B2jXv27KmrBquqcP78jI4dOzs5ObEtj8Rq1KFDBy0zp+snCQkJZM7Up08fX19fdtFrHx+f7du3NxgMrDEGICypVAoAQqFQhx6SZWVlpJ7WkCFDmPxjpJD4O++8o0oL+fn5kZGR+/fv37FjB/Mnvnr1ag1SrrcYWVlZjo6OZIVUp4i6zjEAYSEimbOr6NegIvn5+WSTetKkSWSIImnvzp8/3+D5NTU1qampu3btCgwMZLuwEqscOcfHx0fPc43k5eVlZWW1QLq5psrK6Q9du3YtKSnJzc1lL4C1xM7OLjo62svL6/Tp0wsWLFi5cuXt27ft7Ox8ntcNBID8/HyxWBwfHx8fH5+UlFRRUVG/ncLCwszMTDI7lkgkuuoeR5BckiTkhlMMQ1jdunXLyMhgMjjoCkdHx6ioqFGjRh0+fJh4S/v7+2dmZqakpFy9evXKlSvEKN50I1KpNCEh4fHjxwBQzJRNpHA6HuqKBQsWAMC+ffu4aDw6OppxDjNVP2Ucn89n0oro/6OwxTCMKB1iUiC1d3TOhAkTli1bRvJBaODLa2RkVFVVxUG/DBvDeBQSNyOOhFVdXR0VFUWMa97e3mVlZexPKyoqqqurmbeIWFpayj5h7NixJIATAHbv3k1yUlIMSVgcBcxs2bLl7t27Li4uBw8ebNDVQnXYKUlecl72R+HTp083b94MANu2bdNSVRQ2hiEs7kasjz76qKysbMaMGQZQF96g4GFzy2l9QKFQCIVCRJTJZMwKTnsSEhKGDx9uYmKSnp6uVtg+pVkMY8QSCASdOnVSKpVPnz7VVZuIuHz5ckRctWoVVZXOMQxhAQdPw7CwMLFY3K1bt08++URXbVIYDEZYup2/SySSNWvWAMCmTZvYBf4ousLAhKWrEevLL7/My8sbOnTovPqrxb4AAAH5SURBVHnzdNIgpQ4GIywd7pGSNN18Pn/79u3c5ZR6yXkZhbVixYqqqqqgoCAVE9dQNMBghKWrR+GFCxciIiLatWtHMg1TOMJghEVGLLFYvGbNmoiIiCdPnmjQiFwu//DDDwFg7dq1xDOJwhGGsUEKAFVVVREREbNnz2aOdOnSZdBzvL29rVRI2rdjx44PPvjA0dExIyODKW9B4QKDERYASCSSixcvJiYmisXipKSkZ8+eMR8ZGRn169dv6NChHh4enp6ezs7OTC1xhuLiYicnp6KiooiIiKlTp7Zs3186DElYdbh3796VK1dSUlJSUlKSk5PZTlEikcjd3Z0ZzHr16gUA77777u7du/38/EiBEAqnGLCw2FRWVqamppLBTCwW18nK/Morr/Tt2/fixYs8Hu/atWskmQyFU9qIsOrw7NmzpKQkMp4lJCQUFhYCgLe396BBg7Zt29bavXspaJvCYoOImZmZiYmJvr6+pFIrpQVo+8KitAoGs49FMSyosCicQIVF4QQqLAonUGFROIEKi8IJVFgUTqDConACFRaFE6iwKJxAhUXhBCosCidQYVE4gQqLwglUWBROoMKicAIVFoUTqLAonECFReEEKiwKJ1BhUTiBCovCCVRYFE6gwqJwAhUWhROosCicQIVF4QQqLAonUGFROOH/AX6NL9y233f8AAACd3pUWHRyZGtpdFBLTCByZGtpdCAyMDIxLjAzLjEAAHice79v7T0GIOABYkYGCFAGYjUgbmBkY0gAiTNzMGgAaWYmNgjNgs6H0w4wOgNEMzMiMSAynAwKIBMxxBEmgmxkYsJnEm4GTLOCCohmgfNRxBlZ2CGWMaN7h50BbBATI7pGDkg4MDKCFTLAaW5gmDEyKTAxazAxsSiwsGowsbIpsLFnMLFzJHBwZjBxcjFwcidw82Qw8fAq8PIx8PEz8AtkMAkIJggKZTAJCScIi2QwsYoyiIoxiIkziEswSEgySEoxSEkrSMtoMEnLKsjKMcjJM8grMEiyMPCwJYjwJ0gBlSqyMEoqsTCKsLCxSEqJibKysXNwcvOwsQkICgmL8LOKi0lJSojDYpNB+WfqiQP7pfjtQZyvR5ccyKx/sg/Efmecd2CDRKUNiP1TOupA+ca9YDXPPqsdECyr3Q9iXzGfvv9XIDuYfZ0/bv9EnQKwmt/tf/c3Hf4BZgtFXN2f4hjlAGJfdCjdl3WqHMx+VjPDlu3qKjD71fp4+7PF5mC2ZAC/fYjGZrBeGY1r9llvTtqB2Fw5bg4+UtFgcc5rbQ5zGSTB7mRv2uLw4Ph8sBpupRsOzWWGYPcIiJ1zcLHlOgB2Q9YCB89j6mC27JRKh8j758BqvGq695qHHQGzU+fz7Lc/YAtWU9yzbD9/ZgeYfUfV8IDWrhow+xa39QF1W1kwe/6UY/tbFr0B692WMm//z57DYPckF4kd+D5ZHuxO3ignu6tvFtmC2CHfGOyF3x0Fiytpf7fnb2AA+7d1Lb/Dpvg4MHtFSKG94y1jsPl3+doP9NneApsvBgA0+qVejA/+7AAAAlV6VFh0TU9MIHJka2l0IDIwMjEuMDMuMQAAeJydVUuuFDEM3PcpcgEi/+LYawaEhHhILLgDe+4vnE469JNAmvGoNSpPOjXliu0cZXx+PL7++l32hx7HUbgVtlLgn4+7l58EAEe8/kErKcnYCbU1h4liFcrH8j+K+3OytIriNBBUEeUby/fnWbh2Ql97sVFOC1cBO/PAKkaQ00JVwXRm5A6Y04IVDWWyNDr5EixQTfs6I2dL+oLVDfr0xSVKJMmiqjb2hs8ISS1Qib1NFuvYUyxjR5eTpVVmu2f0+RUW63xmROGzSlZLdI9Nd9k9mVG423nVGrvctTxfu+EpAqwetJCV0yKVkFcHRHcnfWlVBZYCRsr1UdHam6z5os65qgsWkbNio7tRY28yI0DyNSMIc3006n5Wyego1HQfgRpOlsacO+kxm8R5ZuQqSZao+zBmIBl3iuVYqHbtPue4iyW1RB5EOpE0TWfU2pzeWE3s3tNvr7AQ93UHsGE6I26wFChxcjJEJ5tfJ9NdUxmNWQe8Zl17f9u/NOucEebcBei5eom9JA1mR0kXzfriQn36bO9vtS/Pn1HUPYHOM+8wVb3KEs1M5/cIAvEOAsn50wraXgmkeyVQ3yuB7Nw2gkC+Ay/D+xkEQrz2jID2ChXkHXAZ3bBek4JbQSDUHWgZF/ra0wtuBYFwKwhEW0GgcTXIlQJtDwLR9iAQbQWBaCsIRFtBINoeBBqzaAVWxuimK2C4VgLx9iAQbwWBmG/Uf40f1uxMQ//wQPaf3lXzVI0nAbcVfCvl09vj+AN+AtIdUGjw2wAAAap6VFh0U01JTEVTIHJka2l0IDIwMjEuMDMuMQAAeJwlUUuq5EAMu8osE0gK/12meTAQGN7q9QGaXuUa7/AjV5NFUopkS6rX9/t1/X2zXFe/t9f3e98uPF/P/XntX9d2633f27/9vvV5rQO+9ov3H1msn+t6/vndaJRJ1DxOGZNJjsdJw62UsqEKmwGMhxJzHKcNCZlNk5GRZcepGDEXC3yRaJ15LAR0IQfEI8kXJWgGVFhcRFOB6UjhkoMGsQtpLMwoKw4eNhn2HqcPtmoLNMzgoadFuzGH0h3TZDnlyVpNc5DKV6IZaVLglU6ei1aTkjG/TC0XEhHpBzajB1sy0XJqaCYnrMJhmnkePlTbASanZs4D7UWYNQIrk9u5VgUmY3AqY7diVVeng4nUgEz3CQZaYg1tz8hoED98hBH+QcVCCVWMdPvkj1Jhb8iMuLpw9qpqGbEgc/csbLOXzWWj83GA3LkocNewAtAR5FOIOxs3NA1xFySaaBcCtFb6uT91QhUwIaouHZhnZbVV3Jhj3iqBNL1Qgls0gp7RgQyi7ApkiBk0KBsb6th//wODKpQ5cRK68wAAAABJRU5ErkJggg==\" alt=\"Mol\"/></td>\n",
       "      <td>81066021</td>\n",
       "      <td>3.42108</td>\n",
       "      <td>0</td>\n",
       "    </tr>\n",
       "    <tr>\n",
       "      <th>160773</th>\n",
       "      <td>CCCNC(=O)N1[C@H]2CC[C@@H]1C(C(=O)OC)=C(c1ccc(C...</td>\n",
       "      <td>81066064</td>\n",
       "      <td>26</td>\n",
       "      <td>Yes</td>\n",
       "      <td><img data-content=\"rdkit/molecule\" src=\"data:image/png;base64,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\" alt=\"Mol\"/></td>\n",
       "      <td>81066064</td>\n",
       "      <td>4.58008</td>\n",
       "      <td>0</td>\n",
       "    </tr>\n",
       "    <tr>\n",
       "      <th>161326</th>\n",
       "      <td>COc1ccc(-c2sc3ccc(OC)cc3c2C#Cc2ccccn2)cc1</td>\n",
       "      <td>85146639</td>\n",
       "      <td>161</td>\n",
       "      <td>Yes</td>\n",
       "      <td><img data-content=\"rdkit/molecule\" src=\"data:image/png;base64,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\" alt=\"Mol\"/></td>\n",
       "      <td>85146639</td>\n",
       "      <td>13.48678</td>\n",
       "      <td>0</td>\n",
       "    </tr>\n",
       "    <tr>\n",
       "      <th>161420</th>\n",
       "      <td>COc1ccc(-c2c(-c3cc(OC)cc(OC)c3)n(C)c3ccc(-c4cc...</td>\n",
       "      <td>85146792</td>\n",
       "      <td>216</td>\n",
       "      <td>Yes</td>\n",
       "      <td><img data-content=\"rdkit/molecule\" src=\"data:image/png;base64,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\" alt=\"Mol\"/></td>\n",
       "      <td>85146792</td>\n",
       "      <td>12.32278</td>\n",
       "      <td>0</td>\n",
       "    </tr>\n",
       "    <tr>\n",
       "      <th>161480</th>\n",
       "      <td>Nc1nc2ccccc2s1</td>\n",
       "      <td>85146932</td>\n",
       "      <td>22</td>\n",
       "      <td>Yes</td>\n",
       "      <td><img data-content=\"rdkit/molecule\" src=\"data:image/png;base64,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\" alt=\"Mol\"/></td>\n",
       "      <td>85146932</td>\n",
       "      <td>13.01588</td>\n",
       "      <td>0</td>\n",
       "    </tr>\n",
       "  </tbody>\n",
       "</table>\n",
       "<p>497 rows × 8 columns</p>\n",
       "</div>"
      ],
      "text/plain": [
       "                                                   SMILES      Name  Cluster  \\\n",
       "532                              Cc1cc(C)n(CCOc2nonc2N)n1    843682        1   \n",
       "858         CCOc1ccc2nc(NCCNC(=O)Nc3cccc(C)c3)c(C#N)cc2c1    844649      135   \n",
       "1247          COCCN(CC(=O)NCc1ccccc1)C(=O)CCC(=O)Nc1nccs1    845840      139   \n",
       "1754                                Nc1nnc(CSCc2ccccc2)s1    847274      260   \n",
       "1884     CC1CN(C(=O)c2cccc(C(=O)N3CC(C)OC(C)C3)c2)CC(C)O1    847640      415   \n",
       "...                                                   ...       ...      ...   \n",
       "160765  COC(=O)C1=C(c2ccc(F)cc2OCc2ccccc2)C[C@@H]2CC[C...  81066021      301   \n",
       "160773  CCCNC(=O)N1[C@H]2CC[C@@H]1C(C(=O)OC)=C(c1ccc(C...  81066064       26   \n",
       "161326          COc1ccc(-c2sc3ccc(OC)cc3c2C#Cc2ccccn2)cc1  85146639      161   \n",
       "161420  COc1ccc(-c2c(-c3cc(OC)cc(OC)c3)n(C)c3ccc(-c4cc...  85146792      216   \n",
       "161480                                     Nc1nc2ccccc2s1  85146932       22   \n",
       "\n",
       "       Center                                                Mol  \\\n",
       "532       Yes  <img data-content=\"rdkit/molecule\" src=\"data:i...   \n",
       "858       Yes  <img data-content=\"rdkit/molecule\" src=\"data:i...   \n",
       "1247      Yes  <img data-content=\"rdkit/molecule\" src=\"data:i...   \n",
       "1754      Yes  <img data-content=\"rdkit/molecule\" src=\"data:i...   \n",
       "1884      Yes  <img data-content=\"rdkit/molecule\" src=\"data:i...   \n",
       "...       ...                                                ...   \n",
       "160765    Yes  <img data-content=\"rdkit/molecule\" src=\"data:i...   \n",
       "160773    Yes  <img data-content=\"rdkit/molecule\" src=\"data:i...   \n",
       "161326    Yes  <img data-content=\"rdkit/molecule\" src=\"data:i...   \n",
       "161420    Yes  <img data-content=\"rdkit/molecule\" src=\"data:i...   \n",
       "161480    Yes  <img data-content=\"rdkit/molecule\" src=\"data:i...   \n",
       "\n",
       "        PubChem Substance ID  hERG inhibition (%) at 10uM  class  \n",
       "532                   843682                      3.25098      0  \n",
       "858                   844649                      0.53658      0  \n",
       "1247                  845840                      6.81258      0  \n",
       "1754                  847274                      1.45598      0  \n",
       "1884                  847640                     19.10738      0  \n",
       "...                      ...                          ...    ...  \n",
       "160765              81066021                      3.42108      0  \n",
       "160773              81066064                      4.58008      0  \n",
       "161326              85146639                     13.48678      0  \n",
       "161420              85146792                     12.32278      0  \n",
       "161480              85146932                     13.01588      0  \n",
       "\n",
       "[497 rows x 8 columns]"
      ]
     },
     "execution_count": 37,
     "metadata": {},
     "output_type": "execute_result"
    }
   ],
   "source": [
    "df_clust.loc[df_clust['Center'] == 'Yes'].head(497)"
   ]
  },
  {
   "cell_type": "code",
   "execution_count": 38,
   "metadata": {},
   "outputs": [
    {
     "data": {
      "text/plain": [
       "0"
      ]
     },
     "execution_count": 38,
     "metadata": {},
     "output_type": "execute_result"
    }
   ],
   "source": [
    "df_centres = df_clust.loc[df_clust['Center'] == 'Yes']\n",
    "df_centres[\"class\"].sum()"
   ]
  },
  {
   "cell_type": "markdown",
   "metadata": {},
   "source": [
    "Проверим, что нумерация с df_mol точно совпадает и мы правильно проставили класс активности:"
   ]
  },
  {
   "cell_type": "code",
   "execution_count": 39,
   "metadata": {},
   "outputs": [
    {
     "data": {
      "text/html": [
       "<div>\n",
       "<style scoped>\n",
       "    .dataframe tbody tr th:only-of-type {\n",
       "        vertical-align: middle;\n",
       "    }\n",
       "\n",
       "    .dataframe tbody tr th {\n",
       "        vertical-align: top;\n",
       "    }\n",
       "\n",
       "    .dataframe thead th {\n",
       "        text-align: right;\n",
       "    }\n",
       "</style>\n",
       "<table border=\"1\" class=\"dataframe\">\n",
       "  <thead>\n",
       "    <tr style=\"text-align: right;\">\n",
       "      <th></th>\n",
       "      <th>SMILES</th>\n",
       "      <th>PubChem Substance ID</th>\n",
       "      <th>hERG inhibition (%) at 1uM</th>\n",
       "      <th>hERG inhibition (%) at 10uM</th>\n",
       "      <th>class</th>\n",
       "      <th>ROMol</th>\n",
       "      <th>p_activity</th>\n",
       "      <th>MW</th>\n",
       "    </tr>\n",
       "  </thead>\n",
       "  <tbody>\n",
       "    <tr>\n",
       "      <th>532</th>\n",
       "      <td>CC1=CC(=NN1CCOC2=NON=C2N)C</td>\n",
       "      <td>843682</td>\n",
       "      <td>5.6865</td>\n",
       "      <td>3.25098</td>\n",
       "      <td>0</td>\n",
       "      <td><img data-content=\"rdkit/molecule\" src=\"data:image/png;base64,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\" alt=\"Mol\"/></td>\n",
       "      <td>8.487986</td>\n",
       "      <td>223.236</td>\n",
       "    </tr>\n",
       "  </tbody>\n",
       "</table>\n",
       "</div>"
      ],
      "text/plain": [
       "                         SMILES  PubChem Substance ID  \\\n",
       "532  CC1=CC(=NN1CCOC2=NON=C2N)C                843682   \n",
       "\n",
       "     hERG inhibition (%) at 1uM  hERG inhibition (%) at 10uM  class  \\\n",
       "532                      5.6865                      3.25098      0   \n",
       "\n",
       "                                                 ROMol  p_activity       MW  \n",
       "532  <img data-content=\"rdkit/molecule\" src=\"data:i...    8.487986  223.236  "
      ]
     },
     "execution_count": 39,
     "metadata": {},
     "output_type": "execute_result"
    }
   ],
   "source": [
    "df_mol.loc[df_mol['PubChem Substance ID'] == 843682]"
   ]
  },
  {
   "cell_type": "markdown",
   "metadata": {},
   "source": [
    "Проверим что у нас около 500 центров кластеризации:"
   ]
  },
  {
   "cell_type": "code",
   "execution_count": 40,
   "metadata": {},
   "outputs": [
    {
     "data": {
      "text/plain": [
       "No     161507\n",
       "Yes       500\n",
       "Name: Center, dtype: int64"
      ]
     },
     "execution_count": 40,
     "metadata": {},
     "output_type": "execute_result"
    }
   ],
   "source": [
    "df_clust[\"Center\"].value_counts()"
   ]
  },
  {
   "cell_type": "markdown",
   "metadata": {},
   "source": [
    "Построим гистограмму рапределения соединений по кластерам:"
   ]
  },
  {
   "cell_type": "code",
   "execution_count": 41,
   "metadata": {},
   "outputs": [
    {
     "data": {
      "image/png": "[encoded data removed]",
      "text/plain": [
       "<Figure size 1080x1080 with 1 Axes>"
      ]
     },
     "metadata": {
      "needs_background": "light"
     },
     "output_type": "display_data"
    }
   ],
   "source": [
    "ax = df_clust.hist(\"Cluster\",bins= 200,figsize=(15,15))"
   ]
  },
  {
   "cell_type": "code",
   "execution_count": 122,
   "metadata": {},
   "outputs": [],
   "source": [
    "#p = ax.patches\n",
    "#p[230].get_xy()"
   ]
  },
  {
   "cell_type": "code",
   "execution_count": 42,
   "metadata": {},
   "outputs": [
    {
     "data": {
      "text/plain": [
       "430    5813\n",
       "417    4705\n",
       "360    3243\n",
       "127    3153\n",
       "90     3133\n",
       "       ... \n",
       "304       1\n",
       "126       1\n",
       "339       1\n",
       "211       1\n",
       "411       1\n",
       "Name: Cluster, Length: 500, dtype: int64"
      ]
     },
     "execution_count": 42,
     "metadata": {},
     "output_type": "execute_result"
    }
   ],
   "source": [
    "df_clust['Cluster'].value_counts()"
   ]
  },
  {
   "cell_type": "markdown",
   "metadata": {},
   "source": [
    "Самый большой кластер под номером 430, взглянем на его соединения:"
   ]
  },
  {
   "cell_type": "code",
   "execution_count": 43,
   "metadata": {},
   "outputs": [
    {
     "data": {
      "text/html": [
       "<div>\n",
       "<style scoped>\n",
       "    .dataframe tbody tr th:only-of-type {\n",
       "        vertical-align: middle;\n",
       "    }\n",
       "\n",
       "    .dataframe tbody tr th {\n",
       "        vertical-align: top;\n",
       "    }\n",
       "\n",
       "    .dataframe thead th {\n",
       "        text-align: right;\n",
       "    }\n",
       "</style>\n",
       "<table border=\"1\" class=\"dataframe\">\n",
       "  <thead>\n",
       "    <tr style=\"text-align: right;\">\n",
       "      <th></th>\n",
       "      <th>SMILES</th>\n",
       "      <th>Name</th>\n",
       "      <th>Cluster</th>\n",
       "      <th>Center</th>\n",
       "      <th>Mol</th>\n",
       "      <th>PubChem Substance ID</th>\n",
       "      <th>hERG inhibition (%) at 10uM</th>\n",
       "      <th>class</th>\n",
       "    </tr>\n",
       "  </thead>\n",
       "  <tbody>\n",
       "    <tr>\n",
       "      <th>12</th>\n",
       "      <td>CN1C=CC2=C(C#N)C(N)C(C#N)(C#N)C(c3ccccc3)C2C1</td>\n",
       "      <td>842157</td>\n",
       "      <td>430</td>\n",
       "      <td>No</td>\n",
       "      <td><img data-content=\"rdkit/molecule\" src=\"data:image/png;base64,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\" alt=\"Mol\"/></td>\n",
       "      <td>842157</td>\n",
       "      <td>9.48638</td>\n",
       "      <td>0</td>\n",
       "    </tr>\n",
       "    <tr>\n",
       "      <th>64</th>\n",
       "      <td>CC(Sc1nc2ccccc2o1)C(=O)O</td>\n",
       "      <td>842324</td>\n",
       "      <td>430</td>\n",
       "      <td>No</td>\n",
       "      <td><img data-content=\"rdkit/molecule\" src=\"data:image/png;base64,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\" alt=\"Mol\"/></td>\n",
       "      <td>842324</td>\n",
       "      <td>7.39828</td>\n",
       "      <td>0</td>\n",
       "    </tr>\n",
       "    <tr>\n",
       "      <th>71</th>\n",
       "      <td>O=c1[nH]c(=O)n(CCO)c2nnn(Cc3ccccc3)c12</td>\n",
       "      <td>842335</td>\n",
       "      <td>430</td>\n",
       "      <td>No</td>\n",
       "      <td><img data-content=\"rdkit/molecule\" src=\"data:image/png;base64,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\" alt=\"Mol\"/></td>\n",
       "      <td>842335</td>\n",
       "      <td>12.96588</td>\n",
       "      <td>0</td>\n",
       "    </tr>\n",
       "    <tr>\n",
       "      <th>85</th>\n",
       "      <td>CCCc1[nH]nc2c1C(Cc1ccccc1)C(C#N)=C(N)O2</td>\n",
       "      <td>842368</td>\n",
       "      <td>430</td>\n",
       "      <td>No</td>\n",
       "      <td><img data-content=\"rdkit/molecule\" src=\"data:image/png;base64,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\" alt=\"Mol\"/></td>\n",
       "      <td>842368</td>\n",
       "      <td>0.43208</td>\n",
       "      <td>0</td>\n",
       "    </tr>\n",
       "    <tr>\n",
       "      <th>101</th>\n",
       "      <td>O=C(O)CCCC(=O)N1CC(=O)Nc2ccccc21</td>\n",
       "      <td>842434</td>\n",
       "      <td>430</td>\n",
       "      <td>No</td>\n",
       "      <td><img data-content=\"rdkit/molecule\" src=\"data:image/png;base64,iVBORw0KGgoAAAANSUhEUgAAAMgAAADICAIAAAAiOjnJAAAABmJLR0QA/wD/AP+gvaeTAAAUfUlEQVR4nO2deVBUV9qHf93s0LiACioqiKJGUKNBAWPcgLjgZGIkxk8xpTPVmpoaoqaS1nz1FTOpTGxjkqLGbGhZSGmwhMQkYuJCFg0oahyQQHBEI4oiCCiyQ0P3+f440LQIzXbPbWzfp1Kpvt23z3uxn7Pcc+95r4IxBoKQGqWlD4CwTkgsQggkFiEEEosQAolFCIHEIoRAYhFCILEIIZBYhBBILEIIJBYhBBKLEAKJRQiBxCKEQGIRQiCxCCGQWIQQSCxCCCQWIQQSixACiUUIgcQihEBiEUIgsQghkFiEEEgsQggkFiEEEosQAolFCIHEIoRAYhFCILEIIZBYhBBILEIIJBYhBBKLEAKJRQiBxCKEQGIRQiCxCCGQWIQQSCxCCCQWIQQSixACiUUIgcR6cqmqqiopKRFUOIn1JHL37t21a9eGhIT4+fmFhYVlZmZKH4MRTxIGgyE+Pn7w4MEAnJycnJycACiVypdffjkvL0/CQCTWE0RBQUF4eDhvUBYvXnzz5s2ysjKNRmPUKzIy8sqVK5LEIrGeCPR6fVxcnEqlAjB48OC4uDjTT+/evavRaBwdHY16Xbt2rY8RSSzrJycnJygoiDdUkZGRpaWlHe528+ZNtVpta2sLwM7OTq1W3759u9dBSSxrRqfTabVaBwcHAMOHDz98+HC7HfR6/RtvvHH58mXjOwUFBWq12sbGBoC9vb1arb5z504vQpNYVktGRsbkyZMBKBQKtVpdWVn56D6JiYkdjq7y8vKioqK4Xs7OztHR0SUlJT2KTmJZIbW1tRqNhmvh6+v7008/dban6ejK1tY2KirKdHSVm5sbGRmpUCgAqFQqjUZz//79bh4DiWVtnDp1avz48VyU6Ojo2traLr9ifnSVnZ0dGRnJh2iurq4ajebBgwddlkliWQ8VFRVqtZo3MFOnTv3111979HXzo6v09PQFCxZwvYYMGbJz5876+nozpZFYVsKRI0dGjhzJpz1jYmJ0Ol3vyjEdXbm4uLQbXaWnp8+fP5/PWZgXl8SSjsZGduAAe/dd9vXXzGCQLWxxcfELL7zA25J58+ZdvXq172WaH1199tlnACZPnmymBBJLIvR6tmAB++ADlpbG3nyTrVkjW+STJ0+qVKoBAwbExsbq9XoJS75w4cKiRYu4su7u7hUVFfz9GzduABg9erSZ75JYEnHsGFu7tm0zJIRJdG2kS/hQPS0tTVD5GRkZERERq1atMr5TXl7Oe0Mz37KV+Jr2E0t+PgIC2janTEF+Pvz8ZIjs6uoKgF/vE0FQUFBKSkpDQ0O7iNXV1Wa+JYtYZ8/i0CHodIiIwNKlckSUn8GD8d//tm1WVMDdXZ7Ipj9zc3NzSUmJQqHgA3kJ4XNdHHt7e3t7e51O19jYyKf1H0X8/Vg//YStW7FhA958E3v3Yu9e4REtQlgYUlJw7x4AXL+O3FxMny5PZH5pmYt14cKFUaNGGaedxNFloyW+xfr4Y+zYgaeeAoDPPkNYGP7yF+FB5cfTEx9+iJUrYWcHAAcOoJOqLDn8N66pqUH3Oimpgt67d6+6unrIkCEd7iC+xSosxNixLa89PFBRITyiRfjPf1BWhl27cOwYEhOxfz/eflueyKYyySaWaTPZIeLF8vREcXHL68pKuLoKj2gREhKwejVOngQAnQ4ffSRbp28RsboMJF6sqCi8+y4aGmAwICYGa9cKj2gReIWpqWl7Lf7X5Zg2Hl02JFJh2v92iPgx1sqVqK/HihUAMH8+Nm0SHtEimMrk5AQbG9TXo7kZtsL/hU1/YwcHhy7P1yQMatEW66OPcPUqDh/G0aPw9sbSpYiPFx5UflQqoFUshaJls/MKLSHtfmPeaJlpS0QEfRTxYr33Ht57D1VVAHDzJk6cQE6O8KDy0677M/VMMO26P3mGWf1g8G76Ly7v4ENWTMdYj26KjfzQcEcesbocY4kXy7TuyliP5aZdnZGxCrUzSU6x+kGLZXq6JEs9lpt+I5Y8J4ZdRhF/VvhkdIV6lUoxbJiu9YpakZ+fob5e0dDgJT50h2MseQbv/aYrtF6xbru62pSWTigo4Jua6urRGRmnZLnMQF2hNY+xLPLrmsayyOC9H4hl2mJZ4xjLgmKpVCqFQlFbW2swGMSFPnPmjGlSGsuPse54el5++mlvxnwBvavrR3PnNtjb/5/oqLJjZ2fn4ODQ2NjY0NDg6Ogo26UVAEql0tnZuba2tq6uTqVShYaGKpXKOXPmSFV+XV3dO++888EHH/j5+WVlZfEJfctf0tmnUPxvVta2RYveA5QuLlvT0hhjb+v1fB2INaFSqRobG6urqx0dHeUZQRtxdXWtra2trq5WqVQLFiwwrtPqO8eOHdu4cWNhYaGdnd2KFSv48goApaWlsGxXaNoyKxQKFxcXxlhtba3ouPJjkfuiOCIayIqKig0bNixZsqSwsHDatGnnzp1755137O3tm5ubd+zYERERYWdnt2fPns6+Llysdn+znH2EzFjk9hUA5eXlPNCBAweam5slKTM5OXnixIm7d+92cnLSarUXL16cPn06gOzs7KCgoK1btzY2Nr7yyivTzdwlK2hph5Hk5GQAy5cv55t+fn4ATNObWA0hISEA0tPTGWNHjx4FsHjxYtFBExMThw4ditZ70seMGRMXF9fU1NTrAu/cufPiiy9yN+bMmWPMFFJXV2fMB+Hj45Oammq+HOFiHT9+HEB4eDjfnDFjBoCerv5+LHj++ecBrF69Oj4+fsmSJW5ubitXrhQX7s6dO8uXLzcaEBsbO2HCBL45ceLEhISE5ubmHhVoMBji4uIGDBgAYODAgXFxcYbWZbe//PILL1ypVKrV6urq6i5LEy7WmTNnAAQHB/PNefPmATCT/+TxJSUlhbfHvB/k2TUKCwslD2QwGBISEngeUVMD9Hp9UlISX2YIYPLkyUlJSYburcm+du2accgfERFx69Yt/v6DBw+io6OVSiWAgICA8+fPd/MghYv122+/AfD39+eby5YtA/Dtt9+KjssYS0hI2LZtW1hY2MGDB6VdItyOdmmDEhMTjclbeHaNoqIiqWJ1ZoARnU6XkJAwtnWdQUBAQJd6bd++nfekw4cP//LLL43vp6SkeHl58Uqi0WgaGxu7f5zCxbp+/Trv+/nmqlWrABw4cEBo0IKCAt4xGU+PAwICDh8+3M3q2yM6Sxt0/fp1Y/IWBwcHtVpdXFzcl0BNTezDD+sHDfIA4OnpaWrAozQ2NsbFxRlXFwYFBR05cqSzndetWwcgMjKyvLycv1NSUhIVFcW/GxIS8vvvv/f0aIWLVVZWxv8hFi5c+OqrrwYGBgYHBx89elRQOD5Q4J3RoEGDPv3003379vn6+na/+naf7qQNysnJWb58uTG7xs6dud1OXfYQ2dnsmWcYwObNS1u3bl03E6BxvTw9PfmfP3v27A4HIffv3//hhx+Mm0lJSXxRl7Ozs1ar7elYjSNcrMrKytdee4130rz6Ojk5bd68+e7du5LHys/P52M43k0YOyCdTmdafWfNmmWm+naTHqUNysnJiYyM9PCY6uzMVCqm0bDW/BpdU1/PYmKYvT0DmI8PO3myx4daU1MTGxs7bNgwo16nT5/ucM92+bpv3LjR42CtiBXru+++Gz16tLGTvnTpUlRUFJfs0dxLfaFdFtevvvrq0X149R0+fLixhf/xxx97Eau4uPill17ihTz77LPdnzq5cKEiLIwBDGBubmz7dlZT08VX0tLYxIkMYEolU6tZN87GOqW6ulqr1Q4aNIgfeWho6MWLF42fms/X3QtEiXX//n21Ws3/hqeffjozM9P4Ea++prmXKrpffzsiMzOTz9QpFIqoqKh79+6Z2ZlXXw8PD2P1PXXqVDcD8dMxNzc3fjrWu7RBZ86whQtb9BoyhGm1rK6ug90qK1l0NFMqGcD8/dm5cz2N0zH37t2LiYnhcwoKhSIiIiIrKys3N7c7+bp7hBCxkpKS+Kwdn7ftsJPuXWbLdpjO2o0dO9Z0oGAeXn35GTuvvl1Orf3xxx8LFy7k+y9durSP8wipqSw4uEWvESNYXBwbOZIZ29mZM9m4cQxgDg7sn/9kPTkb6xalpaVbtmwxPpCCn8COGjUqJSVFqhBSi1VUxP785/eDggA899xz+fn55nc/e/ZsaGgo/7Xc3d21Wm13krFyTp8+zeeN+OlYTZf9yiNUVVVptdqBAwca9TJtWY00NTXFxsa6uLgA8PDwSEhI6GmgzkhNZYGBDGB/+xsbN44FBrKqKsYYmzSJabUsOJjl5koVqgNKS0s1Go2zs7Obm9vq1as7zNfda6QTS69nu3YxV1cGNE2YsC8+vvsnX2lpacZB99ChQ7VabV2H3UMrpqdjU6ZMuXDhQl8OvLy8PCYmhp9I8t4hOzvb+Gl2dnZgYKCxmygrK+tLrEcxGNjXX7Pbt1lAANu3j23axBhjkyax5mYmcuqtDX9/fwCXLl2StliJxLp6lc2f39KyR0SwXj0qIzU11fgTenl5xcbGNjQ0PLqb8XTM0dExJiamR7N2ZuDV1/RxRTk5OTExMfb29gC8vb1PnDghSaDOCAhgBgObO5dlZbFJk4SGeojZs2dDQELAPovV1MS0WuboyADm6cmSk/tYXmpqqvGa+ejRo00vqRYXF6/gS/WB2bNni7iSfevWrY0bN3KZ7Ozs+BTJ66+/3ot+tqcEBDDGWHY2CwuTVSyeZfT777+XtlizYpleLigqaskEXFnJ8vIYb0suXmRTpjCAKRTsr3/tweSMWQwGw5EjR6ZNm8Yd8vb2/vzzz+Pj493d3QGIyOLajoKCgnXr1qnV6rlz52ZkZIgLZAoXizG2eTObOFGemIwxxuvqoUOHpC3WrFi+vm2vp05l1dXsH/9g8+ezTZtYYCA7dIh99x0D2NixrKubKHqBXq/fv3+/8ZIqZ9myZY9eHbMOeFtfUcFu32ZS/8rm4Ndz9u7dK22xPRHr1CkWFtbSbtXUsAkT2IMHbP/+judhJKKpqWnv3r3h4eHR0dEHDx4UF6g/kJjIACbyXpsOiI6OBhAbGyttsWbveW9qQmxsy+uyMpw7h0WLwC/rurhg+nTk5GDNGnMl9BlbW9v169evX79eaJR+gkWWXQq62dWsWEolJk1qee3oCMbQerMAACgUYEzao3nCscjqOEE3i5u9593GBs8/3/KfqyueeQY//9zykU6HrCz4+0t7NE84FmmxPDyemTNH7eQUIm2xPVn+FRSEb75BZCQCA3H8OLZsQeslEUISLCKWjU1oWlqot7fExZoV65tv2l4nJsLZGR9/jOvXUViIV19F63VcQioskoFAkM1mxTLt6XiidgBjx7al1yYkxUJjLECAWOJzNxDdxsUFSiXq6qDXyxdUUItFYvUjFAq4uIAxyLlQXFAzSWL1L2bO/B9//+CqqruyRbTEGIuQndu3M69cuVJTUwHIdG5EXeETgfy5LQR1hdRi9S9kzn8EwNYWI0bA0RENDTB5JmGfi5WsJEIKZM5/VFqKXbtw/TocHFBUhPR02Nhg2jSMGwcAJ05g6NBePneRusL+hcxilZfj3//G++8DQEkJjh5FaioKC1s+PXsWly/3smQSq38h/xgrPBzHj+PaNYmLJbH6FzK3WABsbLBzJ/7+97Z3tm3D4sVYvBiJib0vlsZY/QsuVlFRkQyxjEFCQjBiRNuV4e3bwfPZxMT0vnBqsfoXwcHBCxcu/OSTTzZs2CBOr6Ym7NgBX1+cPdvyzo4d2LdPyhAkVv8iPDx82rRpBoNh9+7d48eP37JlC89PLCFnzmDqVGzdiqYm5OfDxwcAhgzBv/4Fb2/4+KB1AS+8vNDJo8S7gbR3OhOSkJeXFxUVxVMHODs7S5U9pbaWaTTMxoYBbNw49vPPfS+yU0is/ktubm677CndTIvVIceOsTFjGMBsbZlGwzpaCywlJFZ/p+/ZU8rLa9asaVmmHhjITPIHCITEejzIyMiIiIjgerm7u8fExFTx/CFdkZSUNGzYsJkzS5ycmFbLepWdrzeQWI8T6enp8+fP53p1mT3l1q1bRhcjI7dcuybnkZJYjyGpqakzZ85sPXHrIHtKZ/m65YTEelxJTU3lT2PAw9lTuszXLQ8k1mOMwWBITk5+qnWdy/jx41etWsUztneZr1s0JNZjj16v37Nnj4+PDwD+/1mzZiUlJVn2qGjm/bFHqVR+8cUXBQUFb731VnJyslarPX/+/O7duy17VHQR2hrgN9vMnj17xowZOp0O8t6D2iHUYlkDFnwGZ2eQWNaApZ7BaQYSyxowve+UxCIkg7pCQgimMtnZ2fFHgjc0NFjwkEgsa6DdEoz+0GjRdIM10G6Z6zhPz5E2No01NRg61FKHRGJZA39yc2v09ja0bp5TKlFaKncGt4chsawBlaMjbtzAmDEt2xbJOfkwNMayCtql5bNIzsmHIbGsgnZNlEVyTj4MiWUVtDOJukJCGtqZRF0hIQ08LW5tLQwGgLpCQiqUSjg7t6XFpa6QkAxTmfpBV6hg9KAl6yAuDgBWrYJOh4YGFBdj+HB4eVnqcKjFshY2bMCIEQgNxebNWLECWVkWtArUYlkPDx4gJATnzmHAAOh0ePZZ7N+PCRMsdTjUYlkLmZmYNQsDBgCAvT2WLkVamgUPh8SyFnQ62Nm1bTo6orHRckdDYlkN/v749de2Z96mp6N1nbRFoLsbrAUvL7z4IlaswNKlyMjAsGEICrLg4dDg3brIy0NuLnx9LdtcgcQiBEFjLEIIJBYhBBKLEAKJRQiBxCKEQGIRQiCxCCGQWIQQSCxCCCQWIQQSixACiUUIgcQihEBiEUIgsQghkFiEEEgsQggkFiEEEosQAolFCIHEIoRAYhFCILEIIZBYhBBILEIIJBYhBBKLEAKJRQiBxCKEQGIRQiCxCCGQWIQQSCxCCCQWIQQSixACiUUIgcQihEBiEUIgsQghkFiEEEgsQggkFiEEEosQAolFCIHEIoRAYhFC+H9CVkvcJbfi/wAAAXp6VFh0cmRraXRQS0wgcmRraXQgMjAyMS4wMy4xAAB4nHu/b+09BiDgAWJGBggQBmIRIG5g5GDQANLMTGwQmoWDIQNEMzKyMSQAGUxMmDRMIUQjO4Rmxi0PNpCJkc0BIsHmABZgZsTLgKjlZmDUYGJkUmBkBnIYWFgZWNkY2Ng1mNg4FDg4GTi5GLi4NZi4eBR4eBV4+TKY+PgT+AUymAQEEwSFMpiEOBSEeBNEgIqFeHm4ONn4+AUEhXjFYWHAIBwwadeBkDln7UEcN70dByKn3rUFsY80PDiwbIHJfhB7X3nvAYYGYTC7wcvrgKtvsR2I/WDXy/1b9j3ZB2Kfeyiw/93z3WBxGSaV/b/2vAObWXjJxT6jdhFYzf5P4fYRSS/A5hzI5Ha4/lf+AIh92VDAIex+PZi9hy/GgfXSdbCalW7hDpYVDmC9l75OdnA2VQCbeXLiRIcL79gdQOymbb4O1buNwWwu5V/2vr7/wWpm3mR0sNL8B3aPGABHDl7b6QVOpAAAAWx6VFh0TU9MIHJka2l0IDIwMjEuMDMuMQAAeJydlU1qAzEMhfdzCl0gRv+W101XpSl00Tt03/tTeTwxU2ih8WDIe3H08SxryAb9eb++fH7BfPi6bUANGAF+X601+GBE3PLnFyshqL2SiqNLV1hyF+EN/kKc10GpZj5qCYNPlKf/U2pBstoVlop33qNZtChjGxSrvphFCjnGqGWpvkahEuw4sqh6rFHyHG5t1IpXXKW4Yh03HW601N2sqB4xeEJVT5TbI5RQsaNDZLZ0IuBCNfrEXrhoH+tFCpvguPPWAtf6IkUldJzIw2mtL5L3K8cbQPEjywMn0uIsx6w529rUJcW04dFn1sUsUphUBiUwZI1CpZnyoZouzwtyHFOizXWFkhfL++omP2T/6jA6TSqbJpVPk6pOkyomLU2bOw0I7yYV0TQENBN0MxOkopkgFdmeoxsD8mkcqE5TgWKa6P8cd9NOcdJ09L7zCvB8u27flRsA4K6+SGUAAAD7elRYdFNNSUxFUyByZGtpdCAyMDIxLjAzLjEAAHicLZBJbgMxDAS/kuMY0BDcFxg++W4/wt/w49OahBdBJbFV1PvxPN63J+p4vG8v+V8/+tml8vM9zqA2tlxCyWm27iAVkbGYhFsmgIpYonSdTMURlWBOrty1GYDg9H4aSXKjU61iBkSoNfnqdM/KAkNDxnjinmUx+8XSOaPg0RkChKeyG2Y4MylL26zdwnvtXAmoKUk1tE8ln4EOiIYhEzIALOtu5Na+e7Lz2iMsZwdL1wQ8nRLK2yg1WmyT8OFYeEBtf4KRimsCNLdhWqEJl4HxjP+5sPYIQnwwTa/b9xfl/U7tH8ynyAAAAABJRU5ErkJggg==\" alt=\"Mol\"/></td>\n",
       "      <td>842434</td>\n",
       "      <td>4.49908</td>\n",
       "      <td>0</td>\n",
       "    </tr>\n",
       "    <tr>\n",
       "      <th>103</th>\n",
       "      <td>O=C1CC(c2ccco2)=Nc2ccccc2N1</td>\n",
       "      <td>842442</td>\n",
       "      <td>430</td>\n",
       "      <td>No</td>\n",
       "      <td><img data-content=\"rdkit/molecule\" src=\"data:image/png;base64,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\" alt=\"Mol\"/></td>\n",
       "      <td>842442</td>\n",
       "      <td>3.49728</td>\n",
       "      <td>0</td>\n",
       "    </tr>\n",
       "    <tr>\n",
       "      <th>115</th>\n",
       "      <td>C/C(CC1(O)C(=O)N(C)c2ccccc21)=N\\O</td>\n",
       "      <td>842467</td>\n",
       "      <td>430</td>\n",
       "      <td>No</td>\n",
       "      <td><img data-content=\"rdkit/molecule\" src=\"data:image/png;base64,iVBORw0KGgoAAAANSUhEUgAAAMgAAADICAIAAAAiOjnJAAAABmJLR0QA/wD/AP+gvaeTAAAZX0lEQVR4nO2de3yMV/7HP5PJXUjkRkQQRIrQNBSVaG3rUpUu3Qp6iXZfrC6y83r5qWpfxWz1sm77MrRCVNnUaiuytUlRpKtFSXUpcmuksSRpbjITJDG5zcz398eJyTSRZDLznBnivF/+yPPMM+d7Zrznec45z3m+R0ZEEAikxsHeFRB0TYRYAi4IsQRcEGIJuCDEEnBBiCXgghBLwAUhloALQiwBF4RYAi4IsQRcEGIJuCDEEnBBiCXgghBLwAUhloALQiwBF4RYAi4IsQRcEGIJuCDEEnBBiCXgghBLwAUhloALQiwBF4RYAi4IsQRcEGIJuCDEEnBBiCXgghBLwAUhloALQiwBF4RYAi4IsQRcEGIJuCDEEnBBiCXgghBLwAUhloALQiwBF4RYAi4IsQRcEGIJuCDEEnBBiPXgotVq+RUuxHrguHbt2rp160JDQxcsWDBp0qTCwkIeUWRivcIHhJKSkn379n322Wfnzp1je7p3715dXR0YGHjw4MHw8HCJ45GgS3Pz5s3ExMTo6GhHR0f2P+7p6RkbG5uamlpeXj5x4kQA3bp1S0lJkTauEKtrUldXl5qaGhsb261bN+aTi4tLdHR0YmLi7du3jYfV19fPmzcPgFwuX7t2rYQVEGJ1KfR6/alTpxQKha+vL/PJwcEhMjJSpVJVVFS09S6VSuXg4ADgT3/6U2NjoyQ1EWJ1EbKyspRKZXBwsLGRM2zYMKVSefXqVXPevn//fjc3NwBTpky5efOm9fURYt3fFBQUqFQq06Z3//79V6xYkZub29mi0tPT/f39AYSFhV27ds3Kigmx7ks0Gk1CQkJkZKRMJmM+eXt7L1y48NSpUwaDwcxCli1bplAo9Hq9cc///ve/oUOHAggICPjxxx+tqaEQ635Cq9UmJSVFR0c7OTkxn9zc3GJiYlJTUxsaGjpVVE5ODusnvvDCC7W1tcb9lZWVTz75JABXV9fPP//c4qoKse4b6uvrx44dy3xydnaeMWPGvn37tFqtxQUeO3bM09MTwLhx48rLy437GxsbFy1aBEAmkymVSssKF2LdN0yfPt3T0zM8PHzHjh0ajUaSMjMzM/v37w8gODg4JyfH9CVjV3H+/PmdPR2SEOs+IjAwEMAvv/wibbGlpaWPPvoogJ49e/7nP/8xfSk5Odnd3R3ApEmTbty40alihVj3B2q1GoCHh4dpW1sqamtr586dC8DR0XHbtm2mL509e7ZXr14Ahg8fbubIBUOIdX+QlpYGYPz48ZzKNxgMSqWSNeBadBWLiorYcIavr++pU6fMLFCIdX+wceNGAIsXL+Ya5ZNPPmH9zeeff970zk9VVdX06dPZfaG9e/eaU1TXFOu7775r5w7G/UhsbCyAhIQEtqnX60NDQ5955pm6ujppA33zzTdeXl4AxowZU1ZWZtyv0+mWLFliflexC4ql0WjYHXsezRF7MWLECAA//PAD28zLywPQt29fHrHy8vJCQkJY+RcuXDB9ydhV/OMf/1hfX99OIV1QrOPHj7OxGXtXRDLq6uqcnJzkcrnx8pSUlARg+vTpnCKq1eoJEyYA6N69+8GDB01fOnDgAOsqRkVFtXNZ6IIzSC9evAjg4YcftndFJCMnJ6exsTEkJIT9jwK4dOkSAOln593Bx8cnLS3tpZdeqq6unjFjxtatW40vzZw588SJE717905PT2fVuCtdUCz2abuSWOynYqqRDT6ji4vLnj173nrrLb1eHxcXt2nTJuNLo0eP3r59u16vf/PNN9t6e5cVi9+v2fa01qi1ajyQyWQffPDB7t27+/Tp8+yzz5q+VFpaCmD48OFtvberidXY2JiTk+Pg4MBau12DFhd3jUbz66+/duvWbdCgQTaI/uqrr+bn5w8ePNh0Z4enzK4mVk5OTkNDw+DBgz08PHjFuH2bV8l3g4gyMjJgcn5ino0cOZJ10GwAmwNoSocN2a4mljQt9wED8NNPzZsTJiAlBQ0NUCjQty9GjUJgIJYuRWOjdZU1i8LCwhs3bvj5+QUEBLA9dr/WGwyGrKwsACNHjmzrmK4mFsdW7cqVyMhAVhZyc5GRgR9/xOrV0kdphV1a7u2Tn59fU1MTFBRknFnfmq4pFpdf865d2LABXl4A4OOD9euxa5f0UVrR+hPZfTzFnAo42qoyNoI1RyT40letQs+eTX9fvozqamg0CAtrPuDhh3H9Om7ebFKNGy3OTw0NDbm5uQ4ODmGmlbEt5vx6u5RYRUVFarXax8enb9++1pY1YwZCQpr+zsiAXA4AOl3zAY2NkMlwZ4owP1qcHljvJDQ0lGPvpCPMuRZ3KbGkvA6OHo2IiKa/PT3h7o4+ffDTT3jiiaad588jKAh3HgflRFVV1dWrV11cXEJDQ9keu18HYd4oWpdqY/H90pcswbJlKCoCgIICvP464uK4BDIhIyODiMLCwoxPT9i95a7RaIqLiz08PAYOHNjOYe2esbZvx+zZ8PZu2ty7F1FR6N8fpaU4cgSFhRg0CNOmwcdHumpbhWRfur//b65xvr5wdcWbb8JgwGOPQaeDkxPi4vD669YG6ojWPxW7jzVcuHABZoyitXvGUipRVta8uWkTLl/G2bMIC8PFi+jTBydOYPhw5ORIU2WrkexL//FHmA7cHziAqVPh4ICVK/HrrygrQ1ERnnsO775rbaCOaP1Tkax3Yl2VOv6S25s84e9P2dnNm6NG0dGjFBFBH33UvHPlSpo61bK5GdJSU1Pj4ODg7Ozc/jwhaWhspIAAAigtjWsc9pjDiRMn2GZBQQEAHx8frkHbp8WUw7boqI2l0aC8vOmfTof6ely4gJdeaj4gNhZnzljzC5CKS5cuGQyGYcOGOTs7cw/m6Ii//AUA/vY3fkH0en12drZMJjPe92Rni0ceeYRf0A4xsyHbUa/wz3+Gq2vT37/8gspKODn9ZuSmVy9UV6O6Gt27W1FbCbB142PJEqxfj+PHceYMxo/nEeHy5ctarTY4OLjnnRG1kSNHbt261c/Pj0c4c2hoaLh8+bI5o2gdibV/P4YNa/p79Gh4e6OxETduNA8elpXB09PuVsH23aUePbBkCd5/H+vWISWFR4TWn6h///6LFy/mEctMsrOzGxoaHnrooW4djbN0crjBxQWjRuGzz5r37N2LyMjO11B67DDAs3QpPDzw1VfIzORR/MmTJwHYcYS9NeZ/yZ0fx/rwQyiVWL4ce/YgLg47dmDjRlRXY+NGGAwW1FUSDAZDdnY22r3fLj0+Ppg/H0RYu1bagrVa7V//+tedO3cGBgampKSwp1XvBTpxWWivZR8fT2p18+aePcTSJhUV0YYN9PrrpFIRm04/cyYBNGMG1dRY2+voCLVaHR8f3+LpttzcXAD9+vXjHb0lRUXk7ExyOeXlSVVkcnIyuyUll8t79OgBIDQ0ND8/X6ryrYHlLD18+HCHR0r0lM7p0+TnRwCNHEmFhdKU+Vtqa2tTU1NjYmJYp2/YsGGmr37xxRcAfv/73/MI3QHz5xNACxdaX9KVK1eeeeYZ9oOPiIg4e/ZscXHxqFGjAHh7e3/33XfWh7AS1o0oLi7u8EjpHv/Kz6fQUAKoTx86f16qUhsbGw8fPvzyyy8b77k6OTlNnz597969phnG3nrrLQCrVq2SKm4nyM8nuZycnKigwOIyGhoaVCoVaxF7eXmpVCqdTsdeqq6uZvPNXVxcPv30U4kqbQnXrl0D4OfnZ87Bkj5XqNHQxIkEkIcHpaZaU5LBQGfOUFwcPf1007C+TCaLjIzcunXrXZ9lYz/05ORka4Jazpw5hp49z73/vmXv/vbbb1kePQAxMTGmqaoYOp1uxYoV7EtYsWKF+Tn7LEaj0Rw7dqzFzpSUFACTJ082pwSpH1itr6d58wgguZw2b7aggOxsevttCg4mgClqiIiIfP/999tKdaLX648fP84SiF2+fNmqyltKRUZGgIdHt27dOvtcf2lpaWxsLEv3OGTIkLR2x/ETEhJYDr7Zs2dbk2+tHUzbG66uri2y3L7zzjsAli9fbk5RHJ6ENhho7VqSyb6f+PbChWRmdufyctqwgcLDm3wCKCiIli+nixfbfItpnmAHBwdHR8ennnqqs2mcpILlzFi9erWZx+v1+oSEBPZ7cHd3VyqV5mRhOHr0KGvOP/bYY61PbBaj0+m+/vrr2NjY7nfGIx0dHadNm3blyhXTw/7whz8A+Oc//2lOmbwesb++/zt3NwNA06dTdXXHx//wQ5NPXl4UG0upqXSnjdGS/Pz8NWvWPPTQQ8aO7eDBg+fPn8/GoyXJ+GsB6enpADw9Pc3JZX3+/PkxY8awykdHR3cq71RGRka/fv0ADBw48Oeff7a8xkRElJWVtWLFit69exu/zFGjRqlUqtLS0tYHs3kymZmZ5pTMMXfDmTPk708AjRhhVrs2Lo7+/W9q6w5yh3mCLUvjJCFPPPEEgHXr1rVzzI0bNxQKhVwuBxAYGLh//34LApWUlIwePRpAz549jx8/bkEJP//8s1KpHDJkiNGnoUOHKpXKvDYGTfR6/aFDh2QymYuLi5lpI/kmBblyhYYOJYACAui//7WkhKoq+vRTeu21fxuXgunRo8e8efOOHDmia3VOsyCNk4QcOXIEQK9evdpqACUlJbHseE5OTgqFotqcM3kb1NTUzJw5E4Czs/M//vEPM99VXFysUqkiTe6UBAYGKhSKdn6Hpu0Nf3//nTt3mhmLe7aZykr63e8IoG7d6MABc9+l01FaGsXGkocHAfTwwzfkcvmkSZMSExNr2h2D7WwaJ2lhJ5KtW7e22J+Xlzd58mT2f/n4449nZWVZH6udHHwtaL1Ok5eXF1unqa0FTq5cufLuu+8a+6oABg0atGrVKtPE3e1jizRG9fX06qsEkIMDffQRffwxGc+mublk2qvV6+nECXrtNfL2bmpyOTjQE0/Qjh2GTuUJNj+Nk7QkJyezGwDG64VWq1UqlS4uLuzanZCQIO1gwccff8xmLc+aNautM2XcnSnUrq6us2bNOnDgQFsdBY1Gk5iYOGnSJGvWJWDYLj+WSkUhIbR7NwFkbIfs2kWzZhERZWWRUkkDBzb3CocNI6WSftsv6QRmpnGSFoPBwPJkJCYmElFqauqAAQPY6TM2NpZTNUzTtZvm4DNy5syZyZMn7969+9atW3ctQcJ1CYzYNPGaVkvJyTR2LAUENN11ZGJNmdLsU3Awvf02SXGtoIsXLwYFBbFuo82GuBITE1nEl19+mf0nhYeHp6encw2alZXFDA4ODs42nfTbLjqdLi0tLTY21nhXw9jesKb9x7B1Rr/kZIqOpvXr6dlnie6ItXQp9exJsbGUlkbSjioXFxdHREQA8PHxMU7w5Yder09LS/Pw8GCXEk9Pzy1btrTuZPCgoqIiKioKQPfu3Tu8SXzu3DmFQsGWZDIdZZBwbMw+YtXX09Ch9OWXTWLdvGnuOKoFmN5r27NnD6coLVZ1c3Z2Dg4OLikp4RTurtTW1r7wwgtseDM+Pr6tSpomP2JLz/GYOmEfsYjoxAnq148++qipjcUVnU6nUCiMXUUJm893Ha1duHAhG8CUKor53LWrWFRU1GKUISgoSKFQnJdurkBr7CYWEb34Ig0bZguxGMZ7bXPmzDG/23xX2h+t1el0LKN1UVGRVJXvFMau4tixY6OiooyV9PX1XbRokQVdPAuwp1hlZeTlZTuxiOjIkSPsXtv48eOvX7/e2beb33uaNm0aAGuWZbOSb775xt3dvU+fPmyUITo6OikpyZYjL7YWKzOTdu9u3kxJIfPuaUqG8V7boEGDzLzXZkHv6YMPPgD/hSTaoaGhgbXNV61aZX0XzwK6YJ73DikpKTFOy/z222/bObJF78m4cHeHZ7tTp04BGDFihJT17gxsSu3w4cPtVYEHUSwiqqmpmTFjBuu+scFMU9rqPV0xe7i2rq7O1dVVJpOpTR8asCHsjniLpbxsyQMqFt2tA8V6TxHG7EXW9Z4ef/xxAKnWzaS1jJycHJlM1r1797aG2m3AgysWY+vWrayr2LdvX9Pe0+LFi7///ntrek8rV66E2fMtpYXdho+Li7N9aCMPulhEdOzYsaCgoPDwcDc3Nwl7T0ePHmUdfuuL6hTV1dWs52vmjDxOCLGIiOrq6vLy8tqfkNNZqqurHR0dHR0dbdwpi4+PBzBx4kRbBm1Nl8roZzEuLi4hISEd5iPoFB4eHuHh4Tqd7uzZsxIW2yHbtm0DwJahtyNCLI6wldnY0INtOHnyZGZmZkBAwHPPPWezoHdFiMUR24u1a9enABYsWODEP51z+8iIyL416MKo1Wp/f3/2gJ4N0sGVl2PIkLrw8KS9e5/q2zeQd7j2EWcsjvj6+g4dOrS2tvYn05V5uPHxx6iqcvXzm2d3qyDE4g27GrJMV1zR67FzJwDYu9XehBCLLzZrZn31FQoKEBKCJ5/kHcoshFh8YffsTp8+beCclW7bNgBYsgR3bh/YGdF4586AAQMKCgouXbrEL9tgfj5CQ+Hqil9/bc4Oa1/EGYs77G4016thfDwMBrz00r1iFYRYNoB3M6u2FomJAPDaa5wiWIIQiztMrBMnTnAq/7PPUFmJ8eMxahSnCJYgxOJOaGiov79/WVlZfn4+j/K3bwfumVEGI0IsvhBRTU0Ne5SUx9VQq8WAAQgIwKxZkpdtFUIsvrzzzjsRERFsGUupxCovx5tv4to1AHB3x8aNWLq0eWGae4QutcLqvcbevXvXrFnj4OAQEBAAICkpqa6uztfX18fHx9fX19fX19/f37hp/s3Eigps2IDMTBw6BADFxdizB8uX8/scliDE4sX3338/f/58IlKpVIsWLfLy8nrllVc+//zzto7v0aOHn59fSEi2XO7i6wv2z98fPj5Nf7M/GAMHQqNBcvI9dwU0IsTiwtWrV59//vn6+nqFQsHSU7344ot+fn5fffXVkCFDKisr1Wp1RUVFRUWFWq3WaDRqtbqqqqqqqqqszPn27TaLlcvh44NPPoFMBpUKMTGYMsV2H6pTCLGkp7Kyctq0adevX582bdrf//53tlMulx86dCg+Pl6hUGzevLn1u27dunX9+nW1WqbRQK2GWo2KClRUgG1qNKioQGUlrl+HuzsAjBuHKVOwahXmzLHlhzMb+86M7no0NDQ89dRTAMLCwkwzKKtUKgDOzs7tPyLbPjodlZXRpUsUEkJEVFFB/v60YwfZ78HYNhFiSQxLNRMQEFBosqbQ4cOHHR0dZTKZJHmUMjObxCKihATq00eI1dV57733ALi5uZ09e9a4MzMzk6VyXLNmjSRRTMXS6+mxx4RYXZv9+3Mff9zDxeWASXbokpISlq5y7ty5UiUP0mjoiy+aN/PyaN8+MjH5nkCIJRFnzpCrKwFqk3QJWq2WrUAxYcIEc1Y0sQytliIiyNWV7o0lDZsQYknB1avUqxcBtGCBcZ9er2c5/gcOHGhBLq5O8corBNCUKVyDdA4hltXcukUjRhBAU6eaplLduXo1AB8fn7bWEZEQtZp8fQkge62r1xohlnU0NNDkyU1p6U0XHouPJze3LRMm2CBVM2P79qalZcxYJMoWCLGs489/JoB69ybTJceOHCFHR5LJqFXmLX6w7iFA//d/NovZHkIsK1i7lgBycyPT9QGys8nLiwAye+1CqcjIIEdHcnSkCxdsHPkuCLEs5V//IgcHksnININtaSn1708AxcRIvBSCeSgUBNCYMdT2kk02QohlKXPmEEDr1zfv0Wpp3DgCKDKSrEv3bTFVVRQYSACZvfwbL4RYlqLT0b59zZsGA82d27QYkHQLh1jAF18QQN7exHmIowPEc4US8cYb2LABPXrg9GmEhdm3LlOnoqoq+dFHz2/Z8jd71UGI1Rn0enz9NS5dgpsbIiMxdmzT/k8+wYIFcHLCkSP3wiPu+flFI0YMqa+vP3nyJJtub3vEnHez0enw9NNYvx6+vjAYMHs2Vq1qemnsWPTvjw8/vBesAjB4cNAbb7xBRIsWLWpsbLRPJex5Hb6/2LmTRo4k4xpxBQXk5ka5uU2bkuYvtZ66ujr2BMfGjRvtUgFxxjKb9HTMng25vGmzXz9EReGHH5o2Jc1faj0uLi5btmwBsHr16mvsgR7bIsQym5IS+Pn9Zk+vXigpsVNtOmbKlCkxMTFarXbZsmW2jy7EMpu+fVFe/ps9ZWUICrJTbcxi8+bNnp6eX3755cGDB20cWohlNpGR2LcPOl3TZmEhTp/G+PF2rVMHBAQEsGVd4uLibrfz9A8P7NKyuy/R6WjqVIqMpIQE2riR+vWj996zd506RqfTPfLIIwBWrlxpy7hiHKsz6PVIScG5c3B2xtNPY9w4e1fILNLT06Oiotzc3AoLC729vW0TVIj1QLBp06ZJkyaNGDHCZhGFWAIuiMa7gAtCLAEXhFgCLgixBFwQYgm4IMQScEGIJeCCEEvABSGWgAtCLAEXhFgCLgixBFwQYgm4IMQScEGIJeCCEEvABSGWgAtCLAEXhFgCLgixBFwQYgm4IMQScEGIJeCCEEvABSGWgAtCLAEXhFgCLgixBFwQYgm4IMQScEGIJeCCEEvABSGWgAtCLAEXhFgCLgixBFwQYgm4IMQScEGIJeCCEEvABSGWgAtCLAEXhFgCLgixBFwQYgm4IMQScOH/ARtR2HGQUUAPAAABaHpUWHRyZGtpdFBLTCByZGtpdCAyMDIxLjAzLjEAAHice79v7T0GIOABYkYGCBAEYiEgbmBkY0gAiTOzMWgAaWYWCJ+JiY1BAUizcECkGWHSHBCaiR1CM8O1O0C1O2SAxRnxMiBqYWZwMIAlGBm5GRhZWBiZGJiYgbIMzKwMrGwaTKzsCuwcDOycCpxcGUxc3AncPBlMPLwJvHwZTIz8WkzMTEwC/AIqzHzMDHycCSJMrMys7Jx8bFzcPLx8nOIw/zIIXqpSOnDo2H17ECfnv/EBJYYeOxDbnf3a/uOlxvtBbCapln1rKnz3gXV4pO9nWzQZrH7S/922N5OvgNU8+5q4f5uu8QEQu179tH1aw2OweM12cYe7c53B4kZhXA4KXSfA5ky7luKQOOWeLYhtEF3mwLDhFNjM9Hhdh7Ktyg4gNvu+pfb965nB7MtbmuxPGIiC1bywbz+gG5cBNufM3tUHfOPsweJiAHuGUQOM8t/FAAABUnpUWHRNT0wgcmRraXQgMjAyMS4wMy4xAAB4nJ1UQWrEMAy85xX6wApJtiz53O2pdAs99A+99//UirMmCy0sMiHM4MxEIyvZINbn9e37B9aS67YBG7AD0J9X7x2+hIi28fhFUItbKBmteglEOHYJXuA/i/N1uDiLTq1YqTkXxmbCgQiNmHIuowJ1OhCRZV06zRyMrA+JPp52CUWPk9izaU92l9BdbPbZerdcLYzqxrMWMzsnuj3vIliMWrgUJG2aSjRcuLHObKVz7oygoJq2qWXytIvXeTLRoZJOZOR9Ip3zl3BhlF4PF1JrWRcS5qlVF89NXUWR1o7vSFpPzctFsbS71qqdu/v07I4ost+DDFQWGaguMpCeSVtkINuVB/G1M1A/kfjnTDJQtLBOwsCyiACXRQpwXaRCDHW9F8rt/tKBYsgPaz1VPUi8dNe8A7zertsvke/m+EVINu4AAADxelRYdFNNSUxFUyByZGtpdCAyMDIxLjAzLjEAAHicJY87jsMwDESvsqUNyFx+xB+CVO7jC6TLNXL4HXnVSHgaznDO33M7T9mu/dye1/7azv2jn3VU9ufrff18t0PJrdKHUM5SHw+QEp0xmDRtWgMJRaqMgylZWAIIv14sN1Tm8H/YbHMq3MTNajyYuCU7oIOJt92qKg2vgajsDkwKeaXMJcpMA1GyZM9xGLGHyyIS4negtURiMSNPX5sKV5QsULNt5XuZr5nkah9o6YkbQdqzAgDm3guwCpIZE5q5WkxSrOd3M41WBXOywBOynIlqY//+AVLTR7hntBuVAAAAAElFTkSuQmCC\" alt=\"Mol\"/></td>\n",
       "      <td>842467</td>\n",
       "      <td>11.03138</td>\n",
       "      <td>0</td>\n",
       "    </tr>\n",
       "    <tr>\n",
       "      <th>117</th>\n",
       "      <td>O=C1Nc2ccccc2C12OCC1(CO2)COC2(OC1)C(=O)Nc1ccccc12</td>\n",
       "      <td>842469</td>\n",
       "      <td>430</td>\n",
       "      <td>No</td>\n",
       "      <td><img data-content=\"rdkit/molecule\" src=\"data:image/png;base64,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\" alt=\"Mol\"/></td>\n",
       "      <td>842469</td>\n",
       "      <td>8.14498</td>\n",
       "      <td>0</td>\n",
       "    </tr>\n",
       "    <tr>\n",
       "      <th>157</th>\n",
       "      <td>N#Cc1cccc2cnccc12</td>\n",
       "      <td>842587</td>\n",
       "      <td>430</td>\n",
       "      <td>No</td>\n",
       "      <td><img data-content=\"rdkit/molecule\" src=\"data:image/png;base64,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\" alt=\"Mol\"/></td>\n",
       "      <td>842587</td>\n",
       "      <td>4.95278</td>\n",
       "      <td>0</td>\n",
       "    </tr>\n",
       "    <tr>\n",
       "      <th>190</th>\n",
       "      <td>Cn1cccc1-c1cc(C(=O)O)[nH]n1</td>\n",
       "      <td>842676</td>\n",
       "      <td>430</td>\n",
       "      <td>No</td>\n",
       "      <td><img data-content=\"rdkit/molecule\" src=\"data:image/png;base64,iVBORw0KGgoAAAANSUhEUgAAAMgAAADICAIAAAAiOjnJAAAABmJLR0QA/wD/AP+gvaeTAAAWcUlEQVR4nO2de1RUxx3Hv7s8FkRBQPSIr4hsohCD8VUtRjzRNKj4jISoJUZTSVp1o+boajWiRhuqSY6kPgolUZImGoy2QRtNiE0UDx4tDVVePmCBiIIoLxFCtrLTP+5yWXdheewdLmx/n+Px7I53Z2blw8zvzvzuvQrGGAhCapRyd4CwT0gsggskFsEFEovgAolFcIHEIrhAYhFcILEILpBYBBdILIILJBbBBRKL4AKJRXCBxCK4QGIRXCCxCC6QWAQXSCyCCyQWwQUSi+ACiUVwgcQiuEBiEVwgsQgukFgEF0gsggskFsEFEovgAolFcIHEIrhAYhFcILEILpBYBBdILIILJBbBBRKL4AKJRXCBxCK4QGIRXCCxCC6QWAQXSCyCCyQWwQUSi+ACiUVwgcQiuEBiEVwgsQgukFgEF0gsggskFsEFEovgAolFcIHEIrhAYhFcILHaQUYGMjOb3ubmoqBAvt50bUisdrBxI4KDceuW8W1sLP76V1k71IUhsdqHvz/WrJG7E90BEqt9vPEG0tNx8qTc/ejyOMrdAVspKICHB7y8jG/Ly1FTA3d3FBbi6aehUABAbS0KCvDkk+2u/P593LiBvDzk5eGJJwDAxQXvvYc33sDUqdJ9B3uk24u1YgXmzkVUlPHt55/j9GksWoSFC3HoEJYsAYArVxAZibw8a/XU1yM/Hzk50Oma/hQUgDHjAQsWGF/Mm4eEBMTEcPpCdkK3F6sl/P2xcSNmzWoazESqq42DkDAaCX+XlTVTSY8eUKvh7w9/f0yYgD//2Vj+wQcYPx4TJmDAAL7fovtiz2L5+UGrxV/+YixJSkJsbIsOubkZBfL3b5LJzBtRrGHDoNFg2zZMmMDzO3Rn7EGsfftw4oTxdVERHnvM+PrttzF8OF55BUolAFRXIy0NAFQqDBgAPz8EBCAwEH5+8PPDY48ZD7NCz55wdja+1mpx/DhcXSX/NnaCPYg1fTrmzDG+Pn4c164ZX3t54Z138LvfYd8+AJg5E99/D7Uavr4dbOiLL5peu7hg375HSghT7EEsPz9MnGh8nZHRJBaAZcvw0UdISAAAX9+OK2VJfT0WLMCdOwgNRWioZNXaDXa+jqVQYN8+HD4sfc0uLli7FgC2b5e+cjvAzsUCMGoUXn+dS80rVsDHBxcu4J//5FJ/t0bBxIWa7gljxlVQs5LaWpw8iaeewogRHFvfuRObN2PKFHz3HcdWuiPdXqyWSEtDcDDGjEF6usQ1C/9hgs337+Oxx1BZibNnMXmyxA1JjsFgqKmpcXV1dRZPbrlht1OhkN/SgW0c65w8iaAgnDplfOvuDo0GAHbskLghySkpKRk7duzixYv9/f3j4+MbGhr4tsfslJUrGcDefVfiat99lwHsF79oKqmqYr17M4CdPy9xWxJSUFDg5+cHoGfPnsLPPSAg4G9/+5vBYODUot2KFRLCAHb6tMTVPnjA+vZlAPvmm6bCTZsYwGbMkLgtqSgoKBg6dCiAMWPGlJWVJSUl+fv7C3qNHz/+22+/5dGo3YrVpw8D2K1b0tf8zjsMYL/8ZVPJvXusVy8GsEuXpG/ORq5evTpgwAAAwcHB1dXVQqFer4+Li/NtXNabNm3av/71L2nbtU+xbt9mAPPy4lJ5TY3R2u+/bypcv54B7KWXKrk02VFycnL69+8PYPLkyffv3zf719ra2piYGE9PT1Gvy5cvS9W0fYr19dcMYCEhvOrfvp0BbOrUppI7d9hzz2ldXV0zMjJ4tdpOMjIy+vTpA+D555+vq6tr6bCKioro6OhevXoBUCqV4eHhOp3O9tbtUywhxF6xglf9VVXM05MBLDW1qXDNmjUAFixYwKvV9pCenu7t7Q1gxowZP/30U6vHl5WVabValUoFwNnZOSoqqrS01JYO2KdYr7zCAHbgAMcm3nqLDR6cFxX1nlhSUlLi6uqqUCiuXLnCseE2cP78eXd3dwCzZs2qr68Xy8vLy1944YUff/yxpQ8WFhZGRUU5ODgI549arbaqqqpjfbBPscaO5X7+X15eJ0QnFy9eFAtXrlwJYOHChRwbbo2zZ88K81pERMR///tfsbysrCwoKAjA9OnTrdeQlZUVHh4uBF7e3t4xMTFtGfPMsEOxGhqYmxtTKFgl50h6w4YNwqgglty8eVOlUjk4OFy9epVv2y1w+vRpV1dXAIsWLTK1qrS0dOTIkQCeeOKJ4uLitlR14cKFKVOmCHoNGjQoLi7OtMJWsUOx8vJuTZny3fTpN3k3dO/ePWG90fRc/bXXXgPw8ssv827dkn/84x8uLi4Ali9f3tDQIJbfvn07ICAAwIgRI27fvt2uOlNSUkaPHi3oNXz48KSkpDauqdqhWMeOHROC1k5o68033wQwf/58saSoqMjZ2dnBweH69eud0AGR5ORkIfT+7W9/a/qzLywsHDZsGICnn3767t27HajZYDAkJSWp1WpBr3HjxiUnJ7f6KTsUa9u2bQC0Wm0ntFVaWtqjRw+FQmG6ArRs2TIAr776aid0QODIkSNOTk4A1q1bZ1qu0+nENffy8nJbmjBbUw0ODj537pyV4+1QLCHw/OSTTzqnOY1GI0TKYkleXp6jo6OTk5MkC0Kt8umnnzo6Olr+Lolr7pMmTRLX3G3EdE1VoVBkZma2dKRVserqmOmE+vPPTAzfHj5kxcXs3j1Juistw4cPB9BpC5XFxcUqlcrFxeXOnTtiYWRkpBBptSvg7QDx8fFKpRLAtm3bTMutr7nbSGVl5fLly52cnBYvXtzSMVbF6tuXpac3vV22jG3dyhhj+/ezfv2YWs18fNjo0eyHH6Tqse3U19c7Ojo6Ojp24Ay5wxw+fLioqMi05JtvvnFwcPD09HRycgoICAgPD4+Ojk5KSsrKypIwoeDAgQMKhUKhULz33num5T/88IOw5h4aGmplzd0Wjhw5AmDu3LktHdB+sb78kvn4MHE82L2b9evHOrqMJjkZGRnC6Y+MfcjNzRVikd69eyvM0luB3r17T5o06fXXX9+3b9/Zs2crKio61sru3buF+Sg2Nta0PD093cvLC8DMmTP5/XZt2rQJwFtvvdXSAe0XKyyM7djRVGgwsKeeYomJtvdVEj7++GMAL774olwdMJuDfv7556ysrMTERK1WGxYWJvyTGZ6ensHBwRqNJi4uLjU19cGDB622EhMTI1i1d+9e0/LU1FRhzX3BggV6vV6qL7V///5Vq1b95z//EUvmzJkD4PPPP2/pI62JtWgRW73a+CcwkG3dyh5/nJ08+chhS5awzZtt7btErF+/HsD27dtNCzMyMi51SkZLW+agioqK1NTUuLg4jUYTHBwsZt6Z0r9//7CwMK1Wm5iYmJWV9fDhQ9MaoqOjATg4OBw8eNC0XFxzf+mll6SN7aZOnQrgpMnPXUgbzM7ObukjrYm1bRtLTDT+mTyZbd3Khg1jX331yGFLl7KNG23tu0RMnz4dwPHjx00LQ0JCJE8LsUTc923XHGQwGPLz8//+97/v2LEjIiIiMDBQWDgwxcXFZfTo0S+//PKuXbuWLFkiWGV22nvq1ClhzX3x4sWSnzH069cPgBhHPnjwQKlUqlQqK4Ni+6fC0FDzhN/x49mHH9rQbSkZNGgQgBs3bogler1+w4YNPXr0EH4ey5YtMwu0JUHc97V9DtLr9fn5+cnJydHR0eHh4QEBAUqTi/8HDhzo6Oh47Ngx04+cPHlSWHOPiooyXXOXhLt37wJwd3cXTzsuXrwIICgoyMqn2i/Wxx+zwYPZzcYNk6Qk5uHB7t5lx46x+HjGLYe6LeTk5CgUCpVKZfkrK3laiCn85iCB6urqtLS0uLi4pUuXKpVKZ2fnmzcf2bD6zW9+A2D16tU8ctjPnDkD4JcmKbMJCQkAfv3rX1v5VPvFMhjYhg3M25uFhrKJE5mvL0tJYZWVxqzK559nLWdl8KOoqEij0bi4uAghzogRI5rd1TJNC3Fzc7MlLURE3PflMQdZEhERAUCj0ZgWPnz48LPPPuPUYmxsLIDXXntNLFm9ejWAmJgYK5+yKlZ+PjPJ5mGlpUzcFrh7l509yy5dYuKwn5RkdMvdncXFddrQlZeX9+qrrwpxiVKpDAkJGTJkiDBrTJw48bvvvrP8SHZ2tu1pIQLivi+POahZsrOzlUqli4vLLR75/M2xfPlyAH/605/EEstY3hJJt3Tu3GHz5zPAOHTd5JtfkJ+fHxUVJexmCDm1OTk5rHFXSzyxnzZtWrrpuNuIaVrIwIED25sWwlre9+XN/PnzAbz55pud09yECRMAfG+S4W8WyzcLh73CpCTm7c0A5uHB4uKkr5+x7OzsyMhIQSknJ6fIyEjL/KcHDx7ExMT07t1bWO8JDw+/du2aZVUdTgs5cuSI0AGzfd9OICMjQ6FQuLm5mW4iccJgMAgnJWJmhBDLe3h4WP+P4rMJXVrK5s41Dl3Tp7O2ZZa1hczMzMjISCFIEpSynp1SXl6u1WqFGEgY1QoKCsyO6UBaSEv7vp3GrFmzAGzYsIF3QzqdTlhXE0uEWD44ONj6B3lmNxw8aLxG2MurOinJxsouX74cHh4u7JA4OztHRkbm5eW18bPFxcUajUa4YYFwSmj5u67X6w8cOCCmhUydOrXZCZS1vO/bmfz73/8WBq2OpVi1neTkZAC/+tWvxJI9e/aYxfLNwjltpqSEzZ7NVKo5/v4zZszoWLyZkZEhKqVSqaKiotqYXGtGQUFBVFSU4IRwpYBlMkltbe2ePXv69u0L4NChQ5aV7N+/X9j3ff/99zvQBwkJDQ2F1d06Sdi5c6dZPCcsbZjG8s3CPx/LYLj86afCPN2nTx8ru0uWnD9/PiwsTBhC3NzcNBqN7adCmZmZ4ilhnz59mj0lrKys3L17t9lGCmNs165daG7fVxYuXLggrFt2eBu7LSxcuBCA6d6RZSzfLJ2U6Hf79m1RkfDw8LKyMuvHp6amisf37NlTo9GUlJRI2J+0tDRhnweNVwpYamSGsO+rVCo/7DLbDMJp/9tvW1tPspEnn3wSJkn9Yix/r7VUvE7NIE1MTBRWqH18fI4ePdrsMampqc8++6zwI+/Vq5dWq7Uxp9YKKSkpo0aNEtpqaU1VYMuWLcKOULPzo1ycO5cWEnJx4ECDRPmh5uj1emdnZ6VSKSZcCLG8r69vq5/t7NTkwsLCqY1PCwkPDzeNPVNSUiY03jfd29s7Ojq6kvcFXIw1NDSY3X3lzJkzpgcYDIa1a9eiuX3frsDkyQxgf/gDl8ozMzMBqNVqscQylm8JGXLeDQZDXFyckC7St2/fL774Ijk5edy4cWLcEx0dbftOS7uwXFMVBn+DwSCktDs7O5tlTHQRUlIYwLy9WU2N9JV/9tlnAObNmyeWWMbyLSHPxRQNDQ1paWnPPPOMEAsLP87+/fu///77tbW1snSJNV4pIK6phoWFCRtzKpXqyy+/lKtXrTJpEgPY7t3S1/z73/8ewJYtW8QSy1i+JeQRq7S0VBiuYmNjV61aFRQUtHbt2rCwMLPcbVkoLy9fv369sKbq5ubm5ubG6dZkUvHVVwxg/foxyX8lhWXYJJM1SLNY3gryiJWbmytsoYgln3zyCVrLxOhMbt26tWLFinPnzlm/eq6LMG4cA9iePRJXK1yTmJubK7y1jOWtIM+TKSorKwGIt/wCUFFRYVYiL76+vnv37pW7F21l82bMmYM//hFRUVI+3ic+Pv7KlSvimc21a9f0er1arXZzc2v1s/LcNdlSI0E1L8tnwBFtYPZsjBmDkhIcPChltdOmTVu7dq2wKwpAOEkUbi7SKvKIZamR5RhGtIuNGwEgJgZ6Pa8msrKyADzZtlucyymW5YhFYnWY+fMxciRu3kRiIq8mhBGrS4tlORV2tRir26FQYNMmODqisFD6yn/66afMzMz09HS0eSrsKsE7xVi2Ex6OqirjQ9EFzpxBv37tezyHXq8vLi7W6XTZ2dk5OTk6nU6n0xUWFhoMBhcXlxkzZoixvHXkFItiLGlRKnHoEK5cQXa28TGzCQmYOLFFserqjM/GzstDTc3h8+fj8/LyiouLLY9UqVRDhw5Vq9VHjx4VY3nrdJURi6ZCqRg/HmvX4vjxRwr1ehQXQ6dDdjZycqDTQadDYSEMBuMBISFlZ89+D8DJyWnQoEF+jQQEBAQGBg4ZMkTI2m078oglaGQ6YlVVVYHEkoLVq7FuHZKTMXu2sSQwEDk5zRypUsHPz/hk9ZEj527eHOjv7z948GBlqw/HbgPyiDXIwWFAr17CrhyAurq6+vp6V1dX4VIqwhacnfHuu9Bo0JhEAldXODlh0CDjY9XFp6wPGQKTYWgIMETCbsgj1uHr11FTg8YRy6mqqmzs2BofH1k6Y3/Mno2EBMTEGN9+/TU8PSHFMNQOZHpeYVUVADROfE4VFT7p6X43b8rTGXskNhb79+PHHwHA27uzrYI8YtXVob4erq4QJ76KCqDJM8J2hg7FmjVIS5OtA3JMhZWVAGC6ZGVZQnSI4cPh4WF8vW4dzp9H377y9EQ+sUzHJ8sSov0cPQqFAgMHGt+qVDh9WrbOyDEVWk58NBXaTEMDtmzBwYNISZG7KwDkEaulqZDEsoGEBFy9iscfx5IlcncFgJxiWU6FFGN1lPp67NgBADt3om07LtzpGlMhjVi28cEHKC7GmDF44QW5u9JI1xixBNVoxOoQ1dXYtQsA3nkHFneVlw2Ksbo9u3ejvByTJ+O55+TuiglyiKVSwdv7EbHorLCj3L2LDz4A0LSB00VQMMbkafnhQxQVwckJgwcjNRWlpZg5Ez16yNOZbsuqVdi7F/PmmefJyI5MYh04gK1b4eODujo4OiIhAZMny9CNbk5hIYYPx8OHuHwZgYFy98YMia9xbAunTjEvr6bHPB06xNzdmaR3Kfo/QatN9fAwLFkidz+aQ44RKyICarVx4UXgmWcQEYGVKzu7J92ZrKysUaNGeXurL13KGDKky+WxyRG8X7+OoKBHSkaNwo0bMvSkO7Np06aGhoaFC5/vglZBHrEUCsh1xmAvXLp06cSJEz179twoXKja9ZBDLH9/ZGU9UpKZica7YRNtQbgR95o1a4R7+XdFZIjrTpxgPj5MvOX/sWOsVy92+7YMPemenDp1CoC3t3cn356uXcixYxkWhnXrEByMESNQV4c7d3DsGJp79ChhCWt8bO7GjRs9xKS+rod8C6S1tcjJgUqFwEC085q1/2eSkpIiIiJ8fX1v3LjRowuvJ8snFtF+GhoaRo4cmZubGx8fLzyUq8si01U6RIf46KOPcnNz1Wr10qVL5e5LK9CI1W0wGAxqtVqn0x05ckS4625XpmukGxJtQKlUfvvttx9++OGLL74od19ah0YsggsUYxFcILEILpBYBBdILIILJBbBBRKL4AKJRXCBxCK4QGIRXCCxCC6QWAQXSCyCCyQWwQUSi+ACiUVwgcQiuEBiEVwgsQgukFgEF0gsggskFsEFEovgAolFcIHEIrhAYhFcILEILpBYBBdILIILJBbBBRKL4AKJRXCBxCK4QGIRXCCxCC6QWAQXSCyCCyQWwQUSi+ACiUVwgcQiuEBiEVwgsQgukFgEF0gsggskFsEFEovgAolFcIHEIrhAYhFcILEILpBYBBdILIILJBbBBRKL4AKJRXDhfw6lAumatOO2AAABMHpUWHRyZGtpdFBLTCByZGtpdCAyMDIxLjAzLjEAAHice79v7T0GIOABYkYGCOADYn4gbmBkY0gAiTOzO2gAaWZmNocMMM2IjQFWwoKg0SUYIDQHhGbiYAArYGRkd7AAM+C2cANdwsiUwMScwcTMksDCmsHEyqbAxp7AzpHBxMGpwMmlwcTJrcDBk8DDm8DKmMDLlsEkwsTKCFTMysrOxsvDIQ7zCQPf59hb9kkV4gdAHGVhKYdTlq37Qew9MpUOzGYhYPaBUy0OqhJq9iA2yy4Th7Qra8DsE/Pu269cOccOxL5wr9PupbkAWFx8t99+WYtv+0Bs5y6OA0mXEsFqYvfEHThl8hAsbmudeqDvznew+afNpx9Y+eoUWM1vpQ/7ExJvgs3Rsj+xT6PhC5gtBgCte0eRv7c6dAAAATB6VFh0TU9MIHJka2l0IDIwMjEuMDMuMQAAeJydk0tOxDAQRPc5RV9gWv3zp9eEFWKQWHAH9txftGOPCRJIkaMoqbKd53Lb2aBd7/vL5xfMS/ZtAzbgBEB/3u4OH0JEWxvPWChHM9wENefS2gijl+AJ/kOc74MiaFSsURjJqJ4o9+sUxepyUAirVF/LYsjmYx3Zal1dURX1XiFNJGuUqK4V6t9qr/MChVCya1cpqy1RWk2ppK6s0lp145SwPhKIUFqjaEsgI4v6YhbFVLn0U+eaz3V5u04xLJLy2CPPukZhrCVz3/Ps9Uy5/gfcWgIeFOdfp+4yJT6X49lMqIhi3XQ1TLzSNKHyNKHKBISqsyeUT+PA9BgWivu8w/wkiGEzQSi28zwye+yY6jCvAM/3ffsGQ0DAX8tilPQAAADZelRYdFNNSUxFUyByZGtpdCAyMDIxLjAzLjEAAHicHY87jsNADEOvsqUNzAj6f2CkcpMuB1hs5d4nyOFXY5UU+SidN109NC+6f+/337Wd2+uzf/aLfr4bQaBVjckg7sHjYFAM5TEJUDFlHAJZLDkmQnKW1jgUSCtsILhmoq9YtscGgRhyp5qsgdIW6YZsMgJ7cWRL5iLWpkZKEWF0rgipQd2b4Y/iHctWGEhEtXPMaNz9U0AT2dZNKpXmj2ZJoevyEu8XjqkQbL1cNS7MT2Ni2HoQFyMrxv79B1zsPPOZQ9HhAAAAAElFTkSuQmCC\" alt=\"Mol\"/></td>\n",
       "      <td>842676</td>\n",
       "      <td>17.90888</td>\n",
       "      <td>0</td>\n",
       "    </tr>\n",
       "    <tr>\n",
       "      <th>206</th>\n",
       "      <td>O=c1cc(CSc2ccccn2)[nH]c(=O)[nH]1</td>\n",
       "      <td>842730</td>\n",
       "      <td>430</td>\n",
       "      <td>No</td>\n",
       "      <td><img data-content=\"rdkit/molecule\" src=\"data:image/png;base64,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\" alt=\"Mol\"/></td>\n",
       "      <td>842730</td>\n",
       "      <td>3.75678</td>\n",
       "      <td>0</td>\n",
       "    </tr>\n",
       "    <tr>\n",
       "      <th>224</th>\n",
       "      <td>COC(=O)C1(C)NC(c2cccs2)C2C(=O)N(c3ccccc3F)C(=O...</td>\n",
       "      <td>842773</td>\n",
       "      <td>430</td>\n",
       "      <td>No</td>\n",
       "      <td><img data-content=\"rdkit/molecule\" src=\"data:image/png;base64,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\" alt=\"Mol\"/></td>\n",
       "      <td>842773</td>\n",
       "      <td>0.95608</td>\n",
       "      <td>0</td>\n",
       "    </tr>\n",
       "    <tr>\n",
       "      <th>233</th>\n",
       "      <td>CS(=O)(=O)C1=C(O)C(=O)N(CCCC(=O)O)C1c1ccccc1F</td>\n",
       "      <td>842800</td>\n",
       "      <td>430</td>\n",
       "      <td>No</td>\n",
       "      <td><img data-content=\"rdkit/molecule\" src=\"data:image/png;base64,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\" alt=\"Mol\"/></td>\n",
       "      <td>842800</td>\n",
       "      <td>10.69938</td>\n",
       "      <td>0</td>\n",
       "    </tr>\n",
       "    <tr>\n",
       "      <th>257</th>\n",
       "      <td>Fc1ccccc1Cn1nnc2c(-n3ccnc3)ncnc21</td>\n",
       "      <td>842868</td>\n",
       "      <td>430</td>\n",
       "      <td>No</td>\n",
       "      <td><img data-content=\"rdkit/molecule\" src=\"data:image/png;base64,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\" alt=\"Mol\"/></td>\n",
       "      <td>842868</td>\n",
       "      <td>6.47258</td>\n",
       "      <td>0</td>\n",
       "    </tr>\n",
       "    <tr>\n",
       "      <th>275</th>\n",
       "      <td>N#CC1=C(N)Oc2c(oc(CO)cc2=O)C1c1cccs1</td>\n",
       "      <td>842920</td>\n",
       "      <td>430</td>\n",
       "      <td>No</td>\n",
       "      <td><img data-content=\"rdkit/molecule\" src=\"data:image/png;base64,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\" alt=\"Mol\"/></td>\n",
       "      <td>842920</td>\n",
       "      <td>18.22948</td>\n",
       "      <td>0</td>\n",
       "    </tr>\n",
       "  </tbody>\n",
       "</table>\n",
       "</div>"
      ],
      "text/plain": [
       "                                                SMILES    Name  Cluster  \\\n",
       "12       CN1C=CC2=C(C#N)C(N)C(C#N)(C#N)C(c3ccccc3)C2C1  842157      430   \n",
       "64                            CC(Sc1nc2ccccc2o1)C(=O)O  842324      430   \n",
       "71              O=c1[nH]c(=O)n(CCO)c2nnn(Cc3ccccc3)c12  842335      430   \n",
       "85             CCCc1[nH]nc2c1C(Cc1ccccc1)C(C#N)=C(N)O2  842368      430   \n",
       "101                   O=C(O)CCCC(=O)N1CC(=O)Nc2ccccc21  842434      430   \n",
       "103                        O=C1CC(c2ccco2)=Nc2ccccc2N1  842442      430   \n",
       "115                  C/C(CC1(O)C(=O)N(C)c2ccccc21)=N\\O  842467      430   \n",
       "117  O=C1Nc2ccccc2C12OCC1(CO2)COC2(OC1)C(=O)Nc1ccccc12  842469      430   \n",
       "157                                  N#Cc1cccc2cnccc12  842587      430   \n",
       "190                        Cn1cccc1-c1cc(C(=O)O)[nH]n1  842676      430   \n",
       "206                   O=c1cc(CSc2ccccn2)[nH]c(=O)[nH]1  842730      430   \n",
       "224  COC(=O)C1(C)NC(c2cccs2)C2C(=O)N(c3ccccc3F)C(=O...  842773      430   \n",
       "233      CS(=O)(=O)C1=C(O)C(=O)N(CCCC(=O)O)C1c1ccccc1F  842800      430   \n",
       "257                  Fc1ccccc1Cn1nnc2c(-n3ccnc3)ncnc21  842868      430   \n",
       "275               N#CC1=C(N)Oc2c(oc(CO)cc2=O)C1c1cccs1  842920      430   \n",
       "\n",
       "    Center                                                Mol  \\\n",
       "12      No  <img data-content=\"rdkit/molecule\" src=\"data:i...   \n",
       "64      No  <img data-content=\"rdkit/molecule\" src=\"data:i...   \n",
       "71      No  <img data-content=\"rdkit/molecule\" src=\"data:i...   \n",
       "85      No  <img data-content=\"rdkit/molecule\" src=\"data:i...   \n",
       "101     No  <img data-content=\"rdkit/molecule\" src=\"data:i...   \n",
       "103     No  <img data-content=\"rdkit/molecule\" src=\"data:i...   \n",
       "115     No  <img data-content=\"rdkit/molecule\" src=\"data:i...   \n",
       "117     No  <img data-content=\"rdkit/molecule\" src=\"data:i...   \n",
       "157     No  <img data-content=\"rdkit/molecule\" src=\"data:i...   \n",
       "190     No  <img data-content=\"rdkit/molecule\" src=\"data:i...   \n",
       "206     No  <img data-content=\"rdkit/molecule\" src=\"data:i...   \n",
       "224     No  <img data-content=\"rdkit/molecule\" src=\"data:i...   \n",
       "233     No  <img data-content=\"rdkit/molecule\" src=\"data:i...   \n",
       "257     No  <img data-content=\"rdkit/molecule\" src=\"data:i...   \n",
       "275     No  <img data-content=\"rdkit/molecule\" src=\"data:i...   \n",
       "\n",
       "     PubChem Substance ID  hERG inhibition (%) at 10uM  class  \n",
       "12                 842157                      9.48638      0  \n",
       "64                 842324                      7.39828      0  \n",
       "71                 842335                     12.96588      0  \n",
       "85                 842368                      0.43208      0  \n",
       "101                842434                      4.49908      0  \n",
       "103                842442                      3.49728      0  \n",
       "115                842467                     11.03138      0  \n",
       "117                842469                      8.14498      0  \n",
       "157                842587                      4.95278      0  \n",
       "190                842676                     17.90888      0  \n",
       "206                842730                      3.75678      0  \n",
       "224                842773                      0.95608      0  \n",
       "233                842800                     10.69938      0  \n",
       "257                842868                      6.47258      0  \n",
       "275                842920                     18.22948      0  "
      ]
     },
     "execution_count": 43,
     "metadata": {},
     "output_type": "execute_result"
    }
   ],
   "source": [
    "df_clust.loc[df_clust['Cluster'] == 430].head(15)"
   ]
  },
  {
   "cell_type": "code",
   "execution_count": 44,
   "metadata": {},
   "outputs": [
    {
     "data": {
      "text/html": [
       "<div>\n",
       "<style scoped>\n",
       "    .dataframe tbody tr th:only-of-type {\n",
       "        vertical-align: middle;\n",
       "    }\n",
       "\n",
       "    .dataframe tbody tr th {\n",
       "        vertical-align: top;\n",
       "    }\n",
       "\n",
       "    .dataframe thead th {\n",
       "        text-align: right;\n",
       "    }\n",
       "</style>\n",
       "<table border=\"1\" class=\"dataframe\">\n",
       "  <thead>\n",
       "    <tr style=\"text-align: right;\">\n",
       "      <th></th>\n",
       "      <th>SMILES</th>\n",
       "      <th>Name</th>\n",
       "      <th>Cluster</th>\n",
       "      <th>Center</th>\n",
       "      <th>Mol</th>\n",
       "      <th>PubChem Substance ID</th>\n",
       "      <th>hERG inhibition (%) at 10uM</th>\n",
       "      <th>class</th>\n",
       "    </tr>\n",
       "  </thead>\n",
       "  <tbody>\n",
       "    <tr>\n",
       "      <th>143744</th>\n",
       "      <td>c1ccc2ccccc2c1</td>\n",
       "      <td>49816690</td>\n",
       "      <td>430</td>\n",
       "      <td>Yes</td>\n",
       "      <td><img data-content=\"rdkit/molecule\" src=\"data:image/png;base64,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\" alt=\"Mol\"/></td>\n",
       "      <td>49816690</td>\n",
       "      <td>20.91408</td>\n",
       "      <td>0</td>\n",
       "    </tr>\n",
       "  </tbody>\n",
       "</table>\n",
       "</div>"
      ],
      "text/plain": [
       "                SMILES      Name  Cluster Center  \\\n",
       "143744  c1ccc2ccccc2c1  49816690      430    Yes   \n",
       "\n",
       "                                                      Mol  \\\n",
       "143744  <img data-content=\"rdkit/molecule\" src=\"data:i...   \n",
       "\n",
       "        PubChem Substance ID  hERG inhibition (%) at 10uM  class  \n",
       "143744              49816690                     20.91408      0  "
      ]
     },
     "execution_count": 44,
     "metadata": {},
     "output_type": "execute_result"
    }
   ],
   "source": [
    "df_clust.loc[(df_clust['Cluster'] == 430) & (df_clust['Center'] == \"Yes\")]"
   ]
  },
  {
   "cell_type": "markdown",
   "metadata": {},
   "source": [
    "Довольно разнородная выборка... И молекула, представляющая центр кластера - нафталин.."
   ]
  },
  {
   "cell_type": "code",
   "execution_count": 45,
   "metadata": {},
   "outputs": [
    {
     "data": {
      "text/plain": [
       "500"
      ]
     },
     "execution_count": 45,
     "metadata": {},
     "output_type": "execute_result"
    }
   ],
   "source": [
    "valid_set = pd.DataFrame(df_clust.drop_duplicates(\"Cluster\"))\n",
    "len(valid_set)"
   ]
  },
  {
   "cell_type": "code",
   "execution_count": 46,
   "metadata": {},
   "outputs": [
    {
     "data": {
      "text/plain": [
       "1"
      ]
     },
     "execution_count": 46,
     "metadata": {},
     "output_type": "execute_result"
    }
   ],
   "source": [
    "valid_set[\"class\"].sum()"
   ]
  },
  {
   "cell_type": "markdown",
   "metadata": {},
   "source": [
    "Таким образом, мы получили для валидации датасет, совершенно не содержащий активных молекул. Это плохой способ проверить модель."
   ]
  },
  {
   "cell_type": "markdown",
   "metadata": {},
   "source": [
    "Попробуем это исправить. Разделим всю выборку на блокаторы и неблокаторы, а далее из каждой выборки выберем одно соединений из каждого кластера."
   ]
  },
  {
   "cell_type": "code",
   "execution_count": 47,
   "metadata": {},
   "outputs": [
    {
     "data": {
      "text/plain": [
       "{0: 0, 1: 1}"
      ]
     },
     "execution_count": 47,
     "metadata": {},
     "output_type": "execute_result"
    }
   ],
   "source": [
    "unique_targets = df_clust['class'].unique()\n",
    "target_dict = dict([(x,y) for x,y in zip(unique_targets,range(0,len(unique_targets)))])\n",
    "num_targets = len(unique_targets)\n",
    "target_dict"
   ]
  },
  {
   "cell_type": "code",
   "execution_count": 48,
   "metadata": {},
   "outputs": [
    {
     "data": {
      "text/html": [
       "<div>\n",
       "<style scoped>\n",
       "    .dataframe tbody tr th:only-of-type {\n",
       "        vertical-align: middle;\n",
       "    }\n",
       "\n",
       "    .dataframe tbody tr th {\n",
       "        vertical-align: top;\n",
       "    }\n",
       "\n",
       "    .dataframe thead th {\n",
       "        text-align: right;\n",
       "    }\n",
       "</style>\n",
       "<table border=\"1\" class=\"dataframe\">\n",
       "  <thead>\n",
       "    <tr style=\"text-align: right;\">\n",
       "      <th></th>\n",
       "      <th>Class</th>\n",
       "      <th>0</th>\n",
       "      <th>1</th>\n",
       "      <th>2</th>\n",
       "      <th>3</th>\n",
       "      <th>4</th>\n",
       "      <th>5</th>\n",
       "      <th>6</th>\n",
       "      <th>7</th>\n",
       "      <th>8</th>\n",
       "      <th>...</th>\n",
       "      <th>490</th>\n",
       "      <th>491</th>\n",
       "      <th>492</th>\n",
       "      <th>493</th>\n",
       "      <th>494</th>\n",
       "      <th>495</th>\n",
       "      <th>496</th>\n",
       "      <th>497</th>\n",
       "      <th>498</th>\n",
       "      <th>499</th>\n",
       "    </tr>\n",
       "  </thead>\n",
       "  <tbody>\n",
       "    <tr>\n",
       "      <th>0</th>\n",
       "      <td>0</td>\n",
       "      <td>2</td>\n",
       "      <td>3</td>\n",
       "      <td>3</td>\n",
       "      <td>90</td>\n",
       "      <td>34</td>\n",
       "      <td>111</td>\n",
       "      <td>6</td>\n",
       "      <td>21</td>\n",
       "      <td>80</td>\n",
       "      <td>...</td>\n",
       "      <td>5</td>\n",
       "      <td>13</td>\n",
       "      <td>8</td>\n",
       "      <td>21</td>\n",
       "      <td>90</td>\n",
       "      <td>7</td>\n",
       "      <td>-58</td>\n",
       "      <td>-9</td>\n",
       "      <td>3</td>\n",
       "      <td>10</td>\n",
       "    </tr>\n",
       "    <tr>\n",
       "      <th>1</th>\n",
       "      <td>1</td>\n",
       "      <td>0</td>\n",
       "      <td>0</td>\n",
       "      <td>0</td>\n",
       "      <td>1</td>\n",
       "      <td>0</td>\n",
       "      <td>0</td>\n",
       "      <td>0</td>\n",
       "      <td>1</td>\n",
       "      <td>1</td>\n",
       "      <td>...</td>\n",
       "      <td>0</td>\n",
       "      <td>0</td>\n",
       "      <td>0</td>\n",
       "      <td>0</td>\n",
       "      <td>0</td>\n",
       "      <td>0</td>\n",
       "      <td>1</td>\n",
       "      <td>1</td>\n",
       "      <td>0</td>\n",
       "      <td>0</td>\n",
       "    </tr>\n",
       "  </tbody>\n",
       "</table>\n",
       "<p>2 rows × 501 columns</p>\n",
       "</div>"
      ],
      "text/plain": [
       "   Class  0  1  2   3   4    5  6   7   8  ...  490  491  492  493  494  495  \\\n",
       "0      0  2  3  3  90  34  111  6  21  80  ...    5   13    8   21   90    7   \n",
       "1      1  0  0  0   1   0    0  0   1   1  ...    0    0    0    0    0    0   \n",
       "\n",
       "   496  497  498  499  \n",
       "0  -58   -9    3   10  \n",
       "1    1    1    0    0  \n",
       "\n",
       "[2 rows x 501 columns]"
      ]
     },
     "execution_count": 48,
     "metadata": {},
     "output_type": "execute_result"
    }
   ],
   "source": [
    "mat = []\n",
    "for k,v in df_clust.groupby(\"Cluster\"):\n",
    "    row_vec = np.zeros(num_targets,dtype=np.int8)\n",
    "    for tgt,count in v['class'].value_counts().iteritems():\n",
    "        tgt_idx = target_dict[tgt]\n",
    "        row_vec[tgt_idx] = count\n",
    "    mat.append(row_vec)\n",
    "mat = np.array(mat)\n",
    "out_df = pd.DataFrame(mat.transpose())\n",
    "out_df.insert(0,\"Class\",unique_targets)\n",
    "out_df"
   ]
  },
  {
   "cell_type": "code",
   "execution_count": 49,
   "metadata": {},
   "outputs": [
    {
     "data": {
      "text/plain": [
       "0    500\n",
       "1    106\n",
       "dtype: int64"
      ]
     },
     "execution_count": 49,
     "metadata": {},
     "output_type": "execute_result"
    }
   ],
   "source": [
    "(out_df != 0).sum(axis=1)"
   ]
  },
  {
   "cell_type": "markdown",
   "metadata": {},
   "source": [
    "Таким образом, неактивные соединения присутствуют во всех кластерах. В то время, как активные лишь в 72 кластерах.\n",
    "Разделим активные и неактивные соединения, а далее отберем по одному объекту из кажого кластера. "
   ]
  },
  {
   "cell_type": "code",
   "execution_count": 50,
   "metadata": {},
   "outputs": [],
   "source": [
    "def get_uniq_from_clust(df, activity):\n",
    "    df = df[(df['class']==activity)]\n",
    "    val_df = pd.DataFrame(df.drop_duplicates(\"Cluster\"))\n",
    "    return val_df"
   ]
  },
  {
   "cell_type": "code",
   "execution_count": 51,
   "metadata": {},
   "outputs": [
    {
     "data": {
      "text/plain": [
       "105"
      ]
     },
     "execution_count": 51,
     "metadata": {},
     "output_type": "execute_result"
    }
   ],
   "source": [
    "df_clust_active = get_uniq_from_clust(df = df_clust, activity = 1)\n",
    "len(df_clust_active)"
   ]
  },
  {
   "cell_type": "code",
   "execution_count": 52,
   "metadata": {},
   "outputs": [
    {
     "data": {
      "text/plain": [
       "500"
      ]
     },
     "execution_count": 52,
     "metadata": {},
     "output_type": "execute_result"
    }
   ],
   "source": [
    "df_clust_inactive = get_uniq_from_clust(df = df_clust, activity = 0)\n",
    "len(df_clust_inactive)"
   ]
  },
  {
   "cell_type": "code",
   "execution_count": 53,
   "metadata": {},
   "outputs": [],
   "source": [
    "val_set = pd.concat([df_clust_active, df_clust_inactive])"
   ]
  },
  {
   "cell_type": "code",
   "execution_count": 54,
   "metadata": {},
   "outputs": [
    {
     "data": {
      "text/plain": [
       "605"
      ]
     },
     "execution_count": 54,
     "metadata": {},
     "output_type": "execute_result"
    }
   ],
   "source": [
    "len(val_set)"
   ]
  },
  {
   "cell_type": "code",
   "execution_count": 55,
   "metadata": {},
   "outputs": [],
   "source": [
    "del val_set['Mol']"
   ]
  },
  {
   "cell_type": "code",
   "execution_count": 56,
   "metadata": {},
   "outputs": [],
   "source": [
    "val_set.to_csv(\"herg_valid_set.csv\", encoding='utf-8', index=False)"
   ]
  },
  {
   "cell_type": "markdown",
   "metadata": {},
   "source": [
    "Вывод:\n",
    "    В резултате мы получили валидационный сет для проверки модели, содержащий 105/500 (около 20 %) активных соединений и 500/600 (около 80%) неактивных соединений, причем каждое соединений в одном классе активности относится к разным кластерам (химически разнородны). "
   ]
  },
  {
   "cell_type": "code",
   "execution_count": null,
   "metadata": {},
   "outputs": [],
   "source": []
  }
 ],
 "metadata": {
  "celltoolbar": "Edit Metadata",
  "kernelspec": {
   "display_name": "Python 3 (ipykernel)",
   "language": "python",
   "name": "python3"
  },
  "language_info": {
   "codemirror_mode": {
    "name": "ipython",
    "version": 3
   },
   "file_extension": ".py",
   "mimetype": "text/x-python",
   "name": "python",
   "nbconvert_exporter": "python",
   "pygments_lexer": "ipython3",
   "version": "3.8.5"
  }
 },
 "nbformat": 4,
 "nbformat_minor": 2
}
