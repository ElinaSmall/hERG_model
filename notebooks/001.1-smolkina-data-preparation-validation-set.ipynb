{
 "cells": [
  {
   "cell_type": "markdown",
   "metadata": {},
   "source": [
    "###### В данном Jupyter Notebook проводится подготовка валидационного сета"
   ]
  },
  {
   "cell_type": "markdown",
   "metadata": {},
   "source": [
    "Пайплайн:\n",
    "\n",
    "1. Скачивание данных HERG-central;\n",
    "2. Стандартизация единиц измерения активности к herg каналам, удаление дубликатов;\n",
    "3. Кластеризация соединений с помощью python-скрипта от PatWalter: https://github.com/PatWalters/kmeans Параметры: fp = morgan3, dim = 2048, sampels = 6000, clusters = 500;\n",
    "4. Анализ разбиения выборки на кластеры;\n",
    "5. Составление наиболее сбалансированного валидацинного датасета из соединений разных кластеров;\n",
    "6. Сохранение подготовленных данных в .csv файлы."
   ]
  },
  {
   "cell_type": "markdown",
   "metadata": {},
   "source": [
    "# Обработка данных с HERG-central"
   ]
  },
  {
   "cell_type": "code",
   "execution_count": 154,
   "metadata": {},
   "outputs": [],
   "source": [
    "import logging\n",
    "import numpy as np\n",
    "from numpy import mean, std, zeros\n",
    "from pandas import DataFrame\n",
    "import pandas as pd\n",
    "from pathlib import Path\n",
    "import sys\n",
    "from rdkit import Chem, DataStructs, RDConfig\n",
    "from rdkit.Chem import AllChem, Descriptors, Draw, PandasTools, MolStandardize, DataStructs, ChemicalFeatures\n",
    "from rdkit.Chem.MolStandardize import rdMolStandardize\n",
    "from rdkit.Chem.Draw import IPythonConsole\n",
    "IPythonConsole.ipython_useSVG=True\n",
    "from IPython.display import display, display_png\n",
    "import rdkit.rdBase as rkrb\n",
    "import rdkit.RDLogger as rkl\n",
    "from rdkit.Chem.Pharm2D.SigFactory import SigFactory\n",
    "from rdkit.Chem.Pharm2D import Generate\n",
    "from sklearn.preprocessing import FunctionTransformer\n",
    "from sklearn.linear_model import LogisticRegressionCV, LinearRegression, SGDClassifier\n",
    "from sklearn.ensemble import RandomForestClassifier, GradientBoostingClassifier, VotingClassifier\n",
    "from sklearn.model_selection import KFold, cross_val_predict, GridSearchCV\n",
    "import sklearn.metrics as metrics\n",
    "from sklearn.metrics import f1_score, accuracy_score, balanced_accuracy_score, roc_auc_score, recall_score, precision_score\n",
    "from sklearn.model_selection import train_test_split, cross_val_score, RepeatedStratifiedKFold\n",
    "from sklearn.preprocessing import StandardScaler, FunctionTransformer\n",
    "from sklearn.datasets import make_classification \n",
    "from tqdm import tqdm\n",
    "import xgboost\n",
    "from xgboost import XGBRFClassifier\n",
    "#import time"
   ]
  },
  {
   "cell_type": "code",
   "execution_count": 155,
   "metadata": {},
   "outputs": [],
   "source": [
    "#! pip install tqdm"
   ]
  },
  {
   "cell_type": "markdown",
   "metadata": {},
   "source": [
    "Загрузим датасет"
   ]
  },
  {
   "cell_type": "code",
   "execution_count": 72,
   "metadata": {},
   "outputs": [],
   "source": [
    "df = pd.read_csv('herg_central.txt', delimiter = \"\\t\")"
   ]
  },
  {
   "cell_type": "code",
   "execution_count": 73,
   "metadata": {},
   "outputs": [
    {
     "data": {
      "text/plain": [
       "SMILES                         0\n",
       "PubChem Substance ID           0\n",
       "hERG inhibition (%) at 1uM     0\n",
       "hERG inhibition (%) at 10uM    0\n",
       "dtype: int64"
      ]
     },
     "execution_count": 73,
     "metadata": {},
     "output_type": "execute_result"
    }
   ],
   "source": [
    "df.isna().sum()"
   ]
  },
  {
   "cell_type": "code",
   "execution_count": 74,
   "metadata": {},
   "outputs": [
    {
     "data": {
      "text/html": [
       "<div>\n",
       "<style scoped>\n",
       "    .dataframe tbody tr th:only-of-type {\n",
       "        vertical-align: middle;\n",
       "    }\n",
       "\n",
       "    .dataframe tbody tr th {\n",
       "        vertical-align: top;\n",
       "    }\n",
       "\n",
       "    .dataframe thead th {\n",
       "        text-align: right;\n",
       "    }\n",
       "</style>\n",
       "<table border=\"1\" class=\"dataframe\">\n",
       "  <thead>\n",
       "    <tr style=\"text-align: right;\">\n",
       "      <th></th>\n",
       "      <th>SMILES</th>\n",
       "      <th>PubChem Substance ID</th>\n",
       "      <th>hERG inhibition (%) at 1uM</th>\n",
       "      <th>hERG inhibition (%) at 10uM</th>\n",
       "    </tr>\n",
       "  </thead>\n",
       "  <tbody>\n",
       "    <tr>\n",
       "      <th>0</th>\n",
       "      <td>C1=CC2=NC3=C(C=C(C(=NC(=O)C4=CC=CO4)N3CC5=CC=C...</td>\n",
       "      <td>22403712</td>\n",
       "      <td>-10.1124</td>\n",
       "      <td>-32.88202</td>\n",
       "    </tr>\n",
       "    <tr>\n",
       "      <th>1</th>\n",
       "      <td>C1C(CN(C1C(=O)OCC(=O)C2=CC=CC=C2Cl)S(=O)(=O)C3...</td>\n",
       "      <td>22411435</td>\n",
       "      <td>5.5191</td>\n",
       "      <td>4.12648</td>\n",
       "    </tr>\n",
       "    <tr>\n",
       "      <th>2</th>\n",
       "      <td>C1COCCN1C(=O)OC2=CC3=C(C=C2)C(=O)/C(=C/C4=CC=C...</td>\n",
       "      <td>17513249</td>\n",
       "      <td>9.5532</td>\n",
       "      <td>5.23978</td>\n",
       "    </tr>\n",
       "    <tr>\n",
       "      <th>3</th>\n",
       "      <td>CC1=NC2=CC=CC=C2C(=C1)C(=O)N/N=C/C3=CC(=CC=C3)...</td>\n",
       "      <td>17512209</td>\n",
       "      <td>-0.2112</td>\n",
       "      <td>-5.44332</td>\n",
       "    </tr>\n",
       "    <tr>\n",
       "      <th>4</th>\n",
       "      <td>COCCNC(=O)C1=C(N(C2=NC3=CC=CC=C3N=C12)CC4=CC=C...</td>\n",
       "      <td>14729741</td>\n",
       "      <td>12.6230</td>\n",
       "      <td>14.73378</td>\n",
       "    </tr>\n",
       "    <tr>\n",
       "      <th>...</th>\n",
       "      <td>...</td>\n",
       "      <td>...</td>\n",
       "      <td>...</td>\n",
       "      <td>...</td>\n",
       "    </tr>\n",
       "    <tr>\n",
       "      <th>306890</th>\n",
       "      <td>C1CCN(C1)S(=O)(=O)C2=CC=C(C=C2)C(=O)OCC(=O)NC3...</td>\n",
       "      <td>57262925</td>\n",
       "      <td>4.8576</td>\n",
       "      <td>1.38128</td>\n",
       "    </tr>\n",
       "    <tr>\n",
       "      <th>306891</th>\n",
       "      <td>C1CN(CCN1CC(=O)NC2=CC=C(C=C2)C(=O)N)S(=O)(=O)C...</td>\n",
       "      <td>57264745</td>\n",
       "      <td>4.4922</td>\n",
       "      <td>-3.78132</td>\n",
       "    </tr>\n",
       "    <tr>\n",
       "      <th>306892</th>\n",
       "      <td>CC1=CC(=C(C(=C1C)S(=O)(=O)N2CCN(CC2)C(=O)CNC(=...</td>\n",
       "      <td>57259638</td>\n",
       "      <td>-0.9701</td>\n",
       "      <td>-13.56112</td>\n",
       "    </tr>\n",
       "    <tr>\n",
       "      <th>306893</th>\n",
       "      <td>C1COCCN1C2=C(C=C(C=C2)C(F)(F)F)NC(=O)COC(=O)C3...</td>\n",
       "      <td>57261004</td>\n",
       "      <td>-7.1374</td>\n",
       "      <td>-25.02142</td>\n",
       "    </tr>\n",
       "    <tr>\n",
       "      <th>306894</th>\n",
       "      <td>CC1=CC(=NC2=NC(=NN12)SCC(=O)N3CCOCC3)C</td>\n",
       "      <td>57268033</td>\n",
       "      <td>9.8421</td>\n",
       "      <td>11.95758</td>\n",
       "    </tr>\n",
       "  </tbody>\n",
       "</table>\n",
       "<p>306895 rows × 4 columns</p>\n",
       "</div>"
      ],
      "text/plain": [
       "                                                   SMILES  \\\n",
       "0       C1=CC2=NC3=C(C=C(C(=NC(=O)C4=CC=CO4)N3CC5=CC=C...   \n",
       "1       C1C(CN(C1C(=O)OCC(=O)C2=CC=CC=C2Cl)S(=O)(=O)C3...   \n",
       "2       C1COCCN1C(=O)OC2=CC3=C(C=C2)C(=O)/C(=C/C4=CC=C...   \n",
       "3       CC1=NC2=CC=CC=C2C(=C1)C(=O)N/N=C/C3=CC(=CC=C3)...   \n",
       "4       COCCNC(=O)C1=C(N(C2=NC3=CC=CC=C3N=C12)CC4=CC=C...   \n",
       "...                                                   ...   \n",
       "306890  C1CCN(C1)S(=O)(=O)C2=CC=C(C=C2)C(=O)OCC(=O)NC3...   \n",
       "306891  C1CN(CCN1CC(=O)NC2=CC=C(C=C2)C(=O)N)S(=O)(=O)C...   \n",
       "306892  CC1=CC(=C(C(=C1C)S(=O)(=O)N2CCN(CC2)C(=O)CNC(=...   \n",
       "306893  C1COCCN1C2=C(C=C(C=C2)C(F)(F)F)NC(=O)COC(=O)C3...   \n",
       "306894             CC1=CC(=NC2=NC(=NN12)SCC(=O)N3CCOCC3)C   \n",
       "\n",
       "        PubChem Substance ID  hERG inhibition (%) at 1uM  \\\n",
       "0                   22403712                    -10.1124   \n",
       "1                   22411435                      5.5191   \n",
       "2                   17513249                      9.5532   \n",
       "3                   17512209                     -0.2112   \n",
       "4                   14729741                     12.6230   \n",
       "...                      ...                         ...   \n",
       "306890              57262925                      4.8576   \n",
       "306891              57264745                      4.4922   \n",
       "306892              57259638                     -0.9701   \n",
       "306893              57261004                     -7.1374   \n",
       "306894              57268033                      9.8421   \n",
       "\n",
       "        hERG inhibition (%) at 10uM  \n",
       "0                         -32.88202  \n",
       "1                           4.12648  \n",
       "2                           5.23978  \n",
       "3                          -5.44332  \n",
       "4                          14.73378  \n",
       "...                             ...  \n",
       "306890                      1.38128  \n",
       "306891                     -3.78132  \n",
       "306892                    -13.56112  \n",
       "306893                    -25.02142  \n",
       "306894                     11.95758  \n",
       "\n",
       "[306895 rows x 4 columns]"
      ]
     },
     "execution_count": 74,
     "metadata": {},
     "output_type": "execute_result"
    }
   ],
   "source": [
    "df = df.drop_duplicates(subset =\"PubChem Substance ID\")\n",
    "df"
   ]
  },
  {
   "cell_type": "markdown",
   "metadata": {},
   "source": [
    "Удалим соли"
   ]
  },
  {
   "cell_type": "code",
   "execution_count": 156,
   "metadata": {},
   "outputs": [
    {
     "data": {
      "text/plain": [
       "294939"
      ]
     },
     "execution_count": 156,
     "metadata": {},
     "output_type": "execute_result"
    }
   ],
   "source": [
    "df = df.drop(df[df.SMILES.str.contains(r'[.]')].index)\n",
    "len(df)"
   ]
  },
  {
   "cell_type": "code",
   "execution_count": 157,
   "metadata": {},
   "outputs": [
    {
     "name": "stdout",
     "output_type": "stream",
     "text": [
      "Number of str-nan:0\n",
      "Index of nan:[]\n"
     ]
    }
   ],
   "source": [
    "k = 0\n",
    "l = 0\n",
    "index_nan = []\n",
    "for i in df[\"SMILES\"]:\n",
    "    k += 1\n",
    "    if i == \"\":\n",
    "        index_nan.append(df_all.index[k-1])\n",
    "        l += 1\n",
    "print(f\"Number of str-nan:{l}\")\n",
    "print(f\"Index of nan:{index_nan}\")"
   ]
  },
  {
   "cell_type": "markdown",
   "metadata": {},
   "source": [
    "Проставим класс активности на основе значения % ингибирования при концентрации 10 мкМ"
   ]
  },
  {
   "cell_type": "code",
   "execution_count": 77,
   "metadata": {},
   "outputs": [],
   "source": [
    "def count_class(df):\n",
    "    activity_class =[]\n",
    "    count = 0\n",
    "    for index, row in df.iterrows():\n",
    "        value = float(row[\"hERG inhibition (%) at 10uM\"])\n",
    "        if value > 50:\n",
    "             activity_class.append(1)\n",
    "        elif value == 50:\n",
    "             activity_class.append(1)\n",
    "        else:\n",
    "            activity_class.append(0)\n",
    "    df['class'] = activity_class\n",
    "    return df"
   ]
  },
  {
   "cell_type": "code",
   "execution_count": 78,
   "metadata": {},
   "outputs": [],
   "source": [
    "df = count_class(df)"
   ]
  },
  {
   "cell_type": "code",
   "execution_count": 79,
   "metadata": {},
   "outputs": [
    {
     "data": {
      "text/plain": [
       "225"
      ]
     },
     "execution_count": 79,
     "metadata": {},
     "output_type": "execute_result"
    }
   ],
   "source": [
    "df[\"class\"].sum()"
   ]
  },
  {
   "cell_type": "markdown",
   "metadata": {},
   "source": [
    "Всего лишь 225 акивных соединений. На 300 тысяч это очень мало, выборка несбалансированная. "
   ]
  },
  {
   "cell_type": "code",
   "execution_count": 81,
   "metadata": {},
   "outputs": [
    {
     "data": {
      "text/html": [
       "<div>\n",
       "<style scoped>\n",
       "    .dataframe tbody tr th:only-of-type {\n",
       "        vertical-align: middle;\n",
       "    }\n",
       "\n",
       "    .dataframe tbody tr th {\n",
       "        vertical-align: top;\n",
       "    }\n",
       "\n",
       "    .dataframe thead th {\n",
       "        text-align: right;\n",
       "    }\n",
       "</style>\n",
       "<table border=\"1\" class=\"dataframe\">\n",
       "  <thead>\n",
       "    <tr style=\"text-align: right;\">\n",
       "      <th></th>\n",
       "      <th>SMILES</th>\n",
       "      <th>PubChem Substance ID</th>\n",
       "      <th>hERG inhibition (%) at 1uM</th>\n",
       "      <th>hERG inhibition (%) at 10uM</th>\n",
       "      <th>class</th>\n",
       "    </tr>\n",
       "  </thead>\n",
       "  <tbody>\n",
       "    <tr>\n",
       "      <th>128094</th>\n",
       "      <td>CCOC(=O)N1CCC(CC1)NCCNC(=O)C2=CC=CC=C2Cl</td>\n",
       "      <td>842134</td>\n",
       "      <td>11.0704</td>\n",
       "      <td>8.65188</td>\n",
       "      <td>0</td>\n",
       "    </tr>\n",
       "    <tr>\n",
       "      <th>188700</th>\n",
       "      <td>CN1C(=O)CC(SC1=NC2=CC(=CC=C2)OC)C(=O)NC3=CC=CC...</td>\n",
       "      <td>842136</td>\n",
       "      <td>7.2549</td>\n",
       "      <td>-2.51872</td>\n",
       "      <td>0</td>\n",
       "    </tr>\n",
       "    <tr>\n",
       "      <th>260906</th>\n",
       "      <td>CC1=CC2=C(C=C1)N=C(C(=C2)C#N)N3CCN(CC3)CC4=NN=...</td>\n",
       "      <td>842137</td>\n",
       "      <td>9.7533</td>\n",
       "      <td>3.52888</td>\n",
       "      <td>0</td>\n",
       "    </tr>\n",
       "    <tr>\n",
       "      <th>167070</th>\n",
       "      <td>CC1(C(=O)N(C(=O)N1)CC(COC2CCCCC2)O)C</td>\n",
       "      <td>842138</td>\n",
       "      <td>6.0320</td>\n",
       "      <td>8.64368</td>\n",
       "      <td>0</td>\n",
       "    </tr>\n",
       "    <tr>\n",
       "      <th>18129</th>\n",
       "      <td>C1CC1C2=CC=[N+](C=C2)[O-]</td>\n",
       "      <td>842139</td>\n",
       "      <td>8.6582</td>\n",
       "      <td>7.12878</td>\n",
       "      <td>0</td>\n",
       "    </tr>\n",
       "    <tr>\n",
       "      <th>...</th>\n",
       "      <td>...</td>\n",
       "      <td>...</td>\n",
       "      <td>...</td>\n",
       "      <td>...</td>\n",
       "      <td>...</td>\n",
       "    </tr>\n",
       "    <tr>\n",
       "      <th>294502</th>\n",
       "      <td>C[C@H]1[C@@H]([C@H]([C@H]([C@@H](O1)O[C@@H]2[C...</td>\n",
       "      <td>85149172</td>\n",
       "      <td>14.6462</td>\n",
       "      <td>23.14528</td>\n",
       "      <td>0</td>\n",
       "    </tr>\n",
       "    <tr>\n",
       "      <th>58591</th>\n",
       "      <td>C[C@H]1[C@@H]([C@H]([C@H]([C@@H](O1)O[C@H]2[C@...</td>\n",
       "      <td>85149177</td>\n",
       "      <td>10.6273</td>\n",
       "      <td>16.26908</td>\n",
       "      <td>0</td>\n",
       "    </tr>\n",
       "    <tr>\n",
       "      <th>176649</th>\n",
       "      <td>CC1(C=CC2=C(O1)C=CC3=C2OC[C@@H](C3)C4=C(C=C(C=...</td>\n",
       "      <td>85149178</td>\n",
       "      <td>11.5510</td>\n",
       "      <td>17.66578</td>\n",
       "      <td>0</td>\n",
       "    </tr>\n",
       "    <tr>\n",
       "      <th>58585</th>\n",
       "      <td>C1=CC(=CC=C1C2=C(C(=O)C3=C(C=C(C=C3O2)O)O)O[C@...</td>\n",
       "      <td>85149179</td>\n",
       "      <td>14.0645</td>\n",
       "      <td>15.93398</td>\n",
       "      <td>0</td>\n",
       "    </tr>\n",
       "    <tr>\n",
       "      <th>176687</th>\n",
       "      <td>C[C@H]1CC(=O)[C@H]2[C@@H]1[C@@H](OC=C2C(=O)OC)...</td>\n",
       "      <td>85149185</td>\n",
       "      <td>9.7399</td>\n",
       "      <td>23.29218</td>\n",
       "      <td>0</td>\n",
       "    </tr>\n",
       "  </tbody>\n",
       "</table>\n",
       "<p>294939 rows × 5 columns</p>\n",
       "</div>"
      ],
      "text/plain": [
       "                                                   SMILES  \\\n",
       "128094           CCOC(=O)N1CCC(CC1)NCCNC(=O)C2=CC=CC=C2Cl   \n",
       "188700  CN1C(=O)CC(SC1=NC2=CC(=CC=C2)OC)C(=O)NC3=CC=CC...   \n",
       "260906  CC1=CC2=C(C=C1)N=C(C(=C2)C#N)N3CCN(CC3)CC4=NN=...   \n",
       "167070               CC1(C(=O)N(C(=O)N1)CC(COC2CCCCC2)O)C   \n",
       "18129                           C1CC1C2=CC=[N+](C=C2)[O-]   \n",
       "...                                                   ...   \n",
       "294502  C[C@H]1[C@@H]([C@H]([C@H]([C@@H](O1)O[C@@H]2[C...   \n",
       "58591   C[C@H]1[C@@H]([C@H]([C@H]([C@@H](O1)O[C@H]2[C@...   \n",
       "176649  CC1(C=CC2=C(O1)C=CC3=C2OC[C@@H](C3)C4=C(C=C(C=...   \n",
       "58585   C1=CC(=CC=C1C2=C(C(=O)C3=C(C=C(C=C3O2)O)O)O[C@...   \n",
       "176687  C[C@H]1CC(=O)[C@H]2[C@@H]1[C@@H](OC=C2C(=O)OC)...   \n",
       "\n",
       "        PubChem Substance ID  hERG inhibition (%) at 1uM  \\\n",
       "128094                842134                     11.0704   \n",
       "188700                842136                      7.2549   \n",
       "260906                842137                      9.7533   \n",
       "167070                842138                      6.0320   \n",
       "18129                 842139                      8.6582   \n",
       "...                      ...                         ...   \n",
       "294502              85149172                     14.6462   \n",
       "58591               85149177                     10.6273   \n",
       "176649              85149178                     11.5510   \n",
       "58585               85149179                     14.0645   \n",
       "176687              85149185                      9.7399   \n",
       "\n",
       "        hERG inhibition (%) at 10uM  class  \n",
       "128094                      8.65188      0  \n",
       "188700                     -2.51872      0  \n",
       "260906                      3.52888      0  \n",
       "167070                      8.64368      0  \n",
       "18129                       7.12878      0  \n",
       "...                             ...    ...  \n",
       "294502                     23.14528      0  \n",
       "58591                      16.26908      0  \n",
       "176649                     17.66578      0  \n",
       "58585                      15.93398      0  \n",
       "176687                     23.29218      0  \n",
       "\n",
       "[294939 rows x 5 columns]"
      ]
     },
     "execution_count": 81,
     "metadata": {},
     "output_type": "execute_result"
    }
   ],
   "source": [
    "df = df.sort_values('PubChem Substance ID')\n",
    "df"
   ]
  },
  {
   "cell_type": "code",
   "execution_count": 82,
   "metadata": {},
   "outputs": [
    {
     "data": {
      "text/html": [
       "<div>\n",
       "<style scoped>\n",
       "    .dataframe tbody tr th:only-of-type {\n",
       "        vertical-align: middle;\n",
       "    }\n",
       "\n",
       "    .dataframe tbody tr th {\n",
       "        vertical-align: top;\n",
       "    }\n",
       "\n",
       "    .dataframe thead th {\n",
       "        text-align: right;\n",
       "    }\n",
       "</style>\n",
       "<table border=\"1\" class=\"dataframe\">\n",
       "  <thead>\n",
       "    <tr style=\"text-align: right;\">\n",
       "      <th></th>\n",
       "      <th>SMILES</th>\n",
       "      <th>PubChem Substance ID</th>\n",
       "      <th>hERG inhibition (%) at 1uM</th>\n",
       "      <th>hERG inhibition (%) at 10uM</th>\n",
       "      <th>class</th>\n",
       "    </tr>\n",
       "  </thead>\n",
       "  <tbody>\n",
       "    <tr>\n",
       "      <th>0</th>\n",
       "      <td>CCOC(=O)N1CCC(CC1)NCCNC(=O)C2=CC=CC=C2Cl</td>\n",
       "      <td>842134</td>\n",
       "      <td>11.0704</td>\n",
       "      <td>8.65188</td>\n",
       "      <td>0</td>\n",
       "    </tr>\n",
       "    <tr>\n",
       "      <th>1</th>\n",
       "      <td>CN1C(=O)CC(SC1=NC2=CC(=CC=C2)OC)C(=O)NC3=CC=CC...</td>\n",
       "      <td>842136</td>\n",
       "      <td>7.2549</td>\n",
       "      <td>-2.51872</td>\n",
       "      <td>0</td>\n",
       "    </tr>\n",
       "    <tr>\n",
       "      <th>2</th>\n",
       "      <td>CC1=CC2=C(C=C1)N=C(C(=C2)C#N)N3CCN(CC3)CC4=NN=...</td>\n",
       "      <td>842137</td>\n",
       "      <td>9.7533</td>\n",
       "      <td>3.52888</td>\n",
       "      <td>0</td>\n",
       "    </tr>\n",
       "    <tr>\n",
       "      <th>3</th>\n",
       "      <td>CC1(C(=O)N(C(=O)N1)CC(COC2CCCCC2)O)C</td>\n",
       "      <td>842138</td>\n",
       "      <td>6.0320</td>\n",
       "      <td>8.64368</td>\n",
       "      <td>0</td>\n",
       "    </tr>\n",
       "    <tr>\n",
       "      <th>4</th>\n",
       "      <td>C1CC1C2=CC=[N+](C=C2)[O-]</td>\n",
       "      <td>842139</td>\n",
       "      <td>8.6582</td>\n",
       "      <td>7.12878</td>\n",
       "      <td>0</td>\n",
       "    </tr>\n",
       "    <tr>\n",
       "      <th>...</th>\n",
       "      <td>...</td>\n",
       "      <td>...</td>\n",
       "      <td>...</td>\n",
       "      <td>...</td>\n",
       "      <td>...</td>\n",
       "    </tr>\n",
       "    <tr>\n",
       "      <th>294934</th>\n",
       "      <td>C[C@H]1[C@@H]([C@H]([C@H]([C@@H](O1)O[C@@H]2[C...</td>\n",
       "      <td>85149172</td>\n",
       "      <td>14.6462</td>\n",
       "      <td>23.14528</td>\n",
       "      <td>0</td>\n",
       "    </tr>\n",
       "    <tr>\n",
       "      <th>294935</th>\n",
       "      <td>C[C@H]1[C@@H]([C@H]([C@H]([C@@H](O1)O[C@H]2[C@...</td>\n",
       "      <td>85149177</td>\n",
       "      <td>10.6273</td>\n",
       "      <td>16.26908</td>\n",
       "      <td>0</td>\n",
       "    </tr>\n",
       "    <tr>\n",
       "      <th>294936</th>\n",
       "      <td>CC1(C=CC2=C(O1)C=CC3=C2OC[C@@H](C3)C4=C(C=C(C=...</td>\n",
       "      <td>85149178</td>\n",
       "      <td>11.5510</td>\n",
       "      <td>17.66578</td>\n",
       "      <td>0</td>\n",
       "    </tr>\n",
       "    <tr>\n",
       "      <th>294937</th>\n",
       "      <td>C1=CC(=CC=C1C2=C(C(=O)C3=C(C=C(C=C3O2)O)O)O[C@...</td>\n",
       "      <td>85149179</td>\n",
       "      <td>14.0645</td>\n",
       "      <td>15.93398</td>\n",
       "      <td>0</td>\n",
       "    </tr>\n",
       "    <tr>\n",
       "      <th>294938</th>\n",
       "      <td>C[C@H]1CC(=O)[C@H]2[C@@H]1[C@@H](OC=C2C(=O)OC)...</td>\n",
       "      <td>85149185</td>\n",
       "      <td>9.7399</td>\n",
       "      <td>23.29218</td>\n",
       "      <td>0</td>\n",
       "    </tr>\n",
       "  </tbody>\n",
       "</table>\n",
       "<p>294939 rows × 5 columns</p>\n",
       "</div>"
      ],
      "text/plain": [
       "                                                   SMILES  \\\n",
       "0                CCOC(=O)N1CCC(CC1)NCCNC(=O)C2=CC=CC=C2Cl   \n",
       "1       CN1C(=O)CC(SC1=NC2=CC(=CC=C2)OC)C(=O)NC3=CC=CC...   \n",
       "2       CC1=CC2=C(C=C1)N=C(C(=C2)C#N)N3CCN(CC3)CC4=NN=...   \n",
       "3                    CC1(C(=O)N(C(=O)N1)CC(COC2CCCCC2)O)C   \n",
       "4                               C1CC1C2=CC=[N+](C=C2)[O-]   \n",
       "...                                                   ...   \n",
       "294934  C[C@H]1[C@@H]([C@H]([C@H]([C@@H](O1)O[C@@H]2[C...   \n",
       "294935  C[C@H]1[C@@H]([C@H]([C@H]([C@@H](O1)O[C@H]2[C@...   \n",
       "294936  CC1(C=CC2=C(O1)C=CC3=C2OC[C@@H](C3)C4=C(C=C(C=...   \n",
       "294937  C1=CC(=CC=C1C2=C(C(=O)C3=C(C=C(C=C3O2)O)O)O[C@...   \n",
       "294938  C[C@H]1CC(=O)[C@H]2[C@@H]1[C@@H](OC=C2C(=O)OC)...   \n",
       "\n",
       "        PubChem Substance ID  hERG inhibition (%) at 1uM  \\\n",
       "0                     842134                     11.0704   \n",
       "1                     842136                      7.2549   \n",
       "2                     842137                      9.7533   \n",
       "3                     842138                      6.0320   \n",
       "4                     842139                      8.6582   \n",
       "...                      ...                         ...   \n",
       "294934              85149172                     14.6462   \n",
       "294935              85149177                     10.6273   \n",
       "294936              85149178                     11.5510   \n",
       "294937              85149179                     14.0645   \n",
       "294938              85149185                      9.7399   \n",
       "\n",
       "        hERG inhibition (%) at 10uM  class  \n",
       "0                           8.65188      0  \n",
       "1                          -2.51872      0  \n",
       "2                           3.52888      0  \n",
       "3                           8.64368      0  \n",
       "4                           7.12878      0  \n",
       "...                             ...    ...  \n",
       "294934                     23.14528      0  \n",
       "294935                     16.26908      0  \n",
       "294936                     17.66578      0  \n",
       "294937                     15.93398      0  \n",
       "294938                     23.29218      0  \n",
       "\n",
       "[294939 rows x 5 columns]"
      ]
     },
     "execution_count": 82,
     "metadata": {},
     "output_type": "execute_result"
    }
   ],
   "source": [
    "df.reset_index(drop=True, inplace=True)\n",
    "df"
   ]
  },
  {
   "cell_type": "markdown",
   "metadata": {},
   "source": [
    "Сохраним промежуточный результат."
   ]
  },
  {
   "cell_type": "code",
   "execution_count": 83,
   "metadata": {},
   "outputs": [],
   "source": [
    "df.to_csv(\"herg_central_class.csv\", encoding='utf-8', index=False)"
   ]
  },
  {
   "cell_type": "code",
   "execution_count": 84,
   "metadata": {},
   "outputs": [
    {
     "data": {
      "text/html": [
       "<div>\n",
       "<style scoped>\n",
       "    .dataframe tbody tr th:only-of-type {\n",
       "        vertical-align: middle;\n",
       "    }\n",
       "\n",
       "    .dataframe tbody tr th {\n",
       "        vertical-align: top;\n",
       "    }\n",
       "\n",
       "    .dataframe thead th {\n",
       "        text-align: right;\n",
       "    }\n",
       "</style>\n",
       "<table border=\"1\" class=\"dataframe\">\n",
       "  <thead>\n",
       "    <tr style=\"text-align: right;\">\n",
       "      <th></th>\n",
       "      <th>SMILES</th>\n",
       "      <th>PubChem Substance ID</th>\n",
       "      <th>hERG inhibition (%) at 1uM</th>\n",
       "      <th>hERG inhibition (%) at 10uM</th>\n",
       "      <th>class</th>\n",
       "    </tr>\n",
       "  </thead>\n",
       "  <tbody>\n",
       "    <tr>\n",
       "      <th>0</th>\n",
       "      <td>CCOC(=O)N1CCC(CC1)NCCNC(=O)C2=CC=CC=C2Cl</td>\n",
       "      <td>842134</td>\n",
       "      <td>11.0704</td>\n",
       "      <td>8.65188</td>\n",
       "      <td>0</td>\n",
       "    </tr>\n",
       "    <tr>\n",
       "      <th>1</th>\n",
       "      <td>CN1C(=O)CC(SC1=NC2=CC(=CC=C2)OC)C(=O)NC3=CC=CC...</td>\n",
       "      <td>842136</td>\n",
       "      <td>7.2549</td>\n",
       "      <td>-2.51872</td>\n",
       "      <td>0</td>\n",
       "    </tr>\n",
       "    <tr>\n",
       "      <th>2</th>\n",
       "      <td>CC1=CC2=C(C=C1)N=C(C(=C2)C#N)N3CCN(CC3)CC4=NN=...</td>\n",
       "      <td>842137</td>\n",
       "      <td>9.7533</td>\n",
       "      <td>3.52888</td>\n",
       "      <td>0</td>\n",
       "    </tr>\n",
       "    <tr>\n",
       "      <th>3</th>\n",
       "      <td>CC1(C(=O)N(C(=O)N1)CC(COC2CCCCC2)O)C</td>\n",
       "      <td>842138</td>\n",
       "      <td>6.0320</td>\n",
       "      <td>8.64368</td>\n",
       "      <td>0</td>\n",
       "    </tr>\n",
       "    <tr>\n",
       "      <th>4</th>\n",
       "      <td>C1CC1C2=CC=[N+](C=C2)[O-]</td>\n",
       "      <td>842139</td>\n",
       "      <td>8.6582</td>\n",
       "      <td>7.12878</td>\n",
       "      <td>0</td>\n",
       "    </tr>\n",
       "    <tr>\n",
       "      <th>...</th>\n",
       "      <td>...</td>\n",
       "      <td>...</td>\n",
       "      <td>...</td>\n",
       "      <td>...</td>\n",
       "      <td>...</td>\n",
       "    </tr>\n",
       "    <tr>\n",
       "      <th>294934</th>\n",
       "      <td>C[C@H]1[C@@H]([C@H]([C@H]([C@@H](O1)O[C@@H]2[C...</td>\n",
       "      <td>85149172</td>\n",
       "      <td>14.6462</td>\n",
       "      <td>23.14528</td>\n",
       "      <td>0</td>\n",
       "    </tr>\n",
       "    <tr>\n",
       "      <th>294935</th>\n",
       "      <td>C[C@H]1[C@@H]([C@H]([C@H]([C@@H](O1)O[C@H]2[C@...</td>\n",
       "      <td>85149177</td>\n",
       "      <td>10.6273</td>\n",
       "      <td>16.26908</td>\n",
       "      <td>0</td>\n",
       "    </tr>\n",
       "    <tr>\n",
       "      <th>294936</th>\n",
       "      <td>CC1(C=CC2=C(O1)C=CC3=C2OC[C@@H](C3)C4=C(C=C(C=...</td>\n",
       "      <td>85149178</td>\n",
       "      <td>11.5510</td>\n",
       "      <td>17.66578</td>\n",
       "      <td>0</td>\n",
       "    </tr>\n",
       "    <tr>\n",
       "      <th>294937</th>\n",
       "      <td>C1=CC(=CC=C1C2=C(C(=O)C3=C(C=C(C=C3O2)O)O)O[C@...</td>\n",
       "      <td>85149179</td>\n",
       "      <td>14.0645</td>\n",
       "      <td>15.93398</td>\n",
       "      <td>0</td>\n",
       "    </tr>\n",
       "    <tr>\n",
       "      <th>294938</th>\n",
       "      <td>C[C@H]1CC(=O)[C@H]2[C@@H]1[C@@H](OC=C2C(=O)OC)...</td>\n",
       "      <td>85149185</td>\n",
       "      <td>9.7399</td>\n",
       "      <td>23.29218</td>\n",
       "      <td>0</td>\n",
       "    </tr>\n",
       "  </tbody>\n",
       "</table>\n",
       "<p>294939 rows × 5 columns</p>\n",
       "</div>"
      ],
      "text/plain": [
       "                                                   SMILES  \\\n",
       "0                CCOC(=O)N1CCC(CC1)NCCNC(=O)C2=CC=CC=C2Cl   \n",
       "1       CN1C(=O)CC(SC1=NC2=CC(=CC=C2)OC)C(=O)NC3=CC=CC...   \n",
       "2       CC1=CC2=C(C=C1)N=C(C(=C2)C#N)N3CCN(CC3)CC4=NN=...   \n",
       "3                    CC1(C(=O)N(C(=O)N1)CC(COC2CCCCC2)O)C   \n",
       "4                               C1CC1C2=CC=[N+](C=C2)[O-]   \n",
       "...                                                   ...   \n",
       "294934  C[C@H]1[C@@H]([C@H]([C@H]([C@@H](O1)O[C@@H]2[C...   \n",
       "294935  C[C@H]1[C@@H]([C@H]([C@H]([C@@H](O1)O[C@H]2[C@...   \n",
       "294936  CC1(C=CC2=C(O1)C=CC3=C2OC[C@@H](C3)C4=C(C=C(C=...   \n",
       "294937  C1=CC(=CC=C1C2=C(C(=O)C3=C(C=C(C=C3O2)O)O)O[C@...   \n",
       "294938  C[C@H]1CC(=O)[C@H]2[C@@H]1[C@@H](OC=C2C(=O)OC)...   \n",
       "\n",
       "        PubChem Substance ID  hERG inhibition (%) at 1uM  \\\n",
       "0                     842134                     11.0704   \n",
       "1                     842136                      7.2549   \n",
       "2                     842137                      9.7533   \n",
       "3                     842138                      6.0320   \n",
       "4                     842139                      8.6582   \n",
       "...                      ...                         ...   \n",
       "294934              85149172                     14.6462   \n",
       "294935              85149177                     10.6273   \n",
       "294936              85149178                     11.5510   \n",
       "294937              85149179                     14.0645   \n",
       "294938              85149185                      9.7399   \n",
       "\n",
       "        hERG inhibition (%) at 10uM  class  \n",
       "0                           8.65188      0  \n",
       "1                          -2.51872      0  \n",
       "2                           3.52888      0  \n",
       "3                           8.64368      0  \n",
       "4                           7.12878      0  \n",
       "...                             ...    ...  \n",
       "294934                     23.14528      0  \n",
       "294935                     16.26908      0  \n",
       "294936                     17.66578      0  \n",
       "294937                     15.93398      0  \n",
       "294938                     23.29218      0  \n",
       "\n",
       "[294939 rows x 5 columns]"
      ]
     },
     "execution_count": 84,
     "metadata": {},
     "output_type": "execute_result"
    }
   ],
   "source": [
    "df = pd.read_table('herg_central_class.csv', sep = \",\", engine='python')\n",
    "df"
   ]
  },
  {
   "cell_type": "code",
   "execution_count": 85,
   "metadata": {},
   "outputs": [],
   "source": [
    "def standardize_smiles(df):\n",
    "    logs = 0\n",
    "    mols = []\n",
    "    for i in tqdm(df[\"SMILES\"]):    \n",
    "        mol = Chem.MolFromSmiles(i)\n",
    "        if mol is not None:\n",
    "            mols.append(mol)\n",
    "        else:\n",
    "            logs+=1\n",
    "            print(i)\n",
    "    print(f\"Errors: {logs}\")\n",
    "    df[\"ROMol\"] = mols\n",
    "    return df"
   ]
  },
  {
   "cell_type": "code",
   "execution_count": 86,
   "metadata": {},
   "outputs": [
    {
     "name": "stderr",
     "output_type": "stream",
     "text": [
      "100%|████████████████████████████████████████████████████████████████████████| 294939/294939 [01:16<00:00, 3845.14it/s]"
     ]
    },
    {
     "name": "stdout",
     "output_type": "stream",
     "text": [
      "Errors: 0\n"
     ]
    },
    {
     "name": "stderr",
     "output_type": "stream",
     "text": [
      "\n"
     ]
    }
   ],
   "source": [
    "df_mol = standardize_smiles(df)"
   ]
  },
  {
   "cell_type": "code",
   "execution_count": 87,
   "metadata": {},
   "outputs": [
    {
     "data": {
      "text/plain": [
       "225"
      ]
     },
     "execution_count": 87,
     "metadata": {},
     "output_type": "execute_result"
    }
   ],
   "source": [
    "df_mol[\"class\"].sum()"
   ]
  },
  {
   "cell_type": "code",
   "execution_count": 88,
   "metadata": {},
   "outputs": [
    {
     "data": {
      "text/plain": [
       "SMILES                         0\n",
       "PubChem Substance ID           0\n",
       "hERG inhibition (%) at 1uM     0\n",
       "hERG inhibition (%) at 10uM    0\n",
       "class                          0\n",
       "ROMol                          0\n",
       "dtype: int64"
      ]
     },
     "execution_count": 88,
     "metadata": {},
     "output_type": "execute_result"
    }
   ],
   "source": [
    "df_mol.isna().sum()"
   ]
  },
  {
   "cell_type": "code",
   "execution_count": 18,
   "metadata": {},
   "outputs": [],
   "source": [
    "def calc_morgan(mols):\n",
    "    \"\"\" генерация молекулярных отпечатков по методу Моргана с радиусом 3\n",
    "    \"\"\"\n",
    "    #t0 = time.time()\n",
    "    for_df = []\n",
    "    i=0\n",
    "    for m in tqdm(mols):\n",
    "        i+=1\n",
    "        #t1 = time.time()\n",
    "        #print(\"Processing compound {} ({}%)\".format(i, 100*i//len(mols)), end=\"\")\n",
    "        arr = zeros((1,), dtype=int)\n",
    "        DataStructs.ConvertToNumpyArray(AllChem.GetMorganFingerprintAsBitVect(m, 3, 4096), arr)\n",
    "        for_df.append(arr)\n",
    "        #t2 = time.time()\n",
    "        #print(\" {}s (total: {}s)\".format(t2-t1, t2-t0))\n",
    "    return DataFrame(for_df)"
   ]
  },
  {
   "cell_type": "code",
   "execution_count": 19,
   "metadata": {},
   "outputs": [
    {
     "name": "stderr",
     "output_type": "stream",
     "text": [
      "100%|████████████████████████████████████████████████████████████████████████| 294939/294939 [01:18<00:00, 3753.61it/s]\n"
     ]
    },
    {
     "ename": "MemoryError",
     "evalue": "",
     "output_type": "error",
     "traceback": [
      "\u001b[1;31m---------------------------------------------------------------------------\u001b[0m",
      "\u001b[1;31mMemoryError\u001b[0m                               Traceback (most recent call last)",
      "\u001b[1;32m~\\AppData\\Local\\Temp/ipykernel_16800/2563036958.py\u001b[0m in \u001b[0;36m<module>\u001b[1;34m\u001b[0m\n\u001b[1;32m----> 1\u001b[1;33m \u001b[0mdf\u001b[0m \u001b[1;33m=\u001b[0m \u001b[0mcalc_morgan\u001b[0m\u001b[1;33m(\u001b[0m\u001b[0mdf\u001b[0m\u001b[1;33m[\u001b[0m\u001b[1;34m\"ROMol\"\u001b[0m\u001b[1;33m]\u001b[0m\u001b[1;33m)\u001b[0m\u001b[1;33m\u001b[0m\u001b[1;33m\u001b[0m\u001b[0m\n\u001b[0m",
      "\u001b[1;32m~\\AppData\\Local\\Temp/ipykernel_16800/1057412138.py\u001b[0m in \u001b[0;36mcalc_morgan\u001b[1;34m(mols)\u001b[0m\n\u001b[0;32m     14\u001b[0m         \u001b[1;31m#t2 = time.time()\u001b[0m\u001b[1;33m\u001b[0m\u001b[1;33m\u001b[0m\u001b[1;33m\u001b[0m\u001b[0m\n\u001b[0;32m     15\u001b[0m         \u001b[1;31m#print(\" {}s (total: {}s)\".format(t2-t1, t2-t0))\u001b[0m\u001b[1;33m\u001b[0m\u001b[1;33m\u001b[0m\u001b[1;33m\u001b[0m\u001b[0m\n\u001b[1;32m---> 16\u001b[1;33m     \u001b[1;32mreturn\u001b[0m \u001b[0mDataFrame\u001b[0m\u001b[1;33m(\u001b[0m\u001b[0mfor_df\u001b[0m\u001b[1;33m)\u001b[0m\u001b[1;33m\u001b[0m\u001b[1;33m\u001b[0m\u001b[0m\n\u001b[0m",
      "\u001b[1;32mD:\\Anaconda\\envs\\my-rdkit-env\\lib\\site-packages\\pandas\\core\\frame.py\u001b[0m in \u001b[0;36m__init__\u001b[1;34m(self, data, index, columns, dtype, copy)\u001b[0m\n\u001b[0;32m    692\u001b[0m                         \u001b[1;31m# ndarray], Index, Series], Sequence[Any]]\"\u001b[0m\u001b[1;33m\u001b[0m\u001b[1;33m\u001b[0m\u001b[1;33m\u001b[0m\u001b[0m\n\u001b[0;32m    693\u001b[0m                         \u001b[0mcolumns\u001b[0m \u001b[1;33m=\u001b[0m \u001b[0mensure_index\u001b[0m\u001b[1;33m(\u001b[0m\u001b[0mcolumns\u001b[0m\u001b[1;33m)\u001b[0m  \u001b[1;31m# type: ignore[arg-type]\u001b[0m\u001b[1;33m\u001b[0m\u001b[1;33m\u001b[0m\u001b[0m\n\u001b[1;32m--> 694\u001b[1;33m                     arrays, columns, index = nested_data_to_arrays(\n\u001b[0m\u001b[0;32m    695\u001b[0m                         \u001b[1;31m# error: Argument 3 to \"nested_data_to_arrays\" has incompatible\u001b[0m\u001b[1;33m\u001b[0m\u001b[1;33m\u001b[0m\u001b[1;33m\u001b[0m\u001b[0m\n\u001b[0;32m    696\u001b[0m                         \u001b[1;31m# type \"Optional[Collection[Any]]\"; expected \"Optional[Index]\"\u001b[0m\u001b[1;33m\u001b[0m\u001b[1;33m\u001b[0m\u001b[1;33m\u001b[0m\u001b[0m\n",
      "\u001b[1;32mD:\\Anaconda\\envs\\my-rdkit-env\\lib\\site-packages\\pandas\\core\\internals\\construction.py\u001b[0m in \u001b[0;36mnested_data_to_arrays\u001b[1;34m(data, columns, index, dtype)\u001b[0m\n\u001b[0;32m    481\u001b[0m         \u001b[0mcolumns\u001b[0m \u001b[1;33m=\u001b[0m \u001b[0mensure_index\u001b[0m\u001b[1;33m(\u001b[0m\u001b[0mdata\u001b[0m\u001b[1;33m[\u001b[0m\u001b[1;36m0\u001b[0m\u001b[1;33m]\u001b[0m\u001b[1;33m.\u001b[0m\u001b[0m_fields\u001b[0m\u001b[1;33m)\u001b[0m\u001b[1;33m\u001b[0m\u001b[1;33m\u001b[0m\u001b[0m\n\u001b[0;32m    482\u001b[0m \u001b[1;33m\u001b[0m\u001b[0m\n\u001b[1;32m--> 483\u001b[1;33m     \u001b[0marrays\u001b[0m\u001b[1;33m,\u001b[0m \u001b[0mcolumns\u001b[0m \u001b[1;33m=\u001b[0m \u001b[0mto_arrays\u001b[0m\u001b[1;33m(\u001b[0m\u001b[0mdata\u001b[0m\u001b[1;33m,\u001b[0m \u001b[0mcolumns\u001b[0m\u001b[1;33m,\u001b[0m \u001b[0mdtype\u001b[0m\u001b[1;33m=\u001b[0m\u001b[0mdtype\u001b[0m\u001b[1;33m)\u001b[0m\u001b[1;33m\u001b[0m\u001b[1;33m\u001b[0m\u001b[0m\n\u001b[0m\u001b[0;32m    484\u001b[0m     \u001b[0mcolumns\u001b[0m \u001b[1;33m=\u001b[0m \u001b[0mensure_index\u001b[0m\u001b[1;33m(\u001b[0m\u001b[0mcolumns\u001b[0m\u001b[1;33m)\u001b[0m\u001b[1;33m\u001b[0m\u001b[1;33m\u001b[0m\u001b[0m\n\u001b[0;32m    485\u001b[0m \u001b[1;33m\u001b[0m\u001b[0m\n",
      "\u001b[1;32mD:\\Anaconda\\envs\\my-rdkit-env\\lib\\site-packages\\pandas\\core\\internals\\construction.py\u001b[0m in \u001b[0;36mto_arrays\u001b[1;34m(data, columns, dtype)\u001b[0m\n\u001b[0;32m    802\u001b[0m     \u001b[1;32melse\u001b[0m\u001b[1;33m:\u001b[0m\u001b[1;33m\u001b[0m\u001b[1;33m\u001b[0m\u001b[0m\n\u001b[0;32m    803\u001b[0m         \u001b[1;31m# last ditch effort\u001b[0m\u001b[1;33m\u001b[0m\u001b[1;33m\u001b[0m\u001b[1;33m\u001b[0m\u001b[0m\n\u001b[1;32m--> 804\u001b[1;33m         \u001b[0mdata\u001b[0m \u001b[1;33m=\u001b[0m \u001b[1;33m[\u001b[0m\u001b[0mtuple\u001b[0m\u001b[1;33m(\u001b[0m\u001b[0mx\u001b[0m\u001b[1;33m)\u001b[0m \u001b[1;32mfor\u001b[0m \u001b[0mx\u001b[0m \u001b[1;32min\u001b[0m \u001b[0mdata\u001b[0m\u001b[1;33m]\u001b[0m\u001b[1;33m\u001b[0m\u001b[1;33m\u001b[0m\u001b[0m\n\u001b[0m\u001b[0;32m    805\u001b[0m         \u001b[0marr\u001b[0m \u001b[1;33m=\u001b[0m \u001b[0m_list_to_arrays\u001b[0m\u001b[1;33m(\u001b[0m\u001b[0mdata\u001b[0m\u001b[1;33m)\u001b[0m\u001b[1;33m\u001b[0m\u001b[1;33m\u001b[0m\u001b[0m\n\u001b[0;32m    806\u001b[0m \u001b[1;33m\u001b[0m\u001b[0m\n",
      "\u001b[1;32mD:\\Anaconda\\envs\\my-rdkit-env\\lib\\site-packages\\pandas\\core\\internals\\construction.py\u001b[0m in \u001b[0;36m<listcomp>\u001b[1;34m(.0)\u001b[0m\n\u001b[0;32m    802\u001b[0m     \u001b[1;32melse\u001b[0m\u001b[1;33m:\u001b[0m\u001b[1;33m\u001b[0m\u001b[1;33m\u001b[0m\u001b[0m\n\u001b[0;32m    803\u001b[0m         \u001b[1;31m# last ditch effort\u001b[0m\u001b[1;33m\u001b[0m\u001b[1;33m\u001b[0m\u001b[1;33m\u001b[0m\u001b[0m\n\u001b[1;32m--> 804\u001b[1;33m         \u001b[0mdata\u001b[0m \u001b[1;33m=\u001b[0m \u001b[1;33m[\u001b[0m\u001b[0mtuple\u001b[0m\u001b[1;33m(\u001b[0m\u001b[0mx\u001b[0m\u001b[1;33m)\u001b[0m \u001b[1;32mfor\u001b[0m \u001b[0mx\u001b[0m \u001b[1;32min\u001b[0m \u001b[0mdata\u001b[0m\u001b[1;33m]\u001b[0m\u001b[1;33m\u001b[0m\u001b[1;33m\u001b[0m\u001b[0m\n\u001b[0m\u001b[0;32m    805\u001b[0m         \u001b[0marr\u001b[0m \u001b[1;33m=\u001b[0m \u001b[0m_list_to_arrays\u001b[0m\u001b[1;33m(\u001b[0m\u001b[0mdata\u001b[0m\u001b[1;33m)\u001b[0m\u001b[1;33m\u001b[0m\u001b[1;33m\u001b[0m\u001b[0m\n\u001b[0;32m    806\u001b[0m \u001b[1;33m\u001b[0m\u001b[0m\n",
      "\u001b[1;31mMemoryError\u001b[0m: "
     ]
    }
   ],
   "source": [
    "df = calc_morgan(df[\"ROMol\"])"
   ]
  },
  {
   "cell_type": "markdown",
   "metadata": {},
   "source": [
    "Воспольуемся реализацией кластеризации по методку KNN  от  PatWalters https://github.com/PatWalters/kmeans\n",
    "Параметры: fp = morgan3, dim = 2048, sampels = 6000, clusters = 500. "
   ]
  },
  {
   "cell_type": "code",
   "execution_count": 61,
   "metadata": {},
   "outputs": [],
   "source": [
    "df1 = df[[\"SMILES\", \"class\"]]\n",
    "df1.to_csv(\"herg_central_class.smi\", sep = \" \", encoding='utf-8', index=False)"
   ]
  },
  {
   "cell_type": "markdown",
   "metadata": {},
   "source": [
    "Теперь посмотрим, что получилось после кластеризации:"
   ]
  },
  {
   "cell_type": "code",
   "execution_count": 63,
   "metadata": {},
   "outputs": [],
   "source": [
    "df_clust = pd.read_csv(\"herg_central_clusters.csv\")"
   ]
  },
  {
   "cell_type": "code",
   "execution_count": 65,
   "metadata": {},
   "outputs": [],
   "source": [
    "PandasTools.AddMoleculeColumnToFrame(df_clust,'SMILES','Mol')"
   ]
  },
  {
   "cell_type": "code",
   "execution_count": 90,
   "metadata": {},
   "outputs": [
    {
     "data": {
      "text/plain": [
       "294939"
      ]
     },
     "execution_count": 90,
     "metadata": {},
     "output_type": "execute_result"
    }
   ],
   "source": [
    "len(df_clust)"
   ]
  },
  {
   "cell_type": "code",
   "execution_count": 133,
   "metadata": {},
   "outputs": [],
   "source": [
    "df_clust = df_clust.sort_values(\"Name\")\n",
    "df_clust.reset_index(drop=True, inplace=True)\n"
   ]
  },
  {
   "cell_type": "code",
   "execution_count": 95,
   "metadata": {},
   "outputs": [],
   "source": [
    "df_clust = pd.concat([df_clust,df[[\"PubChem Substance ID\", \"hERG inhibition (%) at 10uM\", \"class\"]]],axis=1)"
   ]
  },
  {
   "cell_type": "code",
   "execution_count": 149,
   "metadata": {},
   "outputs": [
    {
     "data": {
      "text/html": [
       "<div>\n",
       "<style scoped>\n",
       "    .dataframe tbody tr th:only-of-type {\n",
       "        vertical-align: middle;\n",
       "    }\n",
       "\n",
       "    .dataframe tbody tr th {\n",
       "        vertical-align: top;\n",
       "    }\n",
       "\n",
       "    .dataframe thead th {\n",
       "        text-align: right;\n",
       "    }\n",
       "</style>\n",
       "<table border=\"1\" class=\"dataframe\">\n",
       "  <thead>\n",
       "    <tr style=\"text-align: right;\">\n",
       "      <th></th>\n",
       "      <th>SMILES</th>\n",
       "      <th>Name</th>\n",
       "      <th>Cluster</th>\n",
       "      <th>Center</th>\n",
       "      <th>Mol</th>\n",
       "      <th>PubChem Substance ID</th>\n",
       "      <th>hERG inhibition (%) at 10uM</th>\n",
       "      <th>class</th>\n",
       "    </tr>\n",
       "  </thead>\n",
       "  <tbody>\n",
       "    <tr>\n",
       "      <th>422</th>\n",
       "      <td>COc1ccc(N2CCN(C(=O)CSc3nnc4nc(C)cc(C)n34)CC2)cc1</td>\n",
       "      <td>842669</td>\n",
       "      <td>220</td>\n",
       "      <td>Yes</td>\n",
       "      <td><img data-content=\"rdkit/molecule\" src=\"data:image/png;base64,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\" alt=\"Mol\"/></td>\n",
       "      <td>842669</td>\n",
       "      <td>-26.13582</td>\n",
       "      <td>0</td>\n",
       "    </tr>\n",
       "    <tr>\n",
       "      <th>792</th>\n",
       "      <td>CC(C)(C)NC(=O)C(c1ccco1)N(C(=O)c1csnn1)c1ccccc1</td>\n",
       "      <td>843156</td>\n",
       "      <td>277</td>\n",
       "      <td>Yes</td>\n",
       "      <td><img data-content=\"rdkit/molecule\" src=\"data:image/png;base64,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\" alt=\"Mol\"/></td>\n",
       "      <td>843156</td>\n",
       "      <td>-4.55092</td>\n",
       "      <td>0</td>\n",
       "    </tr>\n",
       "    <tr>\n",
       "      <th>1016</th>\n",
       "      <td>Cc1ccc(CN(Cc2cccnc2)C(=O)CN2C(=O)COc3ccccc32)o1</td>\n",
       "      <td>843464</td>\n",
       "      <td>275</td>\n",
       "      <td>Yes</td>\n",
       "      <td><img data-content=\"rdkit/molecule\" src=\"data:image/png;base64,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\" alt=\"Mol\"/></td>\n",
       "      <td>843464</td>\n",
       "      <td>-1.87702</td>\n",
       "      <td>0</td>\n",
       "    </tr>\n",
       "    <tr>\n",
       "      <th>4167</th>\n",
       "      <td>Cc1ccc(S(=O)(=O)Cn2nnnc2CN2CCN(C(=O)c3ccco3)CC...</td>\n",
       "      <td>847703</td>\n",
       "      <td>99</td>\n",
       "      <td>Yes</td>\n",
       "      <td><img data-content=\"rdkit/molecule\" src=\"data:image/png;base64,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\" alt=\"Mol\"/></td>\n",
       "      <td>847703</td>\n",
       "      <td>-15.77052</td>\n",
       "      <td>0</td>\n",
       "    </tr>\n",
       "    <tr>\n",
       "      <th>6199</th>\n",
       "      <td>O=C(CC(=O)NCc1cccnc1)NCc1cccnc1</td>\n",
       "      <td>850495</td>\n",
       "      <td>203</td>\n",
       "      <td>Yes</td>\n",
       "      <td><img data-content=\"rdkit/molecule\" src=\"data:image/png;base64,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\" alt=\"Mol\"/></td>\n",
       "      <td>850495</td>\n",
       "      <td>-5.35182</td>\n",
       "      <td>0</td>\n",
       "    </tr>\n",
       "    <tr>\n",
       "      <th>6457</th>\n",
       "      <td>O=C(CSCC(=O)NCc1ccco1)NCc1ccco1</td>\n",
       "      <td>850855</td>\n",
       "      <td>297</td>\n",
       "      <td>Yes</td>\n",
       "      <td><img data-content=\"rdkit/molecule\" src=\"data:image/png;base64,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\" alt=\"Mol\"/></td>\n",
       "      <td>850855</td>\n",
       "      <td>-66.00582</td>\n",
       "      <td>0</td>\n",
       "    </tr>\n",
       "    <tr>\n",
       "      <th>7655</th>\n",
       "      <td>O=C(NCC1CCCO1)c1ccc(C(=O)NCC2CCCO2)cc1</td>\n",
       "      <td>852468</td>\n",
       "      <td>111</td>\n",
       "      <td>Yes</td>\n",
       "      <td><img data-content=\"rdkit/molecule\" src=\"data:image/png;base64,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\" alt=\"Mol\"/></td>\n",
       "      <td>852468</td>\n",
       "      <td>0.97428</td>\n",
       "      <td>0</td>\n",
       "    </tr>\n",
       "    <tr>\n",
       "      <th>7880</th>\n",
       "      <td>O=C(N1CCOCC1)N1CCOCC1</td>\n",
       "      <td>852788</td>\n",
       "      <td>76</td>\n",
       "      <td>Yes</td>\n",
       "      <td><img data-content=\"rdkit/molecule\" src=\"data:image/png;base64,iVBORw0KGgoAAAANSUhEUgAAAMgAAADICAIAAAAiOjnJAAAABmJLR0QA/wD/AP+gvaeTAAARAElEQVR4nO3de1BTdxYH8JMQ5I0IkYePUh+wig+gIohYRR6tWmjVxXam29j9i/6x21Trjti1braddoqd3Z3QurpsZ+yEmToju9PZBUcdXoq2KGhh8f2othJQMWKUNwFy9o+L4VEMIbknNzDn8x83ub+ce+/3PnITcmSICIyJTS51AWxy4mAxEhwsRoKDxUhwsBgJDhYjwcFiJDhYjAQHi5HgYDESHCxGgoPFSHCwGAkOFiPBwWIkOFiMBAeLkeBgMRIcLEaCg8VIcLAYCQ4WI8HBYiQ4WIwEB4uR4GAxEhwsRoKDxUhwsBgJDhYjwcFiJDhYjAQHi5HgYDESHCxGgoPFSHCwGAkOFiPBwWIkOFiMBAeLkeBgMRIcLEaCg8VIcLAYCSmDpdfrDQZDd3e3hDVMSt3d3QaDQa/XS1iDNMEyGo27du2aP3/+xo0bIyMjCwoKJCljUiouLl60aNHmzZvnzp37zjvvGAwGaepA5+rt7d23b19QUBAAKBSKsLAwoYyUlJQLFy44uZhJ5sKFCykpKcL6DAsLUygUABAUFLRv377e3l4nF+PUYFVUVCxdulRY8rVr19bX1/f39+t0uuDgYACQy+Uqlaq5udmZJU0OLS0tarVaSFJgYKBWq+3t7b169er69euFtb1gwYKjR486syQnBauhoUGlUgkLOXv2bJ1ON/RRo9GYk5MzZcoUAAgICMjNze3p6XFOYRNdb29vfn6+UqkUzgDZ2dkGg2HoE4qKiubNmyes+YyMjB9//NE5hZEHq729XaPReHp6AoCPj49Go+nq6hr1mdevX3/llVeEVRAZGXnkyBHq2ia6srKyxYsXC2ssNTX1WdcSJpNJq9X6+/sDgLu7u1qtfvLkCXVthMEym806nS40NBQAZDLZli1bGhoaxpyrtLQ0KipKWFlpaWmXLl2iq3DiunHjxpYtW4S1NH/+/MLCwjFnuXv3bnZ2tpubGwAolUqtVtvX10dXIVWwzFVV6atWCUuemJhYU1Nj+7zCHjZ16lTLHvb48WOiOicc4Qzg4eFhOQN0d3fbPntNTU1iYqKwXVavWmWuqiKqkyBYTU2oUqFMVpGcPGPGjPz8/P7+fjuGefjwoVqtFvawoKAg6j3M9QlvdEJCQoQzgEqlunfvnh3jmM3mwsLC8PBwTXIyAmBGBv78s+jVihqszk78+GP08UEA9PIyffRRe3u7g0PW1tauXr1a2MNiY2MrKytFqXTCqa6uXrFihbAe4uPjz5w54+CA7e3tnR99hF5eCIA+Pvjxx9jZKUqpAvGCVVSEc+YgwMBOcPu2aCMjFhUVPf/885a3NrdFHdzFNTY2qlQqmUwGADNnztTpdGazWbTR9Xrh9IIAOGsW6nQo0uBiBKu2FlevHohUTAzSHFQ6Oztzc3N9fX0BwMvLKycnp7W1leKFXEdHR8eIRW5rayN5pbNnMSFhYAsmJODZs44P6ViwHj5EtRrd3BAAAwNRq0XiyyDa3deVjDhI//TTT7Sv19+POh2GhCAAyuWoUuH9+46MZ0Ow6usxNxdzclCrHTzBmUyo1eLUqQiA7u6oVqPR6Egd4zL0rc3y5curyN7aSOKHH3548cUXhaV74YUXTp065bzXbmtDjQY9PBAAfX1Ro0HLW87bt1GrxZwczM3F+voxRxorWDk56O6Omzbhtm2Ymoru7vjVV4iImzcPHDk3bMBr1xxcHDuMuElm91skl+Iqb4SvXcMNGwa27+bNiIj//Ce6u2NaGm7bhq+9hgoF7tplfQyrwSouRrkcy8sHp3zxBbq745UrWFGBkZFYXOz4UjjC9tv6Ls4Vb92VluLixVhSgpcvo0KBBw4MPnT8OMpk1re+1WC99hq++uqwKf39GBExkFaXuat08+bN8d6GdimlpaULFy60fNhw+fJlqSt6StjEO3fir3418t3ihg24caOVWa0Ga9483LNn5MSsLMzIsKdKYiUlJZbPgvbv3y91Obbav3+/UHNUVFRJSYnU5YxmwwZ8/fWRE3fvxvnzrcxk9Yt+PT3g6ztyor8/uOR3PtPT0+vr6/Pz8/39/Q8ePNjY2Ch1RWNrbGw8ePCgn59fbm5uXV1denq61BWNxmQaPQY9PVZmshqs0FBoaho5Ua+Hp9/OczXC90amT59+/vz5CfGN5+7u7vPnzwcHB1u+NeSKQkLgl3upXg8zZliZyWqwUlLgv/+F3t7BKffuwenTkJZmd5Fs4klJgdOnobl5cEpPD/znP5CaamUmq8Hatg06OuCtt6CxERDh6lXIyoKICHjjDZFKZhPBm2/CnDnw61/D1auACI2N8JvfgMkEarWVmawGKywMKivBYIDwcPDygpgYmDkTysrAw0Pk0pkr8/SEsjIIDYWYGPDygvBwePwYKishJMTKTIoxBo2KgooKePIE7t+HWbPAx0fMitlEERYG//43dHRAYyOEhsLUqWPOYdu/f+3eDQsWwNdfO1ofm9C+/hoWLIDdu215Lv8nNCPBwWIkOFiMBAeLkeBgMRIcLEaCg8VIjHWDdAIKDKxqa+uTyazdF3YRMtmc4OC+wECz1IWIbxIG69Gj4AcPAFHqOmyA6PbgAfj5uUldiPj4VMhIcLAYCQ4WI2HTNdaP06Y1RUdHeHlZ+8ogm+weeXm5RUf3TpumtOHJNh2xtEZjcn39t11dDlbGJrRDXV0B9fV/NhpteTKfChkJDhYjwcFiJDhYjAQHi5HgYDESkzBYbm4gl4NMJnUdNpDJQC4Ht0n4UeEk+hD6wQPQ62HpUrh+fWBKUxN0dkJEhKRlPcPNm9DbC1FR0N8/MOXKFVAqIThY0rLEM3mOWIcOQVwc/OUvg1P27bP+z7pSUqthyRKorh6c8uabcOiQdAWJbfIECwCCguDTT+H2banrsE1gIPzud4NHrElmUgVr3jzYuBF+/3up67DNb38LDx7A3/8udR00xhGszs5OujrEsncvnD4N//qX1HXYwNsbPv8c9uwZ5aeiXNO4AmBTsNLT0+Pi4j755JO8vLy+vj57C3OGmTNhzx7Yvh1aW6UuxQZvvAHLlsH27VLXMRaz2VxQUJCbmxsXF2fjr8PZFKzMzEylUtnW1rZt27bY2Njy8nLH6qT1/vsQGAiffip1HTaQyeAf/4CiIigpkbqUZysvL4+Ojn777beNRqNSqczMzLRlLpuCJZfLjx07JrRUvHTpUlpaWmZm5q1btxwrWByI8M03UFg4OEWhgC++gLy8gav427fhww+hvV2qAodpb4cPPxz29iIyErZvh507wWwGACgshG++cZUv7Ov1+q1btwrN/YT2pceOHZPLbbt8GtfPnErSUtGKmhpMTEQADAnBzz7D+PjBh956C+VyXLcON21CAJwxAwsKxOoTYw+zGQsKcMYMBMBNm3DdOvzTnwYeam/H555DuRw/+2ygNURiIo6nD5/4HP+dc3tanggtFYXkhoWF5efnO/937u/exexslMsRAMPCMD8f//rXYcG6fx8DAnDdOjx3DpOSBn4NPy4Ov/vOyZUi4ig1DA0WIn77LQLg3/6GhYU4ezYCoEyGW7bgnTvOLlVoOjd79mx42r70jl1F2N9L5/z586uetrpctmzZ6dOn7R5qXIRmK/7+g81WhIPmnTtYXT3smRcvYm0tIqLZjIWF+NxzEmywpqaRO4DQvLG2Fkd0Zz55cqCq9nbUaNDTc6Dfm0aDTmuKUFNTs3LlSmGbLl++/Pvvv7d7KIeaNFlaKlrS/TNBS8Whiopw3rzB3nXj6pzd0TG4wby9yTdYT8/gDjBlyuAOYKOGBlSpBpZ09mwc3p1dfE1NTZazkCPtSy1EaCvX0dGh0Wi8vLwAwNvbm6j72dWruG7dwIpesACPHrVznKEbTNQGfcMUFeHcuYM7wK1bdo5TUYFLlw6Ms3atLc2Rxk3o1+fn5wcAU6ZMUavVovTrE60Rpl6vtzR8mzVrlogN31paUK1GhQIBcNo01Gqxt9fRMU+cwOjogQ2WnIz/+58YhSIi4pUr+PLLAyMvXIjHjjk6oNDvLTh4sN9bc7MYhSIiYlFR0Zw5c4Rzn7gdRkXuCX3y5MmYmBih0ISEhLOOtVQ0mUx5eXnR0Z0AqFDgu+9iS4tYlWJfHx44gEolAqCHB+7Y8bnBYHBkQIPBsGPH50JLNqUSDxwQs9tQSwu+++7A3hUdfS0vL89kMjkyYF1dnaUn8sKFC48fPy5WqQLxm40P7Yktl8tVKtV9u1oqlpWVLVmyBACWL9e89BISdS569Ajfew/Xrq0FgICAgNzc3HE1hReYTKb8/HylUgkAa9fWvvcePnpEUSxevowvvYRxcesBIDIy8siRI3YM0tLSYmleFxgYSNS8jqCLPSIitrW1aTQaDw8PAPD19dVoNLZvMOd387p+/XpGRobwipGRkcXjaZdXWlq6ePFiYd7U1NSLFy/S1Wl5RUs7qnF1CxNuQwYEBFhuQxrJ2pdSBUtw48YNS0QiIiLGjIhwX06Io3Bfzo7jh91KS0sXLVpk2WCXLl2y/vzxLp2I7OhvON6lcxBtsAQjFmnUfVo4gUreMfWXG2zUfdqR47GIbOzIOvR4HBERMa7jsd2cESwcfhXi7u6enZ099Eq5urp6xYoVwpLHx8efOXPGOVU9y9ANNuIqRKwrSBHV1tZaekjHxsZWVlZaHjIajTk5OcIOYPcVpH2cFCzBLy8b79y547Jd6Wtray3vm2JiYiorK8+ePZuQkCDWe15xjeh6f+vWLZ1OFxwcLNUO4NRgCerq6tasWSOsAmFn8vb21mg0HR0dzi9mTIcPHxY+WrAIDw8/fPiw1HWNQrhT7e3tbVmxALBmzZq6ujrnFyNDib6iUVxcvHPnzqSkpObm5i+//NKyt7mU8vLynJyc5OTk6dOnHzlyBACSkpJMJtOpU6f27t2barVhn1Sampo++OADT0/PEydO7Nmzx3JCcDbnZ9nCbDa7zolvVIWFhQCQlZWFQ6rNysoCABdvaS75upXy/wql2ZPsxdWOy6T6Lx3mOjhYjAQHi5HgYDESHCxGgoPFSHCwGAkOFiPBwWIkOFiMBAeLkZg8v0FKYaObm9Hff8rTr6AIdB4eX/n7+0zKn6QVDwfLGvf+/oDWVujpGTrRu6fHu7V10v7Go0j4VMhIcLAYCQ4WI8HBYiQ4WIwEB4uR4GAxEhwsRoKDxUhwsBgJDhYjwcGyysMDgoLA33/YRH9/CAqC4Z9MsxEk++2GCaa9Ha5cAQCIigJfX6mrmQD4iDWWvj54/30ICoJXX4XMTFAqYccOcO0WaK6AvzYzlj/+EQ4dgvJyENpwnDwJr78OCgXs3St1ZS6NT4VWtbZCaChotZCdPThx/374wx+guRn8/KSrzNXxqdCqujro6oKXXx42cf166OqCujqJapoYOFhWPXoEABAaOmxiWNjgQ+wZOFhWCTcaDIZhE4U/p06VoJ6Jg4NlVUwMKBRQVTVs4nffgbs7PO3swkbFF+9j2boVzp2D0lKYNQsAoKEB0tMhKQkOHpS6MpfGwRrLkyeQlQXnzkFiIgBAVRWsXAmHD4+8Hc+G42DZpqYGamtBJoPYWIiPl7qaCYCDxUjwxTsjwcFiJDhYjAQHi5HgYDESHCxGgoPFSHCwGAkOFiPBwWIkOFiMBAeLkeBgMRIcLEaCg8VIcLAYCQ4WI8HBYiQ4WIwEB4uR4GAxEhwsRoKDxUhwsBgJDhYjwcFiJDhYjAQHi5HgYDESHCxGgoPFSHCwGAkOFiPBwWIkOFiMBAeLkeBgMRIcLEaCg8VIcLAYCQ4WI8HBYiQ4WIwEB4uR4GAxEhwsRuL/GvTzDfQXVaUAAADqelRYdHJka2l0UEtMIHJka2l0IDIwMjEuMDMuMQAAeJx7v2/tPQYg4AFiRgYI4ANifiBuYORg0ADSzExsEJqFHUIzszEkAGkmJhjNwaAAotGFSVTOzcCowcTIpMDEDLSKgYWVgZWNgY2dgZFDgYOTgZOLgYubgZuHgYeXgZ2JgZeDQYSJjZmFlY2diY2Ti5uHl0Mc5n4GPs6iDUu352ofAHF2dbouy7s9bT+I/dBtmf323Nv7IGw1B5h4UFalA0wcxJ6k0mkPUzNJ5aU9TC9CfNl+hDnL9iOpPwBTDzTnAEwcxEay9wDMXjEAFvNEEWsTX0QAAADvelRYdE1PTCByZGtpdCAyMDIxLjAzLjEAAHicrZJLDsIwDET3OYUvkMh2P4nXlBWiSCy4A3vuL5xC3RaKVJVEljpjNU8TJw7yunan+wNsceccUA3UAOBqiQjcGBGd/u4xqMKsOLQxtZnx7l3gF2JeHxQKtKQcNlOAAovgi1fzgtJvp3BoJNG/WaqQJNJqlj0UPRtGvZY9051OpJTEC8qe6X5n2U7xRe7Il8lSZC6+yB35Iu/Fl3i7up2HykY/1dDKRlVtRlVjRlVrRlU0oyqZUZqYESAcjSoiMwTEZhjIEqiiKUGaZcvtEX0GOPadewL8bcB+9uIRcAAAAJV6VFh0U01JTEVTIHJka2l0IDIwMjEuMDMuMQAAeJxtjksOgzAMRK/SJUix5XF+jhAr7+EU3ILDtypKixR21tPzzOyrTxvcd3fM/XidE0WWIpYOQgmkXKrlGhYqbDkmuzAYFwZra5ICCSf9EIRFOTcTu0mRrVXgLnUElooU/19g0y/oyT+DHrpotIYgGrroYRANs+fzDYdmO1TiPCZIAAAAAElFTkSuQmCC\" alt=\"Mol\"/></td>\n",
       "      <td>852788</td>\n",
       "      <td>-21.66022</td>\n",
       "      <td>0</td>\n",
       "    </tr>\n",
       "    <tr>\n",
       "      <th>8667</th>\n",
       "      <td>CC(Cc1ccc(O)c(O)c1)C(C)Cc1ccc(O)c(O)c1</td>\n",
       "      <td>855767</td>\n",
       "      <td>217</td>\n",
       "      <td>Yes</td>\n",
       "      <td><img data-content=\"rdkit/molecule\" src=\"data:image/png;base64,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\" alt=\"Mol\"/></td>\n",
       "      <td>855767</td>\n",
       "      <td>9.42208</td>\n",
       "      <td>0</td>\n",
       "    </tr>\n",
       "    <tr>\n",
       "      <th>8845</th>\n",
       "      <td>CCOc1c(C#N)c(C#N)c2nc(C)cc(C)n12</td>\n",
       "      <td>856132</td>\n",
       "      <td>478</td>\n",
       "      <td>Yes</td>\n",
       "      <td><img data-content=\"rdkit/molecule\" src=\"data:image/png;base64,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\" alt=\"Mol\"/></td>\n",
       "      <td>856132</td>\n",
       "      <td>-13.09192</td>\n",
       "      <td>0</td>\n",
       "    </tr>\n",
       "    <tr>\n",
       "      <th>9251</th>\n",
       "      <td>Cc1nnc2n(-c3ccccc3)c(=O)c3c4c(sc3n12)COC(C)(C)C4</td>\n",
       "      <td>856632</td>\n",
       "      <td>438</td>\n",
       "      <td>Yes</td>\n",
       "      <td><img data-content=\"rdkit/molecule\" src=\"data:image/png;base64,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\" alt=\"Mol\"/></td>\n",
       "      <td>856632</td>\n",
       "      <td>-6.75072</td>\n",
       "      <td>0</td>\n",
       "    </tr>\n",
       "    <tr>\n",
       "      <th>9319</th>\n",
       "      <td>O=C(c1cccs1)c1no[n+]([O-])c1C(=O)c1cccs1</td>\n",
       "      <td>856726</td>\n",
       "      <td>437</td>\n",
       "      <td>Yes</td>\n",
       "      <td><img data-content=\"rdkit/molecule\" src=\"data:image/png;base64,iVBORw0KGgoAAAANSUhEUgAAAMgAAADICAIAAAAiOjnJAAAABmJLR0QA/wD/AP+gvaeTAAAdZ0lEQVR4nO2deVzU1frHPzPsyC7icjMVFfclxJRcUtwNNU2yrqJ2VTS9mmZgdStfXW9mZklaKWqZwtUu3lzvLykwcMmFRgdwZBMBAUE22WdYZub8/jjjSOoMzMz3DCjn/erVq+c03/Mc4DNnec5zzldECAGHIzTilm4A5+mEC4vDBC4sDhO4sDhM4MLiMIELi8MELiwOE7iwOEzgwuIwgQuLwwQuLA4TuLA4TODC4jCBC4vDBC4sDhO4sDhM4MLiMIELi8MELiwOE7iwOEzgwuIwgQuLwwQuLA4TuLA4TODC4jCBC4vDBC4sDhO4sDhM4MLiMIELi8MELiwOE7iwOEzgwuIwgQuLwwQuLA4TuLA4TODC4jCBC4vDBC4sDhO4sDhM4MLiMIELi8MELiwOE7iwOEzgwuIwgQuLwwQuLA4TuLA4TODC4jCBC4vDBC4sDhO4sDhM4MLiMIELi8MEy5ZuQAuRmYnr19GpE557DtbWLd2ap5A22WOFhGDePCQlYfduDB2KwkJWjhoakJMDpZJV/a0YESGkpdtgXhIS8PrrSEqClRUAfPop8vLwzTfCOwoOxs8/o29fJCcjMBDvvy+8i1ZM2xsKz5+Hv79GVQDmzMHcucJ7OXkSV67g2jXY2EChwLhxGDYMU6YI76i10vaGwqoq2Ns/MB0dUVkpvJcTJ7B0KWxsAMDODkuX4sQJ4b20YtgKq7Y2parqTH19HlMvhtGrF1JSHpg3bqB3b+G9FBXBw+OB6eHBcCbXKmEorLy84Nu3l1dU/F929iK1upadI8OYORNSKY4ehUqF27fx3ntYu1Z4L888g5ycB+bt23j2WeG9tGYIM65dc1Aqy9nVbzATJpD160l5OcnLI4sXk+efJ1OmkOPHmfj6/XcyaBApLSWEkKIi0rcvkUiYOGqtMFwVpqb62tp6dewYYmc3gJELA4iOxuTJcHdHVhYcHMzh8eBBbN8OGxvU1SEkBK+9hrNnce8e5swxh/cWR3CpKpUVxcXfEaJSKssKCj6VyfpnZMxSq2sFd2QYY8cSgGzZojEvXCDLl5PMTOZ+lcoHHgHyzDMPSp5qhBRWTY0kOzvo2jUHiQTl5T/TQrVamZr6Qnn5SQEdGUxcHAGImxuprNSUTJ5MALJxI1u/v/9OgoKIQqEx+/cnADlxgq3TZiCXywoLQ4uKvq2ry2LkQoDJu1pdXVKyNyXFJyXFp6Rkj1pd4+joZ2HhWFPzB0AIUahUVZaW7qY7Mp5NmwBg3To4OgLA1auIjoaTE9asYet3zRrs2YOfftKYS5YAQFgYW6dNUVPzx61bL4vFjmq1XC5PYOXGFFUqFMl5eRsSEtwkEkgkkEpdsrOD5PLrhBCVSp6VtTA52Sc52fvu3a0NDSXp6VOqqy8L83UwiEuXCECcnUlZmabE358A5L33mLves4cAZMwYjVlSQmxtiVhMsrKYu9ZNQcFnOTlrWHsxRlhyufzkyYiUlJFUTxIJUlPHlJZG6JlI5eW9L5EgMbFzXV2uCa01imnTCEA+/FBjSqVEJCLt2pHCQuauq6uJkxMBiEymKVmwgADkgw+Yu9ZNTc0fCQnuubnrFYob7LwYJqzU1NQNGza0b98ewNWrfaVS5+zsILk8sckH1er6tLQJEgmSk4eqVNXGttZwrl3TyKi4WFMyZw4ByPr1ZmrAm28SgLz1lsY8f54ApFMnUl9vpgY8jvr6vLt3tyYldSsq+qa+vqCm5prgLpolLIVCERERMWbMGO0A6uvre/HijyqVvPmeGhpKZTIviQQZGbMJURnbYAN5+WUCkJAQjXnjBhGLia0tuXPHTA1ITCQAcXEhNTWakoEDCUB++slMDdBNdfWVGzcG5+S8JZEgPX1idfUlAStvQljp6ekbNmzo0KED1ZOTk1NQUJBUKjXOmUKRKpW6SiTIy2M/vyEkMTFxdu/et1988cGo9/rrBCCrV5vB+wNGjiQA+eEHjbljBwHI5MlmbQMhhJCqqguVlTFVVWcrK2NrazPz8kIyM/96586HdCEvkSA9fXJV1TlBfOkU1p07d/z8/EQiEZWUj4/P3r17q6tNHcWqqs5evWotkaC4eK+JVTVJQEAAgHXr1mnsmzeJpSWxsiLZ2axd/4n9+wlAfH01ZlkZsbeXt2tXduuWOVtRXR0vlTpfu2ZbWhqRk/P3jIw5d+78Q6ksI4Q0NJTcubNRKnW5P2MeZXp4SKewvv76a0dHR1tb24CAgAsXLpjopjHFxfskEly9alVZGStgtQ+RnJwsFottbGzy8vJoyWerV6eOGaN88012Th+PXE7c3AhArmmmMofff9/VxSVEO0CbowmJCQntJRLcujVXrW547GeUysqCgi3aNX5Kim95+UlC1MZ51Cmsfv36AYiPjzeuXv3k5KyRSJCQ0KG8nFXnMX/+fAArV66k5q1btywtLa2srDLNEG1/lDVram1s4u+vTC9fvgzA3d29ttYcGxIKRWpiYieJBBkZL6vVTSwalMqKgoLNCQkdqLxOnVpw/PhxtdpgeekU1gsvvABA2L5Ki1qtTEubsWrVqP79+5eXC79RnZGRQWWUdT9itGzZMgBvvPGG4L6aQ0lKirubm5OTU1VVFS157rnnAPz444+sXdfW3kxM7ELnT83fWFOpqgsLQ5OSevXq1R7AwIEDDxw4oDRkM0qnsPz9/QGcPKkZa8vLy9PS0sq0MUaTqaysGDBgAIDp06cb1OLm8MYbbwBYunQpNXNycqytrS0sLNLS0oR11HzomnrvXs3M8ttvvwUwfvx4pk7r6m4nJXWXSJCWNkGlUjT9wJ+prVXs3Lmza9eudJ7dr1+/8PDwZv6xdApr4cKFAH64v5Z57bXXABw+fNjQxukhKyvLw8MDwNtvvy1gtbdv36YySk9PpyWrVq0CMH/+fAG9GEpERARdA1GzqqrK0dERwI0brKKUdXW51697SiRITX1BpaoyoZ66AwcO9L6fDtmjR4/Q0NAmB3Gdwlq7di2A7du3U3PlypUAvvnmG6Pb91guXLhgY2MDYNeuXULVuWLFCgALFy6kZkFBgZ2dnVgsvn79ulAujKC2tpZGbST3E7Po6Czsl0pLSUnB9et9JBKkpIxUKiubfqApVCpVZGRknz59qLy6desWGhqqUOjsBXUK6+OPPwbw0UcfUfODDz4AsGnTJtOb+BAHDhwAYGVlFRMTY3pt+fn5tra2FhYWqamptGTdunUAAgICTK/cRN5++20Ay5Yto6ZUKgXQvn17PX8e4ygqKhowYMCCBWNkMu+GhlIBa1apVCdPnqQTREtLSz1TC53C2rlzJ4C///3v1Pziiy/Yfb02bNgAwM3NTTt4GUpFRUVWVtbVq1ejoqJWrlw5efLkiIgItVpdXFzs4OAgEomuXr0qbJuN4ObNmyKRyMHBoaKigpb4+PgACA8PF9BLaWnp0KFDAQwaNKisrETAmrWoVKpt27bRSb2uz+g8/uXm5gbg3r171HR1dW1sCsvmzZvT0tKOHz8+Y8aMS5cuUV8AFApF2Z8pKCjIz89/qLC0tLS+vv6hOjMyMrZt2zZ69Ojq6upZs2Z5e3uzaLlB9OrVa9y4cbGxsYcOHaLj9fLlyyUSSVhY2IIFCwRxUVlZOW3atISEhN69e//yyy8uLu0FqfYhxGJx9+7dAfTs2VPXZ3QK6yElPaQzYRGLxeHh4WPGjElISOjbt6+9vf29e/cqDTmV5eTk5Obm5urq6nafuLi4hIQEGxuboUOH/uMf/2DRbCNYvnx5bGzsrl27lixZUlJSkpWVNXz48JkzZ5aUlLi7m5qyJpfLZ8yYER8f37Nnz9jY2M6dOwvSZkpubq6lpaW2zoyMDAC9evXS9fnm9liCC0smk504cSI4ONja2hqAg4PD2rVrlyxZUl1dXVRURD9ja2vr+me6dOnSuXPnhwrd3d2tH7l/IT8/f+DAgVeuXDl48ODw4cOFaraJzJ4928PDIykpKTAwUCqVpqenA/jjjz9CQkJsbW09PT0HDBjg2YgePXpod9X0o1Ao/P39z50717Vr1+jo6L/85S/Ctvyjjz764Ycf9uzZQ9cct27dgt4eS+cci/7MvXr1oqZMJgMwYMAAoQZpGoD9+OOPaUlNTU2PHj0AhISEZGVlaWchpkCXBc7Ozjk5OabXJhT79++n6wlLS8uFCxfOmzfPx8fHxcXlsX8dR0fHoUOHzp0799133923b19cXJx2h6oxdXV1L730EoCOHTtqVy3CMnr0aABnzpyh5vjx4wH8+uuvuj6vU1glJSUA3NzcqJmfnw+gc+fOgrRy165dADp16qSNuL7zzjsAhgwZ0tDw+J0s45gzZw6ASZMmGbEpwYiUlBQawfr2228blxcXF1+6dCk8PHzjxo3z588fMWIEzXt7FDs7u0GDBs2ePTs4OHj37t1RUVFTp04F0KFDB3ZRsU6dOgG4ffs2NWnUVM/+mE5hKZVKsVgsFotVKhUhpLa2FoC1tbXpTbx79y6dwB05coSWJCYmWllZicXiy5cFzl0uKiqiMdh9+/YJW7NxVFZW0k3YZkZry8rKJBJJZGTkli1bgoKCJk6c6Onp+ejg6OTk5OzsnJSUxKjZVVVVIpHIxsaGikEul4vFYmtraz1ReH35WNr5OzXt7e0BmJ45Q4P406ZNo6ZKpfL19QWwdu1aE2t+LIcOHaK/eu23raVQq9WvvPIKgMGDB9do8/4Mp7Ky8tq1a5GRkZs3b16yZMnAgQNFIpGXlxf9q1OkUumxY8eEaLWmNgD9+/en5vXr1wH06dNHzyP6hOXp6QkgIyODms888wwAE+crUVFRAOzt7bW96I4dOwB07dq1slKAAPFjoYlZfn5+LTsgfvLJJwBcXV21v1JBqKuro9PTiIgIWiKVSsVisbu7uyBTVULIkSNHAMycOZOax44dA+Dv76/nEX3CouE7bebM4MGDASQmNp3hrgu5XE7XEZ9//jktyc/Pp/PW44yOuhNCCCkuLu7YseOj0xpzEhMTY2FhIRaL//e//wle+ffffw+ge/fudXV1tIROrj/UHiExjU8//RSNwuOff/55kyOMPmFNnjwZQFRUFDXHjRsHIDY21uj2vfvuuwAGDRpUf/8oAR0aZs+ebXSdzeT48eMA2rVrd/PmTda+HiUnJ4duFG5kc0RWqVTSVJGvv/6ally5ckUkErVr166goMD0+pcuXYpGO8U0urtz5049j+gTFp0MHTp0iJp0hfWTsacArl+/TmfoFy9epCU///wzXVHn5prjTNjrr78OYNSoUY3nImagtraWBtImTZokeIKQFjo8eXh4aGcUs2bNArBaiAT/F198EcAvv/xCzYkTJwI4ffq0nkf0CeuhjIYlS5agUUaRQahUqlGjRqHR5qM2cBUaGmpEhUZQVlZGw4ZfffWVeTxSaESxW7duxdojaGygocF//etf1ExJSaHZjqZP6ejv7db9JH26n6O/79cnrIcyGoKDgwF89tlnRrTs0cDV+vXrAQwbNozdl/hRTp06RZcOZsv4O3jwIABbW1sJ+2uMzp07B8DZ2bmkRLP3vGjRIgCBgYGmVCuXy0UikZWVFQ0x1tbWWlhYWFpa1us9GqlPWA9lNNy6dUsikWijD81HV+DKwsLCDL/uh6C/a19fXzMIWiqV2tnZAfjuu+9Y+6LQSGlwcDA1s7OzbWxsxGKx0Sf2CCFJSUkAvLy8qJmSkoJGWzK60Ces/fv3A1i8eLHRbaLoClw9OJhlRsrLy2nUWLsyZURpaSkd61esWMHUUWMSExPFYrGtra02KvTWW28BmDFjhtF1Hj16FMD06dOpSXv9qVOn6n9Kn7DoSkobvTCOFglc6Sc6OprGkWXaKxWERqVSTZs2DcDzzz9vnqM4WujXWJtOWFxc7OTkBCAuLs64Crdu3Qrgrfu3BGzfvr3xXFkX+oRFx+xOnTr9+9//vmPUmXS5XE6jrGYOXDUJXT97e3vrnygYDZ2etm/fPsvsF8tkZmbSlP/k5GRasnHjRgCjR482rsLly5cD2LFjBzXpAQJtzrou9AmrrKyMqpXi6ekZGBgYFhaW3eyTxGq1+rvvvvPz89NuLZstcKWf6upqqvjNmzcLXvmpU6foNqt2fW5maJxJm41dVVVFN0yNi81OmDABwM8/a27SmzJlCoBTp07pf6qJuxtycnK2bt360ksv0e5Ui5eX17JlywztycwcuNLPmTNnRCKRtbW1sHu3WVlZNCthi/ZaSrOTn59vb28vEokuXdLc8/Hll1/S0LQRMTwaXNCuo+neSZPJOc29xkipVMpksrCwsICAAG3qsEE9mfkDV01CA3VDhw4VakCUy+X0oMGsWbNadl+SbnK8+OKL1Hx0P7H5KBQKmUxGx5yGhgYa5W5y4mjMrckqlSo1NfX333+PiYmJiYkpKytrLLJRo0aNHj16ypQp3bp1a/zU+vXrv/zySx8fn8uXL1tYWBjqlAXV1dWDBg2i+y3t2rVzdXUViUQuLi4WFhZOTk5WVlYODg42Njb29va2trZ2dnb29vY2NjYODg5WVlaOjo6WlpbOzs5isdjV1VUsFjs7O69ZsyYiIsLLyys+Pt7Z2bkFf7Ty8vKePXveu3cvOjqaBsr379//t7/9rXv37mlpaY8m3DaTmzdvenl59ejRIzMzs4mPGvxd+DPN7Mm0gavWcFqmMYGBgfRgoyA4OTnZ29uzW2waBN059vHxoX2nUqns378/TFs20cnMpEmTmvykkPe8q1QqqVQaFxcXFxd3/vz5xqch7O3t5XL5unXr6GDfSlCr1d27d8/NzY2MjPT29i4vL1epVJWVlUqlsqqqqr6+vqampra2VqFQKBSK2trampqa+vr6qqoqpVJZUVGhVqvLy8vpv1UqVWlpqVwu9/X1vXDhQkv/ZACgUCi8vLzy8vKOHDkyd+5cAGfPnhWJRGPHjjWitvr6+hs3bmzfvj08PPzNN9+kVwTow2jx6uehnszLy2vVqlXaKzFaCTExMQC6desmyHwoNzeXHhs0c+BKD3QnzcvLy4iE7zt37kRHR4eGhgYGBg4bNkzbr0+dOlW7QtQDw1eeaFEqla1hGfgodHtHe9rbdGjKmvbEQYvT0NDQt29fNCN1oKSk5LffftuxY8eyZctGjhxJs/IbY2lp2bdv34CAAO09Mfoxh7BaJzU1NfTXp105f/HFF9HR0aYk1dAj3e+8845AbRSAw4cPA+jSpUvjZOj6+nqZTBYZGblx40Z/f//H5tG7urqOGjVqzZo1YWFh58+fNzSXuu0Ki17/MnLkSGoWFhZaWVlZWlrevXu3+ZXIZLKZM2cuWrSImnFxcRDukJwgqNVqegp80aJF//znPwMCAvr06fPoqtzR0dHX1zcoKGjnzp2xsbGlpabe+NB2hUUjyNpss9DQUBi+WZuVlQXA2dmZRsIaGhpolKH5mxNmICoqisZLG49rnp6e/v7+GzdujIyMlMlkgic/tlFh3b1719LS0traWpt8N2zYMACRkZGGVkWPc507p7lsmO5Z7d69W8jmmkxxcfHixYtDQkLCw8OlUqk2NZ4dbVRY9LKUl19+mZrJycm045HLDbi5nkIvJ3rv/gtU9u3bB2DWrFlCNvcJpO29ExoAcPXqswMGPB8YGEhNmuf56quv0rw8g6DpMTRyCGD69OkikSgmJqaurk649j6BtLSyWwCZjADE1ZXQeJNKpaKpf9rhzCDq6uocHR1FIpH2VgVv7+GDBq2IizPXyy9aJW2xxzpwAADmzdO8ZP7sWZGbW8TMmevpvReGYm1t7efnRwj55ZcYWjJ16uXr13edOtVFsBY/gbQ5YanVOHwYAO4Pgzh4UJSYOHbIkG3NvDDoUV555dN+/WpOn15EzSlTxABOnza9sU8wDN8J3TqJicGkSejZEzdvQiSCQoHOnVFRgdRU3L+41WByc/Hss3ByQkkJrKygVKJDB5SXIysL3bsL2fgniDbXY4WHA8CCBaDd0/HjqKjAiBHGqwpA164YMACVlbh4EQAsLTFxIgBERZne3ieVtiWsmhocPQoAf/2rpoTqTDssGs20aUCj4e8hsy3S0qsHsxIeTgDywgsas7BQ8zow048onzlDADJ4sMbMz9e8f7PVJDqYm7bVYz3UP/32G1QqTJ8Ok++VxejRcHREUhJycwGgc2cMGYKaGpw/b2rNTyhtSFiFhThzBjY2ePVVTclrryEzE5s3C1C5tTUmTIBIhMuXNSVtfDR8+leF5eWoq0PHjgAgkSA2FsHBqKmBhQVsbYV0lJYGR0d0uR+9On8eY8eiXz8kJwvp5Unh6e+xdu1C//6gN3z36IG9ewHg118hkQjsqE+fB6oC4OsLb2/4+aGhQWBHTwRPv7AA9O6N4OAH5pkzOHoUERFsJ0Dx8Rg4EJ9/DisrAHjjDYa+WiE6XyDwNDFvHv77X8TGYvBgAJgwAQoF3N0xciRDp7m5OHECzz6LTZsA4MQJhr5aIU9tj6VQ4PRpfP89AIhE+PprrF4N7Rt3/P3Zqooybx6OHkVqKnNHrZCnTViZmdizB6++Cg8PTJ+Od96BWg0Azz0HPz/s3GnWxtjY4LPPsHIlnvYF0mN4KoZChQJxcRnx96ZFzM/I0JSJxXj+eUybBqVSU7JpE4YOhZUVDh9Gejo+/BBi9l8rf3/s3Ysff2TuqLXRuoWlVuPGDRQWol8/PPrWocxMxMQgJgZRUaiq8uzYObPor+3bi/z8MHEi/P01a7TQUE1YwdkZn3yCrVuxYgUqKxEfj4gI/PnwtjAkJ+PwYQwcqDF37MDUqQ/03VZo6dC/bsrKyLBhJCCAbNhAhgwh775LGhqITEZkMhIVRXr3JoDmH7GYDB9OPvoo8YqiOfc/xsaSjh0JQJ59lty/xF4YlEqydSuxtSUAWbuWaC8s/uQTIhYL6aj104qFFRJC3n9f89+1taRvX3LhAomIIBER5OJFAhA3NxIQQMLCiOGXwuXmkhEjCEBsbYlQb9m5dYuMHauRemAgSU4m165p/lddHbl//WpboRULa/hwkpDwwHzvPbJt2wMzPp6YdjttbS1Zs0ajg6AgYsq5FbWahIWRdu0IQDp1Is07KvyU04pXheXlaHzQ28kJje5LwvDhMO0uJBsbfPUVDhyAnR2uxCmUfpORnW1EPaVZlePHY/ly1NRg8WKkpGDGDFPa9ZTQioXVsyfS0x+YqanQ/aJYo1m4EOfO4ZjbEvvfozFiBGJjDXiYEOzZ0967W8+SKx074tgx7N8PHW+0bHu0dJepm5MnyfDhhL4KJjqadO9O2F1WU1JCpkwhALGwIBs3kuYcC87OJhMm0KG0fNX7Jh9Jf9poxcIihPznP2TcOOLjQ+bOJaxfrqRWky1biFhMADJjBrn/Bo3HExlJXF0JQDw8yH//y7ZhTyatW1jm58QJ4uJCANKnD3ns/a0FBWTmTM2cPyCAFBWZvYlPBk9/PpbBZGTglVeQlweJBITg44+RmgonJ8ydi6AgDBqEGzfQvj2++Qbz5rV0W1svXFiPQy5Hejr698fgwdi0CXPmoLAQ8+Zh2TJ4eCAsDLt3a1IHOTrgwtLNyZPYtw8nT2rMK1ewejXi41u0TU8MrTjc0OJkZv7ptGG/ftBucXOaggtLNy4uaHTxMyoq4ObWcq15wuDC0s3o0fj1VygUGvPIEYwf36INepJo3WkzLUuvXli9GqNGYdYs5OYiIQGnTrV0m54Y+OS9KaikOnSAtzeMfVNIG4QLi8MEPsfiMIELi8MELiwOE7iwOEzgwuIwgQuLwwQuLA4TuLA4TODC4jCBC4vDBC4sDhO4sDhM4MLiMIELi8MELiwOE7iwOEzgwuIwgQuLwwQuLA4TuLA4TODC4jCBC4vDBC4sDhO4sDhM4MLiMIELi8MELiwOE7iwOEzgwuIwgQuLwwQuLA4TuLA4TODC4jCBC4vDBC4sDhO4sDhM4MLiMIELi8MELiwOE7iwOEzgwuIwgQuLwwQuLA4TuLA4TODC4jCBC4vDBC4sDhO4sDhM4MLiMIELi8MELiwOE7iwOEzgwuIwgQuLw4T/Bx50U8Ua7czyAAABkHpUWHRyZGtpdFBLTCByZGtpdCAyMDIxLjAzLjEAAHice79v7T0GIOABYkYGCBABYjEgbmDkYNAA0sxMbBCahc0BRmeAaGZGTIaAA1QLVCk7hGbmgIqzJ2iBrGJm4VAAMf6DtEINhVoCt5R4y7gZGDWYGJkUmJgzmJhZElhYM5hY2RIY2RXYOTKYODgTOLkSuLgVuHgymHh4FXj5NJh4+RX4BTKYBAQTBIUymISEE9iYEnjYE4T5E0SYWYFWs7KwcrDzcHGyCvALCwmKw0KGQaSQaa79zlRmBxDnwIMn9tmNmvYgtkJDoMOvR8/tQGy27jqHYK34/SB2Q/c6h4ZZMmB2ne1Wh/ol8WD156W6HH5zHQGz5e1j7RVZWMFqztcstncW+w1mT3rJYVtgbHwAxK78PWn/BtUPYPFrx1UPVDQKgcVfNivtv/3n3T6w+kl79k9/4wY2c93mgP0tDBxgd37ltTug5KQDFr/4ueDAr2BJsDnfuZcfMHIoBOt1S1x1IChxIViN7t7qA4vsX4LZYgBSqmWlv8WUMAAAAZR6VFh0TU9MIHJka2l0IDIwMjEuMDMuMQAAeJydVFtqxDAM/M8pdIEY62FZ/t5dWijdQgu9Q/97fyrHjkmhu2wdDBmhaDyWxlmgPu/nl69vGA+dlwUoAhFA/HOVUuCTYoxL/R4DkepWGWJirCgGz0Z4g1sUx9VZslmvVaUjy+lxFg6UWVqtJCqzLCVnPz2sMVjGPMeSXIGkxqI4z6LK1mots86xSGBM1vrsIzqyfDzO4gpUel8Slkkt7pfeXQxFf2m5/kdL5G3SKwWrtTOucwUoxg1ZVrqvRW6wUEglckNkhe5rwRss7hIWa0hUbaq7fg7J3BXknOMci08aE7U7jZQmu0s+390lmidv48ohq5TuumKTLMn/UrF7lzjNeddZmES6izVOzsj/L827zmJEPHMb3UW0rRr4i5uxlg1J8+qyvdIIHOkIHOUROIENAkdlZApg3ANHiCNAQNprasAjw4AyMgKYdqE10JFRwKHAEdoIDHAocERDQZV83AdGjX+D++FeAU7PT9umVW/dr0pdsWYu1/PyAx4vFAui5/l+AAABEnpUWHRTTUlMRVMgcmRraXQgMjAyMS4wMy4xAAB4nC2QO24DMQxEr5JyjWgFcvgVDFc+gA9guNreKdL68CEX6aQ3M9RQj9t9O/g4jl++HPz+eb6/X9vzsb/qdt9uj8u/+PXZeALuOjDJhHJceUYm86DpDhYeV5kIUSuihkXaZEVAx04zg6OIlaYmTZw5RBq5S/hoj3jHdApbxOBpdVjjWpIr9BxkvGxpv4+abWPnuZwd7SIRRQV2zCSi6lQqa0q7MpytCKYtErQJuU5UZUSzh1V39wg5kxoCVK+IIM3Tl2xQ1C8wjOSctnx1eQ9kVq9dZrhmnl1XLumg1e8RuBnErALNBCq9JZwiz+TqBYokUG0unz+gi1alkuQpwAAAAABJRU5ErkJggg==\" alt=\"Mol\"/></td>\n",
       "      <td>856726</td>\n",
       "      <td>-25.76812</td>\n",
       "      <td>0</td>\n",
       "    </tr>\n",
       "    <tr>\n",
       "      <th>10832</th>\n",
       "      <td>CC(C)OC(=O)CCNc1n[nH]c(=O)[nH]c1=O</td>\n",
       "      <td>858600</td>\n",
       "      <td>257</td>\n",
       "      <td>Yes</td>\n",
       "      <td><img data-content=\"rdkit/molecule\" src=\"data:image/png;base64,iVBORw0KGgoAAAANSUhEUgAAAMgAAADICAIAAAAiOjnJAAAABmJLR0QA/wD/AP+gvaeTAAASUElEQVR4nO3deVRTZ/oH8IdAZEdRtLiAFKGVUq1bRQW3qoejk2L9ueDS1DljxdY6GWs5hzLOEaxamU6nRT2cTjpO29RWK9SjDVB7po6tHasi1o5oURQUAyKbhCVgSGKe3x/3AnFDiPcJy3k+f6XNzfu8km+eu+TeGydEBMakJuvqCbDeiYPFSHCwGAkOFiPBwWIkOFiMBAeLkeBgMRIcLEaCg8VIcLAYCQ4WI8HBYiQ4WIwEB4uR4GAxEhwsRoKDxUhwsBgJDhYjwcFiJDhYjAQHi5HgYDESHCxGgoPFSHCwGAkOFiPBwWIkOFiMBAeLkeBgMRIcLEaCg8VIcLAYCQ4WI8HBYiQ4WIwEB4uR4GAxEhwsRoKDxUhwsBgJDhYjwcFiJDhYjAQHi5HgYDESHCxGgoPFSHCwGAkOFiPBwWIkOFiMBAeLkeBgMRIcLEaCg8VIcLAYCQ4WI8HBYiQ4WIwEB6vH+/VX2L9ffKzRwMWLXTqbFhysHq+8vC1MFy5AdXWXzqaFS1dPgEmgtBROngQAKCvr6qm04GD1BjduQG4uAEB5eVdPpQUHqzeIiACVCgCgpKSrp9KCt7EYCe5YPd6YMWCxiI9jYiAsrEtn04I7Vo+n00FsLOTkAAB8+WV32cziYPUGy5dDYmJb3+oOeFXYG/j5wdixsGsXfaVvvoFPPgE3N/D0hA8+gH79HrZgD+9YFRVQXNzVk+gaVitkZsL48XDlCgDAa69BZiZUVAAinD4tdbH6egCA0lL48ENIT4f9+yEmBv7yl3ZeIX2wCgoKYmJikpOTJR/5LnfuwPLlkJQEaWkwZw7cukVbrjuxWECjgbAwiImBs2fh4EEAAGdnSEmBrCz4+muIiIBXXoGGBimK6XTwpz/BsGFQXAwnT0J0NLi6AgDMnw+nTrXzOulXhTqdLjMz02g0Sj7yXQ4cgNBQ2LwZACA9HVJTYcsW2ordgNkM+/bB1q1ilwoKgvXrYf58sWtPnAgaDVy/Dm5usGcP/Pe/8K9/wQsv2FusqAjefRf27AGzGWQyOHoUvL0BsaMvR6l99dVXALBkyRLJR77Ln/+M2dni45ISVChoy3W15mbUaHDECARAAAwORrUazeYHL/zbb/j88wiATk4YF4cNDZ0sVlSEcXHo4oIAKJPh4sV48SIiYkkJzpiBJhMiYmYmrl3bzhjSB+ujjz4CgNdee03yke/y17/i3r3i4/Pn8eWXact1HaMR1WocNkyMVHg4ajRosTziVWYzpqSgqysCYFAQHj3aoVrnz5/Xv/EGymQIgHI5/uEPWFgoPlddjVlZmJGBCgUuXYpKJdbUtDOU9MHatm0bACQmJko+8l0uX8YZM7C2Fk0mfPllzMykLecQ585hfr74+OhRNBgwNRWHDBEjNWpUhyJlKy8Px45FAHR2tm7atLOxsfHhS+YplUpnZ+ddU6Zgnz6oVOKVK+JzVVWYlIR9+6KbG9640cHS0gcrPj4eAN577z3JR77X8eO4ciWuWIEZGeS1HCI+Hp99Fm/fRkSMjGxb8T3/PGq1aLXaM6bJhMnJOHPmTgAIDg7+8ccf71ng9OnTL774opOTEwC4ubm9qVJZS0rE58rK8M030cNDnMfcuW1pexTpg7Vq1SoA2L17t+Qjt8nNxcGDUdiMKy/HV17BzZsJyzlKfDwmJOCmTYiIUVG4cSNOnmx/pGzl5eWNGzcOAJycnOLi4gwGAyKeOHFCoVAIkfL09FSpVKWlpeILyssxIQHd3cVIzZ6NOTmdqih9sBYsWAAABw4ckHzkNt9+K36AEPHsWQTAsWMJyzlKfDzm5uK8eXjpEkZFiVvJUjGZTCkpKX369AGAESNGCJvCAODt7Z2QkFBRUSEsdu3atTVr1jSHhIhb7gsX4v/+Z0c56YM1Y8YMAPjhhx8kH7nNl18iAC5fjoh45AgC4AsvEJZzFCFYFy/iggUYFUVS4ty5c2PGjAEAmUwWGBiYmJhYXV0tPHXt2jWVSuXq6goAn0ybhsuW4YULdheS/gCpXq8HAF9fX8lHblNTAwDQv79Qr+1xrzByJISFif8syY0ePfrUqVNvv/22k5NTaWmpQqEYMGDA1atX16xZExoaunPnTrPZvHjx4slqNezdC+HhdheS/gBpTU0NUAdL+KsLJYSQkZZzlHnzwMcHGhth40YIDqaq4urqun379kmTJr300kuLFi2aNm1aRkaG1WqVy+WrVq1KTEwcMWLE41eh6lj9SVuIbbB6UceaORPefRe8vCAjA1atoq01fPhwAHB1dd2/f7+Li4tSqczPz9+9e7ckqQLJO5bZbDYYDHK53NPTU9qR73L/qrBXdCxwYP8VPv9PPvnkq6++unLlymHDhkk7vsTBal0PCjuxVO7vWL0lWLb999w5MBohLAx8fKQv1PpObdy4UfrRJV8VOmI9CHDMz+/s9Om3/PwAoNrZ2RgS0uznR1rRYWw71oYNMGkSnDlDUoj6nSIJFu2WO8AbOTnjjx0r79sXAJZevuxeWHi8b1/Sig5j27FIV4vU+1gSB0uYLnXHsv2jOGIn1IEctltC3QJ6ZMeybeOOWfk6RlMTGI3g4QFubgDEHYv670a18S7tsLZu375tNBrd3Nzc3NwcU9FhbJNksYDBAC4u4O1NUsvD483p01c/8QTBfgEASB6siooKIH6bbT9qFouloaHB2dnZh2LHyeEaGsqmTfvJ338gwCy9/vbEiXq53M3JiaSpnD//9LFj7Z+2/lgkWxUaDIYdO3akpaUFBATs27fv0qVLUo18D9vNuNraWkQkP7rhKFVVhT/9tKy8/B0AqKnR5eQMraycTFSL+iiNBMHS6/XJycmBgYHr16+vq6urr6+/cuXKuHHjPvzwQ6vV+vjj318OeumWu+1nhnobyPYYM4XHCtatW7eSk5ODg4M3b96s1+sjIyO1Wq1Op4uLizMajRs2bIiKiiooKJBqroKmpiZvb2+9Xv/ZZ5+9//770Fu23OHuzwz1bhD5cWX7ToqorKxMSkrq23L0KDIy8siRI7YLfPfdd8K3BO7u7ikpKXfu3LH7BAxbRqNRrVYPHToUALy9vQEgICCA9qRCBxI+J2+99RYifvHFFwCwXDg1SGoWC8pk6OyMEr0tD9DpYFVUVCQkJHh4eAiRmj179smTJx+4ZE1NjVKpFBbbuGQJFhU9zkQbGhpSU1MHDx4sDDh69Oht27bdf1ak5Mxmc15eXknr2bqUhG9Xtm7dioi7du0CgHXr1lEUqq5GAOzfn2JsUSeCpdPpVCqVu7u78F4qFIqcDpyump2dPWL4cEN4OLq7Y0qKHZ+R+traLVu2DBgwQIhUREREVlaW1WpFRLPZbHtW5LFjxzo7eDtMJpNGowkNDfX19R04cKBCobjR4UsJ7LN27VoASEtLQ8TDhw8vX778888/pyh05QoCYEgIxdiiDgWruLhYpVIJx41kMplCoThz5kzHazRXV2NsrHj29KxZWFzc0VfW1WFKSnVwsJenp7DC1Wq19y9le1akSqUyGo0dn9sDGY3GtLS0wMBAIcrDhg3z8vICgIEDB2ZQXrixdOlSANjbelkbmbw89PenOklV8IhgXb16NS4uTi6Xt0bq7NmzdpbKzMTBgxEAPTwwNfURVwhUVmJiInp7C3H85+rV7Z/rLJzQLczzmWeeOX36tH1zFLbhWs8hCQ8P12g0FoulrKxMoVAI/3Px4sVVVVX2jf8wd+7c0Wq1gwYNcnd3X716taVTF3l10scfo/C3NBoxNRUzMlCnE5/6+98lq/LQYJWVla1YscLZ2RkAXFxcVq5cWVBQ8LjVKitx0SKxdc2Zg9evP3iZpCT08REXi4zE//yng8Pn5OSEhYUJE05ISOhU6zIYDKmpqUOGDBHSM2rUKCFSrQtYrVa1Wi3sMQwaNEiqq0UsFsuePXtGjhwp1HVxcRF68+XLlyUZ/36xsThxIjY2osGA0dG4di3m5opPRURIVuWhwaqrq/P19ZXL5UqlUuJ/5L59OGAAAuA77+CFC7hiBS5diuvWoV6PmzaJlxw5OaFC0dlLjhDx9u3bCQkJwuchPDw8t/Vv9nDCboG/v7/w1j733HPp6enWhzTUq1evzpw5U1gyPl7b7sXAjyBswz399NPCaMOHD09NTdVqtQEBAa170xStKzYW//EPTEhoC1Z2NpaUYEkJjh8vWZX2VoVZWVnXH9hUHt/Nm7hhA9bV4cSJWFaGiPjtt7hiBW7ZIkbK3nWZ4OTJk0IPEFpXc3PzAxerr69PSUlpPQw2efJkrVb7sEi1ElpXcHBUv37WJ57Agwc7Pb3mZlSrPw4KChLqhoaGfvrpp6aWq71qa2vj4uKEp6ZMmSLBiqJt5lhVhbGxWF6OMTGYkyMGS6nE+HiMj8cnn5SqFMHlX52Qm4urV7f959ixWFeHeXmSjN3U1NTaukaNGvXLL7/YPltdXZ2UlNR6+PFhuwXtKCw0T50qrq5//3vU6zv0qtZ7e0ya9H/CnqxarTY/6OYehw8flvBAoNWKWi1OmICRkWKwCgtx9uyuWBU6wvHj+MYbbf85bpwE1/ze7eeff37qqacAQC6XC62rqqrqnkO733//vX2DW62oVqOnJwKgvz9+8017Czc24gcfiHsvADhv3vn9+/e3Hxe9Xt/auiIjI690+PJ2WxYL7t2L4eFi3aFDcf58LC9HRExK6q3B0utx0iTxZjxFRRgdTVHEYDCsW7dO+JY6ICCg9dDu3LlzT5w48fjjFxXh9Oni27Z48QNuwSLc26M1UqNHd+7eHtnZ2cIuhYeHR6da1507mJ6OI0eKdQMDMTUVm5qwqEi8xtpoxMuXsbgYW+8V8ttvHZ3VI3VpsBAxPR1nz8ZVqzA6uu1OKwSOHz8eEhIydepU4duCjhza7TiLBf/2N3RzE7Pl74+1tYiIy5bh9u3ijgoARkRgZqY9Tdm2dc2ZM+eRG74mk2nv3tO2N9PavVviC/YfqauDJej0rcHsUV9ff+vWrTyJtuHul5+PCxfioUM4Zw6qVIiIy5bhtm0IgFOmSHBvj8zMTOEbLR8fH7Va/cCdjObmZo1GExIS4unpOWBAZfv3ZyPVPYLVi/z737h1K8bG4pkzuGwZFhaihHexqKysXLRokdC6oqOjda1HNhGbmpp27NghfD0vHGo5cOBXyuOsj8DBkpgQLJ0OZ83C2Fi0eeslk56e7ufnBwB9+/ZVq9X3HNp99tln7zm02yU4WBITgoWI772Hvr4kwULEmzdvzp8/X0hS60XnEyZMOHTo0COPwzkG/4CAxHx8QDi1Z/16+PFH6NOHpIq/v39tbW1QUJDVag0JCbl06dKECRPS0tIkv1Lebj38BwS6JWGlJJfDwoVgMlFVOXfuXHFxcW5u7qFDh3x8fLRarcFgoCrWeRwsiRUXQ36++PjUKfHUcslZrdb6+nqZTObn5yecqA3d7Nx/XhVK7+ZNyMsDAKpUAUBtba3VavX19ZXJZOCo64Q7hYMlvfx8yMoCANDpqErYXsNjMBhMJpOXl1cfog06u3CwpDdrFmzYAACEvx/lyOt57MPbWD2S7RWIjrkRS2dxx5LY737X9oOUW7e284N+j6X7dywOlsS8vNoeDxpEVeWp5ubdUVH9QkIAwFpfP97fP4iumF04WD3S2NLSscePw7RpAPBCVdWZ8nKqu9LYi7exeqZuf0NyDlbPZBumbnl7Xw5Wz2R7G8luead7DlbPZNuxeFXIJMMdi5HgjsVIdPuO5YQd/8F71n3U1kJ5OTQ1Qb9+cOEC3LwJSiW0XNnWHfAB0p6pshJefx3mzQOdDurrQaPp6gndiztWz6RUwvr1MH48AMDrr8OSJdByq5JugrexeqaLF2HMGPHx+PFtJ612GxysnsnXt+381OpqaLmPZvfBweqZlErYtAkaG6GgAA4ehLlzu3pC9+JtrB7r668hOxv69YM//pHwF6TtxcFiJHhVyEhwsBgJDhYjwcFiJDhYjAQHi5HgYDESHCxGgoPFSHCwGAkOFiPBwWIkOFiMBAeLkeBgMRIcLEaCg8VIcLAYCQ4WI8HBYiQ4WIwEB4uR4GAxEhwsRoKDxUhwsBgJDhYjwcFiJDhYjAQHi5HgYDESHCxGgoPFSHCwGAkOFiPBwWIkOFiMBAeLkeBgMRIcLEaCg8VIcLAYCQ4WI8HBYiQ4WIwEB4uR4GAxEhwsRoKDxUhwsBgJDhYjwcFiJDhYjAQHi5HgYDESHCxGgoPFSHCwGAkOFiPBwWIkOFiMBAeLkfh/8SJJOmiVqg8AAAFOelRYdHJka2l0UEtMIHJka2l0IDIwMjEuMDMuMQAAeJx7v2/tPQYg4AFiRgYIEITiBkY2hgSQODOEZobzORg0QHwmNgjNguCD5JngNDtDBlickc0BopAdQjOzO1iADWSGScBMwCnBDXQeIxPQbqCYAgurBhMLGwMbOwM7BwMHpwInVwYTF3cCN08CD68GEw9fAh9/Ar+ABhM/Z4IIIxsnPx8PN5c4zHsMgs5mDw4If+fcD+K8l9p64OXU77Ygdui1jQeC2M/bg9imLr0HouzNwWoOBrocmB+RuhfE7jthe0A/eQdYzSyPl/sXtqeA1ajlft7nUp63D8S2/+9i/+V5B1i8oozdweDMRbD46v+8Di+kusF6g81SHC703wezn3yc6dDxNgPMtuA96rDm9Qkw22vtNId4PTGwOW+Uwx0keuaD2TtnBTiw9eofALHFABZuU56aRU+1AAABU3pUWHRNT0wgcmRraXQgMjAyMS4wMy4xAAB4nJ1US07FMAzc9xS+AJbt2E68pqwQD4kFd2DP/UV+L+oCpEeqqJqpm+lMnPSAdn2cr1/fsC45jwM4twH064gI+BQiOurrTxmJ3BsitFSiaVB9RgTP8JfEdXQVQ7ewMZeFtlXMsra5jM4D/V9FUVlnosxWLirvj6skJM82VMic9rwIhttMpEq254WxiEwvJSTveSHU3L1UJEn2elRnZO+drq7Iwy8qt8dVBJnvu04pyp4XQeGSx+pS8bLnJaH52CWMWX0zkWJhmg6inrG9RI5sOYYX87h2+vH9Ur1k6uvSznTZTZQwOfvotKjbXqKEYqHjLGRNtJOIa6v7vZGK0pXoIhXZIhV5r0+SV6WiskhFsUgA051UxNw1G2FgWUSA0yIJWO/facRWxaCt3iTef8iyCM3KG8DL7Tx+AG5r5ZdHRdmPAAAA9XpUWHRTTUlMRVMgcmRraXQgMjAyMS4wMy4xAAB4nB2QO47DMAxEr7KlDcgESfELI5WardYHCFKlzwly+CVdiXqaGZJaa1v7tbbHta/196bP8/P7evf1Luhx/Xy3wwHRjMeBoDOSbZyHgmmqDARijKQbqbrQIDDq8zwEhESjjU4ajSaguWQjVM1kL8iQptPLKYI6ixAEc1Ul64apxRDEVeSegyeHl7WC67EQVW5Wq5OByIxaJJheVSGm8FnxGOY1/QQ1DS7gYm0SCEKP2iYxw2WcBqQeVhK1tGyJl1vvTwgz0Y6ZVqpuzmJyB7OmyKiNXDhj7N9/ylZJq6AUfpoAAAAASUVORK5CYII=\" alt=\"Mol\"/></td>\n",
       "      <td>858600</td>\n",
       "      <td>4.19268</td>\n",
       "      <td>0</td>\n",
       "    </tr>\n",
       "    <tr>\n",
       "      <th>11901</th>\n",
       "      <td>O=C(NCc1ccccc1)NC(=O)c1ccccc1</td>\n",
       "      <td>859917</td>\n",
       "      <td>343</td>\n",
       "      <td>Yes</td>\n",
       "      <td><img data-content=\"rdkit/molecule\" src=\"data:image/png;base64,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\" alt=\"Mol\"/></td>\n",
       "      <td>859917</td>\n",
       "      <td>-11.12692</td>\n",
       "      <td>0</td>\n",
       "    </tr>\n",
       "    <tr>\n",
       "      <th>12057</th>\n",
       "      <td>c1ccc(-c2nn3c(-c4ccccc4)nnc3s2)cc1</td>\n",
       "      <td>860119</td>\n",
       "      <td>331</td>\n",
       "      <td>Yes</td>\n",
       "      <td><img data-content=\"rdkit/molecule\" src=\"data:image/png;base64,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\" alt=\"Mol\"/></td>\n",
       "      <td>860119</td>\n",
       "      <td>19.49448</td>\n",
       "      <td>0</td>\n",
       "    </tr>\n",
       "  </tbody>\n",
       "</table>\n",
       "</div>"
      ],
      "text/plain": [
       "                                                  SMILES    Name  Cluster  \\\n",
       "422     COc1ccc(N2CCN(C(=O)CSc3nnc4nc(C)cc(C)n34)CC2)cc1  842669      220   \n",
       "792      CC(C)(C)NC(=O)C(c1ccco1)N(C(=O)c1csnn1)c1ccccc1  843156      277   \n",
       "1016     Cc1ccc(CN(Cc2cccnc2)C(=O)CN2C(=O)COc3ccccc32)o1  843464      275   \n",
       "4167   Cc1ccc(S(=O)(=O)Cn2nnnc2CN2CCN(C(=O)c3ccco3)CC...  847703       99   \n",
       "6199                     O=C(CC(=O)NCc1cccnc1)NCc1cccnc1  850495      203   \n",
       "6457                     O=C(CSCC(=O)NCc1ccco1)NCc1ccco1  850855      297   \n",
       "7655              O=C(NCC1CCCO1)c1ccc(C(=O)NCC2CCCO2)cc1  852468      111   \n",
       "7880                               O=C(N1CCOCC1)N1CCOCC1  852788       76   \n",
       "8667              CC(Cc1ccc(O)c(O)c1)C(C)Cc1ccc(O)c(O)c1  855767      217   \n",
       "8845                    CCOc1c(C#N)c(C#N)c2nc(C)cc(C)n12  856132      478   \n",
       "9251    Cc1nnc2n(-c3ccccc3)c(=O)c3c4c(sc3n12)COC(C)(C)C4  856632      438   \n",
       "9319            O=C(c1cccs1)c1no[n+]([O-])c1C(=O)c1cccs1  856726      437   \n",
       "10832                 CC(C)OC(=O)CCNc1n[nH]c(=O)[nH]c1=O  858600      257   \n",
       "11901                      O=C(NCc1ccccc1)NC(=O)c1ccccc1  859917      343   \n",
       "12057                 c1ccc(-c2nn3c(-c4ccccc4)nnc3s2)cc1  860119      331   \n",
       "\n",
       "      Center                                                Mol  \\\n",
       "422      Yes  <img data-content=\"rdkit/molecule\" src=\"data:i...   \n",
       "792      Yes  <img data-content=\"rdkit/molecule\" src=\"data:i...   \n",
       "1016     Yes  <img data-content=\"rdkit/molecule\" src=\"data:i...   \n",
       "4167     Yes  <img data-content=\"rdkit/molecule\" src=\"data:i...   \n",
       "6199     Yes  <img data-content=\"rdkit/molecule\" src=\"data:i...   \n",
       "6457     Yes  <img data-content=\"rdkit/molecule\" src=\"data:i...   \n",
       "7655     Yes  <img data-content=\"rdkit/molecule\" src=\"data:i...   \n",
       "7880     Yes  <img data-content=\"rdkit/molecule\" src=\"data:i...   \n",
       "8667     Yes  <img data-content=\"rdkit/molecule\" src=\"data:i...   \n",
       "8845     Yes  <img data-content=\"rdkit/molecule\" src=\"data:i...   \n",
       "9251     Yes  <img data-content=\"rdkit/molecule\" src=\"data:i...   \n",
       "9319     Yes  <img data-content=\"rdkit/molecule\" src=\"data:i...   \n",
       "10832    Yes  <img data-content=\"rdkit/molecule\" src=\"data:i...   \n",
       "11901    Yes  <img data-content=\"rdkit/molecule\" src=\"data:i...   \n",
       "12057    Yes  <img data-content=\"rdkit/molecule\" src=\"data:i...   \n",
       "\n",
       "       PubChem Substance ID  hERG inhibition (%) at 10uM  class  \n",
       "422                  842669                    -26.13582      0  \n",
       "792                  843156                     -4.55092      0  \n",
       "1016                 843464                     -1.87702      0  \n",
       "4167                 847703                    -15.77052      0  \n",
       "6199                 850495                     -5.35182      0  \n",
       "6457                 850855                    -66.00582      0  \n",
       "7655                 852468                      0.97428      0  \n",
       "7880                 852788                    -21.66022      0  \n",
       "8667                 855767                      9.42208      0  \n",
       "8845                 856132                    -13.09192      0  \n",
       "9251                 856632                     -6.75072      0  \n",
       "9319                 856726                    -25.76812      0  \n",
       "10832                858600                      4.19268      0  \n",
       "11901                859917                    -11.12692      0  \n",
       "12057                860119                     19.49448      0  "
      ]
     },
     "execution_count": 149,
     "metadata": {},
     "output_type": "execute_result"
    }
   ],
   "source": [
    "df_clust.loc[df_clust['Center'] == 'Yes'].head(15)"
   ]
  },
  {
   "cell_type": "markdown",
   "metadata": {},
   "source": [
    "Проверим, что нумерация с df_mol точно совпадает и мы правильно проставили класс активности:"
   ]
  },
  {
   "cell_type": "code",
   "execution_count": 161,
   "metadata": {},
   "outputs": [
    {
     "data": {
      "text/html": [
       "<div>\n",
       "<style scoped>\n",
       "    .dataframe tbody tr th:only-of-type {\n",
       "        vertical-align: middle;\n",
       "    }\n",
       "\n",
       "    .dataframe tbody tr th {\n",
       "        vertical-align: top;\n",
       "    }\n",
       "\n",
       "    .dataframe thead th {\n",
       "        text-align: right;\n",
       "    }\n",
       "</style>\n",
       "<table border=\"1\" class=\"dataframe\">\n",
       "  <thead>\n",
       "    <tr style=\"text-align: right;\">\n",
       "      <th></th>\n",
       "      <th>SMILES</th>\n",
       "      <th>PubChem Substance ID</th>\n",
       "      <th>hERG inhibition (%) at 1uM</th>\n",
       "      <th>hERG inhibition (%) at 10uM</th>\n",
       "      <th>class</th>\n",
       "      <th>ROMol</th>\n",
       "    </tr>\n",
       "  </thead>\n",
       "  <tbody>\n",
       "    <tr>\n",
       "      <th>422</th>\n",
       "      <td>CC1=CC(=NC2=NN=C(N12)SCC(=O)N3CCN(CC3)C4=CC=C(...</td>\n",
       "      <td>842669</td>\n",
       "      <td>-2.977</td>\n",
       "      <td>-26.13582</td>\n",
       "      <td>0</td>\n",
       "      <td><img data-content=\"rdkit/molecule\" src=\"data:image/png;base64,iVBORw0KGgoAAAANSUhEUgAAAMgAAADICAIAAAAiOjnJAAAABmJLR0QA/wD/AP+gvaeTAAAUPUlEQVR4nO3de1RVZf7H8c/hCMRNbobgeBkgDFEyl+INBjIQ8ZpY46iJKxXTMHMcJjRzRWYNJDiOUmmpeSE0MBWFERRLEJVURClTHCkJCbkoJMj1HM7398c2fuQFzu3xKH1fy+Vy6d5nP+ibw97PfjbKiAiM6ZuRoQfAOicOiwnBYTEhOCwmBIfFhOCwmBAcFhOCw2JCcFhMCA6LCcFhMSE4LCYEh8WE4LCYEBwWE4LDYkJwWEwIDosJwWExITgsJgSHxYTgsJgQHBYTgsNiQnBYTAgOiwnBYTEhOCwmBIfFhOCwmBAcFhOCw2JCcFhMCA6LCcFhMSE4LCYEh8WE4LCYEBwWE4LDYkJwWEwIDosJwWExITgsJgSHxYTgsJgQHBYTgsNiQnBYTAgOiwnBYTEhOCwmBIfFhOCwmBAcFhOCw2JCcFhMCA6LCcFhMSE4LCYEh8WE4LCYEBwWE4LDYkJwWEwIDosJwWExITgsJgSHxYTgsJgQHBYTgsNiQnBYTIguhh5AZ1FQgK1bYWICLy9MmmTo0Rgeh6Un//kP4uJgbIzQUEycCJnM0AMyMP5SqCcyGYyNAcDKCo2Nhh6N4XFYeuLggLNnUV6OmhqYmRl6NIYnIyJDj+Exp1Jh+nQMHw5bW9TVYcYM2NoaekyGx+9YOsvLQ1IS1q9HWRnWrkV6uqEGUlRUVFdXZ6ij34XD0tnBgwAwbhzS0vDjjzA1NcgoYmJi+vbtu2HDBoMc/V5/6LDKy8tLSkp0fZW0NADw80NODrp0gb+/7gPTgqenp0KhiI2NbWhoMMgA7vKHC6uioiIlJWXZsmVDhgxxcnJavHixr69vdXW1li9XVYUzZ2BqCoUCCgW8vWFtrdfxqisoKMjLy6u8vHzz5s0GGcDd6A+grKwsMTHxtdde8/DwaPuxW1pa2tvbAxg5cmRtba0Wr3xk9+4UP7+yV16h0FACKDpa74NX3/79+wE4OTk1NDQYcBiSThtWdXX1g2IKCgqKiorKyclRKBTFxcXOzs4AvL29b9++relRQkJCAKxZs2Zw375Rw4bVfP+9iI9FTSqVavDgwQA2bNhgwGFIOmdY1dXVcXFxrTGZm5sHBARERkZmZGQ0NTXdtXFhYeGf/vQnAFOmTGts1OAoLS0t3bt3B5CcnCy9VahUKn1+GJrbvXs3gN69e9/7YT5knTOs+Ph4AI6OjlFRUSdPnlQoFO1v/7///a9//4F9++YHBZH6bZ0+fRqAs7NzVFQUgNDQUF3HrTOVSjVgwAAAW7ZsMexIOmdY06dPB7B+/Xr1d/nuu5Zu3Qigl16ijjq8Y+XKlQDCwsJ8fX0B7NmzR8vh6lVCQgIAV1fXDj+dhOqEYSmVSumU/MqVKxrteP482dkRQH/9KymV7W15/fr1pKSk4OBge3v76dOny+VyY2PjX3/9Vadx64lSqXz66acBxMfHG3AYnTCsnJwcAC4uLlrs++231LUryWSUnn73H5WU0Bdf0MKFzX37Pt32asDc3BzA1KlT9TB0Pdm2bRsAd3f3lpYWQ42hE4YVG5tqaem0aNEi7XbPzqaNG2nQILp0iXJzKTKS5s0jNzcC7vxwcRlnaWkZEBAQHR2dnZ29c+dOuVwOICYmRr8fiNaUSqWbmxuAzZs3G+p64pG4CV1eXp6VlZWVlRUSEuLg4ODi4qLLqw0divx8pKbWjh5tpfWLvPEGmpsxbx62bsXHHwOAtTX+8hc89xz8/a97ejpIMUm2bds2d+5cIvr4449fe+01XQavLzExMcuXL1cqlQBsbGzsfmNra9v2F9LPI0eO7NJF3yvzDJIzEVVUVBw4cGDp0qWDBw+W/bYszsnJqXfv3kVFRTq8LBkZkZkZ1dXpNLzwcDp8mJYsoY8+othYOnOmg7OuuLg4mUwmk8k2bdqk04H1JCgoCICZmZlMjSWHMTExt27d0u8AHuoK0oqKiqysrMzMzMzMzEuXLtFvb5aWlpbe3t4jR45MSUnJzc318/PLysrq06ePFodIT4dKheeeg7m5rqMdPRo7duDZZ7FwYccbv/7660qlcsmSJQsWLDA3N58xY4aaRykr+1ClqrO09OnaNVCn4baxZcuW9PR0e3v7CxcuyOXyI0eOSO+vRKRQKGpra6uqqqqqqqqrq6uqqk6ePPnmm282NzcvX75cXwMAHtY71o4dOzw8PNp+9lhYWIwZM+Zf//pX23mm0tLSoUOHAnBzcystLdXiQNOnE0CazDPcR3MzzZxJycl04wZpNIr33nsPgFwuT0xM7HDjpqaihoaLP/00rampWPux3qOkpMTGxgbArl27iCglJeWuf3ELC4tevXo988wzL7zwAhF9/fXXAOzt7bW7qfUgDyOsTZs2STM9bWfAG++ZiMzOzu7WrVtiYqJ0X8Ld3b2srEzTY/XvTwBpOM9wt2++IYA8PbXZ9+233wZgYmKSkpJy7582N5dWVSUVFb164YJHbi4KCyc3NV375Zd3ysr+rdOIf6NS0SuvLAcwZcoU6XeOHTs2YcIEb2/vfv36OTo6mpiYtBbm5uYmbePj4wN9X3w8jLD8/PwAfPDBB83Nze1sFhERAcDMzCw5OVmaPh44cODNmzfVPEpODiUnk0pFq1frOuA33ySAIiK03H3p0qVSWwcPHiSi0tLSpKSkV1991dPTMyvLJjcX0o/z5+2uXn2lru5sQ0NBUdHc8vL1DQ2XdBz5xo0kk6nGjfusvLz8QdvU1tYWFxefP38+NzdX+p20tDQA3bt3r9PxzLQN4WHdunXL2Ni4S5cuP/74473vUm2pVCrpksrc3Dw5Oblfv34Ahg0bpuZ55Y4dNH48VVTQ4sW6jnnAAALo6FEtd1epVGFhYQBMTU179erV9svQpk3+hYUvlJf/p77+PFELEdXUHL1xY2tFxcbcXOTn92hs1P7N9upVsrIigHbv1nhfLy8vAOvWrdP66HcRHtaePXsA+Pr6hoWFWVhYJCQktLOxSqWaN28egK5du/73v/+V5h3aWdNSVkZJSfTGGzR4ML3/PmVk0D/+oWtY166RTEZWVqTLbVyVSjV//vzg4GAAVlZW0qRXbm7ug2YsW1rqL19+PjcX333Xq7HxJy2O2NJCzz1HAE2frs2A9b7kRnhYoaGhAKKioqRKzpw50/72SqVSuqSysbFJTU3985//DMDf37++vl7aoLS0NCEh4a23Purb9/8nLQF6+WU6d44++4yef57q60nrecH4+JM+PoWzZun696tSqWpqas6dO6fm9HdLS93ly365ufjuu95NTRpPuGzbRgA5OtKNG5qPVcCSG+FhSV8LpIUlTz75pDp/y0qlcurUqdL2Bw8e7NGjB4DBgweHhoZKd8EAWFvbyOVKCwsKCKDoaMrOpmPHqLiYWlro/fdp1CgKDdWyrcmTJwMwyHSUUnnr0qVheXn2CxcGXr9+XZ1dFAo6doyIqKCAliyh/fu1P/pXX30F/S25eWBYKpVqyZIlx48f1+XV8/PzpTfYNWvWAAgJCVFzx6ampnHjxgGYPHny5cuXbW1tpbykryzjx49fvXp1bm79fSctT5ygJ54ggMLDNR5wc3OztbU1gJ9//lnjnfVBqax6/fUJAPr3719ZWdnh9jU11KcPXbxImzaRjqsMVSqVp6cn9LTk5oFhff7559K5zqlTp7R+9ejoaABz584dPXo0gJ07d6q/b0NDQ0RERE1NDRE9++yzAGbPnn3q1Cll+1PgRER06BCZmmrT1jfffAPAU7uZBj2prKx80EVxZeXNnByKj6d33qEZM2joUHr7bVq2jF59VQ9hEdHOnTuhpyU3DwxLqVS+/PLLAKytrVuvSzUlTTQkJCSYmprK5fIbWn39v3nzplwuNzU11WgGb98+MjaWJktPqL+XdFm6dOlSzYepT2VlZdIXfQ8Pj4iIiGnTpg0ZMsTGxkYmMzIz+92Z5cSJFBlJGRnk769TWAqFoqWlpXXJTVhYWHp6+unTp69cuXLz5k0t7mS3d46lUCimTJkCwMHB4dcfftD0pVsnGnbt2gVgxIgRmr6CRFq5FhgYqOmOX35Jo0atBBAbG9vOZq3zTNK9ARcXl6NazzToT0lJSY8ePXr27Nl2tsLGxmb8+Jpp02jFCtq2jU6coKIiiooiIgoJIW0//YmIVqxY4ePjU1hYGBYW9uSTT957h8bOzs7V1dXLyyswMHDatGlhYWHvvvtuOy/Ywcl7c3Pz5Bde2OLjQw4OdPGiRmOVTgb9/Pykt4H33ntPo91bzZw5E8DatWu12Hf79u1GRkYymeyjjz5q+/s///zz9u3bZ8+efddKCltb2xMnNHiHE0q6gpkwYUJ8fHxOTk47p1xNTTRrFnXrRtqtNczLyzM2NjYyMkpOTu7WrRuA4cOHjxkzxsvLy9XV1c7O7t7OpAnVdl6zg5vQxsbG+xITMWkSKioQGIisLKi9pkWazx07dmxBQYGpqenYsWPV3LEtlUp1+PBh6XW02H3WrFlKpTI0NHTRokV1dXXOzs5Hjhw5fvz4xYsXW7exsrIaNmxYQEBAQEDAoEGDjIwelWctCwsLASxYsKCkpMTY2Fj6J78vExP88gtu3EBcHFas0OwoTU00e/Y8hUIRHh4eHx9/48aNgICAw4cP37Usou19a+nnDv6i1Eq6vp5GjSKAevWiq1fb37a0tHTnzp3z58/v2rUrAOkN4Pbt29qtZjx16hQAZ2dnLfZttW7dOgDSrVlJ60q9diYtDUupVEqLXqQzgTFjxrS/fWYmAWRnRzU1mh1o2TLq168uIOAN6UlXa2vr4mI93BRXex6rtpZGjCC5nJKS7vOnpaW0a1feO++4u7u3/uNJyfv6+upyB+rdd98FsHDhQq1fQZKQkBAbGztp0qS1a9fm5eU9mjG1VVBQAKBPnz6rVq0C8M9//rPDXXx9CaAPP9TgKDk5JJeTkRHt20djx34tl5ts3bpV6zG3pckE6a+/UmoqFRdTeDitXEmbN1NGBi1YQO7u0iVKzYABACwsLKQlDAkJCdKaKn9/f61vFAwbNgxAamqqdrs/vg4cONmnz1MTJ06SzrS2b9/e4S6HD5NMpgoISFXzM1mlooEDCaBly2j8eAJozhytpu3vR/OZ97//naS7wuHhtHjxnateKysaN04ZE3Pq1Km2UyBXrlyRJjYDAwPbvwN9X5WVlVpMNHQOkZEE0FtvtQQFfe/jsyUvT60J2+Dg2QD+/W91F+H88APNnEmffkoA2djQtWs6jPj3NA9r/vw7v4iJob176cMP6dtv23kSr6CgwNHREcDkyZPbXzZDRJWVlXv27Fm0aNHVq1dJh4mGTmDKFAJo+3YyNia5nH67U9qB1NRUAI6OjvVq7kBUUkK2tgRQu8sDNKZ5WJ98QsnJVF5OISFqPtmZn58vPej34osv3julW1NTk5GRIS1+b73QkG7V6TLR8LiTngv66isCyN1dgx2HDBkC4K7plXbExBBAwcHaDLIdWt2ETk2lTz4hTZZ3njt3ztbWFsCsWbNaT5yjo6M9PT3bXtaam5v7+/uvWrXq6NGjO3bssLKyAnD58mVtBvk4q68nuZyMjWnPHjIxoZdeUmeX+pkzZ164cGHv3r0AHBwckpKSMjMz8/Pzr127du/3Oyktpbg4IqIDB2jXLnrwukAtPbyndHJycqRQ5syZI90imD9/PgAzMzNvb++lS5cmJiYmJCRIM+BSZzY2Nqt1Xw/6GDp7lgAaMICIqLm545Uwt2/ffv755wE888wzP/30k7m5ee/evdtOKllYWJqakpMTeXiQjw9NnEjR0TRiBJ0+TZGRVF2t/w/hoT7+dfz4cQsLCwDS06Tff//93r17t27dOnfu3KeeeqrtX4SNjc3EiRPXrFmjxSn/4y4/nzIyqLyc1PxqdusWTZgwB0CPHj3S0tKkdUpubm7BwcF+fn6enp49e/Z0cXm67R1GgBYupI0bKTSUVqx4/MMiokOHDpmamgIYNGiQq6vrfWM6e/asOksYOqsvv6TRo6mqSq2lsNXVNHw4ubk1eHqOSk9Pl67BfXx87l3P3dBApaV04QJlZ9P+/ZSaSps20bffkqtrpwiLiNLT07t37y5dKrZ9Vr3Da8Y/iC+/pP37KSKCFi+mX35p70HZykoaNEh66p/S0pRPPTUEQEBAgDrfQa60lLKziYjWrdP14d77Mswj9nV1ddnZ2Q4ODgMHDmz7rDoDkJgIZ2ecOYN9+3D7NmpqsHIlXnrpPv+LSmYmgoLQpw/WrkVICJycbru7L/riiw1PPPGEIQb+e/pvlenm6FEqKCClkubMIWfnO6dEI0ZQZuZ9Nj50iNLS7nz3pQkT6BH45qN3cFiPtOZm+vRTcnK6k1dAAJ09+7sNjh2788jX1Kn0SJ1KcFiPgdpaWrWKrK0JICMjmjaNduygxkZqbLzzzZpnzerge5Y8fI/EtzFi6qiqwurVWL8eAIKCMHw4QkMRFwcPD7z4Ih6ZVWR3cFiPmZISnDmDEydgbY0xY5CWhshIQ4/pfh6xzllHevZEcDAAhIffefd6NHFYjyU7O5ib429/e3T/Bzv+UsiE4HcsJgSHxYTgsJgQHBYTgsNiQnBYTAgOiwnBYTEhOCwmBIfFhOCwmBAcFhOCw2JCcFhMCA6LCcFhMSE4LCYEh8WE4LCYEBwWE4LDYkJwWEwIDosJwWExITgsJgSHxYTgsJgQHBYTgsNiQnBYTAgOiwnBYTEhOCwmBIfFhOCwmBAcFhOCw2JCcFhMCA6LCcFhMSE4LCYEh8WE4LCYEBwWE4LDYkJwWEwIDosJwWExITgsJgSHxYTgsJgQHBYTgsNiQnBYTAgOiwnBYTEhOCwmBIfFhOCwmBAcFhOCw2JCcFhMCA6LCcFhMSE4LCYEh8WE4LCYEBwWE4LDYkJwWEwIDosJwWExITgsJsT/AbV4CPdsTpMJAAACFXpUWHRyZGtpdFBLTCByZGtpdCAyMDIxLjAzLjEAAHice79v7T0GIOABYkYGCJAFYgUgbmBkY0gAiTOzOWgAaWYWNocMEM3MCBNgh9DM6Hxc4gJgg5kg5jIBaYg0B4RmYmeAaoPLQ2hc4ljcheZATBmYXXC/QWluoP8ZmTKYmJgTmFkymFhYE1jZMpjY2BPYOTKYODgTOLgYuLgZuHkYeHg1mHj4FPj4GfgFGAQEGQSFGISEGQRFFEREM5hExRLExDOYxCUSJCSBlJSClDQDswwDJ2MCJ2uCMB+DpEiCCAsbIycrCzMTKxsrJwc7G7+AoJAwH5uomLiEpIg4LBIYZJVstzo8MJRwAHFiA0453H/UbA9iixn/cpD3yAWzNRezOzoVX98HYl8u++LwUO7qfhBbcsoRB8EHx8HsIuFFDrPWqh0AsVdF5Ts4Rn4Gi/d9rndY9PUGWO+9hvUOXT+jwOw/prYO2V3qYPMNNQ/YH9s6xQ7Ettjxyo7fYD1YPPV1nL3FU2Ow24o16/d7z2gAi79rZzpQ6ssKFg9aGX9AlfkOWFyVt+oA/+JesDmT/c0PbDH2BbshLmbL/kiOB2B7XaavPsD4YdNeEJv325kDNstrwXr3t/0+sKVcAcwOiWE5yL83AKz3fuTzA2qJn8Bs3ZM7DiSdPAxmr10ifdDn2zQwWzBE5+Adq/NgM9umyDs6mLOBxcUATE+NPm5GcG4AAAIAelRYdE1PTCByZGtpdCAyMDIxLjAzLjEAAHicnVXLbuMwDLz7K/QDFkhK4uPc9FS0C+wC+w973/9HKUtRVaAFUhpGMgPZk9GIZI7Ur9+3l3//07rodhyJLBVKCb68zSz9JQA4+vMtMxe53sxFFDqC7KuQntJ3Evt9qXAuRKUjzFCgxlQkK6qMd43YYiqaq0j3ckKuBBr1wsVaV0FPqO25vP0kF6wFh0pjbDEvLQPXnsZJmaGWmJeSpZgNLwZIURWvH7qnWyS6o6q1DRXCojEvlK3xrDVudU/3z+MqfjKAM1OyaO16Gk3r0CuswVwgq4yKJe8F2Dvg18MqnqkZy+xGqBxK12sNRge4F1CKdeNZcrU6vQhqrBtdxUBwnpFweEfKddauAnLMC+YKhrMDigRVmlcJTS+gEqu6k93LfTaZBWfd6XOXYc4DJg6qqJ8MzZ5WbMEdSSYyGTmrlXC6Ilfd97lLFlSxLCTTC4rtO3q4G08E9wIzF/w8d38wGSybXHPSVRp9+g94WMWLlq7PThy5SB1koEn8qy3iiBdxJIs40kUc2SKWEHaC9x91hMuBoz52JykJ62VqkrZWWuqdOgknlEUkoS6iCW0RSwTbCi0HjnrXDW+OaGXgiFYGjmhl4Ih4X1kOHNFy4A/QhwO4NlMX+RCAbXOu271dK68pPb/djnesvoWHO/B/kAAAAWV6VFh0U01JTEVTIHJka2l0IDIwMjEuMDMuMQAAeJwlkTmO40AQBL+ypgS0CnUfEMaiP2PsE+jrBfP4ze51SDBQR1bw+rnlvu/Ht17X9+N6fP08r7+3fT63f+7H9bz342P+vC7Fh/z5fbyEqYpjvZiERTrX+zVUWrVeQlJjA9KkpeG7qiWsA6yok3UxpWZrgSQ5BzvQDLcZUJClqu5G7rKSBjQa3jsZUzMtDvLxkiWEkjNeiW0iFt6th+yxWZooYvYEYvJotwKx7P+ki6sGbS3YuN5CwYImLBt2xzVKE+knebgHLkagGT3nuVrtIqOyGdkSBl5QFMTpmIhkyb5TJ4kb966JhJb1LkqE3iB3miavgoczl5tlvYcGGnKjUNeW3dTSdbTBZOsebKq2bbCxnd3wBD1KVg3DAN7uvceoGBzAj0A/xJ5tVjjxWGycehJgfdT5JVX76p1aJ/r8StUp3ajHYtbz9x+NBHiPjc/SjQAAAABJRU5ErkJggg==\" alt=\"Mol\"/></td>\n",
       "    </tr>\n",
       "  </tbody>\n",
       "</table>\n",
       "</div>"
      ],
      "text/plain": [
       "                                                SMILES  PubChem Substance ID  \\\n",
       "422  CC1=CC(=NC2=NN=C(N12)SCC(=O)N3CCN(CC3)C4=CC=C(...                842669   \n",
       "\n",
       "     hERG inhibition (%) at 1uM  hERG inhibition (%) at 10uM  class  \\\n",
       "422                      -2.977                    -26.13582      0   \n",
       "\n",
       "                                                 ROMol  \n",
       "422  <img data-content=\"rdkit/molecule\" src=\"data:i...  "
      ]
     },
     "execution_count": 161,
     "metadata": {},
     "output_type": "execute_result"
    }
   ],
   "source": [
    "df_mol.loc[df_mol['PubChem Substance ID'] == 842669]"
   ]
  },
  {
   "cell_type": "markdown",
   "metadata": {},
   "source": [
    "Проверим что у нас около 500 центров кластеризации:"
   ]
  },
  {
   "cell_type": "code",
   "execution_count": 147,
   "metadata": {},
   "outputs": [
    {
     "data": {
      "text/plain": [
       "No     294442\n",
       "Yes       497\n",
       "Name: Center, dtype: int64"
      ]
     },
     "execution_count": 147,
     "metadata": {},
     "output_type": "execute_result"
    }
   ],
   "source": [
    "df_clust[\"Center\"].value_counts()"
   ]
  },
  {
   "cell_type": "markdown",
   "metadata": {},
   "source": [
    "Построим гистограмму рапределения соединений по кластерам:"
   ]
  },
  {
   "cell_type": "code",
   "execution_count": 110,
   "metadata": {},
   "outputs": [
    {
     "data": {
      "image/png": "[encoded data removed]",
      "text/plain": [
       "<Figure size 720x720 with 1 Axes>"
      ]
     },
     "metadata": {},
     "output_type": "display_data"
    }
   ],
   "source": [
    "ax = df_clust.hist(\"Cluster\",bins=100,figsize=(10,10))"
   ]
  },
  {
   "cell_type": "code",
   "execution_count": 122,
   "metadata": {},
   "outputs": [],
   "source": [
    "#p = ax.patches\n",
    "#p[230].get_xy()"
   ]
  },
  {
   "cell_type": "code",
   "execution_count": 124,
   "metadata": {},
   "outputs": [
    {
     "data": {
      "text/plain": [
       "226    38879\n",
       "273    15432\n",
       "205    12509\n",
       "314    10253\n",
       "262     9935\n",
       "       ...  \n",
       "128        1\n",
       "463        1\n",
       "103        1\n",
       "175        1\n",
       "52         1\n",
       "Name: Cluster, Length: 497, dtype: int64"
      ]
     },
     "execution_count": 124,
     "metadata": {},
     "output_type": "execute_result"
    }
   ],
   "source": [
    "df_clust['Cluster'].value_counts()"
   ]
  },
  {
   "cell_type": "markdown",
   "metadata": {},
   "source": [
    "Самый большой кластер под номером 226, взглянем на его соединения:"
   ]
  },
  {
   "cell_type": "code",
   "execution_count": 128,
   "metadata": {},
   "outputs": [
    {
     "data": {
      "text/html": [
       "<div>\n",
       "<style scoped>\n",
       "    .dataframe tbody tr th:only-of-type {\n",
       "        vertical-align: middle;\n",
       "    }\n",
       "\n",
       "    .dataframe tbody tr th {\n",
       "        vertical-align: top;\n",
       "    }\n",
       "\n",
       "    .dataframe thead th {\n",
       "        text-align: right;\n",
       "    }\n",
       "</style>\n",
       "<table border=\"1\" class=\"dataframe\">\n",
       "  <thead>\n",
       "    <tr style=\"text-align: right;\">\n",
       "      <th></th>\n",
       "      <th>SMILES</th>\n",
       "      <th>Name</th>\n",
       "      <th>Cluster</th>\n",
       "      <th>Center</th>\n",
       "      <th>Mol</th>\n",
       "      <th>PubChem Substance ID</th>\n",
       "      <th>hERG inhibition (%) at 10uM</th>\n",
       "      <th>class</th>\n",
       "    </tr>\n",
       "  </thead>\n",
       "  <tbody>\n",
       "    <tr>\n",
       "      <th>3</th>\n",
       "      <td>CC1(C)NC(=O)N(CC(O)COC2CCCCC2)C1=O</td>\n",
       "      <td>842138</td>\n",
       "      <td>226</td>\n",
       "      <td>No</td>\n",
       "      <td><img data-content=\"rdkit/molecule\" src=\"data:image/png;base64,iVBORw0KGgoAAAANSUhEUgAAAMgAAADICAIAAAAiOjnJAAAABmJLR0QA/wD/AP+gvaeTAAAVQ0lEQVR4nO3dfVSUVR4H8C9vDsIAEuJriokvhRYqZauQGronVieVWNBQREtt96Dj20nTtcNZt63R6jSp6TE3a3RFFywUTokvuausZGym4qop5kuALygqg8rwMvPbPy6NrMrAzDyXUfx9/kJ65t4bfHnmuff+nmfciAiMKc3d1QNgLRMHi0nBwWJScLCYFBwsJgUHi0nBwWJScLCYFBwsJgUHi0nBwWJScLCYFBwsJgUHi0nBwWJScLCYFBwsJgUHi0nBwWJScLCYFBwsJgUHi0nBwWJScLCYFBwsJgUHi0nBwWJScLCYFBwsJgUHi0nBwWJScLCYFBwsJgUHi0nBwWJScLCYFBwsJgUHi0nBwWJScLCYFBwsJgUHi0nBwWJScLCYFBwsJgUHi0nBwWJScLCYFBwsJgUHi0nBwWJScLCYFBwsJgUHi0nBwWJScLCYFBwsJgUHi0nBwWJScLCYFBwsJoWni/s/cQK7dqF1a7zyCoKCXDwYphyXnrFyczF7NgYMQLt2GDkSN264cjBMUW5E5LLOX3kFf/0rnnoKAFasgLs7UlJcNhimKJeesYqK8MQTdV93746iIlcOhinKpcHq0gVnz9Z9feYMunZ15WCYolwarFmzMHcufvgBOTnYuBGJia4cDFOUS6+xABw9iq+/hlqNceMQHOzKkTBFuW654eJFREXB1xcFBQDg64vbt3HzJnx9XTYkphzXvRW6u+PMGZSW1v2zVSsAqK522XiYolwXrLuSxMFqWThYTIoHJlgq1f/9kz3kXBcsLy+4u6OmBhYLwGeslsal61heXgBQUwNwsFoalwarfpg4WK5jMpm++uqryZMn7969u7i4WJE2XVk2czkioqaqKriqSuXndzwszM3bu63ZzIukzcZiseTl5WVkZKSlpV29ehVAenp6YGBgdnb2gAEDnG2dXKdjx44ASkpKiOjFF18EsGfPHheO59Fx4MABrVbboUMHawwiIiLeeeedyMhIAL6+vlu3bnWyC1cGKyQkBMDZs2eJ6KWXXgKQk5PjwvG0eMePH09NTe3Vq5c1TyEhIQsWLDhx4oQ4oKam5o033gDg4eGh0+mc6cuRYBUUFFRVVTnTq9CzZ08AJ0+eJKKXX34ZQFZWlvPNsrsUFRXp9XpxNhI6deqk1Wpzc3MtFsu9x+v1end3dwDTp0+vqalxrFO7g7Vs2TLn4yz06dMHwNGjR4koLi4OwJYtW5xvlgnXrl0zGAwajcbDw0PkqU2bNklJSVlZWY3GJSMjo3Xr1gBeeuml8vJyB3q3O1i7du0C4OPjI97CnNG/f38ABw8eJKJXX30VQFpampNtstu3b2dlZcXHx7cSE23A29tbo9EYDIZbt241vZ3vvvuuXbt2AJ5++unz58/bOwxH3grHjRsHIDY21oHX1vf8888D+O6774goOTkZwBdffOFkm4+4ioqK1157TeTJ09MzJibGYDAYjUbHWvv555+ffPJJ8db5ww8/2PVaR4J18eLFgIAAANnZ2Q683GrIkCEA9u7dS0TTpk0D8OmnnzrTIHvzzTdVKlVoaOjKlSsvX77sfIPXrl0bNmwYALVabdcVsCMLpB06dEhNTQUwY8aMW7duOdCCIM7Ve/fuLSgouH79OoBqXiB1zqFDh6qqqj766KOUlBTxRuakwMDAHTt2TJo06ebNm7GxscuXL2/qKx0Lcm1tbb9+/QC8/fbbjrVARPv374+NjQXQvn17T0/P5OTkixcvOtwaI6K2bdsC+OWXXxRvWa/Xu7m5oclTRcfXsb7//nt3d/dWrVpZV0Hscu7cuYEDBwLw9vaOjo4W89uIiIjjx487PKRHXFFREYCgoCBJ7aenp3t7ewOIiYlpdKro1ALp66+/DmDEiBH2vnDbtm2BgYEAevbsefjwYSLKy8vr0aOHyJlOpzObzc4M7NGUnZ0NYPjw4fK6yMvLCw4OBvDMM8/YPi86FayysjJx7t28eXMTX1JTU7NgwQJxUh0zZsz169et/8loNE6fPl28QQ8fPlzG+bxlW7JkCYB58+ZJ7eXUqVNiZbtLly4FBQUNHebsls6nn34KoEOHDjdu3Gj04OLiYrH+6+npqdPp7rvsu3XrVnHVGRraa8OGWieHV5/RaDQYDDNmzMjKyrp27ZqCLT8gxCLz+vXrZXdUVlYWGRlpe0vR2WCZzeZBgwYBmDNnju0j9+zZI3Y9H3/88f3799s48vLly2PGjBk0aCtAcXF05YpTIzSZTFlZWUlJSWq1WpwOPTw8nnrqqTNnzjjV7oMnNDQUgI2ziIK++eYbAIMHD27oAAU2oQsKCjw9PT08PA4dOnTfAywWi06nExsL0dHRly5dakqz6ekUGEgAtW9P27bZPSqz2fztt9++/vrrbdq0EXlyd3cfMmSITqcLDw8XF7n79u2zu90HVXl5uZubm0qlqq6ubobu3n//fQApKSkNHaBMdcOsWbMADBw48N6L7itXrojKBTc3twULFth1VX7uHA0bRgABlJREFRVNelV+Ps2ZQyNHzrEuqfTr12/ZsmXWi7aKigqNRgNApVJt3Lix6eN5kO3bt09Mq5unu4kTJ8LmgrYywTIajZ07dwbwt7/9rf738/Pzu3XrBqBt27Y7duxwoGWLhfR6UqkIoG7daO/eBo88e5Z0Ourduy6I/fr9s2vXrlqt9scff7z34Nra2hkzZoi4p6amOjCwB41Yupw6dWrzdCcKCPLz8xs6QLF6rLS0NACPPfbYlStXiMhisej1erG2HhUVJar5HFZQQOHhBJCvLw0dSp99RkR04QJNmkRFRfTBBzRgQF2eAOrQgWbNogMH7jMzuIu1PmTKlCnN8w4ij1j6WbFiRTP0VVlZKS5+bOxqK1noFxMTA2DatGnl5eXx8fHifKDVahX5nVVV0VtvkV5PUVE0fDiVllJxMY0dS2p1XZ4CAmjKFNq1i2rtmUpmZmb6+PiIBY76ax9KDLiq1q6hOEcUE+fm5jZDX/n5+QD69Olj4xglg3Xq1CmVSuXu7v74448D8Pf3z8jIULB94YUXaN8+Sk6m4mKKi6PJkykujr78kiorHWzw8OHDYsA9e/Y8deqUk8Mzm825ublarbZdu3bz58+fO3duMyz21tTUeHt7u7m5OVY7ZS+xxjRhwgQbxygZrMLCwv79+4s3l/79+58+fVrBxq1eeIGIaNIk2rSJ4uKUabO4uFgUhwUFBTn8R3/w4MF58+aJjAriSmDs2LE3b95UZqANOHLkCIAePXpI7cUqJSUFwLJly2wco0ywDhw4MGbMGBEp4ciRI4q0fC8RrEuXKDxcsWARUUVFxahRo8RU0a56w3Pnzul0OlG3JHTp0kWr1R48eHD//v1iAyQ8PLyoqEixsd7DYDAA+P3vfy+vi/rEKvfOnTttHONssHJzc8XUXfxKkpKSxPqvvKmWCBYRrVihZLCIqLa2VvwtNmWqePXq1TVr1kRGRortKTFxSUpK2rVrV/0dhdOnT/fu3RtA586d7zs/VcTcuXMB/OUvf5HUfn0Wi8Xf3x+A7XovB4NlsViysrJ+85vfiJ+pn5+fVqsVU7+dO3cCCA0Nve+OjfPeeYfefZfk1ddYp4qvvfbavdOOGzduiEJyT8+6WzJbt24dHx+flZXV0BylrKxs6NChANRqtZOlkQ2Jjo6G03WXTXTq1CmxfWL7MLuDVV1dbTAYwsLCxI81ODg4NTW1/tab2Wzu1KmT7UUOh9XWUtu2BNDJk4q3fcdXX30lpoojRowQU8XKykqxLyS+L07PopC8KddPJpNJFPUHtG59fd06xQcsSgGKi4sVb/le6enpADQaje3D7AiWyWQyGAyiuAVASEiIXq+/70qGWIhvdPfQAbm5BFAzXKR+//337du3F1fEcXFxfn5+1n3G4cOHf/bZZ/auTVgslsWLFxdGRRFA8+aRclPFnJwcAIGBgUo1aNuiRYsALF682PZhTQqW0WjU6/XiPCR+1mvWrLGxOnXgwAEAHTt2VHwhZ8GCut9LMyguLg4LCxPV/QDCwsJ0Ot2FCxecanTzZvL2JoDGjiV77pm51/nz5/V6vZjMdurUycvLa8OGDU6NrWlGjhwJoNGFpEaCVVpampqaKoryxKabwWBoSlxEyc63335rx5CbICyMAPrnP5VttUErVqwQ/9eFhYWKNfrvf9e9nYeHk/1TxUuXLn388cfWq1uxXSZWR93c3JYsWSLp0tZKnF8a/YE0GKzS0tKUlBRx16JYmLYrJW+//XabNk8sWrS96S9p1JkzdSvszbb7IvYTly5dqnC7hYXUqxcB1LkzNVAScrcbN+jzz+dPnmy9+1StVk+cOPHrr78Wbx1r1qwR84lx48ZVOrxY3JjS0lIxV2t01bfBYN24cSMgIMDNzU2j0Yhb/+xy4oRRpaLAQDKZ7H1pgz7+mAB69VXFGmxUVFQUAMe2zxtRWkqDB9f9odhYkjWZKCuLkpLI15eANS+84OHhMWLECIPBUHFPsUdOTo5YCBg8eHBpaanyYybasWMHgKioqEaPtPVWmJ6efuzYMYcH0a8fAZSZ6XADd/vtbwmgZqtzsS7YNLGAzG4mE02YQJ07U3ExnThBb75Jf/wjbd9ORFRbSzt30pQpFBBQtxXq7k7Dht1ct8527WtBQUHXrl3FdfBPP/2k+JCXLl0KYMaMGY0eKfFpM0uXEkAJCcq0ZjQao6MPhYRUl5Up02CjCgsLxXWxxD4sFrpwgYqLaeBAOnaMLl+m8eMpI4Oee+5OtUZEBH3wATV5KaGkpCQiIkIs2O61UWbkkMTERNxTHHVfEoP1yy/k7k7e3tSEavjGZWRkABgyZIgCbdnT48iRI6X39OGHdZVARHTuHMXE0Pz5FBJCCxaQQ7fWVVRUiKf3qFSqv//974qMsbS0dOXKlaIc9z//+U+jx8t9PtaQIQSQwaBAU+LhDrY3PpW1ePFiAIsWLZLe08KFZF00r6ykZ591vFTjV7W1tTNnzmzi9pQNt2/fTk9P12g0XuKBscDGjRub8hArucFavZoAiolxth2z2SyWKx27OdYxY0aPBvCPf/xDek/r1tF779V9nZ9PNstR7GKdKk6ePNmuR5qZTKatW7cmJCRYlwW8vLxGjRq1cePGJlZqyA1WWRm1akWenuTk5e/+/fsBdO/eXaFxNYmle/dbTz553ekKrcZVVtKLL9Ly5bRpEw0dSkePKtj29u3bxRQkMjLySmM3PFmLyYLrfWBWRESEXq+39xEj0h8V+fLLFBBAu3c71cjChQsBzJ49W6FBNcHVqwSQWq3g3ostJhPt2EFbtjh7s9v9HDlypEuXLmKqeLKBTdb//ve/qampT1g/lxQICwtLTU11uKhO+WCtXk3Wtd9Vq2jzZrK+mXzyiYNtPv300wB2OxlPu+zcSQBFRjZfjzKVlJSI1fm7bno7e/asTqcThT2CjTtQ7KJ8sAYOvFN1HhFBf/4zdelC4s6rQYPsbs1isRQUFADw9/efNm1a8z39dtkyAqjh++YeOvVvelu5cqV4Kqm1mCwoKGj69OkNPZXUAVKe815bW/c5JoJWizlzsGULAKSlYetWmM0wGgGguhriAVsmE3r3/vDw4VW3bt0ST8kqLy+3/NqKj49Pz549165dm5mZ+eOPP4oTu1xHjgBAeLj0jpqLWq3OzMzUarWrV69etGiR0WgEEBAQMHr06Pj4+JiYGOu8TxFSgjVlCsRfgtkMAOHhOH8e2dkAcOIEMjLu/6rg4Jtnzpy565tubm5+fn7z589/4403pk6dum3btvj4+H379lkfsCnL4cMA0K+f3F6al6en56pVq/r06dOqVaucnJzExMRRo0aJJxMpTvmP7n3+eeTlQWyVPvssRo/GoEF47jloNDCZsH49jh2DuztENYqXF8QTFVQq+PpeJ7ru4+OjUqkA+Pv7e3h4/OlPf3rvvfc2b96ckJBw/fr1iIiIs2fPzp49+6OPPlJ22P/HZIKfH4hgNOLXyj5mH0XeUOu79xpLFN1v2ECtW9vd2qpVqwCo1WrxQLb8/HwROxk3lt2Rn08A2bxvjtmmfLC2b78zK/zmGzp2rG4Ry2Jx5NkeRDRp0iQAffv2FdWqokZKrVZLXCw9eZJmzqRmuTehpXLlR5400c2bN0WJfWJioviOeB747N/9jm7fVrgzs5nefZfi4ig2llavJiJauJCsT7QfP17h7lquhyBYRPTTTz+JqvO1a9cSkdFo/CI21uLrS1OmKNzT55/XFT6bzZSYSDk5NGHCnZ3g5nqWSwvwcASLiDZt2gTA29tbfJIFHT1KPj4E3KkLUERCwp0Y7dlDWi1NmEDLl9OXX9KXX1KvXkr21aK59IMw7TF+/Pg//OEPzwcHd3/rLZSXo29frF0LACkpOHRIsW6qqmBdyFCpUFUFADU1qK5GdTWUnkG3YA9NsADo9frdTzzRZtcuTJkCIiQmYupUmExISEB5uTJ9DByIf/2r7us9eyDuWRg5EuPHY/x4+Psr08sj4GEKlkql8ly/HkFByMyEWMdasQIDBuD0aSQnK3M6mTkTWVmYNg2TJuHkSUycqECbjyZXvxfbLzub3NzI05PEZmphYV1huF6vWBdlZWR9HtCtW3cKHJr4sEr2EF1j3aHRYN481NYiIQGXLqFHD6xbB7Uabdsq1sVjj9151/PxgfUpOr8+d5k1SvktneZQW4voaOTmIjoaO3fCwwOlpVDiM4mYUh7OYAEoKcGAASgtRXo64uNRUoKMDJhM0GjQt6+rB8ceqov3/9O5M9LS8MkniI/HxYt45RU88wyGD8fs2cjLc/Xg2MN7xqpPp0PHjkhOBoBDh/D++0hLc/WYHnUP7RmrvgsX0LVr3dchISgpceloGNBCghUSgp9/rvv69Gl06+bKwTAAkipIm1tyMjQatG8PPz8sWYIPP3T1gFjLuMYCcPUqMjNRXY2YGISGuno0rMUEiz1gWsQ1FnvwcLCYFBwsJgUHi0nBwWJScLCYFBwsJgUHi0nBwWJScLCYFBwsJgUHi0nBwWJScLCYFBwsJgUHi0nBwWJScLCYFBwsJgUHi0nBwWJScLCYFBwsJgUHi0nBwWJScLCYFBwsJgUHi0nBwWJScLCYFBwsJgUHi0nBwWJScLCYFBwsJgUHi0nBwWJScLCYFBwsJgUHi0nBwWJScLCYFBwsJgUHi0nBwWJScLCYFBwsJgUHi0nBwWJScLCYFBwsJgUHi0nBwWJScLCYFBwsJgUHi0nBwWJScLCYFBwsJgUHi0nBwWJS/A/FWia35VHFhwAAAYR6VFh0cmRraXRQS0wgcmRraXQgMjAyMS4wMy4xAAB4nHu/b+09BiDgAWJGBggQAWJRIG5gZGNIAIkzszEoAGkWGJedIQNIMzMB5TVADBYOCM3EDqGZIQqZmCA0MyMHRCMjTJwDbB5cGlU5PhrVOm6gkxmZgA4CiimwsGowsbApsLEzsHMwcHAycHAxcHEzcPMw8PAy8PIx8PEz8AswCAgysAkpCAlrMAkxMgjyMIgwsTIys7AJsfHy8QsI8ojDgoBBZNLy4wc0n33cB+Lwuc85cOq5rh2IPdNh64G9m3fag9h/43oObMucvx/EvnLE4oD5w1lgNjvP3/3pByQPgNgpLrIHpk/NAOuVSmrd/z7VEqx3/5YjtuZVjWDz3+db7osQuAvW+7vwoP123iqw+g39mg5z51uDxVsEmxz8awrB6u/WLHPgd5wNFu88dtlhqqM5mH1nyR2H/4pOYPObLHc4tCrdA7Ovv+9ycGiaB2YH2OUcmGXVBWZPaMo7UCym6gBiiwEAicJfCRMrr70AAAF+elRYdE1PTCByZGtpdCAyMDIxLjAzLjEAAHicnVUxbsMwDNz9Cn0gBElRpDjXnYqmQIf+oXv/j1KWrThACyQyDOPOMs9H+pQsqR2f69v3TxoHr8uSGBNTSvjn6e7pixFxiccvCpydG0IQ49I0EGIV00v6T+J8bioCtWbrtaRe51QKqAq1WgIpOKkikKtqQwQsRU4q18dVODoy3FUIcc4LgZt61xPks5ePZ7xIsdxrmY3mOiJA4b3WWHiqo1bhij0vXNjn5hIpqUTdld139PhcIiWF6JiLzHbEoOLSXVm+6+gJLwKoovtccpnLbirAyHakbnK6SUGp7t/IaNaLQvVy5KXUPNuRlW0fxdeyfLcbn1CJPS1UuwrnSS+XDOo9L7EXzCezmyOxaj05xfz8i/lwXmKsvF0bCZTPRAYJVAYJpNv6TmysBKqDBPJBPBGeCR0kEA0HgWg4CETDQSAaDgKRDqKJhoNAVE92aDgIFH9Gu+t2+/bSenvpe0qv13X5BR8FDYIDw7cTAAABAnpUWHRTTUlMRVMgcmRraXQgMjAyMS4wMy4xAAB4nCWQOW7EMAxFr5LSBmSC/NxEGFOpH18ohw/lqNPT36C15Fjndx2f5/weax3PuZ6FtQ/OJZ/n5/e4gqAFGReTJcxr3JfRnBo5mCRqahOnCBMbQuY8X4nOiHEJtcekCdqULC/ad6HKKB39YAzNV2Ke2rFAiuorYgNHo+6GYNxMXMGWtRfBMWe0rpdM4XrTE9mOW8hFUDvNTLroBoWVbV8qim3cRhwWL4L6RNucwEj7n4nqxqCQrLcvxafZRrO81zTxqSrblp6M/oBUN93RapKzAXSq90alKNEG3GnygkQkBsizfJy/f3baUO9FvustAAAAAElFTkSuQmCC\" alt=\"Mol\"/></td>\n",
       "      <td>842138</td>\n",
       "      <td>8.64368</td>\n",
       "      <td>0</td>\n",
       "    </tr>\n",
       "    <tr>\n",
       "      <th>4</th>\n",
       "      <td>[O-][n+]1ccc(C2CC2)cc1</td>\n",
       "      <td>842139</td>\n",
       "      <td>226</td>\n",
       "      <td>No</td>\n",
       "      <td><img data-content=\"rdkit/molecule\" src=\"data:image/png;base64,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\" alt=\"Mol\"/></td>\n",
       "      <td>842139</td>\n",
       "      <td>7.12878</td>\n",
       "      <td>0</td>\n",
       "    </tr>\n",
       "    <tr>\n",
       "      <th>9</th>\n",
       "      <td>CC(C)Nc1nc(C#N)nc(NC(C)C)n1</td>\n",
       "      <td>842145</td>\n",
       "      <td>226</td>\n",
       "      <td>No</td>\n",
       "      <td><img data-content=\"rdkit/molecule\" src=\"data:image/png;base64,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\" alt=\"Mol\"/></td>\n",
       "      <td>842145</td>\n",
       "      <td>0.21918</td>\n",
       "      <td>0</td>\n",
       "    </tr>\n",
       "    <tr>\n",
       "      <th>19</th>\n",
       "      <td>CN1C=CC2=C(C#N)C(N)C(C#N)(C#N)C(c3ccccc3)C2C1</td>\n",
       "      <td>842157</td>\n",
       "      <td>226</td>\n",
       "      <td>No</td>\n",
       "      <td><img data-content=\"rdkit/molecule\" src=\"data:image/png;base64,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\" alt=\"Mol\"/></td>\n",
       "      <td>842157</td>\n",
       "      <td>9.48638</td>\n",
       "      <td>0</td>\n",
       "    </tr>\n",
       "    <tr>\n",
       "      <th>24</th>\n",
       "      <td>CC(=O)OCN(C#N)c1nc(N(C)C)nc(N(C)C)n1</td>\n",
       "      <td>842165</td>\n",
       "      <td>226</td>\n",
       "      <td>No</td>\n",
       "      <td><img data-content=\"rdkit/molecule\" src=\"data:image/png;base64,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\" alt=\"Mol\"/></td>\n",
       "      <td>842165</td>\n",
       "      <td>5.79858</td>\n",
       "      <td>0</td>\n",
       "    </tr>\n",
       "    <tr>\n",
       "      <th>34</th>\n",
       "      <td>CC12COC3(C(=O)Nc4cccnc4)CC1CCC32C</td>\n",
       "      <td>842178</td>\n",
       "      <td>226</td>\n",
       "      <td>No</td>\n",
       "      <td><img data-content=\"rdkit/molecule\" src=\"data:image/png;base64,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\" alt=\"Mol\"/></td>\n",
       "      <td>842178</td>\n",
       "      <td>-9.46142</td>\n",
       "      <td>0</td>\n",
       "    </tr>\n",
       "    <tr>\n",
       "      <th>36</th>\n",
       "      <td>Cc1ccccc1-c1nc2cc(N)ccc2o1</td>\n",
       "      <td>842180</td>\n",
       "      <td>226</td>\n",
       "      <td>No</td>\n",
       "      <td><img data-content=\"rdkit/molecule\" src=\"data:image/png;base64,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\" alt=\"Mol\"/></td>\n",
       "      <td>842180</td>\n",
       "      <td>-15.55492</td>\n",
       "      <td>0</td>\n",
       "    </tr>\n",
       "    <tr>\n",
       "      <th>39</th>\n",
       "      <td>CCOC(=O)C1=C(N)OC2=C(C(=O)CC(C)(C)C2)C1c1ccoc1</td>\n",
       "      <td>842183</td>\n",
       "      <td>226</td>\n",
       "      <td>No</td>\n",
       "      <td><img data-content=\"rdkit/molecule\" src=\"data:image/png;base64,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\" alt=\"Mol\"/></td>\n",
       "      <td>842183</td>\n",
       "      <td>-16.10072</td>\n",
       "      <td>0</td>\n",
       "    </tr>\n",
       "    <tr>\n",
       "      <th>64</th>\n",
       "      <td>CCc1oc(C(=O)O)cc1COC</td>\n",
       "      <td>842213</td>\n",
       "      <td>226</td>\n",
       "      <td>No</td>\n",
       "      <td><img data-content=\"rdkit/molecule\" src=\"data:image/png;base64,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\" alt=\"Mol\"/></td>\n",
       "      <td>842213</td>\n",
       "      <td>-9.57252</td>\n",
       "      <td>0</td>\n",
       "    </tr>\n",
       "    <tr>\n",
       "      <th>71</th>\n",
       "      <td>O=C1c2ccccc2C(=O)N1Cc1nc2ccccc2o1</td>\n",
       "      <td>842221</td>\n",
       "      <td>226</td>\n",
       "      <td>No</td>\n",
       "      <td><img data-content=\"rdkit/molecule\" src=\"data:image/png;base64,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\" alt=\"Mol\"/></td>\n",
       "      <td>842221</td>\n",
       "      <td>22.46148</td>\n",
       "      <td>0</td>\n",
       "    </tr>\n",
       "    <tr>\n",
       "      <th>87</th>\n",
       "      <td>O=c1oc2cc(Br)ccc2n1CSC1=NCCS1</td>\n",
       "      <td>842247</td>\n",
       "      <td>226</td>\n",
       "      <td>No</td>\n",
       "      <td><img data-content=\"rdkit/molecule\" src=\"data:image/png;base64,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\" alt=\"Mol\"/></td>\n",
       "      <td>842247</td>\n",
       "      <td>5.69088</td>\n",
       "      <td>0</td>\n",
       "    </tr>\n",
       "    <tr>\n",
       "      <th>89</th>\n",
       "      <td>COC(=O)C(C)Sc1nc2c(c(=O)[nH]c(=O)n2C)n1CCC(C)C</td>\n",
       "      <td>842249</td>\n",
       "      <td>226</td>\n",
       "      <td>No</td>\n",
       "      <td><img data-content=\"rdkit/molecule\" src=\"data:image/png;base64,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\" alt=\"Mol\"/></td>\n",
       "      <td>842249</td>\n",
       "      <td>-24.60622</td>\n",
       "      <td>0</td>\n",
       "    </tr>\n",
       "    <tr>\n",
       "      <th>94</th>\n",
       "      <td>CCCCCn1c(N2CCC(C(N)=O)CC2)nc2c1c(=O)[nH]c(=O)n2C</td>\n",
       "      <td>842254</td>\n",
       "      <td>226</td>\n",
       "      <td>No</td>\n",
       "      <td><img data-content=\"rdkit/molecule\" src=\"data:image/png;base64,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\" alt=\"Mol\"/></td>\n",
       "      <td>842254</td>\n",
       "      <td>-3.44592</td>\n",
       "      <td>0</td>\n",
       "    </tr>\n",
       "    <tr>\n",
       "      <th>98</th>\n",
       "      <td>COCc1cc(=O)n2c([nH]c3ccccc32)c1C#N</td>\n",
       "      <td>842258</td>\n",
       "      <td>226</td>\n",
       "      <td>No</td>\n",
       "      <td><img data-content=\"rdkit/molecule\" src=\"data:image/png;base64,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\" alt=\"Mol\"/></td>\n",
       "      <td>842258</td>\n",
       "      <td>-7.46472</td>\n",
       "      <td>0</td>\n",
       "    </tr>\n",
       "    <tr>\n",
       "      <th>111</th>\n",
       "      <td>CCOC(=O)Cn1c(N2CCCCCC2)nc2c1c(=O)[nH]c(=O)n2C</td>\n",
       "      <td>842271</td>\n",
       "      <td>226</td>\n",
       "      <td>No</td>\n",
       "      <td><img data-content=\"rdkit/molecule\" src=\"data:image/png;base64,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\" alt=\"Mol\"/></td>\n",
       "      <td>842271</td>\n",
       "      <td>9.39898</td>\n",
       "      <td>0</td>\n",
       "    </tr>\n",
       "  </tbody>\n",
       "</table>\n",
       "</div>"
      ],
      "text/plain": [
       "                                               SMILES    Name  Cluster Center  \\\n",
       "3                  CC1(C)NC(=O)N(CC(O)COC2CCCCC2)C1=O  842138      226     No   \n",
       "4                              [O-][n+]1ccc(C2CC2)cc1  842139      226     No   \n",
       "9                         CC(C)Nc1nc(C#N)nc(NC(C)C)n1  842145      226     No   \n",
       "19      CN1C=CC2=C(C#N)C(N)C(C#N)(C#N)C(c3ccccc3)C2C1  842157      226     No   \n",
       "24               CC(=O)OCN(C#N)c1nc(N(C)C)nc(N(C)C)n1  842165      226     No   \n",
       "34                  CC12COC3(C(=O)Nc4cccnc4)CC1CCC32C  842178      226     No   \n",
       "36                         Cc1ccccc1-c1nc2cc(N)ccc2o1  842180      226     No   \n",
       "39     CCOC(=O)C1=C(N)OC2=C(C(=O)CC(C)(C)C2)C1c1ccoc1  842183      226     No   \n",
       "64                               CCc1oc(C(=O)O)cc1COC  842213      226     No   \n",
       "71                  O=C1c2ccccc2C(=O)N1Cc1nc2ccccc2o1  842221      226     No   \n",
       "87                      O=c1oc2cc(Br)ccc2n1CSC1=NCCS1  842247      226     No   \n",
       "89     COC(=O)C(C)Sc1nc2c(c(=O)[nH]c(=O)n2C)n1CCC(C)C  842249      226     No   \n",
       "94   CCCCCn1c(N2CCC(C(N)=O)CC2)nc2c1c(=O)[nH]c(=O)n2C  842254      226     No   \n",
       "98                 COCc1cc(=O)n2c([nH]c3ccccc32)c1C#N  842258      226     No   \n",
       "111     CCOC(=O)Cn1c(N2CCCCCC2)nc2c1c(=O)[nH]c(=O)n2C  842271      226     No   \n",
       "\n",
       "                                                   Mol  PubChem Substance ID  \\\n",
       "3    <img data-content=\"rdkit/molecule\" src=\"data:i...                842138   \n",
       "4    <img data-content=\"rdkit/molecule\" src=\"data:i...                842139   \n",
       "9    <img data-content=\"rdkit/molecule\" src=\"data:i...                842145   \n",
       "19   <img data-content=\"rdkit/molecule\" src=\"data:i...                842157   \n",
       "24   <img data-content=\"rdkit/molecule\" src=\"data:i...                842165   \n",
       "34   <img data-content=\"rdkit/molecule\" src=\"data:i...                842178   \n",
       "36   <img data-content=\"rdkit/molecule\" src=\"data:i...                842180   \n",
       "39   <img data-content=\"rdkit/molecule\" src=\"data:i...                842183   \n",
       "64   <img data-content=\"rdkit/molecule\" src=\"data:i...                842213   \n",
       "71   <img data-content=\"rdkit/molecule\" src=\"data:i...                842221   \n",
       "87   <img data-content=\"rdkit/molecule\" src=\"data:i...                842247   \n",
       "89   <img data-content=\"rdkit/molecule\" src=\"data:i...                842249   \n",
       "94   <img data-content=\"rdkit/molecule\" src=\"data:i...                842254   \n",
       "98   <img data-content=\"rdkit/molecule\" src=\"data:i...                842258   \n",
       "111  <img data-content=\"rdkit/molecule\" src=\"data:i...                842271   \n",
       "\n",
       "     hERG inhibition (%) at 10uM  class  \n",
       "3                        8.64368      0  \n",
       "4                        7.12878      0  \n",
       "9                        0.21918      0  \n",
       "19                       9.48638      0  \n",
       "24                       5.79858      0  \n",
       "34                      -9.46142      0  \n",
       "36                     -15.55492      0  \n",
       "39                     -16.10072      0  \n",
       "64                      -9.57252      0  \n",
       "71                      22.46148      0  \n",
       "87                       5.69088      0  \n",
       "89                     -24.60622      0  \n",
       "94                      -3.44592      0  \n",
       "98                      -7.46472      0  \n",
       "111                      9.39898      0  "
      ]
     },
     "execution_count": 128,
     "metadata": {},
     "output_type": "execute_result"
    }
   ],
   "source": [
    "df_clust.loc[df_clust['Cluster'] == 226].head(15)"
   ]
  },
  {
   "cell_type": "markdown",
   "metadata": {},
   "source": [
    "Довольно разнородная выборка..."
   ]
  },
  {
   "cell_type": "code",
   "execution_count": 131,
   "metadata": {},
   "outputs": [
    {
     "data": {
      "text/plain": [
       "497"
      ]
     },
     "execution_count": 131,
     "metadata": {},
     "output_type": "execute_result"
    }
   ],
   "source": [
    "valid_set = pd.DataFrame(df_clust.drop_duplicates(\"Cluster\"))\n",
    "len(valid_set)"
   ]
  },
  {
   "cell_type": "code",
   "execution_count": 132,
   "metadata": {},
   "outputs": [
    {
     "data": {
      "text/plain": [
       "1"
      ]
     },
     "execution_count": 132,
     "metadata": {},
     "output_type": "execute_result"
    }
   ],
   "source": [
    "valid_set[\"class\"].sum()"
   ]
  },
  {
   "cell_type": "markdown",
   "metadata": {},
   "source": [
    "Таким образом, мы получили для валидации датасет, совершенно не содержащий активных молекул. Это плохой способ проверить модель."
   ]
  },
  {
   "cell_type": "markdown",
   "metadata": {},
   "source": [
    "Попробуем это исправить"
   ]
  },
  {
   "cell_type": "code",
   "execution_count": 102,
   "metadata": {},
   "outputs": [
    {
     "data": {
      "text/plain": [
       "{0: 0, 1: 1}"
      ]
     },
     "execution_count": 102,
     "metadata": {},
     "output_type": "execute_result"
    }
   ],
   "source": [
    "unique_targets = df_clust['class'].unique()\n",
    "target_dict = dict([(x,y) for x,y in zip(unique_targets,range(0,len(unique_targets)))])\n",
    "num_targets = len(unique_targets)\n",
    "target_dict"
   ]
  },
  {
   "cell_type": "code",
   "execution_count": 107,
   "metadata": {},
   "outputs": [
    {
     "data": {
      "text/html": [
       "<div>\n",
       "<style scoped>\n",
       "    .dataframe tbody tr th:only-of-type {\n",
       "        vertical-align: middle;\n",
       "    }\n",
       "\n",
       "    .dataframe tbody tr th {\n",
       "        vertical-align: top;\n",
       "    }\n",
       "\n",
       "    .dataframe thead th {\n",
       "        text-align: right;\n",
       "    }\n",
       "</style>\n",
       "<table border=\"1\" class=\"dataframe\">\n",
       "  <thead>\n",
       "    <tr style=\"text-align: right;\">\n",
       "      <th></th>\n",
       "      <th>Class</th>\n",
       "      <th>0</th>\n",
       "      <th>1</th>\n",
       "      <th>2</th>\n",
       "      <th>3</th>\n",
       "      <th>4</th>\n",
       "      <th>5</th>\n",
       "      <th>6</th>\n",
       "      <th>7</th>\n",
       "      <th>8</th>\n",
       "      <th>...</th>\n",
       "      <th>487</th>\n",
       "      <th>488</th>\n",
       "      <th>489</th>\n",
       "      <th>490</th>\n",
       "      <th>491</th>\n",
       "      <th>492</th>\n",
       "      <th>493</th>\n",
       "      <th>494</th>\n",
       "      <th>495</th>\n",
       "      <th>496</th>\n",
       "    </tr>\n",
       "  </thead>\n",
       "  <tbody>\n",
       "    <tr>\n",
       "      <th>0</th>\n",
       "      <td>0</td>\n",
       "      <td>11</td>\n",
       "      <td>5</td>\n",
       "      <td>27</td>\n",
       "      <td>17</td>\n",
       "      <td>83</td>\n",
       "      <td>-40</td>\n",
       "      <td>99</td>\n",
       "      <td>31</td>\n",
       "      <td>-11</td>\n",
       "      <td>...</td>\n",
       "      <td>-4</td>\n",
       "      <td>57</td>\n",
       "      <td>21</td>\n",
       "      <td>17</td>\n",
       "      <td>19</td>\n",
       "      <td>20</td>\n",
       "      <td>9</td>\n",
       "      <td>10</td>\n",
       "      <td>23</td>\n",
       "      <td>4</td>\n",
       "    </tr>\n",
       "    <tr>\n",
       "      <th>1</th>\n",
       "      <td>1</td>\n",
       "      <td>0</td>\n",
       "      <td>0</td>\n",
       "      <td>0</td>\n",
       "      <td>0</td>\n",
       "      <td>0</td>\n",
       "      <td>3</td>\n",
       "      <td>3</td>\n",
       "      <td>0</td>\n",
       "      <td>1</td>\n",
       "      <td>...</td>\n",
       "      <td>1</td>\n",
       "      <td>0</td>\n",
       "      <td>0</td>\n",
       "      <td>0</td>\n",
       "      <td>0</td>\n",
       "      <td>0</td>\n",
       "      <td>0</td>\n",
       "      <td>0</td>\n",
       "      <td>0</td>\n",
       "      <td>0</td>\n",
       "    </tr>\n",
       "  </tbody>\n",
       "</table>\n",
       "<p>2 rows × 498 columns</p>\n",
       "</div>"
      ],
      "text/plain": [
       "   Class   0  1   2   3   4   5   6   7   8  ...  487  488  489  490  491  \\\n",
       "0      0  11  5  27  17  83 -40  99  31 -11  ...   -4   57   21   17   19   \n",
       "1      1   0  0   0   0   0   3   3   0   1  ...    1    0    0    0    0   \n",
       "\n",
       "   492  493  494  495  496  \n",
       "0   20    9   10   23    4  \n",
       "1    0    0    0    0    0  \n",
       "\n",
       "[2 rows x 498 columns]"
      ]
     },
     "execution_count": 107,
     "metadata": {},
     "output_type": "execute_result"
    }
   ],
   "source": [
    "mat = []\n",
    "for k,v in df_clust.groupby(\"Cluster\"):\n",
    "    row_vec = np.zeros(num_targets,dtype=np.int8)\n",
    "    for tgt,count in v['class'].value_counts().iteritems():\n",
    "        tgt_idx = target_dict[tgt]\n",
    "        row_vec[tgt_idx] = count\n",
    "    mat.append(row_vec)\n",
    "mat = np.array(mat)\n",
    "out_df = pd.DataFrame(mat.transpose())\n",
    "out_df.insert(0,\"Class\",unique_targets)\n",
    "out_df"
   ]
  },
  {
   "cell_type": "code",
   "execution_count": 108,
   "metadata": {},
   "outputs": [
    {
     "data": {
      "text/plain": [
       "0    497\n",
       "1     72\n",
       "dtype: int64"
      ]
     },
     "execution_count": 108,
     "metadata": {},
     "output_type": "execute_result"
    }
   ],
   "source": [
    "(out_df != 0).sum(axis=1)"
   ]
  },
  {
   "cell_type": "markdown",
   "metadata": {},
   "source": [
    "Таким образом, неактивные соединения присутствуют во всех кластерах. В то время, как активные лишь в 72 кластерах.\n",
    "Разделим активные и неактивные соединения, а далее отберем по одному объекту из кажого кластера. "
   ]
  },
  {
   "cell_type": "code",
   "execution_count": 136,
   "metadata": {},
   "outputs": [],
   "source": [
    "def get_uniq_from_clust(df, activity):\n",
    "    df = df[(df['class']==activity)]\n",
    "    val_df = pd.DataFrame(df.drop_duplicates(\"Cluster\"))\n",
    "    return val_df"
   ]
  },
  {
   "cell_type": "code",
   "execution_count": 139,
   "metadata": {},
   "outputs": [
    {
     "data": {
      "text/plain": [
       "71"
      ]
     },
     "execution_count": 139,
     "metadata": {},
     "output_type": "execute_result"
    }
   ],
   "source": [
    "df_clust_active = get_uniq_from_clust(df = df_clust, activity = 1)\n",
    "len(df_clust_active)"
   ]
  },
  {
   "cell_type": "code",
   "execution_count": 140,
   "metadata": {},
   "outputs": [
    {
     "data": {
      "text/plain": [
       "497"
      ]
     },
     "execution_count": 140,
     "metadata": {},
     "output_type": "execute_result"
    }
   ],
   "source": [
    "df_clust_inactive = get_uniq_from_clust(df = df_clust, activity = 0)\n",
    "len(df_clust_inactive)"
   ]
  },
  {
   "cell_type": "code",
   "execution_count": 141,
   "metadata": {},
   "outputs": [],
   "source": [
    "val_set = pd.concat([df_clust_active, df_clust_inactive])"
   ]
  },
  {
   "cell_type": "code",
   "execution_count": 142,
   "metadata": {},
   "outputs": [
    {
     "data": {
      "text/plain": [
       "568"
      ]
     },
     "execution_count": 142,
     "metadata": {},
     "output_type": "execute_result"
    }
   ],
   "source": [
    "len(val_set)"
   ]
  },
  {
   "cell_type": "code",
   "execution_count": 144,
   "metadata": {},
   "outputs": [],
   "source": [
    "del val_set['Mol']"
   ]
  },
  {
   "cell_type": "code",
   "execution_count": 145,
   "metadata": {},
   "outputs": [],
   "source": [
    "val_set.to_csv(\"herg_valid_set.csv\", encoding='utf-8', index=False)"
   ]
  },
  {
   "cell_type": "markdown",
   "metadata": {},
   "source": [
    "Вывод:\n",
    "    В резултате мы получили валидационный сет для проверки модели, содержащий 71/568 (12,5%) активных соединений и 497/568 (87,5%) неактивных соединений. "
   ]
  },
  {
   "cell_type": "code",
   "execution_count": null,
   "metadata": {},
   "outputs": [],
   "source": []
  }
 ],
 "metadata": {
  "celltoolbar": "Edit Metadata",
  "kernelspec": {
   "display_name": "Python 3 (ipykernel)",
   "language": "python",
   "name": "python3"
  },
  "language_info": {
   "codemirror_mode": {
    "name": "ipython",
    "version": 3
   },
   "file_extension": ".py",
   "mimetype": "text/x-python",
   "name": "python",
   "nbconvert_exporter": "python",
   "pygments_lexer": "ipython3",
   "version": "3.8.5"
  }
 },
 "nbformat": 4,
 "nbformat_minor": 2
}
