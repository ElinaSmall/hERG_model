{
 "cells": [
  {
   "cell_type": "markdown",
   "metadata": {},
   "source": [
    "### В данном Jupyter Notebook проводится обработка и об"
   ]
  },
  {
   "cell_type": "markdown",
   "metadata": {},
   "source": [
    "Пайплайн:\n",
    "\n",
    "1. Скачивание данных HERG-central;\n",
    "2. Стандартизация единиц измерения активности к herg каналам, удаление дубликатов;\n",
    "3. Кластеризация соединений с помощью python-скрипта от PatWalter: https://github.com/PatWalters/kmeans Параметры: fp = morgan3, dim = 2048, clusters = 500;\n",
    "4. Анализ разбиения выборки на кластеры;\n",
    "5. Составление наиболее сбалансированного валидацинного датасета из соединений разных кластеров;\n",
    "6. Сохранение подготовленных данных в .csv файлы."
   ]
  },
  {
   "cell_type": "markdown",
   "metadata": {},
   "source": [
    "# Обработка данных с HERG-central"
   ]
  },
  {
   "cell_type": "code",
   "execution_count": 2,
   "metadata": {},
   "outputs": [
    {
     "name": "stderr",
     "output_type": "stream",
     "text": [
      "C:\\Users\\elly-\\Anaconda3\\envs\\my-edkit-env\\lib\\site-packages\\xgboost\\compat.py:36: FutureWarning: pandas.Int64Index is deprecated and will be removed from pandas in a future version. Use pandas.Index with the appropriate dtype instead.\n",
      "  from pandas import MultiIndex, Int64Index\n"
     ]
    }
   ],
   "source": [
    "import logging\n",
    "import matplotlib.pyplot as plt\n",
    "import numpy as np\n",
    "from numpy import mean, std, zeros\n",
    "from pandas import DataFrame\n",
    "import pandas as pd\n",
    "from pathlib import Path\n",
    "import sys\n",
    "from rdkit import Chem, DataStructs, RDConfig\n",
    "from rdkit.Chem import AllChem, Descriptors, Draw, PandasTools, MolStandardize, DataStructs, ChemicalFeatures\n",
    "from rdkit.Chem.MolStandardize import rdMolStandardize\n",
    "from rdkit.Chem.Draw import IPythonConsole\n",
    "IPythonConsole.ipython_useSVG=True\n",
    "from IPython.display import display, display_png\n",
    "import rdkit.rdBase as rkrb\n",
    "import rdkit.RDLogger as rkl\n",
    "from rdkit.Chem.Pharm2D.SigFactory import SigFactory\n",
    "from rdkit.Chem.Pharm2D import Generate\n",
    "from sklearn.preprocessing import FunctionTransformer\n",
    "from sklearn.linear_model import LogisticRegressionCV, LinearRegression, SGDClassifier\n",
    "from sklearn.ensemble import RandomForestClassifier, GradientBoostingClassifier, VotingClassifier\n",
    "from sklearn.model_selection import KFold, cross_val_predict, GridSearchCV\n",
    "import sklearn.metrics as metrics\n",
    "from sklearn.metrics import f1_score, accuracy_score, balanced_accuracy_score, roc_auc_score, recall_score, precision_score\n",
    "from sklearn.model_selection import train_test_split, cross_val_score, RepeatedStratifiedKFold\n",
    "from sklearn.preprocessing import StandardScaler, FunctionTransformer\n",
    "from sklearn.datasets import make_classification \n",
    "from tqdm import tqdm\n",
    "import xgboost\n",
    "from xgboost import XGBRFClassifier\n",
    "#import time\n",
    "from collections import Counter, defaultdict"
   ]
  },
  {
   "cell_type": "code",
   "execution_count": 3,
   "metadata": {},
   "outputs": [],
   "source": [
    "#! pip install tqdm"
   ]
  },
  {
   "cell_type": "markdown",
   "metadata": {},
   "source": [
    "Загрузим датасет"
   ]
  },
  {
   "cell_type": "code",
   "execution_count": 4,
   "metadata": {},
   "outputs": [],
   "source": [
    "df = pd.read_csv('herg_central.txt', delimiter = \"\\t\")"
   ]
  },
  {
   "cell_type": "code",
   "execution_count": 5,
   "metadata": {},
   "outputs": [
    {
     "data": {
      "text/plain": [
       "SMILES                         0\n",
       "PubChem Substance ID           0\n",
       "hERG inhibition (%) at 1uM     0\n",
       "hERG inhibition (%) at 10uM    0\n",
       "dtype: int64"
      ]
     },
     "execution_count": 5,
     "metadata": {},
     "output_type": "execute_result"
    }
   ],
   "source": [
    "df.isna().sum()"
   ]
  },
  {
   "cell_type": "markdown",
   "metadata": {},
   "source": [
    "Пропущенные значения отсутствуют"
   ]
  },
  {
   "cell_type": "code",
   "execution_count": 6,
   "metadata": {},
   "outputs": [
    {
     "data": {
      "text/plain": [
       "306895"
      ]
     },
     "execution_count": 6,
     "metadata": {},
     "output_type": "execute_result"
    }
   ],
   "source": [
    "len(df)"
   ]
  },
  {
   "cell_type": "code",
   "execution_count": 7,
   "metadata": {
    "scrolled": true
   },
   "outputs": [
    {
     "data": {
      "text/html": [
       "<div>\n",
       "<style scoped>\n",
       "    .dataframe tbody tr th:only-of-type {\n",
       "        vertical-align: middle;\n",
       "    }\n",
       "\n",
       "    .dataframe tbody tr th {\n",
       "        vertical-align: top;\n",
       "    }\n",
       "\n",
       "    .dataframe thead th {\n",
       "        text-align: right;\n",
       "    }\n",
       "</style>\n",
       "<table border=\"1\" class=\"dataframe\">\n",
       "  <thead>\n",
       "    <tr style=\"text-align: right;\">\n",
       "      <th></th>\n",
       "      <th>SMILES</th>\n",
       "      <th>PubChem Substance ID</th>\n",
       "      <th>hERG inhibition (%) at 1uM</th>\n",
       "      <th>hERG inhibition (%) at 10uM</th>\n",
       "    </tr>\n",
       "  </thead>\n",
       "  <tbody>\n",
       "    <tr>\n",
       "      <th>0</th>\n",
       "      <td>C1=CC2=NC3=C(C=C(C(=NC(=O)C4=CC=CO4)N3CC5=CC=C...</td>\n",
       "      <td>22403712</td>\n",
       "      <td>-10.1124</td>\n",
       "      <td>-32.88202</td>\n",
       "    </tr>\n",
       "    <tr>\n",
       "      <th>1</th>\n",
       "      <td>C1C(CN(C1C(=O)OCC(=O)C2=CC=CC=C2Cl)S(=O)(=O)C3...</td>\n",
       "      <td>22411435</td>\n",
       "      <td>5.5191</td>\n",
       "      <td>4.12648</td>\n",
       "    </tr>\n",
       "    <tr>\n",
       "      <th>2</th>\n",
       "      <td>C1COCCN1C(=O)OC2=CC3=C(C=C2)C(=O)/C(=C/C4=CC=C...</td>\n",
       "      <td>17513249</td>\n",
       "      <td>9.5532</td>\n",
       "      <td>5.23978</td>\n",
       "    </tr>\n",
       "    <tr>\n",
       "      <th>3</th>\n",
       "      <td>CC1=NC2=CC=CC=C2C(=C1)C(=O)N/N=C/C3=CC(=CC=C3)...</td>\n",
       "      <td>17512209</td>\n",
       "      <td>-0.2112</td>\n",
       "      <td>-5.44332</td>\n",
       "    </tr>\n",
       "    <tr>\n",
       "      <th>4</th>\n",
       "      <td>COCCNC(=O)C1=C(N(C2=NC3=CC=CC=C3N=C12)CC4=CC=C...</td>\n",
       "      <td>14729741</td>\n",
       "      <td>12.6230</td>\n",
       "      <td>14.73378</td>\n",
       "    </tr>\n",
       "    <tr>\n",
       "      <th>...</th>\n",
       "      <td>...</td>\n",
       "      <td>...</td>\n",
       "      <td>...</td>\n",
       "      <td>...</td>\n",
       "    </tr>\n",
       "    <tr>\n",
       "      <th>306890</th>\n",
       "      <td>C1CCN(C1)S(=O)(=O)C2=CC=C(C=C2)C(=O)OCC(=O)NC3...</td>\n",
       "      <td>57262925</td>\n",
       "      <td>4.8576</td>\n",
       "      <td>1.38128</td>\n",
       "    </tr>\n",
       "    <tr>\n",
       "      <th>306891</th>\n",
       "      <td>C1CN(CCN1CC(=O)NC2=CC=C(C=C2)C(=O)N)S(=O)(=O)C...</td>\n",
       "      <td>57264745</td>\n",
       "      <td>4.4922</td>\n",
       "      <td>-3.78132</td>\n",
       "    </tr>\n",
       "    <tr>\n",
       "      <th>306892</th>\n",
       "      <td>CC1=CC(=C(C(=C1C)S(=O)(=O)N2CCN(CC2)C(=O)CNC(=...</td>\n",
       "      <td>57259638</td>\n",
       "      <td>-0.9701</td>\n",
       "      <td>-13.56112</td>\n",
       "    </tr>\n",
       "    <tr>\n",
       "      <th>306893</th>\n",
       "      <td>C1COCCN1C2=C(C=C(C=C2)C(F)(F)F)NC(=O)COC(=O)C3...</td>\n",
       "      <td>57261004</td>\n",
       "      <td>-7.1374</td>\n",
       "      <td>-25.02142</td>\n",
       "    </tr>\n",
       "    <tr>\n",
       "      <th>306894</th>\n",
       "      <td>CC1=CC(=NC2=NC(=NN12)SCC(=O)N3CCOCC3)C</td>\n",
       "      <td>57268033</td>\n",
       "      <td>9.8421</td>\n",
       "      <td>11.95758</td>\n",
       "    </tr>\n",
       "  </tbody>\n",
       "</table>\n",
       "<p>306895 rows × 4 columns</p>\n",
       "</div>"
      ],
      "text/plain": [
       "                                                   SMILES  \\\n",
       "0       C1=CC2=NC3=C(C=C(C(=NC(=O)C4=CC=CO4)N3CC5=CC=C...   \n",
       "1       C1C(CN(C1C(=O)OCC(=O)C2=CC=CC=C2Cl)S(=O)(=O)C3...   \n",
       "2       C1COCCN1C(=O)OC2=CC3=C(C=C2)C(=O)/C(=C/C4=CC=C...   \n",
       "3       CC1=NC2=CC=CC=C2C(=C1)C(=O)N/N=C/C3=CC(=CC=C3)...   \n",
       "4       COCCNC(=O)C1=C(N(C2=NC3=CC=CC=C3N=C12)CC4=CC=C...   \n",
       "...                                                   ...   \n",
       "306890  C1CCN(C1)S(=O)(=O)C2=CC=C(C=C2)C(=O)OCC(=O)NC3...   \n",
       "306891  C1CN(CCN1CC(=O)NC2=CC=C(C=C2)C(=O)N)S(=O)(=O)C...   \n",
       "306892  CC1=CC(=C(C(=C1C)S(=O)(=O)N2CCN(CC2)C(=O)CNC(=...   \n",
       "306893  C1COCCN1C2=C(C=C(C=C2)C(F)(F)F)NC(=O)COC(=O)C3...   \n",
       "306894             CC1=CC(=NC2=NC(=NN12)SCC(=O)N3CCOCC3)C   \n",
       "\n",
       "        PubChem Substance ID  hERG inhibition (%) at 1uM  \\\n",
       "0                   22403712                    -10.1124   \n",
       "1                   22411435                      5.5191   \n",
       "2                   17513249                      9.5532   \n",
       "3                   17512209                     -0.2112   \n",
       "4                   14729741                     12.6230   \n",
       "...                      ...                         ...   \n",
       "306890              57262925                      4.8576   \n",
       "306891              57264745                      4.4922   \n",
       "306892              57259638                     -0.9701   \n",
       "306893              57261004                     -7.1374   \n",
       "306894              57268033                      9.8421   \n",
       "\n",
       "        hERG inhibition (%) at 10uM  \n",
       "0                         -32.88202  \n",
       "1                           4.12648  \n",
       "2                           5.23978  \n",
       "3                          -5.44332  \n",
       "4                          14.73378  \n",
       "...                             ...  \n",
       "306890                      1.38128  \n",
       "306891                     -3.78132  \n",
       "306892                    -13.56112  \n",
       "306893                    -25.02142  \n",
       "306894                     11.95758  \n",
       "\n",
       "[306895 rows x 4 columns]"
      ]
     },
     "execution_count": 7,
     "metadata": {},
     "output_type": "execute_result"
    }
   ],
   "source": [
    "df = df.drop_duplicates(subset =\"PubChem Substance ID\")\n",
    "df"
   ]
  },
  {
   "cell_type": "markdown",
   "metadata": {},
   "source": [
    "Дубликатов в данном наборе не оказалось"
   ]
  },
  {
   "cell_type": "markdown",
   "metadata": {},
   "source": [
    "Удалим агонисты (соединения с отрицательной активностью и нулевой)"
   ]
  },
  {
   "cell_type": "code",
   "execution_count": 8,
   "metadata": {},
   "outputs": [],
   "source": [
    "df = df[df['hERG inhibition (%) at 10uM'] > 0]"
   ]
  },
  {
   "cell_type": "code",
   "execution_count": 9,
   "metadata": {},
   "outputs": [
    {
     "data": {
      "text/html": [
       "<div>\n",
       "<style scoped>\n",
       "    .dataframe tbody tr th:only-of-type {\n",
       "        vertical-align: middle;\n",
       "    }\n",
       "\n",
       "    .dataframe tbody tr th {\n",
       "        vertical-align: top;\n",
       "    }\n",
       "\n",
       "    .dataframe thead th {\n",
       "        text-align: right;\n",
       "    }\n",
       "</style>\n",
       "<table border=\"1\" class=\"dataframe\">\n",
       "  <thead>\n",
       "    <tr style=\"text-align: right;\">\n",
       "      <th></th>\n",
       "      <th>SMILES</th>\n",
       "      <th>PubChem Substance ID</th>\n",
       "      <th>hERG inhibition (%) at 1uM</th>\n",
       "      <th>hERG inhibition (%) at 10uM</th>\n",
       "    </tr>\n",
       "  </thead>\n",
       "  <tbody>\n",
       "    <tr>\n",
       "      <th>1</th>\n",
       "      <td>C1C(CN(C1C(=O)OCC(=O)C2=CC=CC=C2Cl)S(=O)(=O)C3...</td>\n",
       "      <td>22411435</td>\n",
       "      <td>5.5191</td>\n",
       "      <td>4.12648</td>\n",
       "    </tr>\n",
       "    <tr>\n",
       "      <th>2</th>\n",
       "      <td>C1COCCN1C(=O)OC2=CC3=C(C=C2)C(=O)/C(=C/C4=CC=C...</td>\n",
       "      <td>17513249</td>\n",
       "      <td>9.5532</td>\n",
       "      <td>5.23978</td>\n",
       "    </tr>\n",
       "    <tr>\n",
       "      <th>4</th>\n",
       "      <td>COCCNC(=O)C1=C(N(C2=NC3=CC=CC=C3N=C12)CC4=CC=C...</td>\n",
       "      <td>14729741</td>\n",
       "      <td>12.6230</td>\n",
       "      <td>14.73378</td>\n",
       "    </tr>\n",
       "    <tr>\n",
       "      <th>5</th>\n",
       "      <td>CC1CC(NC(=S)N1CC(=O)NCC2=CC=CC=C2Cl)(C)C</td>\n",
       "      <td>17511100</td>\n",
       "      <td>13.9004</td>\n",
       "      <td>13.68218</td>\n",
       "    </tr>\n",
       "    <tr>\n",
       "      <th>6</th>\n",
       "      <td>COC1=C(C=C(C=C1)C(=O)NC(=S)NC2=CC=C(C=C2)N3CCC...</td>\n",
       "      <td>17508525</td>\n",
       "      <td>11.3456</td>\n",
       "      <td>12.12248</td>\n",
       "    </tr>\n",
       "    <tr>\n",
       "      <th>...</th>\n",
       "      <td>...</td>\n",
       "      <td>...</td>\n",
       "      <td>...</td>\n",
       "      <td>...</td>\n",
       "    </tr>\n",
       "    <tr>\n",
       "      <th>306884</th>\n",
       "      <td>C1CCC(C1)NC(=O)CN2C(=O)C(NC2=O)(C3=CC=CC=C3)C4...</td>\n",
       "      <td>57260907</td>\n",
       "      <td>11.2146</td>\n",
       "      <td>4.94638</td>\n",
       "    </tr>\n",
       "    <tr>\n",
       "      <th>306885</th>\n",
       "      <td>CC1=CC(=C(C=C1)C)C(=O)CN2C(=O)C(=O)N(C2=O)C3CCCC3</td>\n",
       "      <td>57261825</td>\n",
       "      <td>6.1096</td>\n",
       "      <td>1.63218</td>\n",
       "    </tr>\n",
       "    <tr>\n",
       "      <th>306888</th>\n",
       "      <td>CC1=C(C=C(C=C1)OCC(=O)OCC(=O)NC2CC2)C</td>\n",
       "      <td>57262798</td>\n",
       "      <td>2.9471</td>\n",
       "      <td>4.09278</td>\n",
       "    </tr>\n",
       "    <tr>\n",
       "      <th>306890</th>\n",
       "      <td>C1CCN(C1)S(=O)(=O)C2=CC=C(C=C2)C(=O)OCC(=O)NC3...</td>\n",
       "      <td>57262925</td>\n",
       "      <td>4.8576</td>\n",
       "      <td>1.38128</td>\n",
       "    </tr>\n",
       "    <tr>\n",
       "      <th>306894</th>\n",
       "      <td>CC1=CC(=NC2=NC(=NN12)SCC(=O)N3CCOCC3)C</td>\n",
       "      <td>57268033</td>\n",
       "      <td>9.8421</td>\n",
       "      <td>11.95758</td>\n",
       "    </tr>\n",
       "  </tbody>\n",
       "</table>\n",
       "<p>166837 rows × 4 columns</p>\n",
       "</div>"
      ],
      "text/plain": [
       "                                                   SMILES  \\\n",
       "1       C1C(CN(C1C(=O)OCC(=O)C2=CC=CC=C2Cl)S(=O)(=O)C3...   \n",
       "2       C1COCCN1C(=O)OC2=CC3=C(C=C2)C(=O)/C(=C/C4=CC=C...   \n",
       "4       COCCNC(=O)C1=C(N(C2=NC3=CC=CC=C3N=C12)CC4=CC=C...   \n",
       "5                CC1CC(NC(=S)N1CC(=O)NCC2=CC=CC=C2Cl)(C)C   \n",
       "6       COC1=C(C=C(C=C1)C(=O)NC(=S)NC2=CC=C(C=C2)N3CCC...   \n",
       "...                                                   ...   \n",
       "306884  C1CCC(C1)NC(=O)CN2C(=O)C(NC2=O)(C3=CC=CC=C3)C4...   \n",
       "306885  CC1=CC(=C(C=C1)C)C(=O)CN2C(=O)C(=O)N(C2=O)C3CCCC3   \n",
       "306888              CC1=C(C=C(C=C1)OCC(=O)OCC(=O)NC2CC2)C   \n",
       "306890  C1CCN(C1)S(=O)(=O)C2=CC=C(C=C2)C(=O)OCC(=O)NC3...   \n",
       "306894             CC1=CC(=NC2=NC(=NN12)SCC(=O)N3CCOCC3)C   \n",
       "\n",
       "        PubChem Substance ID  hERG inhibition (%) at 1uM  \\\n",
       "1                   22411435                      5.5191   \n",
       "2                   17513249                      9.5532   \n",
       "4                   14729741                     12.6230   \n",
       "5                   17511100                     13.9004   \n",
       "6                   17508525                     11.3456   \n",
       "...                      ...                         ...   \n",
       "306884              57260907                     11.2146   \n",
       "306885              57261825                      6.1096   \n",
       "306888              57262798                      2.9471   \n",
       "306890              57262925                      4.8576   \n",
       "306894              57268033                      9.8421   \n",
       "\n",
       "        hERG inhibition (%) at 10uM  \n",
       "1                           4.12648  \n",
       "2                           5.23978  \n",
       "4                          14.73378  \n",
       "5                          13.68218  \n",
       "6                          12.12248  \n",
       "...                             ...  \n",
       "306884                      4.94638  \n",
       "306885                      1.63218  \n",
       "306888                      4.09278  \n",
       "306890                      1.38128  \n",
       "306894                     11.95758  \n",
       "\n",
       "[166837 rows x 4 columns]"
      ]
     },
     "execution_count": 9,
     "metadata": {},
     "output_type": "execute_result"
    }
   ],
   "source": [
    "df"
   ]
  },
  {
   "cell_type": "markdown",
   "metadata": {},
   "source": [
    "Агонисты и антагонисты были представлены приблизительно половиной соединений"
   ]
  },
  {
   "cell_type": "markdown",
   "metadata": {},
   "source": [
    "Удалим соли"
   ]
  },
  {
   "cell_type": "code",
   "execution_count": 10,
   "metadata": {},
   "outputs": [
    {
     "data": {
      "text/plain": [
       "162007"
      ]
     },
     "execution_count": 10,
     "metadata": {},
     "output_type": "execute_result"
    }
   ],
   "source": [
    "df = df.drop(df[df.SMILES.str.contains(r'[.]')].index)\n",
    "len(df)"
   ]
  },
  {
   "cell_type": "code",
   "execution_count": 11,
   "metadata": {},
   "outputs": [
    {
     "name": "stdout",
     "output_type": "stream",
     "text": [
      "Number of str-nan:0\n",
      "Index of nan:[]\n"
     ]
    }
   ],
   "source": [
    "k = 0\n",
    "l = 0\n",
    "index_nan = []\n",
    "for i in df[\"SMILES\"]:\n",
    "    k += 1\n",
    "    if i == \"\":\n",
    "        index_nan.append(df_all.index[k-1])\n",
    "        l += 1\n",
    "print(f\"Number of str-nan:{l}\")\n",
    "print(f\"Index of nan:{index_nan}\")"
   ]
  },
  {
   "cell_type": "markdown",
   "metadata": {},
   "source": [
    "Проставим класс активности на основе значения % ингибирования при концентрации 10 мкМ"
   ]
  },
  {
   "cell_type": "code",
   "execution_count": 12,
   "metadata": {},
   "outputs": [],
   "source": [
    "def count_class(df):\n",
    "    activity_class =[]\n",
    "    count = 0\n",
    "    for index, row in df.iterrows():\n",
    "        value = float(row[\"hERG inhibition (%) at 10uM\"])\n",
    "        if value > 50:\n",
    "             activity_class.append(1)\n",
    "        elif value == 50:\n",
    "             activity_class.append(1)\n",
    "        else:\n",
    "            activity_class.append(0)\n",
    "    df['class'] = activity_class\n",
    "    return df"
   ]
  },
  {
   "cell_type": "code",
   "execution_count": 13,
   "metadata": {},
   "outputs": [],
   "source": [
    "df = count_class(df)"
   ]
  },
  {
   "cell_type": "code",
   "execution_count": 14,
   "metadata": {},
   "outputs": [
    {
     "data": {
      "text/plain": [
       "225"
      ]
     },
     "execution_count": 14,
     "metadata": {},
     "output_type": "execute_result"
    }
   ],
   "source": [
    "df[\"class\"].sum()"
   ]
  },
  {
   "cell_type": "markdown",
   "metadata": {},
   "source": [
    "Всего 225 блокаторов (по границе отсечения IC50 = 10 микромоль)"
   ]
  },
  {
   "cell_type": "code",
   "execution_count": 15,
   "metadata": {},
   "outputs": [],
   "source": [
    "def count_active_inactive_difference(df):\n",
    "    # подсчет числа активных и неактивных соединений и считает их разницу в %\n",
    "    count_active_inactive_ = Counter()\n",
    "    for i in df[\"class\"]:\n",
    "        if i == 1:\n",
    "            count_active_inactive_[\"active\"]+=1\n",
    "        else:\n",
    "            count_active_inactive_[\"inactive\"]+=1\n",
    "    difference = ((count_active_inactive_[\"inactive\"]-count_active_inactive_[\"active\"])/(count_active_inactive_[\"active\"]+count_active_inactive_[\"inactive\"]))*100\n",
    "    return count_active_inactive_, difference"
   ]
  },
  {
   "cell_type": "code",
   "execution_count": 16,
   "metadata": {},
   "outputs": [
    {
     "name": "stdout",
     "output_type": "stream",
     "text": [
      "Counter({'inactive': 161782, 'active': 225}) difference=99.72223422444709\n"
     ]
    }
   ],
   "source": [
    "count, diff = count_active_inactive_difference(df)\n",
    "print(count, f'difference={diff}')"
   ]
  },
  {
   "cell_type": "markdown",
   "metadata": {},
   "source": [
    "Всего лишь 225 акивных соединений. На 300 тысяч это очень мало, выборка несбалансированная. "
   ]
  },
  {
   "cell_type": "code",
   "execution_count": 17,
   "metadata": {},
   "outputs": [
    {
     "data": {
      "text/html": [
       "<div>\n",
       "<style scoped>\n",
       "    .dataframe tbody tr th:only-of-type {\n",
       "        vertical-align: middle;\n",
       "    }\n",
       "\n",
       "    .dataframe tbody tr th {\n",
       "        vertical-align: top;\n",
       "    }\n",
       "\n",
       "    .dataframe thead th {\n",
       "        text-align: right;\n",
       "    }\n",
       "</style>\n",
       "<table border=\"1\" class=\"dataframe\">\n",
       "  <thead>\n",
       "    <tr style=\"text-align: right;\">\n",
       "      <th></th>\n",
       "      <th>SMILES</th>\n",
       "      <th>PubChem Substance ID</th>\n",
       "      <th>hERG inhibition (%) at 1uM</th>\n",
       "      <th>hERG inhibition (%) at 10uM</th>\n",
       "      <th>class</th>\n",
       "    </tr>\n",
       "  </thead>\n",
       "  <tbody>\n",
       "    <tr>\n",
       "      <th>133218</th>\n",
       "      <td>CCOC(=O)N1CCC(CC1)NCCNC(=O)C2=CC=CC=C2Cl</td>\n",
       "      <td>842134</td>\n",
       "      <td>11.0704</td>\n",
       "      <td>8.65188</td>\n",
       "      <td>0</td>\n",
       "    </tr>\n",
       "    <tr>\n",
       "      <th>271424</th>\n",
       "      <td>CC1=CC2=C(C=C1)N=C(C(=C2)C#N)N3CCN(CC3)CC4=NN=...</td>\n",
       "      <td>842137</td>\n",
       "      <td>9.7533</td>\n",
       "      <td>3.52888</td>\n",
       "      <td>0</td>\n",
       "    </tr>\n",
       "    <tr>\n",
       "      <th>173811</th>\n",
       "      <td>CC1(C(=O)N(C(=O)N1)CC(COC2CCCCC2)O)C</td>\n",
       "      <td>842138</td>\n",
       "      <td>6.0320</td>\n",
       "      <td>8.64368</td>\n",
       "      <td>0</td>\n",
       "    </tr>\n",
       "    <tr>\n",
       "      <th>18963</th>\n",
       "      <td>C1CC1C2=CC=[N+](C=C2)[O-]</td>\n",
       "      <td>842139</td>\n",
       "      <td>8.6582</td>\n",
       "      <td>7.12878</td>\n",
       "      <td>0</td>\n",
       "    </tr>\n",
       "    <tr>\n",
       "      <th>70960</th>\n",
       "      <td>COC1=CC=C(C=C1)C(=O)NC2=NN=C(S2)C(F)(F)F</td>\n",
       "      <td>842140</td>\n",
       "      <td>58.0609</td>\n",
       "      <td>68.65378</td>\n",
       "      <td>1</td>\n",
       "    </tr>\n",
       "    <tr>\n",
       "      <th>...</th>\n",
       "      <td>...</td>\n",
       "      <td>...</td>\n",
       "      <td>...</td>\n",
       "      <td>...</td>\n",
       "      <td>...</td>\n",
       "    </tr>\n",
       "    <tr>\n",
       "      <th>306458</th>\n",
       "      <td>C[C@H]1[C@@H]([C@H]([C@H]([C@@H](O1)O[C@@H]2[C...</td>\n",
       "      <td>85149172</td>\n",
       "      <td>14.6462</td>\n",
       "      <td>23.14528</td>\n",
       "      <td>0</td>\n",
       "    </tr>\n",
       "    <tr>\n",
       "      <th>60971</th>\n",
       "      <td>C[C@H]1[C@@H]([C@H]([C@H]([C@@H](O1)O[C@H]2[C@...</td>\n",
       "      <td>85149177</td>\n",
       "      <td>10.6273</td>\n",
       "      <td>16.26908</td>\n",
       "      <td>0</td>\n",
       "    </tr>\n",
       "    <tr>\n",
       "      <th>183729</th>\n",
       "      <td>CC1(C=CC2=C(O1)C=CC3=C2OC[C@@H](C3)C4=C(C=C(C=...</td>\n",
       "      <td>85149178</td>\n",
       "      <td>11.5510</td>\n",
       "      <td>17.66578</td>\n",
       "      <td>0</td>\n",
       "    </tr>\n",
       "    <tr>\n",
       "      <th>60965</th>\n",
       "      <td>C1=CC(=CC=C1C2=C(C(=O)C3=C(C=C(C=C3O2)O)O)O[C@...</td>\n",
       "      <td>85149179</td>\n",
       "      <td>14.0645</td>\n",
       "      <td>15.93398</td>\n",
       "      <td>0</td>\n",
       "    </tr>\n",
       "    <tr>\n",
       "      <th>183767</th>\n",
       "      <td>C[C@H]1CC(=O)[C@H]2[C@@H]1[C@@H](OC=C2C(=O)OC)...</td>\n",
       "      <td>85149185</td>\n",
       "      <td>9.7399</td>\n",
       "      <td>23.29218</td>\n",
       "      <td>0</td>\n",
       "    </tr>\n",
       "  </tbody>\n",
       "</table>\n",
       "<p>162007 rows × 5 columns</p>\n",
       "</div>"
      ],
      "text/plain": [
       "                                                   SMILES  \\\n",
       "133218           CCOC(=O)N1CCC(CC1)NCCNC(=O)C2=CC=CC=C2Cl   \n",
       "271424  CC1=CC2=C(C=C1)N=C(C(=C2)C#N)N3CCN(CC3)CC4=NN=...   \n",
       "173811               CC1(C(=O)N(C(=O)N1)CC(COC2CCCCC2)O)C   \n",
       "18963                           C1CC1C2=CC=[N+](C=C2)[O-]   \n",
       "70960            COC1=CC=C(C=C1)C(=O)NC2=NN=C(S2)C(F)(F)F   \n",
       "...                                                   ...   \n",
       "306458  C[C@H]1[C@@H]([C@H]([C@H]([C@@H](O1)O[C@@H]2[C...   \n",
       "60971   C[C@H]1[C@@H]([C@H]([C@H]([C@@H](O1)O[C@H]2[C@...   \n",
       "183729  CC1(C=CC2=C(O1)C=CC3=C2OC[C@@H](C3)C4=C(C=C(C=...   \n",
       "60965   C1=CC(=CC=C1C2=C(C(=O)C3=C(C=C(C=C3O2)O)O)O[C@...   \n",
       "183767  C[C@H]1CC(=O)[C@H]2[C@@H]1[C@@H](OC=C2C(=O)OC)...   \n",
       "\n",
       "        PubChem Substance ID  hERG inhibition (%) at 1uM  \\\n",
       "133218                842134                     11.0704   \n",
       "271424                842137                      9.7533   \n",
       "173811                842138                      6.0320   \n",
       "18963                 842139                      8.6582   \n",
       "70960                 842140                     58.0609   \n",
       "...                      ...                         ...   \n",
       "306458              85149172                     14.6462   \n",
       "60971               85149177                     10.6273   \n",
       "183729              85149178                     11.5510   \n",
       "60965               85149179                     14.0645   \n",
       "183767              85149185                      9.7399   \n",
       "\n",
       "        hERG inhibition (%) at 10uM  class  \n",
       "133218                      8.65188      0  \n",
       "271424                      3.52888      0  \n",
       "173811                      8.64368      0  \n",
       "18963                       7.12878      0  \n",
       "70960                      68.65378      1  \n",
       "...                             ...    ...  \n",
       "306458                     23.14528      0  \n",
       "60971                      16.26908      0  \n",
       "183729                     17.66578      0  \n",
       "60965                      15.93398      0  \n",
       "183767                     23.29218      0  \n",
       "\n",
       "[162007 rows x 5 columns]"
      ]
     },
     "execution_count": 17,
     "metadata": {},
     "output_type": "execute_result"
    }
   ],
   "source": [
    "df = df.sort_values('PubChem Substance ID')\n",
    "df"
   ]
  },
  {
   "cell_type": "code",
   "execution_count": 18,
   "metadata": {},
   "outputs": [
    {
     "data": {
      "text/html": [
       "<div>\n",
       "<style scoped>\n",
       "    .dataframe tbody tr th:only-of-type {\n",
       "        vertical-align: middle;\n",
       "    }\n",
       "\n",
       "    .dataframe tbody tr th {\n",
       "        vertical-align: top;\n",
       "    }\n",
       "\n",
       "    .dataframe thead th {\n",
       "        text-align: right;\n",
       "    }\n",
       "</style>\n",
       "<table border=\"1\" class=\"dataframe\">\n",
       "  <thead>\n",
       "    <tr style=\"text-align: right;\">\n",
       "      <th></th>\n",
       "      <th>SMILES</th>\n",
       "      <th>PubChem Substance ID</th>\n",
       "      <th>hERG inhibition (%) at 1uM</th>\n",
       "      <th>hERG inhibition (%) at 10uM</th>\n",
       "      <th>class</th>\n",
       "    </tr>\n",
       "  </thead>\n",
       "  <tbody>\n",
       "    <tr>\n",
       "      <th>0</th>\n",
       "      <td>CCOC(=O)N1CCC(CC1)NCCNC(=O)C2=CC=CC=C2Cl</td>\n",
       "      <td>842134</td>\n",
       "      <td>11.0704</td>\n",
       "      <td>8.65188</td>\n",
       "      <td>0</td>\n",
       "    </tr>\n",
       "    <tr>\n",
       "      <th>1</th>\n",
       "      <td>CC1=CC2=C(C=C1)N=C(C(=C2)C#N)N3CCN(CC3)CC4=NN=...</td>\n",
       "      <td>842137</td>\n",
       "      <td>9.7533</td>\n",
       "      <td>3.52888</td>\n",
       "      <td>0</td>\n",
       "    </tr>\n",
       "    <tr>\n",
       "      <th>2</th>\n",
       "      <td>CC1(C(=O)N(C(=O)N1)CC(COC2CCCCC2)O)C</td>\n",
       "      <td>842138</td>\n",
       "      <td>6.0320</td>\n",
       "      <td>8.64368</td>\n",
       "      <td>0</td>\n",
       "    </tr>\n",
       "    <tr>\n",
       "      <th>3</th>\n",
       "      <td>C1CC1C2=CC=[N+](C=C2)[O-]</td>\n",
       "      <td>842139</td>\n",
       "      <td>8.6582</td>\n",
       "      <td>7.12878</td>\n",
       "      <td>0</td>\n",
       "    </tr>\n",
       "    <tr>\n",
       "      <th>4</th>\n",
       "      <td>COC1=CC=C(C=C1)C(=O)NC2=NN=C(S2)C(F)(F)F</td>\n",
       "      <td>842140</td>\n",
       "      <td>58.0609</td>\n",
       "      <td>68.65378</td>\n",
       "      <td>1</td>\n",
       "    </tr>\n",
       "    <tr>\n",
       "      <th>...</th>\n",
       "      <td>...</td>\n",
       "      <td>...</td>\n",
       "      <td>...</td>\n",
       "      <td>...</td>\n",
       "      <td>...</td>\n",
       "    </tr>\n",
       "    <tr>\n",
       "      <th>162002</th>\n",
       "      <td>C[C@H]1[C@@H]([C@H]([C@H]([C@@H](O1)O[C@@H]2[C...</td>\n",
       "      <td>85149172</td>\n",
       "      <td>14.6462</td>\n",
       "      <td>23.14528</td>\n",
       "      <td>0</td>\n",
       "    </tr>\n",
       "    <tr>\n",
       "      <th>162003</th>\n",
       "      <td>C[C@H]1[C@@H]([C@H]([C@H]([C@@H](O1)O[C@H]2[C@...</td>\n",
       "      <td>85149177</td>\n",
       "      <td>10.6273</td>\n",
       "      <td>16.26908</td>\n",
       "      <td>0</td>\n",
       "    </tr>\n",
       "    <tr>\n",
       "      <th>162004</th>\n",
       "      <td>CC1(C=CC2=C(O1)C=CC3=C2OC[C@@H](C3)C4=C(C=C(C=...</td>\n",
       "      <td>85149178</td>\n",
       "      <td>11.5510</td>\n",
       "      <td>17.66578</td>\n",
       "      <td>0</td>\n",
       "    </tr>\n",
       "    <tr>\n",
       "      <th>162005</th>\n",
       "      <td>C1=CC(=CC=C1C2=C(C(=O)C3=C(C=C(C=C3O2)O)O)O[C@...</td>\n",
       "      <td>85149179</td>\n",
       "      <td>14.0645</td>\n",
       "      <td>15.93398</td>\n",
       "      <td>0</td>\n",
       "    </tr>\n",
       "    <tr>\n",
       "      <th>162006</th>\n",
       "      <td>C[C@H]1CC(=O)[C@H]2[C@@H]1[C@@H](OC=C2C(=O)OC)...</td>\n",
       "      <td>85149185</td>\n",
       "      <td>9.7399</td>\n",
       "      <td>23.29218</td>\n",
       "      <td>0</td>\n",
       "    </tr>\n",
       "  </tbody>\n",
       "</table>\n",
       "<p>162007 rows × 5 columns</p>\n",
       "</div>"
      ],
      "text/plain": [
       "                                                   SMILES  \\\n",
       "0                CCOC(=O)N1CCC(CC1)NCCNC(=O)C2=CC=CC=C2Cl   \n",
       "1       CC1=CC2=C(C=C1)N=C(C(=C2)C#N)N3CCN(CC3)CC4=NN=...   \n",
       "2                    CC1(C(=O)N(C(=O)N1)CC(COC2CCCCC2)O)C   \n",
       "3                               C1CC1C2=CC=[N+](C=C2)[O-]   \n",
       "4                COC1=CC=C(C=C1)C(=O)NC2=NN=C(S2)C(F)(F)F   \n",
       "...                                                   ...   \n",
       "162002  C[C@H]1[C@@H]([C@H]([C@H]([C@@H](O1)O[C@@H]2[C...   \n",
       "162003  C[C@H]1[C@@H]([C@H]([C@H]([C@@H](O1)O[C@H]2[C@...   \n",
       "162004  CC1(C=CC2=C(O1)C=CC3=C2OC[C@@H](C3)C4=C(C=C(C=...   \n",
       "162005  C1=CC(=CC=C1C2=C(C(=O)C3=C(C=C(C=C3O2)O)O)O[C@...   \n",
       "162006  C[C@H]1CC(=O)[C@H]2[C@@H]1[C@@H](OC=C2C(=O)OC)...   \n",
       "\n",
       "        PubChem Substance ID  hERG inhibition (%) at 1uM  \\\n",
       "0                     842134                     11.0704   \n",
       "1                     842137                      9.7533   \n",
       "2                     842138                      6.0320   \n",
       "3                     842139                      8.6582   \n",
       "4                     842140                     58.0609   \n",
       "...                      ...                         ...   \n",
       "162002              85149172                     14.6462   \n",
       "162003              85149177                     10.6273   \n",
       "162004              85149178                     11.5510   \n",
       "162005              85149179                     14.0645   \n",
       "162006              85149185                      9.7399   \n",
       "\n",
       "        hERG inhibition (%) at 10uM  class  \n",
       "0                           8.65188      0  \n",
       "1                           3.52888      0  \n",
       "2                           8.64368      0  \n",
       "3                           7.12878      0  \n",
       "4                          68.65378      1  \n",
       "...                             ...    ...  \n",
       "162002                     23.14528      0  \n",
       "162003                     16.26908      0  \n",
       "162004                     17.66578      0  \n",
       "162005                     15.93398      0  \n",
       "162006                     23.29218      0  \n",
       "\n",
       "[162007 rows x 5 columns]"
      ]
     },
     "execution_count": 18,
     "metadata": {},
     "output_type": "execute_result"
    }
   ],
   "source": [
    "df.reset_index(drop=True, inplace=True)\n",
    "df"
   ]
  },
  {
   "cell_type": "markdown",
   "metadata": {},
   "source": [
    "Сохраним промежуточный результат."
   ]
  },
  {
   "cell_type": "code",
   "execution_count": 19,
   "metadata": {},
   "outputs": [],
   "source": [
    "df.to_csv(\"herg_central_class.csv\", encoding='utf-8', index=False)\n",
    "df.to_csv(\"herg_centr_class.smi\", sep = \" \", encoding='utf-8', index=False)"
   ]
  },
  {
   "cell_type": "code",
   "execution_count": 20,
   "metadata": {},
   "outputs": [
    {
     "data": {
      "text/html": [
       "<div>\n",
       "<style scoped>\n",
       "    .dataframe tbody tr th:only-of-type {\n",
       "        vertical-align: middle;\n",
       "    }\n",
       "\n",
       "    .dataframe tbody tr th {\n",
       "        vertical-align: top;\n",
       "    }\n",
       "\n",
       "    .dataframe thead th {\n",
       "        text-align: right;\n",
       "    }\n",
       "</style>\n",
       "<table border=\"1\" class=\"dataframe\">\n",
       "  <thead>\n",
       "    <tr style=\"text-align: right;\">\n",
       "      <th></th>\n",
       "      <th>SMILES</th>\n",
       "      <th>PubChem Substance ID</th>\n",
       "      <th>hERG inhibition (%) at 1uM</th>\n",
       "      <th>hERG inhibition (%) at 10uM</th>\n",
       "      <th>class</th>\n",
       "    </tr>\n",
       "  </thead>\n",
       "  <tbody>\n",
       "    <tr>\n",
       "      <th>0</th>\n",
       "      <td>CCOC(=O)N1CCC(CC1)NCCNC(=O)C2=CC=CC=C2Cl</td>\n",
       "      <td>842134</td>\n",
       "      <td>11.0704</td>\n",
       "      <td>8.65188</td>\n",
       "      <td>0</td>\n",
       "    </tr>\n",
       "    <tr>\n",
       "      <th>1</th>\n",
       "      <td>CC1=CC2=C(C=C1)N=C(C(=C2)C#N)N3CCN(CC3)CC4=NN=...</td>\n",
       "      <td>842137</td>\n",
       "      <td>9.7533</td>\n",
       "      <td>3.52888</td>\n",
       "      <td>0</td>\n",
       "    </tr>\n",
       "    <tr>\n",
       "      <th>2</th>\n",
       "      <td>CC1(C(=O)N(C(=O)N1)CC(COC2CCCCC2)O)C</td>\n",
       "      <td>842138</td>\n",
       "      <td>6.0320</td>\n",
       "      <td>8.64368</td>\n",
       "      <td>0</td>\n",
       "    </tr>\n",
       "    <tr>\n",
       "      <th>3</th>\n",
       "      <td>C1CC1C2=CC=[N+](C=C2)[O-]</td>\n",
       "      <td>842139</td>\n",
       "      <td>8.6582</td>\n",
       "      <td>7.12878</td>\n",
       "      <td>0</td>\n",
       "    </tr>\n",
       "    <tr>\n",
       "      <th>4</th>\n",
       "      <td>COC1=CC=C(C=C1)C(=O)NC2=NN=C(S2)C(F)(F)F</td>\n",
       "      <td>842140</td>\n",
       "      <td>58.0609</td>\n",
       "      <td>68.65378</td>\n",
       "      <td>1</td>\n",
       "    </tr>\n",
       "    <tr>\n",
       "      <th>...</th>\n",
       "      <td>...</td>\n",
       "      <td>...</td>\n",
       "      <td>...</td>\n",
       "      <td>...</td>\n",
       "      <td>...</td>\n",
       "    </tr>\n",
       "    <tr>\n",
       "      <th>162002</th>\n",
       "      <td>C[C@H]1[C@@H]([C@H]([C@H]([C@@H](O1)O[C@@H]2[C...</td>\n",
       "      <td>85149172</td>\n",
       "      <td>14.6462</td>\n",
       "      <td>23.14528</td>\n",
       "      <td>0</td>\n",
       "    </tr>\n",
       "    <tr>\n",
       "      <th>162003</th>\n",
       "      <td>C[C@H]1[C@@H]([C@H]([C@H]([C@@H](O1)O[C@H]2[C@...</td>\n",
       "      <td>85149177</td>\n",
       "      <td>10.6273</td>\n",
       "      <td>16.26908</td>\n",
       "      <td>0</td>\n",
       "    </tr>\n",
       "    <tr>\n",
       "      <th>162004</th>\n",
       "      <td>CC1(C=CC2=C(O1)C=CC3=C2OC[C@@H](C3)C4=C(C=C(C=...</td>\n",
       "      <td>85149178</td>\n",
       "      <td>11.5510</td>\n",
       "      <td>17.66578</td>\n",
       "      <td>0</td>\n",
       "    </tr>\n",
       "    <tr>\n",
       "      <th>162005</th>\n",
       "      <td>C1=CC(=CC=C1C2=C(C(=O)C3=C(C=C(C=C3O2)O)O)O[C@...</td>\n",
       "      <td>85149179</td>\n",
       "      <td>14.0645</td>\n",
       "      <td>15.93398</td>\n",
       "      <td>0</td>\n",
       "    </tr>\n",
       "    <tr>\n",
       "      <th>162006</th>\n",
       "      <td>C[C@H]1CC(=O)[C@H]2[C@@H]1[C@@H](OC=C2C(=O)OC)...</td>\n",
       "      <td>85149185</td>\n",
       "      <td>9.7399</td>\n",
       "      <td>23.29218</td>\n",
       "      <td>0</td>\n",
       "    </tr>\n",
       "  </tbody>\n",
       "</table>\n",
       "<p>162007 rows × 5 columns</p>\n",
       "</div>"
      ],
      "text/plain": [
       "                                                   SMILES  \\\n",
       "0                CCOC(=O)N1CCC(CC1)NCCNC(=O)C2=CC=CC=C2Cl   \n",
       "1       CC1=CC2=C(C=C1)N=C(C(=C2)C#N)N3CCN(CC3)CC4=NN=...   \n",
       "2                    CC1(C(=O)N(C(=O)N1)CC(COC2CCCCC2)O)C   \n",
       "3                               C1CC1C2=CC=[N+](C=C2)[O-]   \n",
       "4                COC1=CC=C(C=C1)C(=O)NC2=NN=C(S2)C(F)(F)F   \n",
       "...                                                   ...   \n",
       "162002  C[C@H]1[C@@H]([C@H]([C@H]([C@@H](O1)O[C@@H]2[C...   \n",
       "162003  C[C@H]1[C@@H]([C@H]([C@H]([C@@H](O1)O[C@H]2[C@...   \n",
       "162004  CC1(C=CC2=C(O1)C=CC3=C2OC[C@@H](C3)C4=C(C=C(C=...   \n",
       "162005  C1=CC(=CC=C1C2=C(C(=O)C3=C(C=C(C=C3O2)O)O)O[C@...   \n",
       "162006  C[C@H]1CC(=O)[C@H]2[C@@H]1[C@@H](OC=C2C(=O)OC)...   \n",
       "\n",
       "        PubChem Substance ID  hERG inhibition (%) at 1uM  \\\n",
       "0                     842134                     11.0704   \n",
       "1                     842137                      9.7533   \n",
       "2                     842138                      6.0320   \n",
       "3                     842139                      8.6582   \n",
       "4                     842140                     58.0609   \n",
       "...                      ...                         ...   \n",
       "162002              85149172                     14.6462   \n",
       "162003              85149177                     10.6273   \n",
       "162004              85149178                     11.5510   \n",
       "162005              85149179                     14.0645   \n",
       "162006              85149185                      9.7399   \n",
       "\n",
       "        hERG inhibition (%) at 10uM  class  \n",
       "0                           8.65188      0  \n",
       "1                           3.52888      0  \n",
       "2                           8.64368      0  \n",
       "3                           7.12878      0  \n",
       "4                          68.65378      1  \n",
       "...                             ...    ...  \n",
       "162002                     23.14528      0  \n",
       "162003                     16.26908      0  \n",
       "162004                     17.66578      0  \n",
       "162005                     15.93398      0  \n",
       "162006                     23.29218      0  \n",
       "\n",
       "[162007 rows x 5 columns]"
      ]
     },
     "execution_count": 20,
     "metadata": {},
     "output_type": "execute_result"
    }
   ],
   "source": [
    "df = pd.read_table('herg_central_class.csv', sep = \",\", engine='python')\n",
    "df"
   ]
  },
  {
   "cell_type": "code",
   "execution_count": 21,
   "metadata": {},
   "outputs": [],
   "source": [
    "def standardize_smiles(df):\n",
    "    logs = 0\n",
    "    mols = []\n",
    "    for i in tqdm(df[\"SMILES\"]):    \n",
    "        mol = Chem.MolFromSmiles(i)\n",
    "        if mol is not None:\n",
    "            mols.append(mol)\n",
    "        else:\n",
    "            logs+=1\n",
    "            print(i)\n",
    "    print(f\"Errors: {logs}\")\n",
    "    df[\"ROMol\"] = mols\n",
    "    return df"
   ]
  },
  {
   "cell_type": "code",
   "execution_count": 22,
   "metadata": {},
   "outputs": [
    {
     "name": "stderr",
     "output_type": "stream",
     "text": [
      "100%|████████████████████████████████████████████████████████████████████████| 162007/162007 [00:32<00:00, 4952.06it/s]\n"
     ]
    },
    {
     "name": "stdout",
     "output_type": "stream",
     "text": [
      "Errors: 0\n"
     ]
    }
   ],
   "source": [
    "df_mol = standardize_smiles(df)"
   ]
  },
  {
   "cell_type": "code",
   "execution_count": 23,
   "metadata": {},
   "outputs": [
    {
     "data": {
      "text/html": [
       "<div>\n",
       "<style scoped>\n",
       "    .dataframe tbody tr th:only-of-type {\n",
       "        vertical-align: middle;\n",
       "    }\n",
       "\n",
       "    .dataframe tbody tr th {\n",
       "        vertical-align: top;\n",
       "    }\n",
       "\n",
       "    .dataframe thead th {\n",
       "        text-align: right;\n",
       "    }\n",
       "</style>\n",
       "<table border=\"1\" class=\"dataframe\">\n",
       "  <thead>\n",
       "    <tr style=\"text-align: right;\">\n",
       "      <th></th>\n",
       "      <th>SMILES</th>\n",
       "      <th>PubChem Substance ID</th>\n",
       "      <th>hERG inhibition (%) at 1uM</th>\n",
       "      <th>hERG inhibition (%) at 10uM</th>\n",
       "      <th>class</th>\n",
       "      <th>ROMol</th>\n",
       "    </tr>\n",
       "  </thead>\n",
       "  <tbody>\n",
       "    <tr>\n",
       "      <th>0</th>\n",
       "      <td>CCOC(=O)N1CCC(CC1)NCCNC(=O)C2=CC=CC=C2Cl</td>\n",
       "      <td>842134</td>\n",
       "      <td>11.0704</td>\n",
       "      <td>8.65188</td>\n",
       "      <td>0</td>\n",
       "      <td>&lt;img data-content=\"rdkit/molecule\" src=\"data:i...</td>\n",
       "    </tr>\n",
       "    <tr>\n",
       "      <th>1</th>\n",
       "      <td>CC1=CC2=C(C=C1)N=C(C(=C2)C#N)N3CCN(CC3)CC4=NN=...</td>\n",
       "      <td>842137</td>\n",
       "      <td>9.7533</td>\n",
       "      <td>3.52888</td>\n",
       "      <td>0</td>\n",
       "      <td>&lt;img data-content=\"rdkit/molecule\" src=\"data:i...</td>\n",
       "    </tr>\n",
       "    <tr>\n",
       "      <th>2</th>\n",
       "      <td>CC1(C(=O)N(C(=O)N1)CC(COC2CCCCC2)O)C</td>\n",
       "      <td>842138</td>\n",
       "      <td>6.0320</td>\n",
       "      <td>8.64368</td>\n",
       "      <td>0</td>\n",
       "      <td>&lt;img data-content=\"rdkit/molecule\" src=\"data:i...</td>\n",
       "    </tr>\n",
       "    <tr>\n",
       "      <th>3</th>\n",
       "      <td>C1CC1C2=CC=[N+](C=C2)[O-]</td>\n",
       "      <td>842139</td>\n",
       "      <td>8.6582</td>\n",
       "      <td>7.12878</td>\n",
       "      <td>0</td>\n",
       "      <td>&lt;img data-content=\"rdkit/molecule\" src=\"data:i...</td>\n",
       "    </tr>\n",
       "    <tr>\n",
       "      <th>4</th>\n",
       "      <td>COC1=CC=C(C=C1)C(=O)NC2=NN=C(S2)C(F)(F)F</td>\n",
       "      <td>842140</td>\n",
       "      <td>58.0609</td>\n",
       "      <td>68.65378</td>\n",
       "      <td>1</td>\n",
       "      <td>&lt;img data-content=\"rdkit/molecule\" src=\"data:i...</td>\n",
       "    </tr>\n",
       "    <tr>\n",
       "      <th>...</th>\n",
       "      <td>...</td>\n",
       "      <td>...</td>\n",
       "      <td>...</td>\n",
       "      <td>...</td>\n",
       "      <td>...</td>\n",
       "      <td>...</td>\n",
       "    </tr>\n",
       "    <tr>\n",
       "      <th>162002</th>\n",
       "      <td>C[C@H]1[C@@H]([C@H]([C@H]([C@@H](O1)O[C@@H]2[C...</td>\n",
       "      <td>85149172</td>\n",
       "      <td>14.6462</td>\n",
       "      <td>23.14528</td>\n",
       "      <td>0</td>\n",
       "      <td>&lt;img data-content=\"rdkit/molecule\" src=\"data:i...</td>\n",
       "    </tr>\n",
       "    <tr>\n",
       "      <th>162003</th>\n",
       "      <td>C[C@H]1[C@@H]([C@H]([C@H]([C@@H](O1)O[C@H]2[C@...</td>\n",
       "      <td>85149177</td>\n",
       "      <td>10.6273</td>\n",
       "      <td>16.26908</td>\n",
       "      <td>0</td>\n",
       "      <td>&lt;img data-content=\"rdkit/molecule\" src=\"data:i...</td>\n",
       "    </tr>\n",
       "    <tr>\n",
       "      <th>162004</th>\n",
       "      <td>CC1(C=CC2=C(O1)C=CC3=C2OC[C@@H](C3)C4=C(C=C(C=...</td>\n",
       "      <td>85149178</td>\n",
       "      <td>11.5510</td>\n",
       "      <td>17.66578</td>\n",
       "      <td>0</td>\n",
       "      <td>&lt;img data-content=\"rdkit/molecule\" src=\"data:i...</td>\n",
       "    </tr>\n",
       "    <tr>\n",
       "      <th>162005</th>\n",
       "      <td>C1=CC(=CC=C1C2=C(C(=O)C3=C(C=C(C=C3O2)O)O)O[C@...</td>\n",
       "      <td>85149179</td>\n",
       "      <td>14.0645</td>\n",
       "      <td>15.93398</td>\n",
       "      <td>0</td>\n",
       "      <td>&lt;img data-content=\"rdkit/molecule\" src=\"data:i...</td>\n",
       "    </tr>\n",
       "    <tr>\n",
       "      <th>162006</th>\n",
       "      <td>C[C@H]1CC(=O)[C@H]2[C@@H]1[C@@H](OC=C2C(=O)OC)...</td>\n",
       "      <td>85149185</td>\n",
       "      <td>9.7399</td>\n",
       "      <td>23.29218</td>\n",
       "      <td>0</td>\n",
       "      <td>&lt;img data-content=\"rdkit/molecule\" src=\"data:i...</td>\n",
       "    </tr>\n",
       "  </tbody>\n",
       "</table>\n",
       "<p>162007 rows × 6 columns</p>\n",
       "</div>"
      ],
      "text/plain": [
       "                                                   SMILES  \\\n",
       "0                CCOC(=O)N1CCC(CC1)NCCNC(=O)C2=CC=CC=C2Cl   \n",
       "1       CC1=CC2=C(C=C1)N=C(C(=C2)C#N)N3CCN(CC3)CC4=NN=...   \n",
       "2                    CC1(C(=O)N(C(=O)N1)CC(COC2CCCCC2)O)C   \n",
       "3                               C1CC1C2=CC=[N+](C=C2)[O-]   \n",
       "4                COC1=CC=C(C=C1)C(=O)NC2=NN=C(S2)C(F)(F)F   \n",
       "...                                                   ...   \n",
       "162002  C[C@H]1[C@@H]([C@H]([C@H]([C@@H](O1)O[C@@H]2[C...   \n",
       "162003  C[C@H]1[C@@H]([C@H]([C@H]([C@@H](O1)O[C@H]2[C@...   \n",
       "162004  CC1(C=CC2=C(O1)C=CC3=C2OC[C@@H](C3)C4=C(C=C(C=...   \n",
       "162005  C1=CC(=CC=C1C2=C(C(=O)C3=C(C=C(C=C3O2)O)O)O[C@...   \n",
       "162006  C[C@H]1CC(=O)[C@H]2[C@@H]1[C@@H](OC=C2C(=O)OC)...   \n",
       "\n",
       "        PubChem Substance ID  hERG inhibition (%) at 1uM  \\\n",
       "0                     842134                     11.0704   \n",
       "1                     842137                      9.7533   \n",
       "2                     842138                      6.0320   \n",
       "3                     842139                      8.6582   \n",
       "4                     842140                     58.0609   \n",
       "...                      ...                         ...   \n",
       "162002              85149172                     14.6462   \n",
       "162003              85149177                     10.6273   \n",
       "162004              85149178                     11.5510   \n",
       "162005              85149179                     14.0645   \n",
       "162006              85149185                      9.7399   \n",
       "\n",
       "        hERG inhibition (%) at 10uM  class  \\\n",
       "0                           8.65188      0   \n",
       "1                           3.52888      0   \n",
       "2                           8.64368      0   \n",
       "3                           7.12878      0   \n",
       "4                          68.65378      1   \n",
       "...                             ...    ...   \n",
       "162002                     23.14528      0   \n",
       "162003                     16.26908      0   \n",
       "162004                     17.66578      0   \n",
       "162005                     15.93398      0   \n",
       "162006                     23.29218      0   \n",
       "\n",
       "                                                    ROMol  \n",
       "0       <img data-content=\"rdkit/molecule\" src=\"data:i...  \n",
       "1       <img data-content=\"rdkit/molecule\" src=\"data:i...  \n",
       "2       <img data-content=\"rdkit/molecule\" src=\"data:i...  \n",
       "3       <img data-content=\"rdkit/molecule\" src=\"data:i...  \n",
       "4       <img data-content=\"rdkit/molecule\" src=\"data:i...  \n",
       "...                                                   ...  \n",
       "162002  <img data-content=\"rdkit/molecule\" src=\"data:i...  \n",
       "162003  <img data-content=\"rdkit/molecule\" src=\"data:i...  \n",
       "162004  <img data-content=\"rdkit/molecule\" src=\"data:i...  \n",
       "162005  <img data-content=\"rdkit/molecule\" src=\"data:i...  \n",
       "162006  <img data-content=\"rdkit/molecule\" src=\"data:i...  \n",
       "\n",
       "[162007 rows x 6 columns]"
      ]
     },
     "execution_count": 23,
     "metadata": {},
     "output_type": "execute_result"
    }
   ],
   "source": [
    "df_mol"
   ]
  },
  {
   "cell_type": "markdown",
   "metadata": {},
   "source": [
    "Также посмотрим на распределение данных по % ингибирования (значение активности) и по молекулярной массе"
   ]
  },
  {
   "cell_type": "code",
   "execution_count": 36,
   "metadata": {},
   "outputs": [],
   "source": [
    "def plot_pIC50(df1, name, value):\n",
    "    # функция для построения распределения по значению pIC50\n",
    "    c,me,std,mi,procent1, procent2, procent3, ma = df1[value].describe().round(4)\n",
    "    n, bins, patches = plt.hist(df1[value], 50, density=False, alpha=0.9)\n",
    "\n",
    "    plt.xlabel(value)\n",
    "    plt.ylabel('Number')\n",
    "    plt.title(f'{name}')\n",
    "    plt.xlim(0, np.max(df1[value]))\n",
    "    plt.annotate(f'count={c}\\nmean={me}\\nstd={std}\\nmin={mi}\\n25%={procent1}\\n50%={procent2}\\n75%={procent3}\\nmax={ma}', xy=(np.max(df1[value])/2, np.max(n)/3))\n",
    "    # plt.ylim(0, 1)\n",
    "    plt.grid(True)\n",
    "    plt.show()"
   ]
  },
  {
   "cell_type": "code",
   "execution_count": 30,
   "metadata": {},
   "outputs": [
    {
     "data": {
      "image/png": "[encoded data removed]",
      "text/plain": [
       "<Figure size 432x288 with 1 Axes>"
      ]
     },
     "metadata": {
      "needs_background": "light"
     },
     "output_type": "display_data"
    }
   ],
   "source": [
    "plot_pIC50(df, name='df', value ='hERG inhibition (%) at 10uM')"
   ]
  },
  {
   "cell_type": "markdown",
   "metadata": {},
   "source": [
    "Возьмем логарифм от активности и посмотим график заново:"
   ]
  },
  {
   "cell_type": "code",
   "execution_count": 31,
   "metadata": {},
   "outputs": [],
   "source": [
    "def calculate_pIC50(i):\n",
    "    p = -np.log10(i/1000000000)\n",
    "    return p"
   ]
  },
  {
   "cell_type": "code",
   "execution_count": 32,
   "metadata": {},
   "outputs": [],
   "source": [
    "df[\"p_activity\"] = df['hERG inhibition (%) at 10uM'].apply(calculate_pIC50)"
   ]
  },
  {
   "cell_type": "code",
   "execution_count": 33,
   "metadata": {},
   "outputs": [
    {
     "data": {
      "image/png": "[encoded data removed]",
      "text/plain": [
       "<Figure size 432x288 with 1 Axes>"
      ]
     },
     "metadata": {
      "needs_background": "light"
     },
     "output_type": "display_data"
    }
   ],
   "source": [
    "plot_pIC50(df, name='df hERG_central', value ='p_activity')"
   ]
  },
  {
   "cell_type": "code",
   "execution_count": 34,
   "metadata": {},
   "outputs": [],
   "source": [
    "df[\"MW\"] = [Chem.Descriptors.MolWt(Chem.MolFromSmiles(m)) for m in df[\"SMILES\"]] "
   ]
  },
  {
   "cell_type": "code",
   "execution_count": 37,
   "metadata": {},
   "outputs": [
    {
     "data": {
      "image/png": "[encoded data removed]",
      "text/plain": [
       "<Figure size 432x288 with 1 Axes>"
      ]
     },
     "metadata": {
      "needs_background": "light"
     },
     "output_type": "display_data"
    }
   ],
   "source": [
    "plot_pIC50(df, name='df hERG_central', value ='MW')"
   ]
  },
  {
   "cell_type": "code",
   "execution_count": 38,
   "metadata": {},
   "outputs": [],
   "source": [
    "#df = df[df['MW'] > 150]"
   ]
  },
  {
   "cell_type": "code",
   "execution_count": 39,
   "metadata": {},
   "outputs": [],
   "source": [
    "#df"
   ]
  },
  {
   "cell_type": "code",
   "execution_count": 91,
   "metadata": {},
   "outputs": [],
   "source": [
    "def calc_morgan(mols):\n",
    "    \"\"\" генерация молекулярных отпечатков по методу Моргана с радиусом 3\n",
    "    \"\"\"\n",
    "    #t0 = time.time()\n",
    "    for_df = []\n",
    "    i=0\n",
    "    for m in tqdm(mols):\n",
    "        i+=1\n",
    "        #t1 = time.time()\n",
    "        #print(\"Processing compound {} ({}%)\".format(i, 100*i//len(mols)), end=\"\")\n",
    "        arr = zeros((1,), dtype=int)\n",
    "        DataStructs.ConvertToNumpyArray(AllChem.GetMorganFingerprintAsBitVect(m, 4, 512), arr)\n",
    "        for_df.append(arr)\n",
    "        #t2 = time.time()\n",
    "        #print(\" {}s (total: {}s)\".format(t2-t1, t2-t0))\n",
    "    return DataFrame(for_df)"
   ]
  },
  {
   "cell_type": "code",
   "execution_count": 92,
   "metadata": {},
   "outputs": [
    {
     "name": "stderr",
     "output_type": "stream",
     "text": [
      "100%|████████████████████████████████████████████████████████████████████████| 162007/162007 [00:27<00:00, 5869.33it/s]\n"
     ]
    }
   ],
   "source": [
    "fp_mg = calc_morgan(df[\"ROMol\"])"
   ]
  },
  {
   "cell_type": "code",
   "execution_count": 94,
   "metadata": {},
   "outputs": [
    {
     "data": {
      "text/plain": [
       "162007"
      ]
     },
     "execution_count": 94,
     "metadata": {},
     "output_type": "execute_result"
    }
   ],
   "source": [
    "len(fp_mg)"
   ]
  },
  {
   "cell_type": "code",
   "execution_count": 99,
   "metadata": {},
   "outputs": [
    {
     "name": "stderr",
     "output_type": "stream",
     "text": [
      "100%|████████████████████████████████████████████████████████████████████████| 162007/162007 [00:24<00:00, 6595.78it/s]\n"
     ]
    }
   ],
   "source": [
    "fp_mg2_bin = [AllChem.GetMorganFingerprintAsBitVect(m, 4, nBits=512) for m in tqdm(df[\"ROMol\"])]"
   ]
  },
  {
   "cell_type": "code",
   "execution_count": 101,
   "metadata": {},
   "outputs": [
    {
     "data": {
      "text/plain": [
       "162007"
      ]
     },
     "execution_count": 101,
     "metadata": {},
     "output_type": "execute_result"
    }
   ],
   "source": [
    "len(fp_mg2_bin)"
   ]
  },
  {
   "cell_type": "markdown",
   "metadata": {},
   "source": [
    "Рассчитаем значения Танимото индексов каждого соединения с каждым. А далее запишем только максимальные попраные значения индексов Танимото."
   ]
  },
  {
   "cell_type": "code",
   "execution_count": 111,
   "metadata": {},
   "outputs": [],
   "source": [
    "def calculate_tanimoto_matrix_inside(fp_mg2_bin_test):\n",
    "# Помимо работы calculate_tanimoto_matrix, данная функция также обнуляет значения по диагонали (они нам не интересны, это индекс Танимото соединения самого с собой, равен 1.0), а также расчитывает и выводит время расчетов (актуально для больших датасетов)\n",
    "    #df = pd.DataFrame(index=range(1),columns=range(len(fp_mg2_bin_test)))\n",
    "    #t0 = time.time()\n",
    "    idxs = []\n",
    "    reses = []\n",
    "    for idx in tqdm(range(len(fp_mg2_bin_test))):\n",
    "        #t1 = time.time()\n",
    "        #print(\"Processing compound {} ({}%)\".format(idx, 100*idx//len(fp_mg2_bin_test)), end=\"\")\n",
    "        tanimoto_mg2_bin = DataStructs.BulkTanimotoSimilarity(fp_mg2_bin_test[idx], [fp for i, fp in enumerate(fp_mg2_bin_test)])\n",
    "        del tanimoto_mg2_bin[idx]\n",
    "        res = np.max(tanimoto_mg2_bin)\n",
    "        idx = np.argmax(tanimoto_mg2_bin)\n",
    "        reses.append(res)\n",
    "        idxs.append(idx)\n",
    "        #df_length = len(df)\n",
    "        #df.loc[df_length] = tanimoto_mg2_bin\n",
    "        #t2 = time.time()\n",
    "        #print(\" {}s (total: {}s)\".format(t2-t1, t2-t0))\n",
    "    #df = df.iloc[1: , :]\n",
    "    #df1 = df.where(df.values != np.diag(df),0,df.where(df.values != np.flipud(df).diagonal(0),0,inplace=True))\n",
    "    return (reses, idxs)"
   ]
  },
  {
   "cell_type": "code",
   "execution_count": 112,
   "metadata": {},
   "outputs": [
    {
     "name": "stderr",
     "output_type": "stream",
     "text": [
      "100%|████████████████████████████████████████████████████████████████████████| 162007/162007 [3:27:17<00:00, 13.03it/s]\n"
     ]
    }
   ],
   "source": [
    "reses, idxs = calculate_tanimoto_matrix_inside(fp_mg2_bin)"
   ]
  },
  {
   "cell_type": "code",
   "execution_count": 117,
   "metadata": {},
   "outputs": [],
   "source": [
    "df[\"Tan\"] = reses"
   ]
  },
  {
   "cell_type": "code",
   "execution_count": 118,
   "metadata": {},
   "outputs": [],
   "source": [
    "df[\"Tan_idxs\"] = idxs"
   ]
  },
  {
   "cell_type": "code",
   "execution_count": 124,
   "metadata": {},
   "outputs": [],
   "source": [
    "PandasTools.WriteSDF(df, 'herg_central_Tan_Matrix.sdf', molColName='ROMol', properties=list(df.columns))"
   ]
  },
  {
   "cell_type": "code",
   "execution_count": 126,
   "metadata": {},
   "outputs": [],
   "source": [
    "del df[\"ROMol\"]"
   ]
  },
  {
   "cell_type": "code",
   "execution_count": 127,
   "metadata": {},
   "outputs": [],
   "source": [
    "df.to_csv(\"herg_central_Tan_matrix.csv\", encoding='utf-8', index=False)"
   ]
  },
  {
   "cell_type": "code",
   "execution_count": 2,
   "metadata": {},
   "outputs": [
    {
     "data": {
      "text/html": [
       "<div>\n",
       "<style scoped>\n",
       "    .dataframe tbody tr th:only-of-type {\n",
       "        vertical-align: middle;\n",
       "    }\n",
       "\n",
       "    .dataframe tbody tr th {\n",
       "        vertical-align: top;\n",
       "    }\n",
       "\n",
       "    .dataframe thead th {\n",
       "        text-align: right;\n",
       "    }\n",
       "</style>\n",
       "<table border=\"1\" class=\"dataframe\">\n",
       "  <thead>\n",
       "    <tr style=\"text-align: right;\">\n",
       "      <th></th>\n",
       "      <th>SMILES</th>\n",
       "      <th>PubChem Substance ID</th>\n",
       "      <th>hERG inhibition (%) at 1uM</th>\n",
       "      <th>hERG inhibition (%) at 10uM</th>\n",
       "      <th>class</th>\n",
       "      <th>Tan</th>\n",
       "      <th>Tan_idxs</th>\n",
       "    </tr>\n",
       "  </thead>\n",
       "  <tbody>\n",
       "    <tr>\n",
       "      <th>0</th>\n",
       "      <td>CCOC(=O)N1CCC(CC1)NCCNC(=O)C2=CC=CC=C2Cl</td>\n",
       "      <td>842134</td>\n",
       "      <td>11.0704</td>\n",
       "      <td>8.65188</td>\n",
       "      <td>0</td>\n",
       "      <td>0.587500</td>\n",
       "      <td>987</td>\n",
       "    </tr>\n",
       "    <tr>\n",
       "      <th>1</th>\n",
       "      <td>CC1=CC2=C(C=C1)N=C(C(=C2)C#N)N3CCN(CC3)CC4=NN=...</td>\n",
       "      <td>842137</td>\n",
       "      <td>9.7533</td>\n",
       "      <td>3.52888</td>\n",
       "      <td>0</td>\n",
       "      <td>0.456140</td>\n",
       "      <td>26733</td>\n",
       "    </tr>\n",
       "    <tr>\n",
       "      <th>2</th>\n",
       "      <td>CC1(C(=O)N(C(=O)N1)CC(COC2CCCCC2)O)C</td>\n",
       "      <td>842138</td>\n",
       "      <td>6.0320</td>\n",
       "      <td>8.64368</td>\n",
       "      <td>0</td>\n",
       "      <td>0.508772</td>\n",
       "      <td>1504</td>\n",
       "    </tr>\n",
       "    <tr>\n",
       "      <th>3</th>\n",
       "      <td>C1CC1C2=CC=[N+](C=C2)[O-]</td>\n",
       "      <td>842139</td>\n",
       "      <td>8.6582</td>\n",
       "      <td>7.12878</td>\n",
       "      <td>0</td>\n",
       "      <td>0.255319</td>\n",
       "      <td>25468</td>\n",
       "    </tr>\n",
       "    <tr>\n",
       "      <th>4</th>\n",
       "      <td>COC1=CC=C(C=C1)C(=O)NC2=NN=C(S2)C(F)(F)F</td>\n",
       "      <td>842140</td>\n",
       "      <td>58.0609</td>\n",
       "      <td>68.65378</td>\n",
       "      <td>1</td>\n",
       "      <td>0.573529</td>\n",
       "      <td>63460</td>\n",
       "    </tr>\n",
       "    <tr>\n",
       "      <th>...</th>\n",
       "      <td>...</td>\n",
       "      <td>...</td>\n",
       "      <td>...</td>\n",
       "      <td>...</td>\n",
       "      <td>...</td>\n",
       "      <td>...</td>\n",
       "      <td>...</td>\n",
       "    </tr>\n",
       "    <tr>\n",
       "      <th>162002</th>\n",
       "      <td>C[C@H]1[C@@H]([C@H]([C@H]([C@@H](O1)O[C@@H]2[C...</td>\n",
       "      <td>85149172</td>\n",
       "      <td>14.6462</td>\n",
       "      <td>23.14528</td>\n",
       "      <td>0</td>\n",
       "      <td>0.666667</td>\n",
       "      <td>47816</td>\n",
       "    </tr>\n",
       "    <tr>\n",
       "      <th>162003</th>\n",
       "      <td>C[C@H]1[C@@H]([C@H]([C@H]([C@@H](O1)O[C@H]2[C@...</td>\n",
       "      <td>85149177</td>\n",
       "      <td>10.6273</td>\n",
       "      <td>16.26908</td>\n",
       "      <td>0</td>\n",
       "      <td>0.453608</td>\n",
       "      <td>131046</td>\n",
       "    </tr>\n",
       "    <tr>\n",
       "      <th>162004</th>\n",
       "      <td>CC1(C=CC2=C(O1)C=CC3=C2OC[C@@H](C3)C4=C(C=C(C=...</td>\n",
       "      <td>85149178</td>\n",
       "      <td>11.5510</td>\n",
       "      <td>17.66578</td>\n",
       "      <td>0</td>\n",
       "      <td>1.000000</td>\n",
       "      <td>108671</td>\n",
       "    </tr>\n",
       "    <tr>\n",
       "      <th>162005</th>\n",
       "      <td>C1=CC(=CC=C1C2=C(C(=O)C3=C(C=C(C=C3O2)O)O)O[C@...</td>\n",
       "      <td>85149179</td>\n",
       "      <td>14.0645</td>\n",
       "      <td>15.93398</td>\n",
       "      <td>0</td>\n",
       "      <td>0.723404</td>\n",
       "      <td>47816</td>\n",
       "    </tr>\n",
       "    <tr>\n",
       "      <th>162006</th>\n",
       "      <td>C[C@H]1CC(=O)[C@H]2[C@@H]1[C@@H](OC=C2C(=O)OC)...</td>\n",
       "      <td>85149185</td>\n",
       "      <td>9.7399</td>\n",
       "      <td>23.29218</td>\n",
       "      <td>0</td>\n",
       "      <td>0.542553</td>\n",
       "      <td>108786</td>\n",
       "    </tr>\n",
       "  </tbody>\n",
       "</table>\n",
       "<p>162007 rows × 7 columns</p>\n",
       "</div>"
      ],
      "text/plain": [
       "                                                   SMILES  \\\n",
       "0                CCOC(=O)N1CCC(CC1)NCCNC(=O)C2=CC=CC=C2Cl   \n",
       "1       CC1=CC2=C(C=C1)N=C(C(=C2)C#N)N3CCN(CC3)CC4=NN=...   \n",
       "2                    CC1(C(=O)N(C(=O)N1)CC(COC2CCCCC2)O)C   \n",
       "3                               C1CC1C2=CC=[N+](C=C2)[O-]   \n",
       "4                COC1=CC=C(C=C1)C(=O)NC2=NN=C(S2)C(F)(F)F   \n",
       "...                                                   ...   \n",
       "162002  C[C@H]1[C@@H]([C@H]([C@H]([C@@H](O1)O[C@@H]2[C...   \n",
       "162003  C[C@H]1[C@@H]([C@H]([C@H]([C@@H](O1)O[C@H]2[C@...   \n",
       "162004  CC1(C=CC2=C(O1)C=CC3=C2OC[C@@H](C3)C4=C(C=C(C=...   \n",
       "162005  C1=CC(=CC=C1C2=C(C(=O)C3=C(C=C(C=C3O2)O)O)O[C@...   \n",
       "162006  C[C@H]1CC(=O)[C@H]2[C@@H]1[C@@H](OC=C2C(=O)OC)...   \n",
       "\n",
       "        PubChem Substance ID  hERG inhibition (%) at 1uM  \\\n",
       "0                     842134                     11.0704   \n",
       "1                     842137                      9.7533   \n",
       "2                     842138                      6.0320   \n",
       "3                     842139                      8.6582   \n",
       "4                     842140                     58.0609   \n",
       "...                      ...                         ...   \n",
       "162002              85149172                     14.6462   \n",
       "162003              85149177                     10.6273   \n",
       "162004              85149178                     11.5510   \n",
       "162005              85149179                     14.0645   \n",
       "162006              85149185                      9.7399   \n",
       "\n",
       "        hERG inhibition (%) at 10uM  class       Tan  Tan_idxs  \n",
       "0                           8.65188      0  0.587500       987  \n",
       "1                           3.52888      0  0.456140     26733  \n",
       "2                           8.64368      0  0.508772      1504  \n",
       "3                           7.12878      0  0.255319     25468  \n",
       "4                          68.65378      1  0.573529     63460  \n",
       "...                             ...    ...       ...       ...  \n",
       "162002                     23.14528      0  0.666667     47816  \n",
       "162003                     16.26908      0  0.453608    131046  \n",
       "162004                     17.66578      0  1.000000    108671  \n",
       "162005                     15.93398      0  0.723404     47816  \n",
       "162006                     23.29218      0  0.542553    108786  \n",
       "\n",
       "[162007 rows x 7 columns]"
      ]
     },
     "execution_count": 2,
     "metadata": {},
     "output_type": "execute_result"
    }
   ],
   "source": [
    "df = pd.read_table(\"herg_central_Tan_matrix.csv\", sep = \",\", engine='python')\n",
    "df"
   ]
  },
  {
   "cell_type": "code",
   "execution_count": 4,
   "metadata": {},
   "outputs": [],
   "source": [
    "def count_tanimoto_range_3(df1, dot1, dot2):\n",
    "    # данная функция расчитывает диапазон по индексу Танимото, куда попали пары соедиений. Диапазон из 3 частей.\n",
    "    count_ = Counter()\n",
    "    for i in df1:\n",
    "        if i <= dot1:\n",
    "            count_[f\"Tanimoto_index = 0.00 - {dot1}\"]+=1\n",
    "        elif i <= dot2 and i > dot1:\n",
    "            count_[f\"Tanimoto_index = {dot1} - {dot2}\"]+=1\n",
    "        elif i >  dot2:\n",
    "            count_[f\"Tanimoto_index = {dot2} - 1.00\"]+=1\n",
    "    return count_"
   ]
  },
  {
   "cell_type": "markdown",
   "metadata": {},
   "source": [
    "Посмотрим как много пар сильно похожих соединений:"
   ]
  },
  {
   "cell_type": "code",
   "execution_count": 5,
   "metadata": {},
   "outputs": [
    {
     "name": "stdout",
     "output_type": "stream",
     "text": [
      "Counter({'Tanimoto_index = 0.33 - 0.66': 91069, 'Tanimoto_index = 0.66 - 1.00': 68949, 'Tanimoto_index = 0.00 - 0.33': 1989})\n"
     ]
    }
   ],
   "source": [
    "count = count_tanimoto_range_3(df[\"Tan\"], 0.33, 0.66)\n",
    "print(count)"
   ]
  },
  {
   "cell_type": "markdown",
   "metadata": {},
   "source": [
    "Выборка hERG_central интересная, большинство пар соединений лежат посередине (т.е. меньше похожи друг на друга, чем в случае с выборкой ChEMBL)"
   ]
  },
  {
   "cell_type": "code",
   "execution_count": 138,
   "metadata": {
    "scrolled": true
   },
   "outputs": [
    {
     "data": {
      "text/html": [
       "<div>\n",
       "<style scoped>\n",
       "    .dataframe tbody tr th:only-of-type {\n",
       "        vertical-align: middle;\n",
       "    }\n",
       "\n",
       "    .dataframe tbody tr th {\n",
       "        vertical-align: top;\n",
       "    }\n",
       "\n",
       "    .dataframe thead th {\n",
       "        text-align: right;\n",
       "    }\n",
       "</style>\n",
       "<table border=\"1\" class=\"dataframe\">\n",
       "  <thead>\n",
       "    <tr style=\"text-align: right;\">\n",
       "      <th></th>\n",
       "      <th>SMILES</th>\n",
       "      <th>PubChem Substance ID</th>\n",
       "      <th>hERG inhibition (%) at 1uM</th>\n",
       "      <th>hERG inhibition (%) at 10uM</th>\n",
       "      <th>class</th>\n",
       "      <th>Tan</th>\n",
       "      <th>Tan_idxs</th>\n",
       "      <th>ROMol</th>\n",
       "    </tr>\n",
       "  </thead>\n",
       "  <tbody>\n",
       "    <tr>\n",
       "      <th>493</th>\n",
       "      <td>COC(=O)CCCCC1C(C(CS1)NC(=O)OC)NC(=O)OC</td>\n",
       "      <td>843570</td>\n",
       "      <td>10.9055</td>\n",
       "      <td>2.08618</td>\n",
       "      <td>0</td>\n",
       "      <td>1.0</td>\n",
       "      <td>29227</td>\n",
       "      <td>&lt;img data-content=\"rdkit/molecule\" src=\"data:i...</td>\n",
       "    </tr>\n",
       "    <tr>\n",
       "      <th>1099</th>\n",
       "      <td>CCOC(=O)C1=CN=CN1C(C)C2=CC=CC=C2</td>\n",
       "      <td>845401</td>\n",
       "      <td>11.8830</td>\n",
       "      <td>13.31818</td>\n",
       "      <td>0</td>\n",
       "      <td>1.0</td>\n",
       "      <td>131085</td>\n",
       "      <td>&lt;img data-content=\"rdkit/molecule\" src=\"data:i...</td>\n",
       "    </tr>\n",
       "    <tr>\n",
       "      <th>1497</th>\n",
       "      <td>CN\\1C2=CC=CC=C2S/C1=C/C(=O)C3=CC=CS3</td>\n",
       "      <td>846550</td>\n",
       "      <td>13.8331</td>\n",
       "      <td>14.77008</td>\n",
       "      <td>0</td>\n",
       "      <td>1.0</td>\n",
       "      <td>34761</td>\n",
       "      <td>&lt;img data-content=\"rdkit/molecule\" src=\"data:i...</td>\n",
       "    </tr>\n",
       "    <tr>\n",
       "      <th>3957</th>\n",
       "      <td>C[C@]12CCC(=O)C=C1CC[C@@H]3[C@@H]2CC[C@]4([C@H...</td>\n",
       "      <td>855521</td>\n",
       "      <td>13.1740</td>\n",
       "      <td>9.16938</td>\n",
       "      <td>0</td>\n",
       "      <td>1.0</td>\n",
       "      <td>131063</td>\n",
       "      <td>&lt;img data-content=\"rdkit/molecule\" src=\"data:i...</td>\n",
       "    </tr>\n",
       "    <tr>\n",
       "      <th>3975</th>\n",
       "      <td>CC(C)(C)NCC(COC1=CC=CC2=C1C[C@@H]([C@@H](C2)O)O)O</td>\n",
       "      <td>855594</td>\n",
       "      <td>19.2214</td>\n",
       "      <td>28.97688</td>\n",
       "      <td>0</td>\n",
       "      <td>1.0</td>\n",
       "      <td>156789</td>\n",
       "      <td>&lt;img data-content=\"rdkit/molecule\" src=\"data:i...</td>\n",
       "    </tr>\n",
       "    <tr>\n",
       "      <th>...</th>\n",
       "      <td>...</td>\n",
       "      <td>...</td>\n",
       "      <td>...</td>\n",
       "      <td>...</td>\n",
       "      <td>...</td>\n",
       "      <td>...</td>\n",
       "      <td>...</td>\n",
       "      <td>...</td>\n",
       "    </tr>\n",
       "    <tr>\n",
       "      <th>161991</th>\n",
       "      <td>CC1([C@H]([C@@H](C2=C(O1)C=CC3=C2OC(=O)C=C3)O)O)C</td>\n",
       "      <td>85149146</td>\n",
       "      <td>16.3307</td>\n",
       "      <td>25.71588</td>\n",
       "      <td>0</td>\n",
       "      <td>1.0</td>\n",
       "      <td>161991</td>\n",
       "      <td>&lt;img data-content=\"rdkit/molecule\" src=\"data:i...</td>\n",
       "    </tr>\n",
       "    <tr>\n",
       "      <th>161992</th>\n",
       "      <td>CC1([C@@H]([C@H](C2=C(O1)C=CC3=C2OC(=O)C=C3)O)O)C</td>\n",
       "      <td>85149147</td>\n",
       "      <td>13.1848</td>\n",
       "      <td>21.74538</td>\n",
       "      <td>0</td>\n",
       "      <td>1.0</td>\n",
       "      <td>161991</td>\n",
       "      <td>&lt;img data-content=\"rdkit/molecule\" src=\"data:i...</td>\n",
       "    </tr>\n",
       "    <tr>\n",
       "      <th>161993</th>\n",
       "      <td>CC1([C@@H]([C@@H](C2=C(O1)C=CC3=C2OC(=O)C=C3)O...</td>\n",
       "      <td>85149148</td>\n",
       "      <td>10.3472</td>\n",
       "      <td>15.45308</td>\n",
       "      <td>0</td>\n",
       "      <td>1.0</td>\n",
       "      <td>161991</td>\n",
       "      <td>&lt;img data-content=\"rdkit/molecule\" src=\"data:i...</td>\n",
       "    </tr>\n",
       "    <tr>\n",
       "      <th>162000</th>\n",
       "      <td>C[C@H]1[C@H](CC2C1[C@@H](OC=C2C(=O)OC)O[C@H]3[...</td>\n",
       "      <td>85149169</td>\n",
       "      <td>12.1695</td>\n",
       "      <td>17.84698</td>\n",
       "      <td>0</td>\n",
       "      <td>1.0</td>\n",
       "      <td>108786</td>\n",
       "      <td>&lt;img data-content=\"rdkit/molecule\" src=\"data:i...</td>\n",
       "    </tr>\n",
       "    <tr>\n",
       "      <th>162004</th>\n",
       "      <td>CC1(C=CC2=C(O1)C=CC3=C2OC[C@@H](C3)C4=C(C=C(C=...</td>\n",
       "      <td>85149178</td>\n",
       "      <td>11.5510</td>\n",
       "      <td>17.66578</td>\n",
       "      <td>0</td>\n",
       "      <td>1.0</td>\n",
       "      <td>108671</td>\n",
       "      <td>&lt;img data-content=\"rdkit/molecule\" src=\"data:i...</td>\n",
       "    </tr>\n",
       "  </tbody>\n",
       "</table>\n",
       "<p>1316 rows × 8 columns</p>\n",
       "</div>"
      ],
      "text/plain": [
       "                                                   SMILES  \\\n",
       "493                COC(=O)CCCCC1C(C(CS1)NC(=O)OC)NC(=O)OC   \n",
       "1099                     CCOC(=O)C1=CN=CN1C(C)C2=CC=CC=C2   \n",
       "1497                 CN\\1C2=CC=CC=C2S/C1=C/C(=O)C3=CC=CS3   \n",
       "3957    C[C@]12CCC(=O)C=C1CC[C@@H]3[C@@H]2CC[C@]4([C@H...   \n",
       "3975    CC(C)(C)NCC(COC1=CC=CC2=C1C[C@@H]([C@@H](C2)O)O)O   \n",
       "...                                                   ...   \n",
       "161991  CC1([C@H]([C@@H](C2=C(O1)C=CC3=C2OC(=O)C=C3)O)O)C   \n",
       "161992  CC1([C@@H]([C@H](C2=C(O1)C=CC3=C2OC(=O)C=C3)O)O)C   \n",
       "161993  CC1([C@@H]([C@@H](C2=C(O1)C=CC3=C2OC(=O)C=C3)O...   \n",
       "162000  C[C@H]1[C@H](CC2C1[C@@H](OC=C2C(=O)OC)O[C@H]3[...   \n",
       "162004  CC1(C=CC2=C(O1)C=CC3=C2OC[C@@H](C3)C4=C(C=C(C=...   \n",
       "\n",
       "        PubChem Substance ID  hERG inhibition (%) at 1uM  \\\n",
       "493                   843570                     10.9055   \n",
       "1099                  845401                     11.8830   \n",
       "1497                  846550                     13.8331   \n",
       "3957                  855521                     13.1740   \n",
       "3975                  855594                     19.2214   \n",
       "...                      ...                         ...   \n",
       "161991              85149146                     16.3307   \n",
       "161992              85149147                     13.1848   \n",
       "161993              85149148                     10.3472   \n",
       "162000              85149169                     12.1695   \n",
       "162004              85149178                     11.5510   \n",
       "\n",
       "        hERG inhibition (%) at 10uM  class  Tan  Tan_idxs  \\\n",
       "493                         2.08618      0  1.0     29227   \n",
       "1099                       13.31818      0  1.0    131085   \n",
       "1497                       14.77008      0  1.0     34761   \n",
       "3957                        9.16938      0  1.0    131063   \n",
       "3975                       28.97688      0  1.0    156789   \n",
       "...                             ...    ...  ...       ...   \n",
       "161991                     25.71588      0  1.0    161991   \n",
       "161992                     21.74538      0  1.0    161991   \n",
       "161993                     15.45308      0  1.0    161991   \n",
       "162000                     17.84698      0  1.0    108786   \n",
       "162004                     17.66578      0  1.0    108671   \n",
       "\n",
       "                                                    ROMol  \n",
       "493     <img data-content=\"rdkit/molecule\" src=\"data:i...  \n",
       "1099    <img data-content=\"rdkit/molecule\" src=\"data:i...  \n",
       "1497    <img data-content=\"rdkit/molecule\" src=\"data:i...  \n",
       "3957    <img data-content=\"rdkit/molecule\" src=\"data:i...  \n",
       "3975    <img data-content=\"rdkit/molecule\" src=\"data:i...  \n",
       "...                                                   ...  \n",
       "161991  <img data-content=\"rdkit/molecule\" src=\"data:i...  \n",
       "161992  <img data-content=\"rdkit/molecule\" src=\"data:i...  \n",
       "161993  <img data-content=\"rdkit/molecule\" src=\"data:i...  \n",
       "162000  <img data-content=\"rdkit/molecule\" src=\"data:i...  \n",
       "162004  <img data-content=\"rdkit/molecule\" src=\"data:i...  \n",
       "\n",
       "[1316 rows x 8 columns]"
      ]
     },
     "execution_count": 138,
     "metadata": {},
     "output_type": "execute_result"
    }
   ],
   "source": [
    "df[df['Tan'] == 1.0]"
   ]
  },
  {
   "cell_type": "markdown",
   "metadata": {},
   "source": [
    "Всего 1316 стереоизомеров. На самом деле, возможно, действительно проблема на этапе конвертации в объект mol (молекулы). Но чтобы это исправить придется писать большой скрипт("
   ]
  },
  {
   "cell_type": "code",
   "execution_count": 136,
   "metadata": {},
   "outputs": [],
   "source": [
    "def plot_pIC50_sort(df1_sort, name):\n",
    "    # функция для построения распределения по значению индекса Танимото для пар соединений тест-трэйн\n",
    "    c,me,std,mi,procent1, procent2, procent3, ma = df1_sort.describe().round(4)\n",
    "    n, bins, patches = plt.hist(df1_sort, 50)\n",
    "\n",
    "    plt.xlabel('Tanimoto_index')\n",
    "    plt.ylabel('Number of pairs')\n",
    "    plt.title(f'{name}')\n",
    "    plt.xlim(0, 1)\n",
    "    plt.annotate(f'count={c}\\nmean={me}\\nstd={std}\\nmin={mi}\\n25%={procent1}\\n50%={procent2}\\n75%={procent3}\\nmax={ma}', xy=(0.2, np.max(n)/3))\n",
    "    # plt.ylim(0, 1)\n",
    "    plt.grid(True)\n",
    "    plt.show()\n",
    "    "
   ]
  },
  {
   "cell_type": "markdown",
   "metadata": {},
   "source": [
    "Посмотрим гистограмму распределения по наибольшим попарным значениям индекса Танимото."
   ]
  },
  {
   "cell_type": "code",
   "execution_count": 137,
   "metadata": {},
   "outputs": [
    {
     "data": {
      "image/png": "[encoded data removed]",
      "text/plain": [
       "<Figure size 432x288 with 1 Axes>"
      ]
     },
     "metadata": {
      "needs_background": "light"
     },
     "output_type": "display_data"
    }
   ],
   "source": [
    "plot_pIC50_sort(df[\"Tan\"], name='hERG_central - hERG-central')"
   ]
  },
  {
   "cell_type": "markdown",
   "metadata": {},
   "source": [
    "Загрузим датасет ChEMBL"
   ]
  },
  {
   "cell_type": "code",
   "execution_count": 23,
   "metadata": {},
   "outputs": [
    {
     "data": {
      "text/html": [
       "<div>\n",
       "<style scoped>\n",
       "    .dataframe tbody tr th:only-of-type {\n",
       "        vertical-align: middle;\n",
       "    }\n",
       "\n",
       "    .dataframe tbody tr th {\n",
       "        vertical-align: top;\n",
       "    }\n",
       "\n",
       "    .dataframe thead th {\n",
       "        text-align: right;\n",
       "    }\n",
       "</style>\n",
       "<table border=\"1\" class=\"dataframe\">\n",
       "  <thead>\n",
       "    <tr style=\"text-align: right;\">\n",
       "      <th></th>\n",
       "      <th>canonical_smiles</th>\n",
       "      <th>molecule_chembl_id</th>\n",
       "      <th>molecule_pref_name</th>\n",
       "      <th>standard_relation</th>\n",
       "      <th>standard_type</th>\n",
       "      <th>standard_units</th>\n",
       "      <th>units</th>\n",
       "      <th>value</th>\n",
       "      <th>MW</th>\n",
       "      <th>value_nM</th>\n",
       "      <th>class</th>\n",
       "      <th>pIC50</th>\n",
       "      <th>ID</th>\n",
       "      <th>ROMol</th>\n",
       "    </tr>\n",
       "  </thead>\n",
       "  <tbody>\n",
       "    <tr>\n",
       "      <th>0</th>\n",
       "      <td>O=C1NCCN1CCN1CCC(c2cn(-c3ccccc3)c3ccc(Cl)cc23)CC1</td>\n",
       "      <td>CHEMBL443476</td>\n",
       "      <td>nan</td>\n",
       "      <td>=</td>\n",
       "      <td>IC50</td>\n",
       "      <td>nM</td>\n",
       "      <td>nM</td>\n",
       "      <td>88.0</td>\n",
       "      <td>422.96</td>\n",
       "      <td>88.0</td>\n",
       "      <td>1</td>\n",
       "      <td>7.055517</td>\n",
       "      <td></td>\n",
       "      <td><img data-content=\"rdkit/molecule\" src=\"data:image/png;base64,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\" alt=\"Mol\"/></td>\n",
       "    </tr>\n",
       "    <tr>\n",
       "      <th>1</th>\n",
       "      <td>O=C1NCCN1CCN1CCC(c2cn(C3CCCCC3)c3ccc(Cl)cc23)CC1</td>\n",
       "      <td>CHEMBL53661</td>\n",
       "      <td>nan</td>\n",
       "      <td>=</td>\n",
       "      <td>IC50</td>\n",
       "      <td>nM</td>\n",
       "      <td>nM</td>\n",
       "      <td>137.0</td>\n",
       "      <td>429.008</td>\n",
       "      <td>137.0</td>\n",
       "      <td>1</td>\n",
       "      <td>6.863279</td>\n",
       "      <td></td>\n",
       "      <td><img data-content=\"rdkit/molecule\" src=\"data:image/png;base64,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\" alt=\"Mol\"/></td>\n",
       "    </tr>\n",
       "    <tr>\n",
       "      <th>2</th>\n",
       "      <td>CCC(CC)c1cn(-c2ccc(F)cc2)c2ccc(Cl)cc12</td>\n",
       "      <td>CHEMBL299390</td>\n",
       "      <td>nan</td>\n",
       "      <td>=</td>\n",
       "      <td>IC50</td>\n",
       "      <td>nM</td>\n",
       "      <td>nM</td>\n",
       "      <td>1480.0</td>\n",
       "      <td>315.819</td>\n",
       "      <td>1480.0</td>\n",
       "      <td>1</td>\n",
       "      <td>5.829738</td>\n",
       "      <td></td>\n",
       "      <td><img data-content=\"rdkit/molecule\" src=\"data:image/png;base64,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\" alt=\"Mol\"/></td>\n",
       "    </tr>\n",
       "    <tr>\n",
       "      <th>3</th>\n",
       "      <td>O=C1NCCN1CCN1CC=C(c2cn(-c3ccc(F)cc3)c3ccc(Cl)c...</td>\n",
       "      <td>CHEMBL12186</td>\n",
       "      <td>nan</td>\n",
       "      <td>=</td>\n",
       "      <td>IC50</td>\n",
       "      <td>nM</td>\n",
       "      <td>nM</td>\n",
       "      <td>10.0</td>\n",
       "      <td>438.934</td>\n",
       "      <td>10.0</td>\n",
       "      <td>1</td>\n",
       "      <td>8.0</td>\n",
       "      <td></td>\n",
       "      <td><img data-content=\"rdkit/molecule\" src=\"data:image/png;base64,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\" alt=\"Mol\"/></td>\n",
       "    </tr>\n",
       "    <tr>\n",
       "      <th>4</th>\n",
       "      <td>CC(C)(C)c1ccc2c(ccn2-c2ccc(F)cc2)c1</td>\n",
       "      <td>CHEMBL299590</td>\n",
       "      <td>nan</td>\n",
       "      <td>&gt;</td>\n",
       "      <td>IC50</td>\n",
       "      <td>nM</td>\n",
       "      <td>nM</td>\n",
       "      <td>10000.0</td>\n",
       "      <td>267.347</td>\n",
       "      <td>10000.0</td>\n",
       "      <td>0</td>\n",
       "      <td>5.0</td>\n",
       "      <td></td>\n",
       "      <td><img data-content=\"rdkit/molecule\" src=\"data:image/png;base64,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\" alt=\"Mol\"/></td>\n",
       "    </tr>\n",
       "    <tr>\n",
       "      <th>...</th>\n",
       "      <td>...</td>\n",
       "      <td>...</td>\n",
       "      <td>...</td>\n",
       "      <td>...</td>\n",
       "      <td>...</td>\n",
       "      <td>...</td>\n",
       "      <td>...</td>\n",
       "      <td>...</td>\n",
       "      <td>...</td>\n",
       "      <td>...</td>\n",
       "      <td>...</td>\n",
       "      <td>...</td>\n",
       "      <td>...</td>\n",
       "      <td>...</td>\n",
       "    </tr>\n",
       "    <tr>\n",
       "      <th>7436</th>\n",
       "      <td>CC(C)c1cc(Nc2nc(N3CCC[C@H](N)C3)ncc2C(N)=O)cc(...</td>\n",
       "      <td>CHEMBL4635883</td>\n",
       "      <td>nan</td>\n",
       "      <td>=</td>\n",
       "      <td>IC50</td>\n",
       "      <td>nM</td>\n",
       "      <td>uM</td>\n",
       "      <td>3.7</td>\n",
       "      <td>397.527</td>\n",
       "      <td>3700.0</td>\n",
       "      <td>1</td>\n",
       "      <td>5.431798</td>\n",
       "      <td></td>\n",
       "      <td><img data-content=\"rdkit/molecule\" src=\"data:image/png;base64,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\" alt=\"Mol\"/></td>\n",
       "    </tr>\n",
       "    <tr>\n",
       "      <th>7437</th>\n",
       "      <td>COc1cc(/C=C2\\CCCN3C2=NO[C@H](c2cc(F)cc(F)c2)[C...</td>\n",
       "      <td>CHEMBL4643105</td>\n",
       "      <td>nan</td>\n",
       "      <td>=</td>\n",
       "      <td>IC50</td>\n",
       "      <td>nM</td>\n",
       "      <td>nM</td>\n",
       "      <td>2007.0</td>\n",
       "      <td>464.516</td>\n",
       "      <td>2007.0</td>\n",
       "      <td>1</td>\n",
       "      <td>5.697453</td>\n",
       "      <td></td>\n",
       "      <td><img data-content=\"rdkit/molecule\" src=\"data:image/png;base64,iVBORw0KGgoAAAANSUhEUgAAAMgAAADICAIAAAAiOjnJAAAABmJLR0QA/wD/AP+gvaeTAAAVPElEQVR4nO3deVRU5f8H8M8sIYgiGAomZSouaHAIlKOOliGWGRppKEqmkgfRDEipPJq5kkp+jeNCoWlfDASPa33JbHErBZVFGWITYRAsMWTf1GHm8/vjeuZHKDP33pmHRT6v4x9J997nAd5zl+d5PlcJIgIhpiZt7w6QJxMFizBBwSJMULAIExQswgQFizBBwSJMULAIExQswgQFizBBwSJMULAIExQswgQFizBBwSJMULAIExQswgQFizBBwSJMULAIExQswgQFizBBwSJMULAIExQswgQFizBBwSJMULAIExQswgQFizBBwSJMULAIExQswgQFizBBwSJMULAIExQswgQFizBBwSJMULAIExQswgQFizBBwSJMULAIExQswgQFizBBwSJMULAIExQswgQFizBBwSJMULAIExQswgQFizBBwSJMULAIExQswgQFizBBwSJMULAIExQswoRcz/+LKCl5Wi536dFjdM+ebdYh8mTQFywJwHv9+rVZVx6Vm5ubmpr6zjvvmPCYSUlJP/zwA58t3dzcZs2aZcKmuxZs3cKcnD1//61qbNSzDTthYWF9+vTZvXu3CY8ZFBQ0btw4nj+Z0aNHT5w4UaPRmLADXYcEEVv7yX5RUvLRs8+aKMCCHTp0yNPTs0+fPqY64LVr10aNGiWRSIKDgw0eVq1W79q1659//tm3b19AQICp+tCF6AndLxUViNig0ZyrrGyjnD/OpUuX1Gq18cd5+eWXAWDFihU8t4+LiwOAvn37VlVVGd96V6MvWIh4X6OZlpk5Oi0tr76+bTrUQlBQ0HPPPXf9+nUjj3Po0CEuJZW8PyRarXbChAkA8PHHHxvZehdkIFiIuL2kxD01NSA3V9sG3XlEcnJyvdGZbmhoGjRoKABER0cL2jE9PV0qlZqZmeXl5RnZh67GcLDqmppezchwT03lroztxZjr0YYN6OjYOGPGtqamJqH7Lly4EADefPNN0a13TYaDhYhHy8rcU1OnKpWN7fSIFBAQEBgYKG7fW7fQ0hIB8Nw5MbuXlpb26tULAE6dOiWuA10Tr2BptNo52dkzU1N3xsez7tBjFRUViTjZcObORQCcNUt861u2bAEAJyenBw8eiD9KF8MrWIh4OSdHKpNZWlqWlJQw7ZBpJSWhRILm5qhSiT/I/fv3hw4dCgA7d+40Wc+edHyDhYi+vr4A4O/vz643+oWEhJSWlgra5e23EQA//dTYpk+cOAEANjY2ZWVlxh6raxAQrOLi4u7du0skkt9//51dh/SoqanhuWVjI8bFISJeuoSbNmFdnQlaf+211wBg2bJlJjhWF6Bv5P1Rn3322caNG4cOHbpmzRqJRGJw+3Hjxg0cOFDgkK0BSqUyMzOz+VcsLNwbG4c3/0q/frBsGXz7LaSng6cnDBtmgnazs7NdXV21Wu3Vq1ednZ1NcMQnm6AY1tbWWllZ9e/fn+fB/f399+7da8LPwbp16956660Wrbz88k8A2PzPe+/h+vW4aBHu3Im5uSZrfdKkSUOGDMnKyjLZEZ9c+lY3PCoxMZG7Hs2ePVsmk+nf+Pbt23FxcSdPnvTx8bG1tRXU0GMplcqNGzcCwLRp03o2W8nTv79li6i7uUFFBQQGQlAQTJ5sfMsAAJWVlRkZGXfv3i0sLBwxYoRpDvoE45/BhoaGAQMGAMA333zDc5cpU6YAwJIlS8Rk/hGTJ08GgJCQEINb1tRgbCwi4vr1eOYMak0xaRAcHAwAr7zyigmO1QUICNbatWsB4MUXX0xKSvrjjz/0b6xWq/fs2ZOenv7UU0/JZLJr164Z1088cuQIAPTu3fvu3bv891q5EqVSPHjQyMYxOzub+0YyMjKMPVbXwDdYJSUllpaWAHD27FkXFxeJRHL06FE928+dOxcA1q5dGxISYvwH/d69e46OjgAQFRUlaMd9+xAAHRyMfTDkTr1Lly416ihdCd9gzZ49GwDmzJmze/duABg4cGCj3gWAFy9elEgkFhYWGRkZ3A3WkSNHRPdy06ZNADBy5Eih62c0Ghw9GgFw7VrRjSO34pQGsQThFaxHU6L/dMXx8/MDAD8/v6ioKD5ZbE1paamVlRUA/PLLLyJ25wbfLSxEDr7rht0jIyPF7N9VGQ6WRqMZPXo0AKxbt07Qda3F1RMAwsPDRXTx3XffBYAZM2aI2JczZw6amd1fseIHEftGREQATRQKZzhYe/fuBQAHB4e0tDShd+K6+/3Tp08DQI8ePf766y9B/UtNTeVWRBmz1q+4WOPk5CpizuDOnTvc0oaffvpJdOtdk4Fg1dTU9OvXDwDi4+NFjB00H6GYMWMGALz77rv8d9dqtQqFAgBWrVrFf6/H0kVc0CqJRYsWAYC3t7eRrXdBBoIVFhYGAOPGjRN9A3vw4EEA6Nu3b0ZGhrm5uUQiMThUoRMTEwMAdnZ21dXVghp9lIhBuPT0dJlMZmZmlmvCwfsuQ99cYUFBAfcglpSUNH/+/Ly8vC+//DI0NFToAOyECRMuXry4cuVKqVT6+eefu7i4xMTESKUGirAbGhreeuut0tLSmJgY7jbLSAkJCXPmzLG1tf3+++979OhhcPvAwMDLly+HhYV98cUXxrfOqa+vLygo4LOlhYXFkCFDTNVuO9ATut9++83Gxoa7EJw7d87X11fcDWxKSsr8+fP/+uuv2tpaa2tr/hVddnZ2Hh4eWqMHzvfv319WVqbVap2cnHr37s2z9T59+vTs2ZNbEl1ZWWl8pdCVK1fWr1/Ps3VnZ+eIiAjjv/dHXb9+vaGhweSHbUHfGSsmJmbBggXOzs5Xr141ODPIR1ZWlqurq0QicXR0lMsNT1OGhoZOmTLlmWeeMabRpKSk8ePH29vbp6env/DCCxUVFYMGDerevbv+vTQazY0bNzQaTUpKSn5+/rJly9asWfPBBx+I7oZWqx0zZkxKSkr//v35hPvmzZs1NTWxsbH+/v6iG22hrKzMz8+vtLRUpVJNmjTJ19fXx8eHG8oxPT2ha2hoeP7550F4cUtr2n5Jk0aj8fDwAIDPPvvsww8/BACFQsHzNLB8+XJue5Os8tu/fz8A9O/fv47fJIDQ7Q3SarVTp04FAGtra92SJ3Nz8+nTp8fFNZi8UMbAzTtXjtenTx/+5XitOX78uIhfT1lZWUJCguhGY2MTAcDBwUGpVJqZmUml0tTUVJ77VldX29vbA8ChQ4e4j8T7778vrhu6h+vY2NgLFy4Y3L6ioiIzM5P7SKxZs0Zcoy1s376d+/nfvHlTpVJFR0d7e3vL5fLnn/cCQJkMFQqMjMS//8amJrxzBxGxuhpFD94ZHsfiCoiXL18usgVERLx//z53Kyp02Xh1dfXWrVvFNVpTg/36oUKhSkj4H/dhFVrqEx0dDQDPPvusbjZd3CT0J598AgBjx449efIkGBrsTU9Pt7W1HTly5B9//CGRSMzNzVXGrNhHRESlUmlubg4Ax48fR8QhQ4YoFIrIyEilUnngQKaXF8rlD5eyyWTo748DBmBZGe7ahaJHDw0Hi7vBeuqpp4x56t68eTMAjBgxoi3Hrz/+GAFw7Fg8eVIzceJpO7vn73CfRN40Go27uzsAbNiwgbvB8vT0FNqNgoICbpwlKSlp5MiRALBt2zY92zf/EHI3WL6+vkIbba6uDr2939OdcfPy8nQ3uDKZbO7ciqgozMnBmBj09sZu3XDFCly+HJcvZxwsRAwMDASAqVOnimtDN9knvjSvoQF370YhVY0FBditG0qlePEiDh+OABgZKSbTFy5c4OZJlUolN0967NgxQUfw8fEBgAULFnAXI0dHx3v37unfRXfboFQquWmxc+KqIhERMSAAZbImP7/durna8vLymJgYb2/vAQMmSCQIgFIpjh+PKhVWVeH16xgejnv2oL8/42D9888/1tbWAHDy5EkRbZigmHjWLJw1C4UMk+bno5cXLliA//kPAqCjIxr6bbZKV560a9cuABg0aBD/2XTdXFZWVhb3MJiYmMhnR92DzoYNGwDA1dVVXGXl4cMIgObm+NhreGWl+rvv0McHLSzQyurhj+juXQwPR40Gx4xhHCxE3LZtG/dpu3//vqAG0tLSTPD6A7Hv6Lp1C62tEQB//FF847rypPPnz3NlFJs3b+azY1NTk277xYsXA4CXlxfPRrOysri7upSUFNHP5sXFaGODAGhw17o6TE5++N9aLf70E4aG4tGjgi4S/8I3WA8ePBg2bBgAbN++nftKeHi4S+uuXLmCzV7Y8sknn4jsYHNaLcbHY1ER/z0WL0YA5P3bbNWnn34KAG5ubr/++mv37t0jIiL47KU7w6Wlpcnlcrlc/ueff/JvdNmyZdxdnbhn86YmHDsWAXDmTP47PbRlCwKgMW/ZEbA0OTExEQCsrKxu376NiEuWLNEzPHbmzBlEjI2NBQA7OzsTvGLqxg1UKNDNDX/9FQ1dFDSahw/MP/6Io0ZhdraxjdfX1z/33HMA8O233/IcLqmoqNDdk3Gr9UNDQwU1WlFR8fTTTwPAiRMnBD2b376NiKjRYFQUOjlhebmgZhHbOFiI+PrrrwPA4sWLtVptSUnJ1dbV1tbqfhn79+8X30Gdu3dxxw4MCMD//hcXLsTqatRq//8P/utv5eU4YADevYtRUSYr//ruu+90HxItD7qnyMOHD4Pw1fqcHTt2cOe8y5cvc8/mOTk5zVtp8Y1zQ79vv40HD2J1Na5ZY/Az+HhtHaycnBy5XM49p/BhZmbm7u5ustd4RkdjSgoi4vnzuHJl80rCm2Nnt6grDAnBsDBTBkur1Y4dO9bMzIzn925paSmVSrnyWk9Pz6+++kpEo2q12sPDY8OGDffu3XvnnXcenbnv18+jRU1lr164YgWGhODNmyh6bNX4YAmrK0QhZdMAEBER4eXlZXAhA//mgZuLkEigRU/+XZYtkYCtLdjawqVL4OlpmsYlEsm+ffvOnDnD3frw2R4AENHZ2fn06dNarVZEo3K5PDk5Wc8P8NFydO4rH30EW7eCtbWINk1EUAxNWyco2J07GBCAx4/jwoWo9za2vBw3bkSNBj08TFkJLYhJypN0BC0O416z+uWX4i+FO3fGOjsrNm0Sc5blCAhWhyhWaWjArCyDow8azcPgVVaKn+0yku7m3ZjyJJ2XXnoJAMLCwvhszN3LqdUYFYXDh6PwW7uHrwQz5uWrfINFxSoiGFmepBMfHw/C39/c1ITjxiEAiihDMT5YfO9+jqlU3QYOdHJyWrp0KYML8pMpMDDQxcVFpVJxkzniNDY2rly5EgDCw8O5yg6eZDJISIDeveHYMYiONrBxbW1tQkLCrFmzTLZclk/6yh88ePnqVY+0tAsFBaIj3DWdOXMGRJUn6YgrA9HRP6VTUVERExMzffp0bu0DALi4uGCbXQo3FBW5p6Z+mJ8vupmuTER5ko6uNvP8+fOiO/DeeyiToZ/fWd2KZN0ktG70RCqVKhSKLVu2pKenHzhwgHudzvjx40UvyDYcrNz6+tGpqWPS0m620z+q09kVFhZyy2YuXbokdN85c+YAwOzZs43pQF0dent/Ds0e5wcPHszlSS6XT548+euvv87NzW0RNRsbGwBQKBRFQubQdAy/0S8wLy+9rm6enV2Ig4Nprr5dz6pVqzZv3uzu7n7lyhWpVHrnzp0VK1a0trGbmxu3Kjo5OVmhUJibm2dnZ3Pz0KJx61Hv3bt3/PhxHx+f1atXK5XKGTNmjB8/Pjk5+fDhwz///LNarQYAmUw2ZswYX1/fwYMHBwcHq1QqKyurr7/+mou4APpzd1+r3Xrz5pSMjFqxb8MmiFhbW8uVhBw4cAAR8/Pz9fxGuLIo3ZsN1hrzPpNmIiMjAcDGxqaoqKi4uDgyMtLLy6v5ij9uTWnz1wdXVVVxL4MBgHnz5glafa/vjBV0/fronj1devR4wdLSwlSj510VV/Jkb2+fl5cnlUq5Ao3HcnBwmDhx4r59+xYtWuTg4JCbm8t/Dk0PRJw+fXpiYqK1tTVXAAwAFhYWr7322syZM6dNm9baI+eBAweWLFnS0NAwfPjw+Ph4V1dXPs3pC9YalWq+vX0/MzNLU9R+dXGIOGbMmCtXrjzzzDPc7Yt+JSUlNTU1cXFx3JvGTKKsrGzevHm3bt0qLCwUVP6Vk5Pj5+enVCq7deu2devW4OBgw6821nM2C83PP1NZWUZvWTGRlJQUbjkoHzY2NjKZLDMz0+TdyM/PF1Gw2tjYqMvTq6++avCF+x33H8J8ItXX16tUKj5bbt26NTY21tPTk1vc3EGcOHFi0aJF5eXldnZ2MTEx3Prpx9MTugL2hdikNc1X+bV3X/6luLiYWxUsk8nOnj3b2mbCVjeQtqRb5WewqqeNNTU1bdmyZdKkSXomA4T9yxSkLTU1Nbm6uhYVFf2ybdu4oKD27k5LWq1W30IxClZHdu3sWVt/f4e6Orh+Hezt27s7AtDoVIfm+sorDh4eUFsLq1a1d1+EoTNWh1dYCCNGgFoNycng4dHeveGLzlgd3qBBEBoKWi2EhrZc6d+BUbA6g9Wrwd4etFooL2/vrvBFl8JOorAQ8vLg8mV48ACWLoUOv9KEgtVJNDXB0qWwZw/U1sLq1bBjR3t3yAC6FHYS1dXQty8AQM+eoFa3d28ME1awStpN795QXAyNjVBY+DBhHRtdCjuJY8dg8GA4dQp69YKAAOBd6d9eKFidQW4uuLhAr15w4wYIqQBrR3SP1RksXw5qNcyc2VlSBXTG6gR+/BG8vcHKCvLyOtF0IZ2xOja1Grh6nnXrOlGqgILVwSXs3XvLxgaGDQN+707qOOhS2HGVlZUNHTq0qqoq6dSpsXoWAXdIdMbquFavXl1VVfXGG290ulQBnbE6rGvXro0aNUoqlWZmZnLvq+5c6IzVQYWGhmo0muDg4M6YKqApnY4JEYOCgurq6rj3y3dGdCkkTNClkDBBwSJMULAIExQswgQFizBBwSJMULAIExQswgQFizBBwSJMULAIExQswgQFizBBwSJMULAIExQswgQFizBBwSJMULAIExQswgQFizBBwSJMULAIExQswgQFizBBwSJMULAIExQswgQFizBBwSJMULAIExQswgQFizBBwSJMULAIExQswgQFizBBwSJMULAIExQswgQFizBBwSJMULAIExQswgQFizBBwSJMULAIExQswgQFizBBwSJMULAIExQswgQFizBBwSJMULAIExQswgQFizBBwSJMULAIExQswgQFizDxf313oug/fdbsAAABxnpUWHRyZGtpdFBLTCByZGtpdCAyMDIxLjA5LjQAAHichVI9b9swED0daUqy/FmrUmzLtlwYhtGpQ6cupgcjQ/cAycRR6JQiU7ZODZChS/5BhsBLC+QPRPReIGum/oKidf9BaVkUiQBFCRD37vHduyOl3w9ff4BaTTDrldpztT85DISKDvFgoSJBxotIGc/2kTgVAZoATewrEZ9H93BOtE7nVQd4u9c59J+tfEj3M/2fr5zKS1gVz0pdXg6lDwxh38ayCMABB1MkGRIqaG1Ga+w1EqQBcylxPfB88OtQD9KgscBGM201Kbba0O5k2OmK7gvo9jLshSJ8CWGUYSuG+Igi7WfYH4jBMMNhkiYjMRpnOJ6ISQqTqeJQTBMRsBmJ2iKuQ1hjOBz0KWGu59cDxhrNVqxip9sLo3ZtlEwn4/jWUZNbn3bDvz09ykMq+fr4rsQbHn24LPG5hbnSzLV+aTBf3q7vcs2bv6fgy5znBsvc0uRWbW55SoPPpdFsLCyl8dlZmG5NrwLnWmM86dbcS0q7r/Ep+i71O1gzWFhab7Kr8MchW928uy80338lq+svPyu8Pj4pNO9P36w+n11V+tWfiwJHfwHjmoARFLP0cwAAAlV6VFh0TU9MIHJka2l0IDIwMjEuMDkuNAAAeJyNVttu2zAMfc9X8AcsiKRsSw97aJK2GIY6wJb1H/a+/8dIeRYlxFVsR6ytnJBHvBz0BHr9vP748xfKRdfTCcB3Pikl+GTv/ekD9AHOr+/fF7jcX87bzuX2e7n/Ag7AUX4jd4t9ud8+th2EC4yORnHoYZhcSCPJk3c+X/ZTghtM2+4wOkzTPpAbj+ximnEXGATIbn4OHDNwC01uTHEfOAkQ3fgcOAvQl9DoKCW/C4y1R/v6AZdqhx1/KNWB4RASYVFqz2MjNT57x0FunPZShEEKPhxKO2qBBj5EQEs0WHv0oFqkYXo89yNSqzTMR1KV4A2GuIXvRKdcqHiEKGETvpcpoiZ+r+mJm+N3vYY1/88zRW2leoeamunsIedm4HtIrdOxEyXp00MZVbmD6DjivEbnGKZ9pA5UctFHXpExfOVTB8qQ7PhLpBYJ0XnCqNDgiFLch4aGqFQecZ/o63JtJHoV7fNtuZpo600mzfICbAIcdJnM6j2amKKsySSTZM0mjCgrmvyhrGQqh7pqNcNssFItzKaQE3UiNVj4iQhhNoWiaA2qisjfy9v7N0OO//cLXdGPoAYLY5GJoAYLaVTWagpvGfugO1SPd1BDhTnllMrH0kqKkZ3Ch3jlQ4U5KXMxOlg1c3mXnMsUVfMU1FAhTkpcDBXipMTFUCFOSlwM1/0eIHdz1ddBDRfirA0hhq0lck/ITiHO2hQSyyDKmEMVnCc9LVlzcGbMVTk4rse3BtDmrVtV37f/TeT59A8BVqSP12fNZwAAAO16VFh0U01JTEVTIHJka2l0IDIwMjEuMDkuNAAAeJxVT0uqwzAMvEqXCdiqJcW2TCgUDKWr9gB9b+V9T9DDV0kcGm2M5qMZuT4btjac66XSX631wZUuj+erXu//QyOVbuP20KikslyVaOjf2N5tUICnzxCBovMJphLJzcn5CFiSjpvAICWjmxnyETlPEIvoiBB/IKwuBCplU0LnOuUN6AZvtrwJ9HycjW+7b0dpTco9URZtl8QYs4kX80lNOTaHvbPvmn5Tf9gz+QIsmBcby5TcXECC8IJlWvQdM/CKESEQivMTEBX5BeiFiMmNny/n3mhTpWTnqQAAAABJRU5ErkJggg==\" alt=\"Mol\"/></td>\n",
       "    </tr>\n",
       "    <tr>\n",
       "      <th>7438</th>\n",
       "      <td>COc1cc(/C=C2\\CCCN3C2=NO[C@H](c2cc(F)c(F)c(F)c2...</td>\n",
       "      <td>CHEMBL4634921</td>\n",
       "      <td>nan</td>\n",
       "      <td>=</td>\n",
       "      <td>IC50</td>\n",
       "      <td>nM</td>\n",
       "      <td>nM</td>\n",
       "      <td>1607.0</td>\n",
       "      <td>482.506</td>\n",
       "      <td>1607.0</td>\n",
       "      <td>1</td>\n",
       "      <td>5.793984</td>\n",
       "      <td></td>\n",
       "      <td><img data-content=\"rdkit/molecule\" src=\"data:image/png;base64,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\" alt=\"Mol\"/></td>\n",
       "    </tr>\n",
       "    <tr>\n",
       "      <th>7439</th>\n",
       "      <td>COc1cc(C2=CC3=NO[C@H](c4cc(F)c(F)c(F)c4)CN3CCC...</td>\n",
       "      <td>CHEMBL4634696</td>\n",
       "      <td>nan</td>\n",
       "      <td>=</td>\n",
       "      <td>IC50</td>\n",
       "      <td>nM</td>\n",
       "      <td>nM</td>\n",
       "      <td>3352.0</td>\n",
       "      <td>468.479</td>\n",
       "      <td>3352.0</td>\n",
       "      <td>1</td>\n",
       "      <td>5.474696</td>\n",
       "      <td></td>\n",
       "      <td><img data-content=\"rdkit/molecule\" src=\"data:image/png;base64,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\" alt=\"Mol\"/></td>\n",
       "    </tr>\n",
       "    <tr>\n",
       "      <th>7440</th>\n",
       "      <td>COc1cc(C2=CC3=NOC[C@H](c4cc(F)c(F)c(F)c4)N3CCC...</td>\n",
       "      <td>CHEMBL4642697</td>\n",
       "      <td>nan</td>\n",
       "      <td>=</td>\n",
       "      <td>IC50</td>\n",
       "      <td>nM</td>\n",
       "      <td>nM</td>\n",
       "      <td>2608.0</td>\n",
       "      <td>468.479</td>\n",
       "      <td>2608.0</td>\n",
       "      <td>1</td>\n",
       "      <td>5.583692</td>\n",
       "      <td></td>\n",
       "      <td><img data-content=\"rdkit/molecule\" src=\"data:image/png;base64,iVBORw0KGgoAAAANSUhEUgAAAMgAAADICAIAAAAiOjnJAAAABmJLR0QA/wD/AP+gvaeTAAAgAElEQVR4nO2dZ1hU19bH/9NgGLqIFEvUKCAIFiKKoLHGkkSDPcb2xgRjIybR643XFpMomuSqqReNRtAbb7AnGhQSG6DBgO1SpVkojigOTINhmPV+OJFwjQWYc2YYOL/HD/MMZ6+90L9777P32msJiAg8PGwjNLcDPC0TXlg8nMALi4cTeGHxcAIvLB5O4IXFwwm8sHg4gRcWDyfwwmqBvPYa9u4FgJUrUVJiHh94YbVAiPDTT1AooNXCYDCPD7ywWibvv481a8zpgNicnfOwzX//i6wsAPD3h5UVLl0CEUpL4eFhak/4EauFoNdj40b064f/+z8olQCwejWys/HVV+jZE/HxpvaHF1ZL4OpVDBiAv/8dOh1mzMDWrQBgb4+LF5GVhfJyjB2LTz6BSQNZiMeS0ekoMpKsrAigLl3o118ffsBgoMhIEgoJoClTSKUykWO8sCyYCxcujBpVAZBQSG+/TSoVqVSUnPyIJ48eJScnAigggPLyTOEbLyyLRKvVrlmzRiKR+Pi86uVlOHWKiCgxkby8yMGBbt58RJOsLPLxIYAGD/71+PHjTehULpfHxsaGh4d37txZqVQ++WFeWJbHuXPnfHx8AIhEoqVLl2o0VZWVNH8+CQQEUO/elJX16IYVFTRrVkmbNm1FItGGDRsMBsNT+9JqtfHx8e+9956/v3/9FdRTpckLy5LQaDTLly8XiUQAunXrdubMGSKKj48PDVUBZGVF69aRTvckCwaDITIyUigUAnj55ZcVCsUjH8vPz4+Kipo8ebK9vX2dmGQy2YgRIyIjI1NTU5/qKi8si0Gn0/n5+QEQi8Xvv/9+VVVVRUVFeHi4QCDo2fONPn0MFy821NSxY8ecnJwAeHt7Z2ZmMl/evXuXmek6depUf3Dy9fVdvnx5QkJCVVVVw73lhWUxJCcn9+zZ08PD48KFC0T0888/d+jQAYBUKl2/fr1er2+UtZycHF9fXwBOTk7Tp08PCgpiBkIGd3f3WbNm7dmzRy6XN81bXlgWw5EjRwAMHDiQiIqKiqytrQEMGDCgbshpLEqlcsKECWKxmDElFotDQkKYma4hy68nwwvLYqisrJRIJCKRqLy8nIg2bdr06aefNnagIqKSkpLkB3sSP/zwA4COHTv+/PPParWaRW95YVkSgwcPBnDgwAFjjKxbtw7AkiVLiOjFF18EsHXrVpYc/BP+SMeSeOGFFwDEG3HyR0TR0dEAxowZI5fLT5w4YWVl9eqrr7Lm4gN4YVkSo0aNAnDixIkmW0hMTMzPz2/fvv3w4cNjYmL0ev1LL73k6urKno9/wAvLkujbt2+7du2uX79+7dq1pllghqs5c+aIRKLdu3cDmD17NpsuPkBAfO4Gi+Ldd79ITZW99tqEefOcG9tWrVZ7eHgolcqsrCylUhkUFNSuXbuioiKJRMK6n/yIZWEEBCxOTJx79GijVQXgwIEDSqUyJCTEx8eHGbpmzJjBhaoAPmzG0igtJYGAbG2pMdvgfzBs2DAA27Ztq66ubtu2LYDLly9z4CMRv91gifj7E0AnTzau1fXr14VCoY2Nzf3792NjYwH07duXGweJ+O0GS2TUKACNjjbetWuXwWCYMGGCk5MTMw9ytGxn4BfvlkdCAl54AX364OLFhjYhou7du+fn58fHxwcEBHTo0EEoFBYVFXGx0cDAj1iWx6BBkMlw+TJKSxva5OzZs8z21bBhw6Kjo7nbvqqDv/5leUiliIhAu3aQSqFWQyaDQPCUJl27dl2xYoWrq6tIJNqzZw84ngcB/q3QMhk0iHbtIiKaPZs0mkY0TElJAdCuXTvdkwMCjYYfsSySDh0QH4+XXgKAlBRcuwYbG9jYwMkJMhmkUubDfRsboaOjY/2GnG9fPYAXlqWyciVWrwaA48exceMjHuje/fXc3MMAZDKZjY2No6OjTCZjzoI4nwd5YVkuPXrAyQnJyVi1CuHhUKtRVYWKCqjV0GpRWQkbmxoHB4fKykqNRqPRaO7duwfAx8fn7bffDggI4No9frvBwqipQU0N3n4b27dDrUa/frh4EVLpk5qoVCqtVqtUKlUqlUQi6dGjhwn85IVlYSxYgHPncOgQunQxtytPhN/HsiR278Y33yAnB2Vl5nblafDCshguXcK8eQDw5ZcICjK3N0+DF5ZlIJdj3DhotVi0CHPnmtubBsCvsSyAmhqMHIkzZzBwIE6dgpWVuR1qAPyIZQGsWfNlUVF1+/Y4cMAyVAVeWM2f6OjoDRsWKxQ+hw9r3N3N7U2D4YVlCkpKSlJSUu7fv9/YhpcvX16wYAGAyMh/PPecjAPXuILfeeecRYsWFRcXHz58GICzs3PXrl27du3q6+vr5+fXtWvXHj16yGSPVsy9e/cmTJig0Wjmz5//xhtvmNZrY+EX79yyY8eON954QyKReHt7X79+XaVSPfSASCTq3Lmzl5eXj4+P1wM6dOig1+tHjhx5+vTp4ODgU6dOMekVLAheWBySkpLy/PPPV1dX79ix4/XXXwdQXFyck5Nz7dq13Nzc7Ozsa9euXb9+Xa/XP9TQzs7OycmpqKjI09MzNTXVw/TZtI2Gnwq5Qi6XT5o0qbq6OiIiglGVXC4/d+6cl5fX7NmzbWxsmMdqampu3bpVUFCQkZGRmZlZUFBQUFBQWFioUqns7e1XrVpliaoC+EA/btDpdM8//zyAgQMHVldXM1/u27ev7q/d2dk5JCQkPDw8MjIyNjY2PT29ft6Y8vLyuXPnApg1a5aZfgNj4YXFCQsXLgTg4eFRXFxc9+XJkydfeeWVHj16WD1qM0oqlQYEBEyaNImJ7SwoKGBuazFJiywOXljsExMTA8Da2jolJeVxzxQXFyckJERFRUVERIwYMaJr165MXtB27drVPTNy5EgAX331lUm8ZhleWCxz8eJFZv20ffv2RjVUKpVpaWnx8fF13zBZ0QICAtj20RTwwmITuVzesWNHAAsXLjTeWnV1NXNDqyFZipsb/M47a+j1+qlTp966dSs4OPif//yn8QatrKxmzpwJ4NtvvzXemqkxt7JbDhEREQDc3d3rL9iNJCsrSyAQ2NvbP7USRHODFxY7MLdAJRJJYmIiu5ZDQkIA7Ny5k12zXMMLiwUuXbrEnPdt27aNdePfffcdHmThtiB4YRlLeXn5M888AyA8PJwL+xqNhqkikZ6ezoV9juAX78ZSU1Pj5eXVqVOnzz//nAv7NjY206ZNA7Bjxw4u7HMELyxjKS8v/+WXXyoqKpiz5NTU1I8//pjdLpiYmZiYmOrqanYtc4i5h8yWwMCBAwF89913Wq3W2dkZHKRg7Nu3L4D//Oc/7JrlDn7EYgFmRPn222+lUumMGTPAwbTFnElb0IYWH4/FAlqt1tPTU6FQZGRk1NbWBgQEODk5FRcXPy40tAlUVFR4enpqtdrffvstqPnfKuTXWKxgY2MzdepUADt37vT39w8KClIoFAcPHjTSbGlp6ZgxYwoLCwE4Ojr6+fm1bdu2f//+bdq0GTBgwOzZs9evX79///6rV68atNrHWtHpoFYb6UlTMPdc3EL4/fffAbi4uFRVVW3btg3AkCFDjDGo1WqZkWnq1KlE9NNPPwmFQpFI5ODg8NC/oFgs1llZkbMzhYRQeDhFRtKPP1J+Pun1tGkTzZ9PS5fSokUs/aINhRcWa/Tp0wfADz/8oFQqmYq3WY8rztwAmEXVM888U1ZWlpOTw2xlbdiwgYjkcvnZs2e3b9++bNmy8ePHjxo8mKysCHj4zyef0IwZf5hbs4bOnWPl12wgvLBY48svvwQwcuRIeiCL5cuXG2PKxsYmLS1NqVQyFXvDwsIeW5+ypoZyc+noUfrsM5o3j4YOJU9PioqilSv/eGDPHtq7t2nONA1eWKyhUChkMplAIMjLyzt//jwANze3JqT6TE5OZkJM9+7dazAYJk+eDMDHx6eioqJxhsrLaerUPz4vX06XLjXWE2PghcUmTJTLypUriahXr15ofNHKkpIST09PAEuXLiWiDz/8EICzs3Nubm5THNq2jebOpYULadWqpjQ3Al5YbHLmzBkA7du31+v1W7ZsATBmzJiGN9fpdKGhoQCGDx9eU1MTHx8vEomEQuHRo0eNcuvyZQoPp337jDLSSHhhsQyTiPGnn366d++eVCoViUS3b99uYNs333yTWbDfuXOnsLDQxcUFwEcffWSsT9u2EUDPP2+sncbAC4tlNm3aBGD8+PFEtHv37oaXmP/mm28ASKXS1NRUpVLZs2dPxo7xBeVJqSR7ewLIiLfUxsILi2XKysqsra3FYnGj4khzcnKYBfuePXsMBsOUKVMAeHt7KxQKdtyaO5cA+tvf2LHWAHhhsc+kSZMArF+/vlGttm7dumzZMiLasGEDAHt7+4yMDNZ8On+eAHJzI44LUtTBnxWyz+HDh8PCwmxtbX18fOrnlvH29razs3ty219++WX06NEGg2H//v0TJkxg063evXHlCg4cALtmH4dp9Nt6MBgMr7zyyuP+tp98s76wsJApfPrBBx+w79nWrQTox49n3/Kj4Ecslvnwww9Xr17t7OwcFxen0+muPSA7O7ugoECn0z30vFQq9fLy6t69e9euXQ8fPpybmztu3LhDhw4xF6PZpLz8u4kTl6empmZkdOrUiWXjf8U0+m0lnDhxgtl5Onbs2CMfeNzNeoaAgAAvLy/WFux/Yfr06QDWrl3Lkf368CMWa+Tm5jIBMx9//PGKFSsa2EqlUjFDWk5OzpAhQ/z9/du0acORh6dOnRo2bFiHDh2uX78uEok46uUPTCDe1gDLO0/cYDAYunfvDiAuLo7rvvhAPxYgorlz56anp3t7e8fExAieWvDUTAgEAiYFnClCnLlWbmuAuZZjb2/f8H12c3H79m2JRCIWi0tKSjjtiB+xjCUhIWH16tVCofD77783TcU2Y3Bzc3vxxRednZ2zs7O57YlT2VoEtbW1TV4V1e08rVu3jl2vuKOkpKQueyV3tPa3wq1bt96/f3/z5s1BQUEhISGhoaEDBw5s4O0arVYbGhp68eJFrnaeLBquldts0Wg0TFzeQxlBJRJJ//79lyxZsm/fviccJBsMBuZmDptHxS2IViqsW7du9evXD4CdnV1sbGxxcXFsbGxERERISMhDOvPw8Jg8efKWLVsSExPrzyAbN24E60fFLYjWOBWePXt2ypQpcrm8W7duhw4dYvaf6lAqlSkpKcnJyefPnz9//nxlZWXdj+zt7fv378/Mlf/4xz8MBsO+ffsmTpxo8t/AEjC3sk1NVFSURCIBMGbMmIZkus7Pz4+Ojg4PD/f19a3boBIKhQKBYGXdHRiev9CKhKXVamfPng1AIBAsX768tra2sRZKS0sPHjz47rvvMtUidu3axYWfLYPWIqybN28+99xzAOzs7Pbv32+ktV27dgHw8fFpgjpbCa1CWKdPn27Xrh2A7t27s5IXT6fTdenSBcA+0159sSBavrCioqLEYjGAsWPH3r9/30hr9+7d27RpU01Nzddffw2gV69ezfbI2by0ZGGpVCrmVkKTF1V/JTAwEEBMTExVVVX79u0BGHvpr4XSYoWVl5fn7+8PwN7e/uDBg2yZ3blzJ4AePXrU1tZ+9tlnAPr378+W8ZZEyxRWbW3t3/72N0YB2dnZLFrW6XSdO3cGsH//fpVKxZQkOXnyJItdtAxaprAuX74MwM3NrdGJNBrAV199BaB3794Gg4HJrTB8+HDWe7F0WrKwOKqbVVVVxeTt+PnnnysqKpjMVUlJSVz0ZbnwB/KNxtra+p133gGwbt06BweHBQsWAIiMjDS3X80McyubEzgdsYiobnV1+vTpu3fvMtdQ09LSOOrOEuFHrKZga2u7ePFiAB9//LGLiwuTJYaJd+D5A3MrmxO4HrGISKFQMKur5OTk0tJSqVQqFAotq9wNp/AjVhNxdHR86623AGzcuNHd3X327NkGg+GTTz4xt1/NBV5YTeedd96RyWS5ublqtXrFihUSieT7779n0rLz8MJqOu3atUtOTk5PT7e1te3UqdPw4cNdXV2LiorM7VezQGxuByyb3r17Mx+IqLS0tKSkpLS01LwuNRP4EYsd4uLirly54u7u/vLLL5vbl2YBLyx2YNLwLV261MbGxty+NAt4YbHAqVOnkpKSXFxc5s2bZ25fmgu8sFiAyd2wZMmSp2aCbD3wwjKWCxcu/Prrrw4ODgsXLjS3L80IXljG8tFHHwFYtGgRU7SXh6ElC4u4v4t75cqVo0ePymSyt99+m+u+LIuWKSwnJ6fRo0cXFRXFx8dz2hGTzD08PJy5BcTzJ2Y+q+SMZcuWARCJRJGRkRxdpMnNzRWJRNbW1kVFRVzYt2harLAMBkNkZCSTWmjcuHFcxCgz96rnzZvHuuUWQIsVFsOxY8eY4BYfHx9jCun+lRs3blhZWYlEoiZWEmzptHBhEVF2djaTwdHd3eP4cTVbZufPnw9g1qxZbBlsYbR8YRGRUqmcOHHioEHfCgS0fDkZf3G1tLTUxsaGj+x7Aq1CWERkMNCHH5JQSABNmECVlUZZY0L8Jk2axJJ3LZDWlXgtLg6vvYb79+HlhcOH0fAcxzU1NVevXk1KSkpOTj5z5kxVVZVGo9m/f//48eO59NeCMVZY/ygsdBSLAUxyde0qlbLkFYfk5SEsDOnpsLdHTAweX6gLt2/j3Dmkp0cdPx6dlpZWv76Sra2tWq3u3LlzUlISk8GB52GMHPGW5eezMG6aFqWSJk4kgCZOpBkzyGCgu3dp0ybS6yk9naKjKTycfH1JICCAhgxZCUAkEvn6+s6cOTMqKio9PV2lUjFVwb28vORyubl/oeaIscJ6Ly8v8saNyBs3aiwqm4/BQDt30qlTFBJCu3dTaSm9/jo5OBDw5x97exo5kj79NOf48eN/3QZTKBRM+Gi/fv0qjVyytURa44hVR1ISff45TZhAmZm0eDG5u5OHB02eTFu2UGLiY4vclpSUTJw48c6dO3K53MvLC8DQoUO1Wq1pfW/usCasLLV6TlZWmalKDrNCUhJ98QVduULTp9PixdTAbO1hYWEAAgMDKyoq8vLyPDw8xGJpRMS1eqVSeYy+V7i2c2fmw+fFxf9Vqxfl5lbW1hpp08QEBMDdHQAcHRv0fFRUlLe3d1pa2pgxY9zd3U+cODFoUO7nn3cPD0dresN+GmwpVFFTMzk9PTA1dXZWltpCUr7+9htt2kRFRaRW082bjWhYWFjIvAxOmTK3poZ++43s7AigxYs589XSYHODVK7TvXz1amBq6vycnGpLWMsvXUoAvfdeU9rm5OR4eQ3w81O+9hrV1tIvv5C1NQG0fj3bXlomLO+836yqeuHKlcDU1KV5ebXNXlteXgTQ2bNNbJ6SUmtvTwBFRBARHTxIIhEBtHUriz5aKuwf6eSo1c9fuvRcauqmn35qzhmFMzMJIBcXqqlpupGTJ0kqJYCYAt7/+hcJBCQWU04OW25aKpycFV5UKid9+imA999/v2kWFArFr7/+yqkuN2wggObMMdYOM1DZ2dGtW0REkZG0cydNm0ZMBdMPPzTWvoXC1SF0fHw8U0Zr06ZNDWxSV4IrMDCQCdAbOnTotm3bOPJwwAAC6NAhFkzt3k2//fY/3wwdSm+8QUQ0ZQoL9i0RDqMb/v3vfzPFjB4njurq6uTk5E8//TQsLMzNza3+u6q1tbW3tzcAkUjERfWH27dJKCQbG1KpWLdNRPTqq7R+PZ04wQuLG5jyDSKRKDY2lvlGoVAkJCSsWbNmxIgRD91Gd3R0HDFixJo1axISEjQaDRExOYmtrKzi4uLYdWzPnuSQkLypU6vYNVvHq69SdTWNH09hYRz10NzhPB5r3bp1jDhGjx7NHIDUIRQK/fz83nzzzV27duU8Zrm7dOlSADKZLDExkUWvXnzxRQDbt29n0WZ9Xn2ViOiXX6hDB456aO6YItBvzpw5dZc5bW1tQ0JCIiIiYmNj7969+4RWSUlJcXFxBoNh7ty5zHh26dIlVvxRqVRMZsfS0lJWDD6EwUB//zsxdQsuXOCiBwvAFMJas2YNgJCQkNTU1JqGvdxnZmbKZDKZTJaUlKTX6ydNmgTA09OzoKDAeH8OHDgAIDg42HhTj+T33wmg9u2pGW+2cI4phNWnTx8Ax44da3gTg8EQHh7ODFRpaWnV1dUvvPACgGeffbaEeY83glmzZgGIjIw00s7jWLmSAFq4kCPzlgHnwioqKhIIBHZ2dlqtVqlUNrxhbW0tU7vL1dU1OztbpVINHDgQgL+//71795rsj16vb9u2LQB2b4PVx9+fAIqP58i8ZcC5sL744gsAEydOJKKxY8d27949JSWlgW2rq6vHjBkDoGPHjjdu3CgrK/P19QXQv3//Rmm0DoPBEB0dDaBbt25NaN4QCgsJIEdHqlfxvjXCubBGjhwJICYmRqlUNmHJrFarmSBgPz+/u3fvFhUVMcW3RowYUVXVoM0CnU6Xmpq6ZcuWyZMnM+Uk+vbtu5Y5guGALVsIoKlTOTJvMXArLIVCwVwXLisr27dvH7OEb4IRJgg4KCiosrIyNzfX3d0dQFhYmP4xwXVFRUWxsbFLliwJCgpiatbX4enpuZXLU+LaUWPk/V68fCCPuy4sAm6FtXfvXgBDhgwhohkzZjTqhKc+dUHAw4YN02q1V65cYfYv3nrrLeYBvV6fnp4eFRU1c+ZMZrqsg7kHER4eHh0dzfn90nv3SCwmiYTKy7ntqNnDrbCmTZsGYPPmzXq93sXFBUCTy1Lm5+d7eHgAGD9+fE1NzZkzZ5iN+0GDBg0fPvyhHI2Ojo6jR4/+4IMPEhISHnfTQa1Wr1q16nFjXhOJiSGARoxg06ZlwqGwdDodk5AjPz//5MmTAHx8fIwxyAxUIpHozJkz9OCcu02bNoyYPDw8Jk+evGXLltTU1AaWfz548CDLARTMtbIvvmDTpmXCobCYpGf+/v5ExCS8W758uZE2k5OTDxw4wHzOysoCYG9vv2/fvtu3bxvrrvFUVRET+FdYaG5XzA+HlSmOHDnCzFwAfvzxx7rPxsBsZdW3P2HCBGZfvskQ0erVq2fMmMHEUzSd27fx3HNQqfDggklrhqtUkURUJ6YrV64UFha6ubn179+fxS7qC9cYTp48efr06YfidhrNP/+JzZvRvTu+/dZIf1oIHI2EaWlpADw9PQ0GwwcffADgzTffZNG+XC4XCoXW1tas3EI2dgkfF/fHJQqlksaMMd6fFgBXU2HdcCIQCNgaWurz448/GgyGkSNH2tvbG29NJBIxHw4dOnTz5s2GpkC+fh3JycjLg1CIUaMAwM4OdnbQaCCTGe+VRcO5sFQqVVlZma2t7bBhw1i3P27cOBZtRkdHr1ix4ujRo499Qq9HTg6Sk5GUhMREXL8OAAIBNmzAnTt/PKNWgy+nw4Ww7t+/f+TIkatXr9rZ2Q0ZMsTa2vrGjRsFBQUsVi/SaDQnT54UCoUvvfQSWzYBtG3b9tSpUw9FI1ZWVl64cIHJjNVJr99x+vSfP3NxQXAwBg7ExIl4913o9cjIQEgIBAIWvbJUWJlQ/3oPokuXLk5OToXcvHgfOnQIwIABA7gwzrBjx47OnTt7e3sL6qnkmfbtyceHXn+dduygzMz/ibdSKunkScrI4M4ly+IpI5aBSFFbC0AMOIj/fFhnMGRqNFdVqoK7d78eNqysrKzuR1KpNDAwsLS0VKFQjBo1KjExkfXk+lws2uqTkZHxzjvvVFZWApBIJAEBASEhIaGhoUOGDIGr66Pb2Nlh6FCO/LFEnpLR71Z19QfXrw9wcHASi4c6OWVoNNlq9WW1+rJKpTMYAIgFgoyRI20lkn79+gUGBoaGhoaGhkql0srKymHDhqWlpQUEBJw+fZrFOjO1tbUeHh5lZWWZmZk9Gp7sscHU1NT4+/vPmTNHKpUGBwf37dv3oWNsnobwdGEduns3on17ANMyM/O0WuZ7oUDwrFTay84uwNbWr7r6GU/Pv7YtKysbPHhwdnZ2cHBwQkKCra0tKx4nJiYOHjy4W7duubm5rBj8KyqVii8QZyRPX7ynVFZurK3tY28/wMHBRSLpZWsbYGfnb2tr++AV/XG4uromJCSEhoaeP39+2rRpBw8eZOW/PjMPvvKE5KFGw6uKBZ68BLtZVbXVuEIx165dYza1p0+f3sCz4Ye4ceNG/WI1zFsbu7fBeFjnKcIqrqqKMvrywuXLl5kwhwULFjTk+frBVV26dEG90+uMjAwALi4uLIe78LDNU6ZCT2vrcA8PIwfFXr16HTx4cOzYsV9//bWrq+vatWv/+kx5efn58+fPnTuXnJz8+++/azSauh/VBcbgwTz48ssvi542EfOYGZNJ+MiRI2KxGMBnn31W//vNmzf7+voK/ndT0dvbe86cOdu3b8/IyGBCpmpra9PT05kAhEOspPLg4RKTljzZvXs3kyZkx44ddV8y11klEklgYCBzQ/rOnTvMj1QqVWJiInMPgglAtbGxCQsLU3GUyoOHPUxdS4e5DSYSifbv3898U1hYeP78ed2DdMs3b97cu3fv4sWLAwMDxeL/mak7duw4bdq08lYfTm4RmKGWzqpVqz766COpVBoXFzdkyJDa2trs7Ozk5GTmPK6goKDuSZFI5O3tHRoaGhISEhgY6OfnZ2JXeZqMeYo0LViw4JtvvpHJZD179szIyFCr1XU/cnZ2Dg4ODg4ODg0N7devH1vbqjwmxjzCIqLhw4fn5OSUlJQA8PDwYIal0NDQPn36MMfYPBYNhzHvT4DJ5lBSUrJgwYK1a9e6Pu5kl8diMc+IpdVq27Ztq9Vqb926xZdla5GYZ9KJj4/XaDRBQUG8qloq5hEW1wFVPGbHDFOhwWDw9PSUy+UZGRkP5VngaTGYYcQ6d+6cXC5/9tlneVW1YMzwVpju5vbaoUP+CoXpuxxngQYAAAD2SURBVOYxGWYYseJ1uuyOHV8w7l48TzPH1MIqrKq6WVXlKBYH8FvqLRpTC+usQgFgkKOjiL9816IxtbDOKBQAnndyMnG/PCbGpMIq1+vT1WorgaA/GwkXeJozJhXWWYXCAPR3cJDxgcUtHdNtN9zR6TpLpTPd3Xvzy/ZWgIlGrGqD4Z38/CsqlatEwi+wWgOmG7G6SqUz3dz4TCytBNOtsTI1ms+Kin68e9dkPfKYEdONWH4y2bKOHU3WHY95MdGIJQDs+DfB1oR5Ikh5Wjz8tQUeTuCFxcMJvLB4OIEXFg8n8MLi4QReWDycwAuLhxN4YfFwwv8DlPVThsfqaq0AAAJVelRYdHJka2l0UEtMIHJka2l0IDIwMjEuMDkuNAAAeJx7v2/tPQYg4GVAACUgVgPiBkY2hgQgzcjMwaABpJmZ2BzANAubQwaIZmaECzDAaJgEVIAdQiNMAJvIBKRNQDQjC04jORkUQHYT4kJ1wexBmI9GI4xHs4fdAaoTbhRcAOYnSCDAFXAzMDIwMikwMWcwMbMksLAqsLJpMLGxK7BzaDBxcCpwcjFwc7EwcfMw8PBmMPHyJfDxM/AJZDAJCDIICCUICTMIiWQwcYsyiIoxiIkziEswsEhmMElKJUhJZzBJyyjIyCbIymUwycknyCswyCsCxZgSFGUSJFgZRNkVRHgSRFjZmKSlJFmY2dlYJcTFRNnZODi5uIEUL5+AkAgPq6yMoryc+CJGoJPhEVpw7pxDrf1bexDH0nWvw84//g4g9s1zvQ4GPnFg9r6D8Q4ctsJg9r8rDA51PYpgtvCnTvsvf9eA9R5xumsPMxQqvh/EXuTK5qB/V+YAiN3x5bI906wKMPuuiptd/e82MFtrZfB+lenuYLZjk9AB+S8xYLbZ2eADblPEwOxpm2YccPyoDWY/ith54KLSabD54jeXHbC81gwWd1hy9cC2lj4w+5RR2wFVtuVgdmXElAP9T66A2fPP6h1YET4HzPZ+dWTfoi3X90PMPA6kHZDZ9khqwGz51t32lS+rwH5/MEfSIeDPIjDbpbvCYeqV2Q4Qe2c5hEcfBLNjc3sdfi54D2a/q9nqwMzJ6ghib2C+7XBX5Q1YfOUSFkfvVz/A7Ea1Uw6sJvvBbDEAinGq9SpKJYwAAALfelRYdE1PTCByZGtpdCAyMDIxLjA5LjQAAHicfVbLbhsxDLz7K/QDFsSHXocekjgJiiI20Kb5h977/+hQsqU1qrU3InblMXc0JAc5OPv8PP3489eND58OB+fCg79aq/uSEMLhw9mNe359/352L59Pz7edl8vv8+cvJ+qk4De47rFPn5eP2w65F5e8Js4BD75EibgJPrTP/CW7i4u+khpOPGstS5wgn3oVig2nWXSJU+DwdU2MXfY4UFriInDsA9mJcRNZeYlLwJEPOfdzSKT1OXLDZS73r/sPV7b5jg8SVnc2giYHgOw10jojBUhIPsVYDSm+FF1rQ1aU4Km2WhzVM5X1qYmBPAZfOJWelKishSSrDPhxqdyhCjHXUCsOABKq9kNJ5HW5yeoDhjlT6dBU0g6B5N7cMfpcmbqmseQdqaxKgDJp6AoQ1bqGFsuafMpJOlSj5DW0dq7QtRXV8tedbg+WVX2S2I6F/JHXBJi6rlnoSqCUuCbAjF5BtaRo6gqkEteF5VYtSBRzK0HwOe50Kusd9BEy9m65vv/R6/s4abJUmFO0zI5Quc0nXmyJIuZAZA0sbeBLaT0NkVLdEckGCt+TNQesKehOl5rRmdVQtcNkr5inNZCQMaJD2gQXL93EFkBuZoix5JZR8k57iFWneHREB+a8M3SiLaNQ7vLUbO6wAL6eT3e23I36+XI+TaO2i6cf48HJtF21Nd3VrjhNlLDS9ErGytMSCatM52OsOv2NbG1tjFqgjV2ROZHZ1tv7t8HJtlqYO0YTgQZRMp4INLiSkbUw6MI4tO0MxmSULQzSsAFtO4M3GXEE3g61tp3BnK/MecradMXO4IxJJAs8OGPgyAIPzhgsqI2p2cyPWuBBGYOiFnhQxkSQBR6U0fpqQbY9rq618KaZ1YIMymKUEWQ2Q+sG7AzKYjLjXRNijEU3L5dkdDZdIrlLMQiLaWySjSzWtdsetefbPyK4P/wDF/qiVYSFR9cAAAFlelRYdFNNSUxFUyByZGtpdCAyMDIxLjA5LjQAAHicRVFLauVAELvKLJ+hXXT9qzGBAUPIKjlAyMr7nCCHH5VJMgtjVB9JrTrfLr6uxylP56lPr2/n+/n35eNxGYrP2+9n26ue5ynbdV28f/L1iZ3t4j9fjyALycFUrj4Op8WWQ0ls1TiMTNkBLdXGgf8KGUI6Z4xDaLICuZiMg2lmNpM6VgBTKsb8bew/HayBexcy5+6G+xq7UpVBYxIvONmNhAu0+6SSqB5gBuGBRaklXTAoo6Dws6wZ1QWusZvJt0RU9IpTLuG24JU3FrbWYF4LOCgytAvmmjcDXMBzDy6/C6EOSky6rNtFKt8rVZ63Ty2L1ojyNg4xT6hMSv8Pv9H39M8w4wyd85J5J2RzynAEpdqxVyESKMXKPkoxXhE0rZ8Pz7xiJBkC7AtGIuUi7UMeQUhV0NXsdxTJmg0zO8vAVLbQStxi+/oHnIN55GAKylsAAAAASUVORK5CYII=\" alt=\"Mol\"/></td>\n",
       "    </tr>\n",
       "  </tbody>\n",
       "</table>\n",
       "<p>7441 rows × 14 columns</p>\n",
       "</div>"
      ],
      "text/plain": [
       "                                       canonical_smiles molecule_chembl_id  \\\n",
       "0     O=C1NCCN1CCN1CCC(c2cn(-c3ccccc3)c3ccc(Cl)cc23)CC1       CHEMBL443476   \n",
       "1      O=C1NCCN1CCN1CCC(c2cn(C3CCCCC3)c3ccc(Cl)cc23)CC1        CHEMBL53661   \n",
       "2                CCC(CC)c1cn(-c2ccc(F)cc2)c2ccc(Cl)cc12       CHEMBL299390   \n",
       "3     O=C1NCCN1CCN1CC=C(c2cn(-c3ccc(F)cc3)c3ccc(Cl)c...        CHEMBL12186   \n",
       "4                   CC(C)(C)c1ccc2c(ccn2-c2ccc(F)cc2)c1       CHEMBL299590   \n",
       "...                                                 ...                ...   \n",
       "7436  CC(C)c1cc(Nc2nc(N3CCC[C@H](N)C3)ncc2C(N)=O)cc(...      CHEMBL4635883   \n",
       "7437  COc1cc(/C=C2\\CCCN3C2=NO[C@H](c2cc(F)cc(F)c2)[C...      CHEMBL4643105   \n",
       "7438  COc1cc(/C=C2\\CCCN3C2=NO[C@H](c2cc(F)c(F)c(F)c2...      CHEMBL4634921   \n",
       "7439  COc1cc(C2=CC3=NO[C@H](c4cc(F)c(F)c(F)c4)CN3CCC...      CHEMBL4634696   \n",
       "7440  COc1cc(C2=CC3=NOC[C@H](c4cc(F)c(F)c(F)c4)N3CCC...      CHEMBL4642697   \n",
       "\n",
       "     molecule_pref_name standard_relation standard_type standard_units units  \\\n",
       "0                   nan                 =          IC50             nM    nM   \n",
       "1                   nan                 =          IC50             nM    nM   \n",
       "2                   nan                 =          IC50             nM    nM   \n",
       "3                   nan                 =          IC50             nM    nM   \n",
       "4                   nan                 >          IC50             nM    nM   \n",
       "...                 ...               ...           ...            ...   ...   \n",
       "7436                nan                 =          IC50             nM    uM   \n",
       "7437                nan                 =          IC50             nM    nM   \n",
       "7438                nan                 =          IC50             nM    nM   \n",
       "7439                nan                 =          IC50             nM    nM   \n",
       "7440                nan                 =          IC50             nM    nM   \n",
       "\n",
       "        value       MW value_nM class     pIC50 ID  \\\n",
       "0        88.0   422.96     88.0     1  7.055517      \n",
       "1       137.0  429.008    137.0     1  6.863279      \n",
       "2      1480.0  315.819   1480.0     1  5.829738      \n",
       "3        10.0  438.934     10.0     1       8.0      \n",
       "4     10000.0  267.347  10000.0     0       5.0      \n",
       "...       ...      ...      ...   ...       ... ..   \n",
       "7436      3.7  397.527   3700.0     1  5.431798      \n",
       "7437   2007.0  464.516   2007.0     1  5.697453      \n",
       "7438   1607.0  482.506   1607.0     1  5.793984      \n",
       "7439   3352.0  468.479   3352.0     1  5.474696      \n",
       "7440   2608.0  468.479   2608.0     1  5.583692      \n",
       "\n",
       "                                                  ROMol  \n",
       "0     <img data-content=\"rdkit/molecule\" src=\"data:i...  \n",
       "1     <img data-content=\"rdkit/molecule\" src=\"data:i...  \n",
       "2     <img data-content=\"rdkit/molecule\" src=\"data:i...  \n",
       "3     <img data-content=\"rdkit/molecule\" src=\"data:i...  \n",
       "4     <img data-content=\"rdkit/molecule\" src=\"data:i...  \n",
       "...                                                 ...  \n",
       "7436  <img data-content=\"rdkit/molecule\" src=\"data:i...  \n",
       "7437  <img data-content=\"rdkit/molecule\" src=\"data:i...  \n",
       "7438  <img data-content=\"rdkit/molecule\" src=\"data:i...  \n",
       "7439  <img data-content=\"rdkit/molecule\" src=\"data:i...  \n",
       "7440  <img data-content=\"rdkit/molecule\" src=\"data:i...  \n",
       "\n",
       "[7441 rows x 14 columns]"
      ]
     },
     "execution_count": 23,
     "metadata": {},
     "output_type": "execute_result"
    }
   ],
   "source": [
    "df_1 = PandasTools.LoadSDF('herg_smaller_right.sdf',molColName='ROMol')\n",
    "df_1"
   ]
  },
  {
   "cell_type": "code",
   "execution_count": 26,
   "metadata": {},
   "outputs": [],
   "source": [
    "df_1 = df_1.rename(columns={\"molecule_chembl_id\": \"molecule_id\"})"
   ]
  },
  {
   "cell_type": "code",
   "execution_count": 27,
   "metadata": {},
   "outputs": [],
   "source": [
    "df_1 = df_1[['canonical_smiles', \"molecule_id\", 'class', \"ROMol\"]]"
   ]
  },
  {
   "cell_type": "code",
   "execution_count": 29,
   "metadata": {},
   "outputs": [],
   "source": [
    "df = df.rename(columns={\"SMILES\": 'canonical_smiles'})"
   ]
  },
  {
   "cell_type": "code",
   "execution_count": 32,
   "metadata": {},
   "outputs": [],
   "source": [
    "df = df.rename(columns={\"PubChem Substance ID\": 'molecule_id'})"
   ]
  },
  {
   "cell_type": "code",
   "execution_count": 33,
   "metadata": {},
   "outputs": [],
   "source": [
    "df = df[['canonical_smiles', \"molecule_id\", 'class', \"ROMol\"]]"
   ]
  },
  {
   "cell_type": "code",
   "execution_count": 35,
   "metadata": {},
   "outputs": [
    {
     "name": "stderr",
     "output_type": "stream",
     "text": [
      "C:\\Users\\elly-\\AppData\\Local\\Temp/ipykernel_6416/1478375770.py:1: FutureWarning: The frame.append method is deprecated and will be removed from pandas in a future version. Use pandas.concat instead.\n",
      "  df_united = df.append(df_1, sort=False)\n"
     ]
    }
   ],
   "source": [
    "df_united = df.append(df_1, sort=False)"
   ]
  },
  {
   "cell_type": "code",
   "execution_count": 37,
   "metadata": {},
   "outputs": [],
   "source": [
    "df_united.reset_index(drop=True, inplace=True)"
   ]
  },
  {
   "cell_type": "markdown",
   "metadata": {},
   "source": [
    "Сохраним объединенный датасет"
   ]
  },
  {
   "cell_type": "code",
   "execution_count": 38,
   "metadata": {},
   "outputs": [],
   "source": [
    "PandasTools.WriteSDF(df_united, 'df_united.sdf', molColName='ROMol', properties=list(df_united.columns))"
   ]
  },
  {
   "cell_type": "code",
   "execution_count": 39,
   "metadata": {},
   "outputs": [],
   "source": [
    "df_united.to_csv(\"df_united.csv\", encoding='utf-8', index=False)"
   ]
  },
  {
   "cell_type": "markdown",
   "metadata": {},
   "source": [
    "Вывод:\n",
    "    В резултате мы получили объединенный датасет. "
   ]
  }
 ],
 "metadata": {
  "celltoolbar": "Edit Metadata",
  "kernelspec": {
   "display_name": "Python 3 (ipykernel)",
   "language": "python",
   "name": "python3"
  },
  "language_info": {
   "codemirror_mode": {
    "name": "ipython",
    "version": 3
   },
   "file_extension": ".py",
   "mimetype": "text/x-python",
   "name": "python",
   "nbconvert_exporter": "python",
   "pygments_lexer": "ipython3",
   "version": "3.8.12"
  }
 },
 "nbformat": 4,
 "nbformat_minor": 2
}
